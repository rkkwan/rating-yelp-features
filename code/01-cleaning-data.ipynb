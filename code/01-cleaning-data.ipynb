{
 "cells": [
  {
   "cell_type": "markdown",
   "metadata": {},
   "source": [
    "# Cleaning Data"
   ]
  },
  {
   "cell_type": "markdown",
   "metadata": {},
   "source": [
    "## Table of Contents\n",
    "\n",
    "1. Select restaurants in Business data\n",
    "1. Select restaurant reviews in Review data\n",
    "1. \n",
    "1. \n",
    "1. \n",
    "\n"
   ]
  },
  {
   "cell_type": "markdown",
   "metadata": {},
   "source": [
    "### Import Libraries"
   ]
  },
  {
   "cell_type": "code",
   "execution_count": 44,
   "metadata": {},
   "outputs": [],
   "source": [
    "import csv\n",
    "import os\n",
    "import pandas as pd\n",
    "from time import time\n",
    "\n",
    "# For detecting language of document\n",
    "from langdetect import detect, DetectorFactory \n",
    "\n",
    "# for consistent results\n",
    "DetectorFactory.seed = 42 "
   ]
  },
  {
   "cell_type": "markdown",
   "metadata": {},
   "source": [
    "### Set filepaths"
   ]
  },
  {
   "cell_type": "code",
   "execution_count": 16,
   "metadata": {},
   "outputs": [],
   "source": [
    "raw_data_directory = os.path.join('..', 'data', 'raw')\n",
    "interim_data_directory = os.path.join('..', 'data', 'interim')\n",
    "\n",
    "review_filepath = os.path.join(raw_data_directory, \n",
    "                                   'yelp_academic_dataset_review.csv')\n",
    "business_filepath = os.path.join(raw_data_directory, \n",
    "                                   'yelp_academic_dataset_business.csv')\n",
    "restaurant_review_filepath = os.path.join(interim_data_directory, \n",
    "                                   'restaurant_review.csv')\n",
    "restaurant_filepath = os.path.join(interim_data_directory, \n",
    "                                   'restaurant.csv')"
   ]
  },
  {
   "cell_type": "markdown",
   "metadata": {},
   "source": [
    "### Find restaurants in Business data\n",
    "Restaurants are businesses with \"Restaurants\" in the `categories` column."
   ]
  },
  {
   "cell_type": "code",
   "execution_count": 17,
   "metadata": {},
   "outputs": [
    {
     "name": "stdout",
     "output_type": "stream",
     "text": [
      "Found 57173 restaurants.\n",
      "CPU times: user 6.58 s, sys: 237 ms, total: 6.82 s\n",
      "Wall time: 6.88 s\n"
     ]
    }
   ],
   "source": [
    "%%time\n",
    "\n",
    "restaurant_ids = set()\n",
    "\n",
    "with open(restaurant_filepath, mode = 'w', encoding = 'utf_8') as f_out:\n",
    "    with open(business_filepath, encoding = 'utf_8') as f_in:\n",
    "\n",
    "        reader = csv.DictReader(f_in)\n",
    "        columns = reader.fieldnames\n",
    "        \n",
    "        writer = csv.DictWriter(f_out, fieldnames = columns)\n",
    "        writer.writeheader()\n",
    "\n",
    "        # iterate through each line in the file\n",
    "        for row in reader:\n",
    "\n",
    "            # skip businesses that are not restaurants\n",
    "            try: \n",
    "                if 'Restaurants' not in row['categories']:\n",
    "                    continue\n",
    "            except:\n",
    "                continue\n",
    "\n",
    "            # add business_id to restaurant_ids set\n",
    "            restaurant_ids.add(row['business_id'])\n",
    "            \n",
    "            # write row\n",
    "            writer.writerow(row)            \n",
    "\n",
    "restaurant_ids = frozenset(restaurant_ids)\n",
    "\n",
    "print (f'Found {len(restaurant_ids)} restaurants.')"
   ]
  },
  {
   "cell_type": "markdown",
   "metadata": {},
   "source": [
    "### Find restaurant reviews from Review data and save to separate file"
   ]
  },
  {
   "cell_type": "code",
   "execution_count": 38,
   "metadata": {},
   "outputs": [
    {
     "name": "stdout",
     "output_type": "stream",
     "text": [
      "Found 3654797 restaurant reviews.\n",
      "CPU times: user 2min 10s, sys: 5.59 s, total: 2min 15s\n",
      "Wall time: 2min 17s\n"
     ]
    }
   ],
   "source": [
    "%%time\n",
    "\n",
    "# Change to True to run this code block. Estimated runtime: 3 minutes\n",
    "run = False\n",
    "\n",
    "if run:\n",
    "    num_reviews = 0\n",
    "\n",
    "    # Write restaurant reviews to csv file\n",
    "    with open(restaurant_review_filepath, 'w', encoding = 'utf_8') as f_out:\n",
    "\n",
    "        # Open all reviews csv file\n",
    "        with open(review_csv_filepath, encoding = 'utf_8') as f_in:\n",
    "            # Instantiate reader\n",
    "            reader = csv.DictReader(f_in)\n",
    "\n",
    "            # Get column names\n",
    "            columns = reader.fieldnames\n",
    "\n",
    "            # Instantiate writer\n",
    "            writer = csv.DictWriter(f_out, fieldnames = columns)\n",
    "\n",
    "            # Write column names\n",
    "            writer.writeheader()\n",
    "\n",
    "            # Loop through all reviews\n",
    "            for row in reader:            \n",
    "                # Skip reviews that are not about a restaurant\n",
    "                if row['business_id'] not in restaurant_ids:\n",
    "                    continue\n",
    "\n",
    "                # Write row    \n",
    "                writer.writerow(row)\n",
    "                num_reviews += 1\n",
    "\n",
    "    print (f'Found {num_reviews} restaurant reviews.')\n"
   ]
  },
  {
   "cell_type": "code",
   "execution_count": 15,
   "metadata": {
    "scrolled": true
   },
   "outputs": [
    {
     "data": {
      "text/html": [
       "<div>\n",
       "<style scoped>\n",
       "    .dataframe tbody tr th:only-of-type {\n",
       "        vertical-align: middle;\n",
       "    }\n",
       "\n",
       "    .dataframe tbody tr th {\n",
       "        vertical-align: top;\n",
       "    }\n",
       "\n",
       "    .dataframe thead th {\n",
       "        text-align: right;\n",
       "    }\n",
       "</style>\n",
       "<table border=\"1\" class=\"dataframe\">\n",
       "  <thead>\n",
       "    <tr style=\"text-align: right;\">\n",
       "      <th></th>\n",
       "      <th>text</th>\n",
       "      <th>cool</th>\n",
       "      <th>funny</th>\n",
       "      <th>review_id</th>\n",
       "      <th>date</th>\n",
       "      <th>stars</th>\n",
       "      <th>business_id</th>\n",
       "      <th>useful</th>\n",
       "      <th>user_id</th>\n",
       "    </tr>\n",
       "  </thead>\n",
       "  <tbody>\n",
       "    <tr>\n",
       "      <th>0</th>\n",
       "      <td>The pizza was okay. Not the best I've had. I p...</td>\n",
       "      <td>0</td>\n",
       "      <td>0</td>\n",
       "      <td>x7mDIiDB3jEiPGPHOmDzyw</td>\n",
       "      <td>2011-02-25</td>\n",
       "      <td>2</td>\n",
       "      <td>iCQpiavjjPzJ5_3gPD5Ebg</td>\n",
       "      <td>0</td>\n",
       "      <td>msQe1u7Z_XuqjGoqhB0J5g</td>\n",
       "    </tr>\n",
       "    <tr>\n",
       "      <th>1</th>\n",
       "      <td>I love this place! My fiance And I go here atl...</td>\n",
       "      <td>0</td>\n",
       "      <td>0</td>\n",
       "      <td>dDl8zu1vWPdKGihJrwQbpw</td>\n",
       "      <td>2012-11-13</td>\n",
       "      <td>5</td>\n",
       "      <td>pomGBqfbxcqPv14c3XH-ZQ</td>\n",
       "      <td>0</td>\n",
       "      <td>msQe1u7Z_XuqjGoqhB0J5g</td>\n",
       "    </tr>\n",
       "    <tr>\n",
       "      <th>2</th>\n",
       "      <td>Terrible. Dry corn bread. Rib tips were all fa...</td>\n",
       "      <td>1</td>\n",
       "      <td>1</td>\n",
       "      <td>LZp4UX5zK3e-c5ZGSeo3kA</td>\n",
       "      <td>2014-10-23</td>\n",
       "      <td>1</td>\n",
       "      <td>jtQARsP6P-LbkyjbO1qNGg</td>\n",
       "      <td>3</td>\n",
       "      <td>msQe1u7Z_XuqjGoqhB0J5g</td>\n",
       "    </tr>\n",
       "    <tr>\n",
       "      <th>3</th>\n",
       "      <td>Back in 2005-2007 this place was my FAVORITE t...</td>\n",
       "      <td>0</td>\n",
       "      <td>0</td>\n",
       "      <td>Er4NBWCmCD4nM8_p1GRdow</td>\n",
       "      <td>2011-02-25</td>\n",
       "      <td>2</td>\n",
       "      <td>elqbBhBfElMNSrjFqW3now</td>\n",
       "      <td>2</td>\n",
       "      <td>msQe1u7Z_XuqjGoqhB0J5g</td>\n",
       "    </tr>\n",
       "    <tr>\n",
       "      <th>4</th>\n",
       "      <td>Delicious healthy food. The steak is amazing. ...</td>\n",
       "      <td>0</td>\n",
       "      <td>0</td>\n",
       "      <td>jsDu6QEJHbwP2Blom1PLCA</td>\n",
       "      <td>2014-09-05</td>\n",
       "      <td>5</td>\n",
       "      <td>Ums3gaP2qM3W1XcA5r6SsQ</td>\n",
       "      <td>0</td>\n",
       "      <td>msQe1u7Z_XuqjGoqhB0J5g</td>\n",
       "    </tr>\n",
       "  </tbody>\n",
       "</table>\n",
       "</div>"
      ],
      "text/plain": [
       "                                                text  cool  funny  \\\n",
       "0  The pizza was okay. Not the best I've had. I p...     0      0   \n",
       "1  I love this place! My fiance And I go here atl...     0      0   \n",
       "2  Terrible. Dry corn bread. Rib tips were all fa...     1      1   \n",
       "3  Back in 2005-2007 this place was my FAVORITE t...     0      0   \n",
       "4  Delicious healthy food. The steak is amazing. ...     0      0   \n",
       "\n",
       "                review_id        date  stars             business_id  useful  \\\n",
       "0  x7mDIiDB3jEiPGPHOmDzyw  2011-02-25      2  iCQpiavjjPzJ5_3gPD5Ebg       0   \n",
       "1  dDl8zu1vWPdKGihJrwQbpw  2012-11-13      5  pomGBqfbxcqPv14c3XH-ZQ       0   \n",
       "2  LZp4UX5zK3e-c5ZGSeo3kA  2014-10-23      1  jtQARsP6P-LbkyjbO1qNGg       3   \n",
       "3  Er4NBWCmCD4nM8_p1GRdow  2011-02-25      2  elqbBhBfElMNSrjFqW3now       2   \n",
       "4  jsDu6QEJHbwP2Blom1PLCA  2014-09-05      5  Ums3gaP2qM3W1XcA5r6SsQ       0   \n",
       "\n",
       "                  user_id  \n",
       "0  msQe1u7Z_XuqjGoqhB0J5g  \n",
       "1  msQe1u7Z_XuqjGoqhB0J5g  \n",
       "2  msQe1u7Z_XuqjGoqhB0J5g  \n",
       "3  msQe1u7Z_XuqjGoqhB0J5g  \n",
       "4  msQe1u7Z_XuqjGoqhB0J5g  "
      ]
     },
     "execution_count": 15,
     "metadata": {},
     "output_type": "execute_result"
    }
   ],
   "source": [
    "review_df = pd.read_csv('../data/interim/restaurant_review.csv')\n",
    "review_df.head()"
   ]
  },
  {
   "cell_type": "markdown",
   "metadata": {},
   "source": [
    "### Get most reviewed restaurants"
   ]
  },
  {
   "cell_type": "code",
   "execution_count": 10,
   "metadata": {},
   "outputs": [
    {
     "data": {
      "text/html": [
       "<div>\n",
       "<style scoped>\n",
       "    .dataframe tbody tr th:only-of-type {\n",
       "        vertical-align: middle;\n",
       "    }\n",
       "\n",
       "    .dataframe tbody tr th {\n",
       "        vertical-align: top;\n",
       "    }\n",
       "\n",
       "    .dataframe thead th {\n",
       "        text-align: right;\n",
       "    }\n",
       "</style>\n",
       "<table border=\"1\" class=\"dataframe\">\n",
       "  <thead>\n",
       "    <tr style=\"text-align: right;\">\n",
       "      <th></th>\n",
       "      <th>business_id</th>\n",
       "      <th>name</th>\n",
       "      <th>review_count</th>\n",
       "    </tr>\n",
       "  </thead>\n",
       "  <tbody>\n",
       "    <tr>\n",
       "      <th>137635</th>\n",
       "      <td>4JNXUYY8wbaaDmk3BPzlWw</td>\n",
       "      <td>Mon Ami Gabi</td>\n",
       "      <td>7968</td>\n",
       "    </tr>\n",
       "    <tr>\n",
       "      <th>185167</th>\n",
       "      <td>RESDUcs7fIiihp38-d6_6g</td>\n",
       "      <td>Bacchanal Buffet</td>\n",
       "      <td>7866</td>\n",
       "    </tr>\n",
       "    <tr>\n",
       "      <th>62723</th>\n",
       "      <td>K7lWdNUhCbcnEvI0NhGewg</td>\n",
       "      <td>Wicked Spoon</td>\n",
       "      <td>6446</td>\n",
       "    </tr>\n",
       "    <tr>\n",
       "      <th>188309</th>\n",
       "      <td>cYwJA2A6I12KNkm2rtXd5g</td>\n",
       "      <td>Gordon Ramsay BurGR</td>\n",
       "      <td>5472</td>\n",
       "    </tr>\n",
       "    <tr>\n",
       "      <th>170129</th>\n",
       "      <td>f4x1YBxkLrZg652xt2KR5g</td>\n",
       "      <td>Hash House A Go Go</td>\n",
       "      <td>5382</td>\n",
       "    </tr>\n",
       "  </tbody>\n",
       "</table>\n",
       "</div>"
      ],
      "text/plain": [
       "                   business_id                 name  review_count\n",
       "137635  4JNXUYY8wbaaDmk3BPzlWw         Mon Ami Gabi          7968\n",
       "185167  RESDUcs7fIiihp38-d6_6g     Bacchanal Buffet          7866\n",
       "62723   K7lWdNUhCbcnEvI0NhGewg         Wicked Spoon          6446\n",
       "188309  cYwJA2A6I12KNkm2rtXd5g  Gordon Ramsay BurGR          5472\n",
       "170129  f4x1YBxkLrZg652xt2KR5g   Hash House A Go Go          5382"
      ]
     },
     "execution_count": 10,
     "metadata": {},
     "output_type": "execute_result"
    }
   ],
   "source": [
    "business_df.sort_values(by = 'review_count', ascending = False)[['business_id', 'name', 'review_count']].head()\n"
   ]
  },
  {
   "cell_type": "markdown",
   "metadata": {},
   "source": [
    "#### Cross reference with review data"
   ]
  },
  {
   "cell_type": "code",
   "execution_count": 7,
   "metadata": {},
   "outputs": [
    {
     "data": {
      "text/plain": [
       "4JNXUYY8wbaaDmk3BPzlWw    7968\n",
       "RESDUcs7fIiihp38-d6_6g    7861\n",
       "K7lWdNUhCbcnEvI0NhGewg    6447\n",
       "cYwJA2A6I12KNkm2rtXd5g    5472\n",
       "f4x1YBxkLrZg652xt2KR5g    5382\n",
       "Name: business_id, dtype: int64"
      ]
     },
     "execution_count": 7,
     "metadata": {},
     "output_type": "execute_result"
    }
   ],
   "source": [
    "review_df['business_id'].value_counts().head()"
   ]
  },
  {
   "cell_type": "code",
   "execution_count": 8,
   "metadata": {},
   "outputs": [
    {
     "data": {
      "text/plain": [
       "(5996996, 9)"
      ]
     },
     "execution_count": 8,
     "metadata": {},
     "output_type": "execute_result"
    }
   ],
   "source": [
    "review_df.shape"
   ]
  },
  {
   "cell_type": "markdown",
   "metadata": {},
   "source": [
    "### Check for missing data"
   ]
  },
  {
   "cell_type": "code",
   "execution_count": 9,
   "metadata": {},
   "outputs": [
    {
     "data": {
      "text/plain": [
       "text           1\n",
       "cool           0\n",
       "funny          0\n",
       "review_id      0\n",
       "date           0\n",
       "stars          0\n",
       "business_id    0\n",
       "useful         0\n",
       "user_id        0\n",
       "dtype: int64"
      ]
     },
     "execution_count": 9,
     "metadata": {},
     "output_type": "execute_result"
    }
   ],
   "source": [
    "review_df.isna().sum()"
   ]
  },
  {
   "cell_type": "markdown",
   "metadata": {},
   "source": [
    "### Cleaning Review Data"
   ]
  },
  {
   "cell_type": "markdown",
   "metadata": {},
   "source": [
    "#### Drop rows with missing reviews"
   ]
  },
  {
   "cell_type": "code",
   "execution_count": 7,
   "metadata": {},
   "outputs": [],
   "source": [
    "review_df.drop(review_df[review_df['text'].isna()].index, axis = 0, inplace = True)"
   ]
  },
  {
   "cell_type": "code",
   "execution_count": 10,
   "metadata": {},
   "outputs": [],
   "source": [
    "# review_df[review_df['text'].isna()]"
   ]
  },
  {
   "cell_type": "markdown",
   "metadata": {},
   "source": [
    "#### Add actual `business_name` to Review Data"
   ]
  },
  {
   "cell_type": "code",
   "execution_count": 11,
   "metadata": {},
   "outputs": [],
   "source": [
    "# Build a dictionary to map business_id : business_name \n",
    "business_dict = pd.Series(business_df['name'].values, index = business_df['business_id']).to_dict()\n"
   ]
  },
  {
   "cell_type": "code",
   "execution_count": 12,
   "metadata": {},
   "outputs": [],
   "source": [
    "t0 = time()\n",
    "review_df['business_name'] = review_df['business_id'].map(business_dict)\n",
    "t1 = time() - t0"
   ]
  },
  {
   "cell_type": "code",
   "execution_count": 23,
   "metadata": {},
   "outputs": [
    {
     "data": {
      "text/html": [
       "<div>\n",
       "<style scoped>\n",
       "    .dataframe tbody tr th:only-of-type {\n",
       "        vertical-align: middle;\n",
       "    }\n",
       "\n",
       "    .dataframe tbody tr th {\n",
       "        vertical-align: top;\n",
       "    }\n",
       "\n",
       "    .dataframe thead th {\n",
       "        text-align: right;\n",
       "    }\n",
       "</style>\n",
       "<table border=\"1\" class=\"dataframe\">\n",
       "  <thead>\n",
       "    <tr style=\"text-align: right;\">\n",
       "      <th></th>\n",
       "      <th>text</th>\n",
       "      <th>cool</th>\n",
       "      <th>funny</th>\n",
       "      <th>review_id</th>\n",
       "      <th>date</th>\n",
       "      <th>stars</th>\n",
       "      <th>business_id</th>\n",
       "      <th>useful</th>\n",
       "      <th>user_id</th>\n",
       "      <th>business_name</th>\n",
       "    </tr>\n",
       "  </thead>\n",
       "  <tbody>\n",
       "    <tr>\n",
       "      <th>0</th>\n",
       "      <td>The pizza was okay. Not the best I've had. I p...</td>\n",
       "      <td>0</td>\n",
       "      <td>0</td>\n",
       "      <td>x7mDIiDB3jEiPGPHOmDzyw</td>\n",
       "      <td>2011-02-25</td>\n",
       "      <td>2</td>\n",
       "      <td>iCQpiavjjPzJ5_3gPD5Ebg</td>\n",
       "      <td>0</td>\n",
       "      <td>msQe1u7Z_XuqjGoqhB0J5g</td>\n",
       "      <td>Secret Pizza</td>\n",
       "    </tr>\n",
       "    <tr>\n",
       "      <th>1</th>\n",
       "      <td>I love this place! My fiance And I go here atl...</td>\n",
       "      <td>0</td>\n",
       "      <td>0</td>\n",
       "      <td>dDl8zu1vWPdKGihJrwQbpw</td>\n",
       "      <td>2012-11-13</td>\n",
       "      <td>5</td>\n",
       "      <td>pomGBqfbxcqPv14c3XH-ZQ</td>\n",
       "      <td>0</td>\n",
       "      <td>msQe1u7Z_XuqjGoqhB0J5g</td>\n",
       "      <td>Leticia's Mexican Cocina</td>\n",
       "    </tr>\n",
       "    <tr>\n",
       "      <th>2</th>\n",
       "      <td>Terrible. Dry corn bread. Rib tips were all fa...</td>\n",
       "      <td>1</td>\n",
       "      <td>1</td>\n",
       "      <td>LZp4UX5zK3e-c5ZGSeo3kA</td>\n",
       "      <td>2014-10-23</td>\n",
       "      <td>1</td>\n",
       "      <td>jtQARsP6P-LbkyjbO1qNGg</td>\n",
       "      <td>3</td>\n",
       "      <td>msQe1u7Z_XuqjGoqhB0J5g</td>\n",
       "      <td>H&amp;H BBQ Plus 2</td>\n",
       "    </tr>\n",
       "    <tr>\n",
       "      <th>3</th>\n",
       "      <td>Back in 2005-2007 this place was my FAVORITE t...</td>\n",
       "      <td>0</td>\n",
       "      <td>0</td>\n",
       "      <td>Er4NBWCmCD4nM8_p1GRdow</td>\n",
       "      <td>2011-02-25</td>\n",
       "      <td>2</td>\n",
       "      <td>elqbBhBfElMNSrjFqW3now</td>\n",
       "      <td>2</td>\n",
       "      <td>msQe1u7Z_XuqjGoqhB0J5g</td>\n",
       "      <td>Pin Kaow Thai Restaurant</td>\n",
       "    </tr>\n",
       "    <tr>\n",
       "      <th>4</th>\n",
       "      <td>Delicious healthy food. The steak is amazing. ...</td>\n",
       "      <td>0</td>\n",
       "      <td>0</td>\n",
       "      <td>jsDu6QEJHbwP2Blom1PLCA</td>\n",
       "      <td>2014-09-05</td>\n",
       "      <td>5</td>\n",
       "      <td>Ums3gaP2qM3W1XcA5r6SsQ</td>\n",
       "      <td>0</td>\n",
       "      <td>msQe1u7Z_XuqjGoqhB0J5g</td>\n",
       "      <td>Braddah's Island Style</td>\n",
       "    </tr>\n",
       "  </tbody>\n",
       "</table>\n",
       "</div>"
      ],
      "text/plain": [
       "                                                text  cool  funny  \\\n",
       "0  The pizza was okay. Not the best I've had. I p...     0      0   \n",
       "1  I love this place! My fiance And I go here atl...     0      0   \n",
       "2  Terrible. Dry corn bread. Rib tips were all fa...     1      1   \n",
       "3  Back in 2005-2007 this place was my FAVORITE t...     0      0   \n",
       "4  Delicious healthy food. The steak is amazing. ...     0      0   \n",
       "\n",
       "                review_id        date  stars             business_id  useful  \\\n",
       "0  x7mDIiDB3jEiPGPHOmDzyw  2011-02-25      2  iCQpiavjjPzJ5_3gPD5Ebg       0   \n",
       "1  dDl8zu1vWPdKGihJrwQbpw  2012-11-13      5  pomGBqfbxcqPv14c3XH-ZQ       0   \n",
       "2  LZp4UX5zK3e-c5ZGSeo3kA  2014-10-23      1  jtQARsP6P-LbkyjbO1qNGg       3   \n",
       "3  Er4NBWCmCD4nM8_p1GRdow  2011-02-25      2  elqbBhBfElMNSrjFqW3now       2   \n",
       "4  jsDu6QEJHbwP2Blom1PLCA  2014-09-05      5  Ums3gaP2qM3W1XcA5r6SsQ       0   \n",
       "\n",
       "                  user_id             business_name  \n",
       "0  msQe1u7Z_XuqjGoqhB0J5g              Secret Pizza  \n",
       "1  msQe1u7Z_XuqjGoqhB0J5g  Leticia's Mexican Cocina  \n",
       "2  msQe1u7Z_XuqjGoqhB0J5g            H&H BBQ Plus 2  \n",
       "3  msQe1u7Z_XuqjGoqhB0J5g  Pin Kaow Thai Restaurant  \n",
       "4  msQe1u7Z_XuqjGoqhB0J5g    Braddah's Island Style  "
      ]
     },
     "execution_count": 23,
     "metadata": {},
     "output_type": "execute_result"
    }
   ],
   "source": [
    "review_df.head()"
   ]
  },
  {
   "cell_type": "markdown",
   "metadata": {},
   "source": [
    "#### Remove `\\n` characters"
   ]
  },
  {
   "cell_type": "code",
   "execution_count": 15,
   "metadata": {},
   "outputs": [],
   "source": [
    "review_df['text'] = review_df['text'].apply(lambda row : row.replace('\\n', ' '))"
   ]
  },
  {
   "cell_type": "code",
   "execution_count": 16,
   "metadata": {},
   "outputs": [
    {
     "data": {
      "text/html": [
       "<div>\n",
       "<style scoped>\n",
       "    .dataframe tbody tr th:only-of-type {\n",
       "        vertical-align: middle;\n",
       "    }\n",
       "\n",
       "    .dataframe tbody tr th {\n",
       "        vertical-align: top;\n",
       "    }\n",
       "\n",
       "    .dataframe thead th {\n",
       "        text-align: right;\n",
       "    }\n",
       "</style>\n",
       "<table border=\"1\" class=\"dataframe\">\n",
       "  <thead>\n",
       "    <tr style=\"text-align: right;\">\n",
       "      <th></th>\n",
       "      <th>text</th>\n",
       "      <th>cool</th>\n",
       "      <th>funny</th>\n",
       "      <th>review_id</th>\n",
       "      <th>date</th>\n",
       "      <th>stars</th>\n",
       "      <th>business_id</th>\n",
       "      <th>useful</th>\n",
       "      <th>user_id</th>\n",
       "      <th>business_name</th>\n",
       "    </tr>\n",
       "  </thead>\n",
       "  <tbody>\n",
       "  </tbody>\n",
       "</table>\n",
       "</div>"
      ],
      "text/plain": [
       "Empty DataFrame\n",
       "Columns: [text, cool, funny, review_id, date, stars, business_id, useful, user_id, business_name]\n",
       "Index: []"
      ]
     },
     "execution_count": 16,
     "metadata": {},
     "output_type": "execute_result"
    }
   ],
   "source": [
    "review_df[review_df['text'].str.contains('\\n')]"
   ]
  },
  {
   "cell_type": "markdown",
   "metadata": {},
   "source": [
    "#### Drop Irrelevant Columns"
   ]
  },
  {
   "cell_type": "code",
   "execution_count": 17,
   "metadata": {},
   "outputs": [],
   "source": [
    "# Drop irrelevant columns\n",
    "# review_df = review_df[['date', 'stars', 'text', 'review_id', 'business_id', 'business_name']]"
   ]
  },
  {
   "cell_type": "code",
   "execution_count": 18,
   "metadata": {},
   "outputs": [
    {
     "data": {
      "text/html": [
       "<div>\n",
       "<style scoped>\n",
       "    .dataframe tbody tr th:only-of-type {\n",
       "        vertical-align: middle;\n",
       "    }\n",
       "\n",
       "    .dataframe tbody tr th {\n",
       "        vertical-align: top;\n",
       "    }\n",
       "\n",
       "    .dataframe thead th {\n",
       "        text-align: right;\n",
       "    }\n",
       "</style>\n",
       "<table border=\"1\" class=\"dataframe\">\n",
       "  <thead>\n",
       "    <tr style=\"text-align: right;\">\n",
       "      <th></th>\n",
       "      <th>text</th>\n",
       "      <th>cool</th>\n",
       "      <th>funny</th>\n",
       "      <th>review_id</th>\n",
       "      <th>date</th>\n",
       "      <th>stars</th>\n",
       "      <th>business_id</th>\n",
       "      <th>useful</th>\n",
       "      <th>user_id</th>\n",
       "      <th>business_name</th>\n",
       "    </tr>\n",
       "  </thead>\n",
       "  <tbody>\n",
       "    <tr>\n",
       "      <th>0</th>\n",
       "      <td>The pizza was okay. Not the best I've had. I p...</td>\n",
       "      <td>0</td>\n",
       "      <td>0</td>\n",
       "      <td>x7mDIiDB3jEiPGPHOmDzyw</td>\n",
       "      <td>2011-02-25</td>\n",
       "      <td>2</td>\n",
       "      <td>iCQpiavjjPzJ5_3gPD5Ebg</td>\n",
       "      <td>0</td>\n",
       "      <td>msQe1u7Z_XuqjGoqhB0J5g</td>\n",
       "      <td>Secret Pizza</td>\n",
       "    </tr>\n",
       "    <tr>\n",
       "      <th>1</th>\n",
       "      <td>I love this place! My fiance And I go here atl...</td>\n",
       "      <td>0</td>\n",
       "      <td>0</td>\n",
       "      <td>dDl8zu1vWPdKGihJrwQbpw</td>\n",
       "      <td>2012-11-13</td>\n",
       "      <td>5</td>\n",
       "      <td>pomGBqfbxcqPv14c3XH-ZQ</td>\n",
       "      <td>0</td>\n",
       "      <td>msQe1u7Z_XuqjGoqhB0J5g</td>\n",
       "      <td>Leticia's Mexican Cocina</td>\n",
       "    </tr>\n",
       "    <tr>\n",
       "      <th>2</th>\n",
       "      <td>Terrible. Dry corn bread. Rib tips were all fa...</td>\n",
       "      <td>1</td>\n",
       "      <td>1</td>\n",
       "      <td>LZp4UX5zK3e-c5ZGSeo3kA</td>\n",
       "      <td>2014-10-23</td>\n",
       "      <td>1</td>\n",
       "      <td>jtQARsP6P-LbkyjbO1qNGg</td>\n",
       "      <td>3</td>\n",
       "      <td>msQe1u7Z_XuqjGoqhB0J5g</td>\n",
       "      <td>H&amp;H BBQ Plus 2</td>\n",
       "    </tr>\n",
       "    <tr>\n",
       "      <th>3</th>\n",
       "      <td>Back in 2005-2007 this place was my FAVORITE t...</td>\n",
       "      <td>0</td>\n",
       "      <td>0</td>\n",
       "      <td>Er4NBWCmCD4nM8_p1GRdow</td>\n",
       "      <td>2011-02-25</td>\n",
       "      <td>2</td>\n",
       "      <td>elqbBhBfElMNSrjFqW3now</td>\n",
       "      <td>2</td>\n",
       "      <td>msQe1u7Z_XuqjGoqhB0J5g</td>\n",
       "      <td>Pin Kaow Thai Restaurant</td>\n",
       "    </tr>\n",
       "    <tr>\n",
       "      <th>4</th>\n",
       "      <td>Delicious healthy food. The steak is amazing. ...</td>\n",
       "      <td>0</td>\n",
       "      <td>0</td>\n",
       "      <td>jsDu6QEJHbwP2Blom1PLCA</td>\n",
       "      <td>2014-09-05</td>\n",
       "      <td>5</td>\n",
       "      <td>Ums3gaP2qM3W1XcA5r6SsQ</td>\n",
       "      <td>0</td>\n",
       "      <td>msQe1u7Z_XuqjGoqhB0J5g</td>\n",
       "      <td>Braddah's Island Style</td>\n",
       "    </tr>\n",
       "  </tbody>\n",
       "</table>\n",
       "</div>"
      ],
      "text/plain": [
       "                                                text  cool  funny  \\\n",
       "0  The pizza was okay. Not the best I've had. I p...     0      0   \n",
       "1  I love this place! My fiance And I go here atl...     0      0   \n",
       "2  Terrible. Dry corn bread. Rib tips were all fa...     1      1   \n",
       "3  Back in 2005-2007 this place was my FAVORITE t...     0      0   \n",
       "4  Delicious healthy food. The steak is amazing. ...     0      0   \n",
       "\n",
       "                review_id        date  stars             business_id  useful  \\\n",
       "0  x7mDIiDB3jEiPGPHOmDzyw  2011-02-25      2  iCQpiavjjPzJ5_3gPD5Ebg       0   \n",
       "1  dDl8zu1vWPdKGihJrwQbpw  2012-11-13      5  pomGBqfbxcqPv14c3XH-ZQ       0   \n",
       "2  LZp4UX5zK3e-c5ZGSeo3kA  2014-10-23      1  jtQARsP6P-LbkyjbO1qNGg       3   \n",
       "3  Er4NBWCmCD4nM8_p1GRdow  2011-02-25      2  elqbBhBfElMNSrjFqW3now       2   \n",
       "4  jsDu6QEJHbwP2Blom1PLCA  2014-09-05      5  Ums3gaP2qM3W1XcA5r6SsQ       0   \n",
       "\n",
       "                  user_id             business_name  \n",
       "0  msQe1u7Z_XuqjGoqhB0J5g              Secret Pizza  \n",
       "1  msQe1u7Z_XuqjGoqhB0J5g  Leticia's Mexican Cocina  \n",
       "2  msQe1u7Z_XuqjGoqhB0J5g            H&H BBQ Plus 2  \n",
       "3  msQe1u7Z_XuqjGoqhB0J5g  Pin Kaow Thai Restaurant  \n",
       "4  msQe1u7Z_XuqjGoqhB0J5g    Braddah's Island Style  "
      ]
     },
     "execution_count": 18,
     "metadata": {},
     "output_type": "execute_result"
    }
   ],
   "source": [
    "review_df.head()"
   ]
  },
  {
   "cell_type": "markdown",
   "metadata": {},
   "source": [
    "### Save clean review data"
   ]
  },
  {
   "cell_type": "code",
   "execution_count": 22,
   "metadata": {},
   "outputs": [],
   "source": [
    "restaurant_review_df.to_csv(restaurant_review_filepath, index = False)"
   ]
  },
  {
   "cell_type": "markdown",
   "metadata": {},
   "source": [
    "### Load restaurant data"
   ]
  },
  {
   "cell_type": "code",
   "execution_count": 39,
   "metadata": {},
   "outputs": [],
   "source": [
    "restaurant_df = pd.read_csv(restaurant_filepath)"
   ]
  },
  {
   "cell_type": "code",
   "execution_count": 40,
   "metadata": {},
   "outputs": [
    {
     "data": {
      "text/html": [
       "<div>\n",
       "<style scoped>\n",
       "    .dataframe tbody tr th:only-of-type {\n",
       "        vertical-align: middle;\n",
       "    }\n",
       "\n",
       "    .dataframe tbody tr th {\n",
       "        vertical-align: top;\n",
       "    }\n",
       "\n",
       "    .dataframe thead th {\n",
       "        text-align: right;\n",
       "    }\n",
       "</style>\n",
       "<table border=\"1\" class=\"dataframe\">\n",
       "  <thead>\n",
       "    <tr style=\"text-align: right;\">\n",
       "      <th></th>\n",
       "      <th>name</th>\n",
       "      <th>business_id</th>\n",
       "      <th>stars</th>\n",
       "      <th>review_count</th>\n",
       "      <th>categories</th>\n",
       "      <th>longitude</th>\n",
       "      <th>latitude</th>\n",
       "      <th>postal_code</th>\n",
       "      <th>city</th>\n",
       "      <th>state</th>\n",
       "    </tr>\n",
       "  </thead>\n",
       "  <tbody>\n",
       "    <tr>\n",
       "      <th>0</th>\n",
       "      <td>Minhas Micro Brewery</td>\n",
       "      <td>Apn5Q_b6Nz61Tq4XzPdf9A</td>\n",
       "      <td>4.0</td>\n",
       "      <td>24</td>\n",
       "      <td>Tours, Breweries, Pizza, Restaurants, Food, Ho...</td>\n",
       "      <td>-114.031675</td>\n",
       "      <td>51.091813</td>\n",
       "      <td>T2E 6L6</td>\n",
       "      <td>Calgary</td>\n",
       "      <td>AB</td>\n",
       "    </tr>\n",
       "    <tr>\n",
       "      <th>1</th>\n",
       "      <td>CK'S BBQ &amp; Catering</td>\n",
       "      <td>AjEbIBw6ZFfln7ePHha9PA</td>\n",
       "      <td>4.5</td>\n",
       "      <td>3</td>\n",
       "      <td>Chicken Wings, Burgers, Caterers, Street Vendo...</td>\n",
       "      <td>-114.939821</td>\n",
       "      <td>35.960734</td>\n",
       "      <td>89002</td>\n",
       "      <td>Henderson</td>\n",
       "      <td>NV</td>\n",
       "    </tr>\n",
       "    <tr>\n",
       "      <th>2</th>\n",
       "      <td>La Bastringue</td>\n",
       "      <td>O8S5hYJ1SMc8fA4QBtVujA</td>\n",
       "      <td>4.0</td>\n",
       "      <td>5</td>\n",
       "      <td>Breakfast &amp; Brunch, Restaurants, French, Sandw...</td>\n",
       "      <td>-73.599300</td>\n",
       "      <td>45.540503</td>\n",
       "      <td>H2G 1K7</td>\n",
       "      <td>Montréal</td>\n",
       "      <td>QC</td>\n",
       "    </tr>\n",
       "    <tr>\n",
       "      <th>3</th>\n",
       "      <td>Thai One On</td>\n",
       "      <td>6OuOZAok8ikONMS_T3EzXg</td>\n",
       "      <td>2.0</td>\n",
       "      <td>7</td>\n",
       "      <td>Restaurants, Thai</td>\n",
       "      <td>-79.632763</td>\n",
       "      <td>43.712946</td>\n",
       "      <td>L4T 1A8</td>\n",
       "      <td>Mississauga</td>\n",
       "      <td>ON</td>\n",
       "    </tr>\n",
       "    <tr>\n",
       "      <th>4</th>\n",
       "      <td>Filiberto's Mexican Food</td>\n",
       "      <td>8-NRKkPY1UiFXW20WXKiXg</td>\n",
       "      <td>2.5</td>\n",
       "      <td>40</td>\n",
       "      <td>Mexican, Restaurants</td>\n",
       "      <td>-112.341302</td>\n",
       "      <td>33.448106</td>\n",
       "      <td>85323</td>\n",
       "      <td>Avondale</td>\n",
       "      <td>AZ</td>\n",
       "    </tr>\n",
       "  </tbody>\n",
       "</table>\n",
       "</div>"
      ],
      "text/plain": [
       "                       name             business_id  stars  review_count  \\\n",
       "0      Minhas Micro Brewery  Apn5Q_b6Nz61Tq4XzPdf9A    4.0            24   \n",
       "1       CK'S BBQ & Catering  AjEbIBw6ZFfln7ePHha9PA    4.5             3   \n",
       "2             La Bastringue  O8S5hYJ1SMc8fA4QBtVujA    4.0             5   \n",
       "3               Thai One On  6OuOZAok8ikONMS_T3EzXg    2.0             7   \n",
       "4  Filiberto's Mexican Food  8-NRKkPY1UiFXW20WXKiXg    2.5            40   \n",
       "\n",
       "                                          categories   longitude   latitude  \\\n",
       "0  Tours, Breweries, Pizza, Restaurants, Food, Ho... -114.031675  51.091813   \n",
       "1  Chicken Wings, Burgers, Caterers, Street Vendo... -114.939821  35.960734   \n",
       "2  Breakfast & Brunch, Restaurants, French, Sandw...  -73.599300  45.540503   \n",
       "3                                  Restaurants, Thai  -79.632763  43.712946   \n",
       "4                               Mexican, Restaurants -112.341302  33.448106   \n",
       "\n",
       "  postal_code         city state  \n",
       "0     T2E 6L6      Calgary    AB  \n",
       "1       89002    Henderson    NV  \n",
       "2     H2G 1K7     Montréal    QC  \n",
       "3     L4T 1A8  Mississauga    ON  \n",
       "4       85323     Avondale    AZ  "
      ]
     },
     "execution_count": 40,
     "metadata": {},
     "output_type": "execute_result"
    }
   ],
   "source": [
    "restaurant_df.head()"
   ]
  },
  {
   "cell_type": "code",
   "execution_count": 41,
   "metadata": {},
   "outputs": [
    {
     "data": {
      "text/plain": [
       "(57056, 10)"
      ]
     },
     "execution_count": 41,
     "metadata": {},
     "output_type": "execute_result"
    }
   ],
   "source": [
    "restaurant_df.shape"
   ]
  },
  {
   "cell_type": "code",
   "execution_count": 42,
   "metadata": {},
   "outputs": [
    {
     "data": {
      "text/plain": [
       "Index(['name', 'business_id', 'stars', 'review_count', 'categories',\n",
       "       'longitude', 'latitude', 'postal_code', 'city', 'state'],\n",
       "      dtype='object')"
      ]
     },
     "execution_count": 42,
     "metadata": {},
     "output_type": "execute_result"
    }
   ],
   "source": [
    "restaurant_df.columns"
   ]
  },
  {
   "cell_type": "markdown",
   "metadata": {},
   "source": [
    "### Cleaning Restaurant Data"
   ]
  },
  {
   "cell_type": "markdown",
   "metadata": {},
   "source": [
    "#### Drop rows with missing `postal_code` or `city`"
   ]
  },
  {
   "cell_type": "code",
   "execution_count": 25,
   "metadata": {
    "scrolled": true
   },
   "outputs": [
    {
     "data": {
      "text/plain": [
       "0.002028929739562381"
      ]
     },
     "execution_count": 25,
     "metadata": {},
     "output_type": "execute_result"
    }
   ],
   "source": [
    "restaurant_df['postal_code'].isna().sum() / restaurant_df.shape[0]"
   ]
  },
  {
   "cell_type": "code",
   "execution_count": 26,
   "metadata": {},
   "outputs": [
    {
     "data": {
      "text/plain": [
       "3.498154723383415e-05"
      ]
     },
     "execution_count": 26,
     "metadata": {},
     "output_type": "execute_result"
    }
   ],
   "source": [
    "restaurant_df['city'].isna().sum() / restaurant_df.shape[0]"
   ]
  },
  {
   "cell_type": "markdown",
   "metadata": {},
   "source": [
    "0.2% of restaurants are missing postal code and city."
   ]
  },
  {
   "cell_type": "code",
   "execution_count": 27,
   "metadata": {},
   "outputs": [],
   "source": [
    "restaurant_df = restaurant_df.dropna(subset=['postal_code', 'city'])"
   ]
  },
  {
   "cell_type": "code",
   "execution_count": 28,
   "metadata": {},
   "outputs": [
    {
     "data": {
      "text/plain": [
       "57056"
      ]
     },
     "execution_count": 28,
     "metadata": {},
     "output_type": "execute_result"
    }
   ],
   "source": [
    "len(restaurant_df)"
   ]
  },
  {
   "cell_type": "markdown",
   "metadata": {},
   "source": [
    "#### Keep relevant columns"
   ]
  },
  {
   "cell_type": "code",
   "execution_count": 29,
   "metadata": {},
   "outputs": [],
   "source": [
    "columns = ['name', 'business_id', 'stars', 'review_count', \n",
    "           'categories', 'longitude', 'latitude', 'postal_code', 'city', 'state']\n",
    "\n",
    "restaurant_df = restaurant_df[columns]\n"
   ]
  },
  {
   "cell_type": "code",
   "execution_count": 30,
   "metadata": {},
   "outputs": [
    {
     "data": {
      "text/html": [
       "<div>\n",
       "<style scoped>\n",
       "    .dataframe tbody tr th:only-of-type {\n",
       "        vertical-align: middle;\n",
       "    }\n",
       "\n",
       "    .dataframe tbody tr th {\n",
       "        vertical-align: top;\n",
       "    }\n",
       "\n",
       "    .dataframe thead th {\n",
       "        text-align: right;\n",
       "    }\n",
       "</style>\n",
       "<table border=\"1\" class=\"dataframe\">\n",
       "  <thead>\n",
       "    <tr style=\"text-align: right;\">\n",
       "      <th></th>\n",
       "      <th>name</th>\n",
       "      <th>business_id</th>\n",
       "      <th>stars</th>\n",
       "      <th>review_count</th>\n",
       "      <th>categories</th>\n",
       "      <th>longitude</th>\n",
       "      <th>latitude</th>\n",
       "      <th>postal_code</th>\n",
       "      <th>city</th>\n",
       "      <th>state</th>\n",
       "    </tr>\n",
       "  </thead>\n",
       "  <tbody>\n",
       "    <tr>\n",
       "      <th>0</th>\n",
       "      <td>Minhas Micro Brewery</td>\n",
       "      <td>Apn5Q_b6Nz61Tq4XzPdf9A</td>\n",
       "      <td>4.0</td>\n",
       "      <td>24</td>\n",
       "      <td>Tours, Breweries, Pizza, Restaurants, Food, Ho...</td>\n",
       "      <td>-114.031675</td>\n",
       "      <td>51.091813</td>\n",
       "      <td>T2E 6L6</td>\n",
       "      <td>Calgary</td>\n",
       "      <td>AB</td>\n",
       "    </tr>\n",
       "    <tr>\n",
       "      <th>1</th>\n",
       "      <td>CK'S BBQ &amp; Catering</td>\n",
       "      <td>AjEbIBw6ZFfln7ePHha9PA</td>\n",
       "      <td>4.5</td>\n",
       "      <td>3</td>\n",
       "      <td>Chicken Wings, Burgers, Caterers, Street Vendo...</td>\n",
       "      <td>-114.939821</td>\n",
       "      <td>35.960734</td>\n",
       "      <td>89002</td>\n",
       "      <td>Henderson</td>\n",
       "      <td>NV</td>\n",
       "    </tr>\n",
       "    <tr>\n",
       "      <th>2</th>\n",
       "      <td>La Bastringue</td>\n",
       "      <td>O8S5hYJ1SMc8fA4QBtVujA</td>\n",
       "      <td>4.0</td>\n",
       "      <td>5</td>\n",
       "      <td>Breakfast &amp; Brunch, Restaurants, French, Sandw...</td>\n",
       "      <td>-73.599300</td>\n",
       "      <td>45.540503</td>\n",
       "      <td>H2G 1K7</td>\n",
       "      <td>Montréal</td>\n",
       "      <td>QC</td>\n",
       "    </tr>\n",
       "    <tr>\n",
       "      <th>3</th>\n",
       "      <td>Thai One On</td>\n",
       "      <td>6OuOZAok8ikONMS_T3EzXg</td>\n",
       "      <td>2.0</td>\n",
       "      <td>7</td>\n",
       "      <td>Restaurants, Thai</td>\n",
       "      <td>-79.632763</td>\n",
       "      <td>43.712946</td>\n",
       "      <td>L4T 1A8</td>\n",
       "      <td>Mississauga</td>\n",
       "      <td>ON</td>\n",
       "    </tr>\n",
       "    <tr>\n",
       "      <th>4</th>\n",
       "      <td>Filiberto's Mexican Food</td>\n",
       "      <td>8-NRKkPY1UiFXW20WXKiXg</td>\n",
       "      <td>2.5</td>\n",
       "      <td>40</td>\n",
       "      <td>Mexican, Restaurants</td>\n",
       "      <td>-112.341302</td>\n",
       "      <td>33.448106</td>\n",
       "      <td>85323</td>\n",
       "      <td>Avondale</td>\n",
       "      <td>AZ</td>\n",
       "    </tr>\n",
       "  </tbody>\n",
       "</table>\n",
       "</div>"
      ],
      "text/plain": [
       "                       name             business_id  stars  review_count  \\\n",
       "0      Minhas Micro Brewery  Apn5Q_b6Nz61Tq4XzPdf9A    4.0            24   \n",
       "1       CK'S BBQ & Catering  AjEbIBw6ZFfln7ePHha9PA    4.5             3   \n",
       "2             La Bastringue  O8S5hYJ1SMc8fA4QBtVujA    4.0             5   \n",
       "3               Thai One On  6OuOZAok8ikONMS_T3EzXg    2.0             7   \n",
       "4  Filiberto's Mexican Food  8-NRKkPY1UiFXW20WXKiXg    2.5            40   \n",
       "\n",
       "                                          categories   longitude   latitude  \\\n",
       "0  Tours, Breweries, Pizza, Restaurants, Food, Ho... -114.031675  51.091813   \n",
       "1  Chicken Wings, Burgers, Caterers, Street Vendo... -114.939821  35.960734   \n",
       "2  Breakfast & Brunch, Restaurants, French, Sandw...  -73.599300  45.540503   \n",
       "3                                  Restaurants, Thai  -79.632763  43.712946   \n",
       "4                               Mexican, Restaurants -112.341302  33.448106   \n",
       "\n",
       "  postal_code         city state  \n",
       "0     T2E 6L6      Calgary    AB  \n",
       "1       89002    Henderson    NV  \n",
       "2     H2G 1K7     Montréal    QC  \n",
       "3     L4T 1A8  Mississauga    ON  \n",
       "4       85323     Avondale    AZ  "
      ]
     },
     "execution_count": 30,
     "metadata": {},
     "output_type": "execute_result"
    }
   ],
   "source": [
    "restaurant_df.head()"
   ]
  },
  {
   "cell_type": "markdown",
   "metadata": {},
   "source": [
    "#### Last check for missing values"
   ]
  },
  {
   "cell_type": "code",
   "execution_count": 31,
   "metadata": {},
   "outputs": [
    {
     "data": {
      "text/plain": [
       "name            0\n",
       "business_id     0\n",
       "stars           0\n",
       "review_count    0\n",
       "categories      0\n",
       "longitude       0\n",
       "latitude        0\n",
       "postal_code     0\n",
       "city            0\n",
       "state           0\n",
       "dtype: int64"
      ]
     },
     "execution_count": 31,
     "metadata": {},
     "output_type": "execute_result"
    }
   ],
   "source": [
    "restaurant_df.isna().sum()"
   ]
  },
  {
   "cell_type": "markdown",
   "metadata": {},
   "source": [
    "### Save clean business data"
   ]
  },
  {
   "cell_type": "code",
   "execution_count": 32,
   "metadata": {},
   "outputs": [],
   "source": [
    "restaurant_df.to_csv(restaurant_filepath, index = False)"
   ]
  }
 ],
 "metadata": {
  "kernelspec": {
   "display_name": "Python [default]",
   "language": "python",
   "name": "python3"
  },
  "language_info": {
   "codemirror_mode": {
    "name": "ipython",
    "version": 3
   },
   "file_extension": ".py",
   "mimetype": "text/x-python",
   "name": "python",
   "nbconvert_exporter": "python",
   "pygments_lexer": "ipython3",
   "version": "3.6.5"
  }
 },
 "nbformat": 4,
 "nbformat_minor": 2
}
