{
 "cells": [
  {
   "cell_type": "markdown",
   "metadata": {},
   "source": [
    "# Subsetting Data"
   ]
  },
  {
   "cell_type": "markdown",
   "metadata": {},
   "source": [
    "### Import Libraries"
   ]
  },
  {
   "cell_type": "code",
   "execution_count": 1,
   "metadata": {},
   "outputs": [],
   "source": [
    "import pandas as pd\n",
    "import numpy as np\n",
    "from time import time\n",
    "import warnings\n",
    "\n",
    "warnings.filterwarnings('ignore')"
   ]
  },
  {
   "cell_type": "markdown",
   "metadata": {},
   "source": [
    "### Load Data"
   ]
  },
  {
   "cell_type": "code",
   "execution_count": 3,
   "metadata": {},
   "outputs": [
    {
     "name": "stdout",
     "output_type": "stream",
     "text": [
      "Loaded in 29.65 seconds\n"
     ]
    }
   ],
   "source": [
    "t0 = time()\n",
    "review_df = pd.read_csv('../data/interim/restaurant_reviews.csv')\n",
    "t1 = time() - t0\n",
    "print(f'Loaded in {np.round(t1, 2)} seconds')"
   ]
  },
  {
   "cell_type": "code",
   "execution_count": 6,
   "metadata": {},
   "outputs": [],
   "source": [
    "restaurant_df = pd.read_csv('../data/interim/restaurants.csv')"
   ]
  },
  {
   "cell_type": "code",
   "execution_count": 92,
   "metadata": {},
   "outputs": [
    {
     "data": {
      "text/html": [
       "<div>\n",
       "<style scoped>\n",
       "    .dataframe tbody tr th:only-of-type {\n",
       "        vertical-align: middle;\n",
       "    }\n",
       "\n",
       "    .dataframe tbody tr th {\n",
       "        vertical-align: top;\n",
       "    }\n",
       "\n",
       "    .dataframe thead th {\n",
       "        text-align: right;\n",
       "    }\n",
       "</style>\n",
       "<table border=\"1\" class=\"dataframe\">\n",
       "  <thead>\n",
       "    <tr style=\"text-align: right;\">\n",
       "      <th></th>\n",
       "      <th>text</th>\n",
       "      <th>cool</th>\n",
       "      <th>funny</th>\n",
       "      <th>review_id</th>\n",
       "      <th>date</th>\n",
       "      <th>stars</th>\n",
       "      <th>business_id</th>\n",
       "      <th>useful</th>\n",
       "      <th>user_id</th>\n",
       "      <th>business_name</th>\n",
       "    </tr>\n",
       "  </thead>\n",
       "  <tbody>\n",
       "    <tr>\n",
       "      <th>0</th>\n",
       "      <td>the pizza was okay. not the best i've had. i prefer biaggio's on flamingo / fort apache. the che...</td>\n",
       "      <td>0.0</td>\n",
       "      <td>0.0</td>\n",
       "      <td>x7mDIiDB3jEiPGPHOmDzyw</td>\n",
       "      <td>2011-02-25</td>\n",
       "      <td>2.0</td>\n",
       "      <td>iCQpiavjjPzJ5_3gPD5Ebg</td>\n",
       "      <td>0.0</td>\n",
       "      <td>msQe1u7Z_XuqjGoqhB0J5g</td>\n",
       "      <td>Secret Pizza</td>\n",
       "    </tr>\n",
       "    <tr>\n",
       "      <th>1</th>\n",
       "      <td>i love this place! my fiance and i go here atleast once a week. the portions are huge! food is a...</td>\n",
       "      <td>0.0</td>\n",
       "      <td>0.0</td>\n",
       "      <td>dDl8zu1vWPdKGihJrwQbpw</td>\n",
       "      <td>2012-11-13</td>\n",
       "      <td>5.0</td>\n",
       "      <td>pomGBqfbxcqPv14c3XH-ZQ</td>\n",
       "      <td>0.0</td>\n",
       "      <td>msQe1u7Z_XuqjGoqhB0J5g</td>\n",
       "      <td>Leticia's Mexican Cocina</td>\n",
       "    </tr>\n",
       "    <tr>\n",
       "      <th>2</th>\n",
       "      <td>terrible. dry corn bread. rib tips were all fat and mushy and had no flavor. if you want bbq in ...</td>\n",
       "      <td>1.0</td>\n",
       "      <td>1.0</td>\n",
       "      <td>LZp4UX5zK3e-c5ZGSeo3kA</td>\n",
       "      <td>2014-10-23</td>\n",
       "      <td>1.0</td>\n",
       "      <td>jtQARsP6P-LbkyjbO1qNGg</td>\n",
       "      <td>3.0</td>\n",
       "      <td>msQe1u7Z_XuqjGoqhB0J5g</td>\n",
       "      <td>H&amp;H BBQ Plus 2</td>\n",
       "    </tr>\n",
       "    <tr>\n",
       "      <th>3</th>\n",
       "      <td>back in 2005-2007 this place was my favorite thai place ever. i'd go here alllll the time. i nev...</td>\n",
       "      <td>0.0</td>\n",
       "      <td>0.0</td>\n",
       "      <td>Er4NBWCmCD4nM8_p1GRdow</td>\n",
       "      <td>2011-02-25</td>\n",
       "      <td>2.0</td>\n",
       "      <td>elqbBhBfElMNSrjFqW3now</td>\n",
       "      <td>2.0</td>\n",
       "      <td>msQe1u7Z_XuqjGoqhB0J5g</td>\n",
       "      <td>Pin Kaow Thai Restaurant</td>\n",
       "    </tr>\n",
       "    <tr>\n",
       "      <th>4</th>\n",
       "      <td>delicious healthy food. the steak is amazing. fish and pork are awesome too. service is above an...</td>\n",
       "      <td>0.0</td>\n",
       "      <td>0.0</td>\n",
       "      <td>jsDu6QEJHbwP2Blom1PLCA</td>\n",
       "      <td>2014-09-05</td>\n",
       "      <td>5.0</td>\n",
       "      <td>Ums3gaP2qM3W1XcA5r6SsQ</td>\n",
       "      <td>0.0</td>\n",
       "      <td>msQe1u7Z_XuqjGoqhB0J5g</td>\n",
       "      <td>Braddah's Island Style</td>\n",
       "    </tr>\n",
       "  </tbody>\n",
       "</table>\n",
       "</div>"
      ],
      "text/plain": [
       "                                                                                                  text  \\\n",
       "0  the pizza was okay. not the best i've had. i prefer biaggio's on flamingo / fort apache. the che...   \n",
       "1  i love this place! my fiance and i go here atleast once a week. the portions are huge! food is a...   \n",
       "2  terrible. dry corn bread. rib tips were all fat and mushy and had no flavor. if you want bbq in ...   \n",
       "3  back in 2005-2007 this place was my favorite thai place ever. i'd go here alllll the time. i nev...   \n",
       "4  delicious healthy food. the steak is amazing. fish and pork are awesome too. service is above an...   \n",
       "\n",
       "   cool  funny               review_id        date  stars  \\\n",
       "0   0.0    0.0  x7mDIiDB3jEiPGPHOmDzyw  2011-02-25    2.0   \n",
       "1   0.0    0.0  dDl8zu1vWPdKGihJrwQbpw  2012-11-13    5.0   \n",
       "2   1.0    1.0  LZp4UX5zK3e-c5ZGSeo3kA  2014-10-23    1.0   \n",
       "3   0.0    0.0  Er4NBWCmCD4nM8_p1GRdow  2011-02-25    2.0   \n",
       "4   0.0    0.0  jsDu6QEJHbwP2Blom1PLCA  2014-09-05    5.0   \n",
       "\n",
       "              business_id  useful                 user_id  \\\n",
       "0  iCQpiavjjPzJ5_3gPD5Ebg     0.0  msQe1u7Z_XuqjGoqhB0J5g   \n",
       "1  pomGBqfbxcqPv14c3XH-ZQ     0.0  msQe1u7Z_XuqjGoqhB0J5g   \n",
       "2  jtQARsP6P-LbkyjbO1qNGg     3.0  msQe1u7Z_XuqjGoqhB0J5g   \n",
       "3  elqbBhBfElMNSrjFqW3now     2.0  msQe1u7Z_XuqjGoqhB0J5g   \n",
       "4  Ums3gaP2qM3W1XcA5r6SsQ     0.0  msQe1u7Z_XuqjGoqhB0J5g   \n",
       "\n",
       "              business_name  \n",
       "0              Secret Pizza  \n",
       "1  Leticia's Mexican Cocina  \n",
       "2            H&H BBQ Plus 2  \n",
       "3  Pin Kaow Thai Restaurant  \n",
       "4    Braddah's Island Style  "
      ]
     },
     "execution_count": 92,
     "metadata": {},
     "output_type": "execute_result"
    }
   ],
   "source": [
    "review_df.head()"
   ]
  },
  {
   "cell_type": "code",
   "execution_count": 90,
   "metadata": {},
   "outputs": [],
   "source": [
    "review_df.to_csv('../data/interim/restaurant_reviews.csv', index = False)"
   ]
  },
  {
   "cell_type": "code",
   "execution_count": 91,
   "metadata": {},
   "outputs": [
    {
     "data": {
      "text/html": [
       "<div>\n",
       "<style scoped>\n",
       "    .dataframe tbody tr th:only-of-type {\n",
       "        vertical-align: middle;\n",
       "    }\n",
       "\n",
       "    .dataframe tbody tr th {\n",
       "        vertical-align: top;\n",
       "    }\n",
       "\n",
       "    .dataframe thead th {\n",
       "        text-align: right;\n",
       "    }\n",
       "</style>\n",
       "<table border=\"1\" class=\"dataframe\">\n",
       "  <thead>\n",
       "    <tr style=\"text-align: right;\">\n",
       "      <th></th>\n",
       "      <th>name</th>\n",
       "      <th>business_id</th>\n",
       "      <th>stars</th>\n",
       "      <th>review_count</th>\n",
       "      <th>categories</th>\n",
       "      <th>longitude</th>\n",
       "      <th>latitude</th>\n",
       "      <th>postal_code</th>\n",
       "      <th>city</th>\n",
       "      <th>state</th>\n",
       "    </tr>\n",
       "  </thead>\n",
       "  <tbody>\n",
       "    <tr>\n",
       "      <th>0</th>\n",
       "      <td>Minhas Micro Brewery</td>\n",
       "      <td>Apn5Q_b6Nz61Tq4XzPdf9A</td>\n",
       "      <td>4.0</td>\n",
       "      <td>24</td>\n",
       "      <td>Tours, Breweries, Pizza, Restaurants, Food, Hotels &amp; Travel</td>\n",
       "      <td>-114.031675</td>\n",
       "      <td>51.091813</td>\n",
       "      <td>T2E 6L6</td>\n",
       "      <td>Calgary</td>\n",
       "      <td>AB</td>\n",
       "    </tr>\n",
       "    <tr>\n",
       "      <th>1</th>\n",
       "      <td>CK'S BBQ &amp; Catering</td>\n",
       "      <td>AjEbIBw6ZFfln7ePHha9PA</td>\n",
       "      <td>4.5</td>\n",
       "      <td>3</td>\n",
       "      <td>Chicken Wings, Burgers, Caterers, Street Vendors, Barbeque, Food Trucks, Food, Restaurants, Even...</td>\n",
       "      <td>-114.939821</td>\n",
       "      <td>35.960734</td>\n",
       "      <td>89002</td>\n",
       "      <td>Henderson</td>\n",
       "      <td>NV</td>\n",
       "    </tr>\n",
       "    <tr>\n",
       "      <th>2</th>\n",
       "      <td>La Bastringue</td>\n",
       "      <td>O8S5hYJ1SMc8fA4QBtVujA</td>\n",
       "      <td>4.0</td>\n",
       "      <td>5</td>\n",
       "      <td>Breakfast &amp; Brunch, Restaurants, French, Sandwiches, Cafes</td>\n",
       "      <td>-73.599300</td>\n",
       "      <td>45.540503</td>\n",
       "      <td>H2G 1K7</td>\n",
       "      <td>Montréal</td>\n",
       "      <td>QC</td>\n",
       "    </tr>\n",
       "    <tr>\n",
       "      <th>3</th>\n",
       "      <td>Thai One On</td>\n",
       "      <td>6OuOZAok8ikONMS_T3EzXg</td>\n",
       "      <td>2.0</td>\n",
       "      <td>7</td>\n",
       "      <td>Restaurants, Thai</td>\n",
       "      <td>-79.632763</td>\n",
       "      <td>43.712946</td>\n",
       "      <td>L4T 1A8</td>\n",
       "      <td>Mississauga</td>\n",
       "      <td>ON</td>\n",
       "    </tr>\n",
       "    <tr>\n",
       "      <th>4</th>\n",
       "      <td>Filiberto's Mexican Food</td>\n",
       "      <td>8-NRKkPY1UiFXW20WXKiXg</td>\n",
       "      <td>2.5</td>\n",
       "      <td>40</td>\n",
       "      <td>Mexican, Restaurants</td>\n",
       "      <td>-112.341302</td>\n",
       "      <td>33.448106</td>\n",
       "      <td>85323</td>\n",
       "      <td>Avondale</td>\n",
       "      <td>AZ</td>\n",
       "    </tr>\n",
       "  </tbody>\n",
       "</table>\n",
       "</div>"
      ],
      "text/plain": [
       "                       name             business_id  stars  review_count  \\\n",
       "0      Minhas Micro Brewery  Apn5Q_b6Nz61Tq4XzPdf9A    4.0            24   \n",
       "1       CK'S BBQ & Catering  AjEbIBw6ZFfln7ePHha9PA    4.5             3   \n",
       "2             La Bastringue  O8S5hYJ1SMc8fA4QBtVujA    4.0             5   \n",
       "3               Thai One On  6OuOZAok8ikONMS_T3EzXg    2.0             7   \n",
       "4  Filiberto's Mexican Food  8-NRKkPY1UiFXW20WXKiXg    2.5            40   \n",
       "\n",
       "                                                                                            categories  \\\n",
       "0                                          Tours, Breweries, Pizza, Restaurants, Food, Hotels & Travel   \n",
       "1  Chicken Wings, Burgers, Caterers, Street Vendors, Barbeque, Food Trucks, Food, Restaurants, Even...   \n",
       "2                                           Breakfast & Brunch, Restaurants, French, Sandwiches, Cafes   \n",
       "3                                                                                    Restaurants, Thai   \n",
       "4                                                                                 Mexican, Restaurants   \n",
       "\n",
       "    longitude   latitude postal_code         city state  \n",
       "0 -114.031675  51.091813     T2E 6L6      Calgary    AB  \n",
       "1 -114.939821  35.960734       89002    Henderson    NV  \n",
       "2  -73.599300  45.540503     H2G 1K7     Montréal    QC  \n",
       "3  -79.632763  43.712946     L4T 1A8  Mississauga    ON  \n",
       "4 -112.341302  33.448106       85323     Avondale    AZ  "
      ]
     },
     "execution_count": 91,
     "metadata": {},
     "output_type": "execute_result"
    }
   ],
   "source": [
    "restaurant_df.head()"
   ]
  },
  {
   "cell_type": "markdown",
   "metadata": {},
   "source": [
    "### TODO: Build list of menu items for _one_ restaurant, list of spelling variations for each menu item"
   ]
  },
  {
   "cell_type": "code",
   "execution_count": 29,
   "metadata": {},
   "outputs": [],
   "source": [
    "def searchCriteria(query, column, exact = False):\n",
    "    '''\n",
    "    Returns a dictionary for a single query criteria.\n",
    "    '''\n",
    "    if type(exact) is not bool:\n",
    "        print('Error: Exact must be True or False.')\n",
    "        return None\n",
    "    \n",
    "    return {\n",
    "        'query' : query,\n",
    "        'column' : column,\n",
    "        'exact' : exact\n",
    "    }"
   ]
  },
  {
   "cell_type": "markdown",
   "metadata": {},
   "source": [
    "### TODO: Optimize search_reviews function\n",
    "Function takes 63 seconds vs   \n",
    "Iterative Masking takes 0.48 seconds"
   ]
  },
  {
   "cell_type": "code",
   "execution_count": 30,
   "metadata": {},
   "outputs": [],
   "source": [
    "def search_reviews(df, queries):\n",
    "    '''\n",
    "    Returns a subset of df given a list of queries structured like so:\n",
    "    \n",
    "    queries = [{'query' : 'onion soup',\n",
    "                'column' : 'text', \n",
    "                'exact' : False},\n",
    "               {'query' : '4JNXUYY8wbaaDmk3BPzlWw',\n",
    "                'column' : 'business_id',\n",
    "                'exact' : True}]\n",
    "    Use searchCriteria() to build a list of queries.\n",
    "    '''\n",
    "    supermask = True\n",
    "\n",
    "    for query in queries:\n",
    "        if query['exact']:\n",
    "            mask = df[query['column']] == query['query']\n",
    "        else:\n",
    "            mask = df[query['column']].str.contains(query['query'], case = False)\n",
    "        supermask = supermask & mask\n",
    "\n",
    "    return df[supermask]                \n"
   ]
  },
  {
   "cell_type": "markdown",
   "metadata": {},
   "source": [
    "### Select Mon Ami Gabi reviews"
   ]
  },
  {
   "cell_type": "code",
   "execution_count": 4,
   "metadata": {},
   "outputs": [],
   "source": [
    "mon_ami_gabi_id = '4JNXUYY8wbaaDmk3BPzlWw'\n",
    "\n",
    "mon_ami_gabi_reviews = review_df[review_df['business_id'] == mon_ami_gabi_id]"
   ]
  },
  {
   "cell_type": "code",
   "execution_count": 5,
   "metadata": {},
   "outputs": [
    {
     "data": {
      "text/plain": [
       "(7968, 10)"
      ]
     },
     "execution_count": 5,
     "metadata": {},
     "output_type": "execute_result"
    }
   ],
   "source": [
    "mon_ami_gabi_reviews.shape"
   ]
  },
  {
   "cell_type": "markdown",
   "metadata": {},
   "source": [
    "[Mon Ami Gabi's Yelp Page](https://www.yelp.com/biz/mon-ami-gabi-las-vegas-2)"
   ]
  },
  {
   "cell_type": "code",
   "execution_count": 6,
   "metadata": {},
   "outputs": [],
   "source": [
    "mon_ami_gabi_reviews.to_csv('../data/interim/mon_ami_gabi_reviews.csv', index = False)"
   ]
  },
  {
   "cell_type": "code",
   "execution_count": 7,
   "metadata": {},
   "outputs": [
    {
     "data": {
      "text/html": [
       "<div>\n",
       "<style scoped>\n",
       "    .dataframe tbody tr th:only-of-type {\n",
       "        vertical-align: middle;\n",
       "    }\n",
       "\n",
       "    .dataframe tbody tr th {\n",
       "        vertical-align: top;\n",
       "    }\n",
       "\n",
       "    .dataframe thead th {\n",
       "        text-align: right;\n",
       "    }\n",
       "</style>\n",
       "<table border=\"1\" class=\"dataframe\">\n",
       "  <thead>\n",
       "    <tr style=\"text-align: right;\">\n",
       "      <th></th>\n",
       "      <th>text</th>\n",
       "      <th>cool</th>\n",
       "      <th>funny</th>\n",
       "      <th>review_id</th>\n",
       "      <th>date</th>\n",
       "      <th>stars</th>\n",
       "      <th>business_id</th>\n",
       "      <th>useful</th>\n",
       "      <th>user_id</th>\n",
       "      <th>business_name</th>\n",
       "    </tr>\n",
       "  </thead>\n",
       "  <tbody>\n",
       "    <tr>\n",
       "      <th>213</th>\n",
       "      <td>I booked a table here for brunch and it did not disappoint, it was a great experience and more r...</td>\n",
       "      <td>0.0</td>\n",
       "      <td>0.0</td>\n",
       "      <td>wl8BO_I-is-JaMwMW5c_gQ</td>\n",
       "      <td>2012-06-10</td>\n",
       "      <td>4.0</td>\n",
       "      <td>4JNXUYY8wbaaDmk3BPzlWw</td>\n",
       "      <td>0.0</td>\n",
       "      <td>fo4mpUqgXL2mJqALc9AvbA</td>\n",
       "      <td>Mon Ami Gabi</td>\n",
       "    </tr>\n",
       "    <tr>\n",
       "      <th>407</th>\n",
       "      <td>Came here for lunch after a long night of partying.  I'm a huge fan of French food, and had defi...</td>\n",
       "      <td>0.0</td>\n",
       "      <td>0.0</td>\n",
       "      <td>cf9RrqHY9eQ9M53OPyXLtg</td>\n",
       "      <td>2012-01-20</td>\n",
       "      <td>4.0</td>\n",
       "      <td>4JNXUYY8wbaaDmk3BPzlWw</td>\n",
       "      <td>0.0</td>\n",
       "      <td>TVvTtXwPXsvrg2KJGoOUTg</td>\n",
       "      <td>Mon Ami Gabi</td>\n",
       "    </tr>\n",
       "    <tr>\n",
       "      <th>1028</th>\n",
       "      <td>Loved the fried goat cheese in tomato sauce along with dogfish 60 minutes IPA. Very nice view of...</td>\n",
       "      <td>0.0</td>\n",
       "      <td>0.0</td>\n",
       "      <td>BvmhSQ6WFm2Jxu01G8OpdQ</td>\n",
       "      <td>2017-05-10</td>\n",
       "      <td>5.0</td>\n",
       "      <td>4JNXUYY8wbaaDmk3BPzlWw</td>\n",
       "      <td>0.0</td>\n",
       "      <td>etbAVunw-4kwr6VTRweZpA</td>\n",
       "      <td>Mon Ami Gabi</td>\n",
       "    </tr>\n",
       "    <tr>\n",
       "      <th>1311</th>\n",
       "      <td>Love the outdoor atmosphere. Price was right, service exceptional and the food tasted fantastic</td>\n",
       "      <td>0.0</td>\n",
       "      <td>0.0</td>\n",
       "      <td>IoKp9n1489XohTV_-EJ0IQ</td>\n",
       "      <td>2014-05-03</td>\n",
       "      <td>5.0</td>\n",
       "      <td>4JNXUYY8wbaaDmk3BPzlWw</td>\n",
       "      <td>0.0</td>\n",
       "      <td>vKXux2Xx3xcicTgYZoR0pg</td>\n",
       "      <td>Mon Ami Gabi</td>\n",
       "    </tr>\n",
       "    <tr>\n",
       "      <th>1612</th>\n",
       "      <td>Best steak in Vegas. Best mashed potatoes in Vegas. Best French restaurant in Vegas.  MAKE MAKE ...</td>\n",
       "      <td>0.0</td>\n",
       "      <td>0.0</td>\n",
       "      <td>7YNmSq7Lb1zi4SUKXaSjfg</td>\n",
       "      <td>2014-06-04</td>\n",
       "      <td>5.0</td>\n",
       "      <td>4JNXUYY8wbaaDmk3BPzlWw</td>\n",
       "      <td>3.0</td>\n",
       "      <td>e3s1x4LLqfSkRTWDy_-Urg</td>\n",
       "      <td>Mon Ami Gabi</td>\n",
       "    </tr>\n",
       "  </tbody>\n",
       "</table>\n",
       "</div>"
      ],
      "text/plain": [
       "                                                                                                     text  \\\n",
       "213   I booked a table here for brunch and it did not disappoint, it was a great experience and more r...   \n",
       "407   Came here for lunch after a long night of partying.  I'm a huge fan of French food, and had defi...   \n",
       "1028  Loved the fried goat cheese in tomato sauce along with dogfish 60 minutes IPA. Very nice view of...   \n",
       "1311      Love the outdoor atmosphere. Price was right, service exceptional and the food tasted fantastic   \n",
       "1612  Best steak in Vegas. Best mashed potatoes in Vegas. Best French restaurant in Vegas.  MAKE MAKE ...   \n",
       "\n",
       "      cool  funny               review_id        date  stars  \\\n",
       "213    0.0    0.0  wl8BO_I-is-JaMwMW5c_gQ  2012-06-10    4.0   \n",
       "407    0.0    0.0  cf9RrqHY9eQ9M53OPyXLtg  2012-01-20    4.0   \n",
       "1028   0.0    0.0  BvmhSQ6WFm2Jxu01G8OpdQ  2017-05-10    5.0   \n",
       "1311   0.0    0.0  IoKp9n1489XohTV_-EJ0IQ  2014-05-03    5.0   \n",
       "1612   0.0    0.0  7YNmSq7Lb1zi4SUKXaSjfg  2014-06-04    5.0   \n",
       "\n",
       "                 business_id  useful                 user_id business_name  \n",
       "213   4JNXUYY8wbaaDmk3BPzlWw     0.0  fo4mpUqgXL2mJqALc9AvbA  Mon Ami Gabi  \n",
       "407   4JNXUYY8wbaaDmk3BPzlWw     0.0  TVvTtXwPXsvrg2KJGoOUTg  Mon Ami Gabi  \n",
       "1028  4JNXUYY8wbaaDmk3BPzlWw     0.0  etbAVunw-4kwr6VTRweZpA  Mon Ami Gabi  \n",
       "1311  4JNXUYY8wbaaDmk3BPzlWw     0.0  vKXux2Xx3xcicTgYZoR0pg  Mon Ami Gabi  \n",
       "1612  4JNXUYY8wbaaDmk3BPzlWw     3.0  e3s1x4LLqfSkRTWDy_-Urg  Mon Ami Gabi  "
      ]
     },
     "execution_count": 7,
     "metadata": {},
     "output_type": "execute_result"
    }
   ],
   "source": [
    "mon_ami_gabi_reviews.head()"
   ]
  },
  {
   "cell_type": "markdown",
   "metadata": {},
   "source": [
    "### Select reviews from Mon Ami Gabi that mention a certain menu item"
   ]
  },
  {
   "cell_type": "markdown",
   "metadata": {},
   "source": [
    "#### Select Mon Ami Gabi reviews that mention French `onion soup`\n",
    "\n",
    "I tried subsetting using three methods: \n",
    "1. A search function for reusable code\n",
    "2. Iterative masking: `df1 = df[mask1]`, `df2 = df1[mask2]`, etc.\n",
    "3. Consecutive masking: `df[mask1 & mask2 & ...]`\n",
    "\n",
    "Iterative masking performed the fastest."
   ]
  },
  {
   "cell_type": "code",
   "execution_count": 31,
   "metadata": {},
   "outputs": [],
   "source": [
    "queries = []\n",
    "queries.append(searchCriteria(mon_ami_gabi_id, 'business_id'))\n",
    "queries.append(searchCriteria('onion soup', 'text'))"
   ]
  },
  {
   "cell_type": "code",
   "execution_count": 12,
   "metadata": {},
   "outputs": [
    {
     "data": {
      "text/plain": [
       "[{'query': '4JNXUYY8wbaaDmk3BPzlWw', 'column': 'business_id', 'exact': False},\n",
       " {'query': 'onion soup', 'column': 'text', 'exact': False}]"
      ]
     },
     "execution_count": 12,
     "metadata": {},
     "output_type": "execute_result"
    }
   ],
   "source": [
    "queries"
   ]
  },
  {
   "cell_type": "code",
   "execution_count": 74,
   "metadata": {},
   "outputs": [
    {
     "name": "stdout",
     "output_type": "stream",
     "text": [
      "Found 868 results in 0.1 seconds\n"
     ]
    }
   ],
   "source": [
    "# Using search_reviews function\n",
    "t0 = time()\n",
    "\n",
    "onion_soup_reviews = search_reviews(mon_ami_gabi_reviews, queries)\n",
    "t1 = np.round(time() - t0, 2)\n",
    "\n",
    "print(f'Found {onion_soup_reviews.shape[0]} results in {t1} seconds')"
   ]
  },
  {
   "cell_type": "code",
   "execution_count": 75,
   "metadata": {},
   "outputs": [
    {
     "name": "stdout",
     "output_type": "stream",
     "text": [
      "Found 868 results in 0.97 seconds\n"
     ]
    }
   ],
   "source": [
    "# Searching Mon Ami Gabi AND Onion Soup\n",
    "t0 = time()\n",
    "\n",
    "mon_ami_gabi_mask = review_df['business_id'] == mon_ami_gabi_id\n",
    "onion_soup_mask = mon_ami_gabi['text'].str.contains('onion soup', case = False)\n",
    "\n",
    "onion_soup_reviews = review_df[mon_ami_gabi_mask & onion_soup_mask]\n",
    "\n",
    "t1 = np.round(time() - t0, 2)\n",
    "\n",
    "print(f'Found {onion_soup_reviews.shape[0]} results in {t1} seconds')"
   ]
  },
  {
   "cell_type": "code",
   "execution_count": 8,
   "metadata": {},
   "outputs": [
    {
     "name": "stdout",
     "output_type": "stream",
     "text": [
      "Found 868 results in 0.08 seconds\n"
     ]
    }
   ],
   "source": [
    "# Searching Onion Soup in Mon Ami Gabi data\n",
    "t0 = time()\n",
    "\n",
    "onion_soup_reviews = mon_ami_gabi_reviews[mon_ami_gabi_reviews['text'].str.contains('onion soup', case = False)]\n",
    "t1 = np.round(time() - t0, 2)\n",
    "\n",
    "print(f'Found {onion_soup_reviews.shape[0]} results in {t1} seconds')"
   ]
  },
  {
   "cell_type": "code",
   "execution_count": 94,
   "metadata": {},
   "outputs": [
    {
     "name": "stdout",
     "output_type": "stream",
     "text": [
      "Found 868 results in 0.31 seconds\n"
     ]
    }
   ],
   "source": [
    "# Searching Mon Ami Gabi, then searching Onion Soup\n",
    "t0 = time()\n",
    "\n",
    "mon_ami_gabi_mask = review_df['business_id'] == mon_ami_gabi_id\n",
    "onion_soup_mask = mon_ami_gabi['text'].str.contains('onion soup', case = False)\n",
    "\n",
    "mon_ami_gabi = review_df[mon_ami_gabi_mask]\n",
    "onion_soup_reviews = mon_ami_gabi[onion_soup_mask]\n",
    "\n",
    "t1 = np.round(time() - t0, 2)\n",
    "\n",
    "print(f'Found {onion_soup_reviews.shape[0]} results in {t1} seconds')"
   ]
  },
  {
   "cell_type": "code",
   "execution_count": 95,
   "metadata": {},
   "outputs": [
    {
     "data": {
      "text/plain": [
       "(868, 10)"
      ]
     },
     "execution_count": 95,
     "metadata": {},
     "output_type": "execute_result"
    }
   ],
   "source": [
    "onion_soup_reviews.shape"
   ]
  },
  {
   "cell_type": "code",
   "execution_count": 9,
   "metadata": {
    "scrolled": false
   },
   "outputs": [
    {
     "data": {
      "text/html": [
       "<div>\n",
       "<style scoped>\n",
       "    .dataframe tbody tr th:only-of-type {\n",
       "        vertical-align: middle;\n",
       "    }\n",
       "\n",
       "    .dataframe tbody tr th {\n",
       "        vertical-align: top;\n",
       "    }\n",
       "\n",
       "    .dataframe thead th {\n",
       "        text-align: right;\n",
       "    }\n",
       "</style>\n",
       "<table border=\"1\" class=\"dataframe\">\n",
       "  <thead>\n",
       "    <tr style=\"text-align: right;\">\n",
       "      <th></th>\n",
       "      <th>text</th>\n",
       "      <th>cool</th>\n",
       "      <th>funny</th>\n",
       "      <th>review_id</th>\n",
       "      <th>date</th>\n",
       "      <th>stars</th>\n",
       "      <th>business_id</th>\n",
       "      <th>useful</th>\n",
       "      <th>user_id</th>\n",
       "      <th>business_name</th>\n",
       "    </tr>\n",
       "  </thead>\n",
       "  <tbody>\n",
       "    <tr>\n",
       "      <th>9212</th>\n",
       "      <td>Other than being right across the Fountains of Bellagio, I'm not quite sure what the hype is abo...</td>\n",
       "      <td>1.0</td>\n",
       "      <td>2.0</td>\n",
       "      <td>uczUlWIWuO-KzoUiLhICNw</td>\n",
       "      <td>2015-02-10</td>\n",
       "      <td>2.0</td>\n",
       "      <td>4JNXUYY8wbaaDmk3BPzlWw</td>\n",
       "      <td>3.0</td>\n",
       "      <td>9zuYkm3k4_9KjE1PC8EPfg</td>\n",
       "      <td>Mon Ami Gabi</td>\n",
       "    </tr>\n",
       "    <tr>\n",
       "      <th>20072</th>\n",
       "      <td>French onion soup was watery with little taste.  We sent it back and were refunded the cost.  Th...</td>\n",
       "      <td>0.0</td>\n",
       "      <td>0.0</td>\n",
       "      <td>185E0cpQpDRUO4JRGu3fXQ</td>\n",
       "      <td>2017-04-24</td>\n",
       "      <td>3.0</td>\n",
       "      <td>4JNXUYY8wbaaDmk3BPzlWw</td>\n",
       "      <td>0.0</td>\n",
       "      <td>EYiYLS0ZHDKGJSb1IKcpwg</td>\n",
       "      <td>Mon Ami Gabi</td>\n",
       "    </tr>\n",
       "    <tr>\n",
       "      <th>23249</th>\n",
       "      <td>Where to begin!  Now our dining experience here was not a common one - we were treated to dinner...</td>\n",
       "      <td>0.0</td>\n",
       "      <td>0.0</td>\n",
       "      <td>QoY3L_d_axTcMn68pI8zxQ</td>\n",
       "      <td>2014-12-03</td>\n",
       "      <td>5.0</td>\n",
       "      <td>4JNXUYY8wbaaDmk3BPzlWw</td>\n",
       "      <td>1.0</td>\n",
       "      <td>mp3Xy-w2isyLjEN91xOeGQ</td>\n",
       "      <td>Mon Ami Gabi</td>\n",
       "    </tr>\n",
       "    <tr>\n",
       "      <th>24415</th>\n",
       "      <td>Charming resturant that looks like it would be heavily overpriced. Been here twice now and reall...</td>\n",
       "      <td>0.0</td>\n",
       "      <td>0.0</td>\n",
       "      <td>nth_q-GqOy_Ly8sxsREIwA</td>\n",
       "      <td>2010-12-04</td>\n",
       "      <td>4.0</td>\n",
       "      <td>4JNXUYY8wbaaDmk3BPzlWw</td>\n",
       "      <td>0.0</td>\n",
       "      <td>M4g64KUEia1qgcn-qNlYsw</td>\n",
       "      <td>Mon Ami Gabi</td>\n",
       "    </tr>\n",
       "    <tr>\n",
       "      <th>37563</th>\n",
       "      <td>This review is long overdue!   I have been eating here for years, it is always on my \"must have\"...</td>\n",
       "      <td>0.0</td>\n",
       "      <td>0.0</td>\n",
       "      <td>l0Lm7Dx69s6aH7a-5dwKDg</td>\n",
       "      <td>2010-07-11</td>\n",
       "      <td>5.0</td>\n",
       "      <td>4JNXUYY8wbaaDmk3BPzlWw</td>\n",
       "      <td>0.0</td>\n",
       "      <td>pQAUyBorkc1ZOxmV-uJ02w</td>\n",
       "      <td>Mon Ami Gabi</td>\n",
       "    </tr>\n",
       "  </tbody>\n",
       "</table>\n",
       "</div>"
      ],
      "text/plain": [
       "                                                                                                      text  \\\n",
       "9212   Other than being right across the Fountains of Bellagio, I'm not quite sure what the hype is abo...   \n",
       "20072  French onion soup was watery with little taste.  We sent it back and were refunded the cost.  Th...   \n",
       "23249  Where to begin!  Now our dining experience here was not a common one - we were treated to dinner...   \n",
       "24415  Charming resturant that looks like it would be heavily overpriced. Been here twice now and reall...   \n",
       "37563  This review is long overdue!   I have been eating here for years, it is always on my \"must have\"...   \n",
       "\n",
       "       cool  funny               review_id        date  stars  \\\n",
       "9212    1.0    2.0  uczUlWIWuO-KzoUiLhICNw  2015-02-10    2.0   \n",
       "20072   0.0    0.0  185E0cpQpDRUO4JRGu3fXQ  2017-04-24    3.0   \n",
       "23249   0.0    0.0  QoY3L_d_axTcMn68pI8zxQ  2014-12-03    5.0   \n",
       "24415   0.0    0.0  nth_q-GqOy_Ly8sxsREIwA  2010-12-04    4.0   \n",
       "37563   0.0    0.0  l0Lm7Dx69s6aH7a-5dwKDg  2010-07-11    5.0   \n",
       "\n",
       "                  business_id  useful                 user_id business_name  \n",
       "9212   4JNXUYY8wbaaDmk3BPzlWw     3.0  9zuYkm3k4_9KjE1PC8EPfg  Mon Ami Gabi  \n",
       "20072  4JNXUYY8wbaaDmk3BPzlWw     0.0  EYiYLS0ZHDKGJSb1IKcpwg  Mon Ami Gabi  \n",
       "23249  4JNXUYY8wbaaDmk3BPzlWw     1.0  mp3Xy-w2isyLjEN91xOeGQ  Mon Ami Gabi  \n",
       "24415  4JNXUYY8wbaaDmk3BPzlWw     0.0  M4g64KUEia1qgcn-qNlYsw  Mon Ami Gabi  \n",
       "37563  4JNXUYY8wbaaDmk3BPzlWw     0.0  pQAUyBorkc1ZOxmV-uJ02w  Mon Ami Gabi  "
      ]
     },
     "execution_count": 9,
     "metadata": {},
     "output_type": "execute_result"
    }
   ],
   "source": [
    "onion_soup_reviews.head()"
   ]
  },
  {
   "cell_type": "markdown",
   "metadata": {},
   "source": [
    "#### Save Onion Soup reviews"
   ]
  },
  {
   "cell_type": "code",
   "execution_count": 10,
   "metadata": {},
   "outputs": [],
   "source": [
    "onion_soup_reviews.to_csv('../data/interim/onion_soup_reviews.csv', index = False)"
   ]
  },
  {
   "cell_type": "markdown",
   "metadata": {},
   "source": [
    "#### Select Mon Ami Gabi reviews that  mention eggs `benedict`"
   ]
  },
  {
   "cell_type": "code",
   "execution_count": 12,
   "metadata": {},
   "outputs": [
    {
     "name": "stdout",
     "output_type": "stream",
     "text": [
      "Found 610 results in 0.08 seconds\n"
     ]
    }
   ],
   "source": [
    "t0 = time()\n",
    "\n",
    "eggs_benedict_reviews = mon_ami_gabi_reviews[mon_ami_gabi_reviews['text'].str.contains('benedict', case = False)]\n",
    "t1 = np.round(time() - t0, 2)\n",
    "\n",
    "print(f'Found {eggs_benedict_reviews.shape[0]} results in {t1} seconds')"
   ]
  },
  {
   "cell_type": "markdown",
   "metadata": {},
   "source": [
    "#### Save Eggs Benedict reviews"
   ]
  },
  {
   "cell_type": "code",
   "execution_count": 13,
   "metadata": {},
   "outputs": [],
   "source": [
    "eggs_benedict_reviews.to_csv('../data/interim/eggs_benedict_reviews.csv', index = False)"
   ]
  },
  {
   "cell_type": "code",
   "execution_count": null,
   "metadata": {},
   "outputs": [],
   "source": []
  },
  {
   "cell_type": "markdown",
   "metadata": {},
   "source": [
    "### Select restaurants with the most reviews"
   ]
  },
  {
   "cell_type": "code",
   "execution_count": 43,
   "metadata": {},
   "outputs": [],
   "source": [
    "popular_restaurants = restaurant_df.nlargest(1000, 'review_count')"
   ]
  },
  {
   "cell_type": "markdown",
   "metadata": {},
   "source": [
    "Vegas loves their restaurants."
   ]
  },
  {
   "cell_type": "markdown",
   "metadata": {},
   "source": [
    "#### Save 1000 most reviewed restaurants"
   ]
  },
  {
   "cell_type": "code",
   "execution_count": 46,
   "metadata": {
    "scrolled": true
   },
   "outputs": [],
   "source": [
    "popular_restaurants.to_csv('../data/interim/popular_restaurants.csv')\n"
   ]
  },
  {
   "cell_type": "markdown",
   "metadata": {},
   "source": [
    "### Select restaurants with the lowest stars"
   ]
  },
  {
   "cell_type": "code",
   "execution_count": 22,
   "metadata": {},
   "outputs": [],
   "source": [
    "worst_restaurants = popular_restaurants.nsmallest(1000, 'stars')"
   ]
  },
  {
   "cell_type": "code",
   "execution_count": 24,
   "metadata": {},
   "outputs": [
    {
     "data": {
      "text/html": [
       "<div>\n",
       "<style scoped>\n",
       "    .dataframe tbody tr th:only-of-type {\n",
       "        vertical-align: middle;\n",
       "    }\n",
       "\n",
       "    .dataframe tbody tr th {\n",
       "        vertical-align: top;\n",
       "    }\n",
       "\n",
       "    .dataframe thead th {\n",
       "        text-align: right;\n",
       "    }\n",
       "</style>\n",
       "<table border=\"1\" class=\"dataframe\">\n",
       "  <thead>\n",
       "    <tr style=\"text-align: right;\">\n",
       "      <th></th>\n",
       "      <th>name</th>\n",
       "      <th>business_id</th>\n",
       "      <th>stars</th>\n",
       "      <th>review_count</th>\n",
       "      <th>categories</th>\n",
       "      <th>longitude</th>\n",
       "      <th>latitude</th>\n",
       "      <th>postal_code</th>\n",
       "      <th>city</th>\n",
       "      <th>state</th>\n",
       "    </tr>\n",
       "  </thead>\n",
       "  <tbody>\n",
       "    <tr>\n",
       "      <th>51143</th>\n",
       "      <td>Sam Woo BBQ Restaurant</td>\n",
       "      <td>DVfCbJhJUDWRlUfrKzaKOA</td>\n",
       "      <td>2.0</td>\n",
       "      <td>532</td>\n",
       "      <td>Noodles, Chinese, Restaurants, Barbeque</td>\n",
       "      <td>-115.195980</td>\n",
       "      <td>36.125381</td>\n",
       "      <td>89102</td>\n",
       "      <td>Las Vegas</td>\n",
       "      <td>NV</td>\n",
       "    </tr>\n",
       "    <tr>\n",
       "      <th>12483</th>\n",
       "      <td>The Buffet At TI</td>\n",
       "      <td>7EZ4Eu7YJ1ltRCC5jXFJrQ</td>\n",
       "      <td>2.5</td>\n",
       "      <td>748</td>\n",
       "      <td>American (Traditional), Asian Fusion, Sushi Ba...</td>\n",
       "      <td>-115.171991</td>\n",
       "      <td>36.124829</td>\n",
       "      <td>89109</td>\n",
       "      <td>Las Vegas</td>\n",
       "      <td>NV</td>\n",
       "    </tr>\n",
       "    <tr>\n",
       "      <th>54600</th>\n",
       "      <td>Paradise Garden Buffet</td>\n",
       "      <td>_kb6GT4qawjwq47OsQ52xw</td>\n",
       "      <td>2.5</td>\n",
       "      <td>497</td>\n",
       "      <td>Buffets, Restaurants</td>\n",
       "      <td>-115.171394</td>\n",
       "      <td>36.115690</td>\n",
       "      <td>89109</td>\n",
       "      <td>Las Vegas</td>\n",
       "      <td>NV</td>\n",
       "    </tr>\n",
       "    <tr>\n",
       "      <th>53464</th>\n",
       "      <td>Beijing Noodle No. 9</td>\n",
       "      <td>U9aA5H13y7t9xWnoQslV0Q</td>\n",
       "      <td>2.5</td>\n",
       "      <td>827</td>\n",
       "      <td>Restaurants, Chinese</td>\n",
       "      <td>-115.175067</td>\n",
       "      <td>36.116165</td>\n",
       "      <td>89109</td>\n",
       "      <td>Las Vegas</td>\n",
       "      <td>NV</td>\n",
       "    </tr>\n",
       "    <tr>\n",
       "      <th>32371</th>\n",
       "      <td>MGM Grand Buffet</td>\n",
       "      <td>-U7tvCtaraTQ9b0zBhpBMA</td>\n",
       "      <td>2.5</td>\n",
       "      <td>1096</td>\n",
       "      <td>Restaurants, Buffets, American (Traditional)</td>\n",
       "      <td>-115.171778</td>\n",
       "      <td>36.102091</td>\n",
       "      <td>89109</td>\n",
       "      <td>Las Vegas</td>\n",
       "      <td>NV</td>\n",
       "    </tr>\n",
       "    <tr>\n",
       "      <th>56940</th>\n",
       "      <td>Hakkasan Nightclub</td>\n",
       "      <td>X8c23dur0ll2D9XTu-I8Qg</td>\n",
       "      <td>2.5</td>\n",
       "      <td>1720</td>\n",
       "      <td>Restaurants, Bars, Nightlife, Chinese, Dance C...</td>\n",
       "      <td>-115.172452</td>\n",
       "      <td>36.101375</td>\n",
       "      <td>89109</td>\n",
       "      <td>Las Vegas</td>\n",
       "      <td>NV</td>\n",
       "    </tr>\n",
       "    <tr>\n",
       "      <th>38038</th>\n",
       "      <td>The Buffet at Luxor</td>\n",
       "      <td>ABJjxuO6oh5D9R48-eAUdQ</td>\n",
       "      <td>2.5</td>\n",
       "      <td>747</td>\n",
       "      <td>Arts &amp; Entertainment, Buffets, Casinos, Restau...</td>\n",
       "      <td>-115.175835</td>\n",
       "      <td>36.095492</td>\n",
       "      <td>89109</td>\n",
       "      <td>Las Vegas</td>\n",
       "      <td>NV</td>\n",
       "    </tr>\n",
       "    <tr>\n",
       "      <th>30391</th>\n",
       "      <td>Riviera Hotel &amp; Casino</td>\n",
       "      <td>5Zc41a446gV3K_o7CDs69Q</td>\n",
       "      <td>2.5</td>\n",
       "      <td>809</td>\n",
       "      <td>Hotels &amp; Travel, Hotels, Arts &amp; Entertainment,...</td>\n",
       "      <td>-115.162176</td>\n",
       "      <td>36.135164</td>\n",
       "      <td>89109</td>\n",
       "      <td>Las Vegas</td>\n",
       "      <td>NV</td>\n",
       "    </tr>\n",
       "    <tr>\n",
       "      <th>13147</th>\n",
       "      <td>Saddle Ranch Chop House</td>\n",
       "      <td>IyVdd_IqwUtzQDTxw2W9qw</td>\n",
       "      <td>2.5</td>\n",
       "      <td>520</td>\n",
       "      <td>Steakhouses, Restaurants, Bars, Nightlife</td>\n",
       "      <td>-112.260762</td>\n",
       "      <td>33.532952</td>\n",
       "      <td>85305</td>\n",
       "      <td>Glendale</td>\n",
       "      <td>AZ</td>\n",
       "    </tr>\n",
       "    <tr>\n",
       "      <th>47366</th>\n",
       "      <td>Blondies Sports Bar &amp; Grill</td>\n",
       "      <td>4X0KWUPcD2EkHN83aa4cXg</td>\n",
       "      <td>2.5</td>\n",
       "      <td>543</td>\n",
       "      <td>American (Traditional), Bars, Sports Bars, Res...</td>\n",
       "      <td>-115.169562</td>\n",
       "      <td>36.110526</td>\n",
       "      <td>89109</td>\n",
       "      <td>Las Vegas</td>\n",
       "      <td>NV</td>\n",
       "    </tr>\n",
       "  </tbody>\n",
       "</table>\n",
       "</div>"
      ],
      "text/plain": [
       "                              name             business_id  stars  \\\n",
       "51143       Sam Woo BBQ Restaurant  DVfCbJhJUDWRlUfrKzaKOA    2.0   \n",
       "12483             The Buffet At TI  7EZ4Eu7YJ1ltRCC5jXFJrQ    2.5   \n",
       "54600       Paradise Garden Buffet  _kb6GT4qawjwq47OsQ52xw    2.5   \n",
       "53464         Beijing Noodle No. 9  U9aA5H13y7t9xWnoQslV0Q    2.5   \n",
       "32371             MGM Grand Buffet  -U7tvCtaraTQ9b0zBhpBMA    2.5   \n",
       "56940           Hakkasan Nightclub  X8c23dur0ll2D9XTu-I8Qg    2.5   \n",
       "38038          The Buffet at Luxor  ABJjxuO6oh5D9R48-eAUdQ    2.5   \n",
       "30391       Riviera Hotel & Casino  5Zc41a446gV3K_o7CDs69Q    2.5   \n",
       "13147      Saddle Ranch Chop House  IyVdd_IqwUtzQDTxw2W9qw    2.5   \n",
       "47366  Blondies Sports Bar & Grill  4X0KWUPcD2EkHN83aa4cXg    2.5   \n",
       "\n",
       "       review_count                                         categories  \\\n",
       "51143           532            Noodles, Chinese, Restaurants, Barbeque   \n",
       "12483           748  American (Traditional), Asian Fusion, Sushi Ba...   \n",
       "54600           497                               Buffets, Restaurants   \n",
       "53464           827                               Restaurants, Chinese   \n",
       "32371          1096       Restaurants, Buffets, American (Traditional)   \n",
       "56940          1720  Restaurants, Bars, Nightlife, Chinese, Dance C...   \n",
       "38038           747  Arts & Entertainment, Buffets, Casinos, Restau...   \n",
       "30391           809  Hotels & Travel, Hotels, Arts & Entertainment,...   \n",
       "13147           520          Steakhouses, Restaurants, Bars, Nightlife   \n",
       "47366           543  American (Traditional), Bars, Sports Bars, Res...   \n",
       "\n",
       "        longitude   latitude postal_code       city state  \n",
       "51143 -115.195980  36.125381       89102  Las Vegas    NV  \n",
       "12483 -115.171991  36.124829       89109  Las Vegas    NV  \n",
       "54600 -115.171394  36.115690       89109  Las Vegas    NV  \n",
       "53464 -115.175067  36.116165       89109  Las Vegas    NV  \n",
       "32371 -115.171778  36.102091       89109  Las Vegas    NV  \n",
       "56940 -115.172452  36.101375       89109  Las Vegas    NV  \n",
       "38038 -115.175835  36.095492       89109  Las Vegas    NV  \n",
       "30391 -115.162176  36.135164       89109  Las Vegas    NV  \n",
       "13147 -112.260762  33.532952       85305   Glendale    AZ  \n",
       "47366 -115.169562  36.110526       89109  Las Vegas    NV  "
      ]
     },
     "execution_count": 24,
     "metadata": {},
     "output_type": "execute_result"
    }
   ],
   "source": [
    "worst_restaurants.head(10)"
   ]
  },
  {
   "cell_type": "markdown",
   "metadata": {},
   "source": [
    "### Drop infrequent rows"
   ]
  },
  {
   "cell_type": "code",
   "execution_count": 2,
   "metadata": {},
   "outputs": [],
   "source": [
    "def drop_less_than(df, col, n):\n",
    "    '''\n",
    "    Drops rows where value count of col is less than n.\n",
    "    '''\n",
    "    return df[df.groupby(col)[col].transform('count').ge(n)]"
   ]
  }
 ],
 "metadata": {
  "kernelspec": {
   "display_name": "Python [default]",
   "language": "python",
   "name": "python3"
  },
  "language_info": {
   "codemirror_mode": {
    "name": "ipython",
    "version": 3
   },
   "file_extension": ".py",
   "mimetype": "text/x-python",
   "name": "python",
   "nbconvert_exporter": "python",
   "pygments_lexer": "ipython3",
   "version": "3.6.5"
  }
 },
 "nbformat": 4,
 "nbformat_minor": 2
}
