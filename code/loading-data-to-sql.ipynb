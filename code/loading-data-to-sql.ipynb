{
 "cells": [
  {
   "cell_type": "markdown",
   "metadata": {},
   "source": [
    "# Loading Data to PostgreSQL server"
   ]
  },
  {
   "cell_type": "markdown",
   "metadata": {},
   "source": [
    "### Import Libraries"
   ]
  },
  {
   "cell_type": "code",
   "execution_count": 9,
   "metadata": {},
   "outputs": [],
   "source": [
    "import pandas as pd\n",
    "import numpy as np\n",
    "import time\n",
    "\n",
    "# For loading data to postgres server\n",
    "from odo import odo\n",
    "\n",
    "# For connecting to postgres server\n",
    "from sqlalchemy import create_engine\n",
    "\n",
    "# For loading secret environment variables, e.g. postgres username and password\n",
    "import os\n",
    "from dotenv import load_dotenv, find_dotenv\n"
   ]
  },
  {
   "cell_type": "markdown",
   "metadata": {},
   "source": [
    "### Load Environment Variables\n",
    "**Instructions:**  \n",
    "Store your SQL environment variables in a file called `.env` and save it in the root directory of this project.\n",
    "\n",
    "Example: \n",
    "\n",
    "```\n",
    "PUBLIC_IP = 12.345.678.901\n",
    "USERNAME  = postgres\n",
    "PASSWORD  = password\n",
    "PORT      = 5432\n",
    "```"
   ]
  },
  {
   "cell_type": "code",
   "execution_count": 2,
   "metadata": {},
   "outputs": [],
   "source": [
    "# Find .env\n",
    "dotenv_path = find_dotenv()\n",
    "\n",
    "# Load entries as environment variables\n",
    "load_dotenv(dotenv_path)\n",
    "\n",
    "# Get secret environment variables \n",
    "public_ip = os.environ.get(\"PUBLIC_IP\")\n",
    "username  = os.environ.get(\"USERNAME\")\n",
    "password  = os.environ.get(\"PASSWORD\")\n",
    "port      = os.environ.get(\"PORT\")\n",
    "\n",
    "# Construct database URL from environment variables\n",
    "uri = f'postgresql://{username}:{password}@{public_ip}:{port}'"
   ]
  },
  {
   "cell_type": "markdown",
   "metadata": {},
   "source": [
    "### Load Data"
   ]
  },
  {
   "cell_type": "code",
   "execution_count": 12,
   "metadata": {},
   "outputs": [],
   "source": [
    "chunksize = 1000\n",
    "\n",
    "# review_chunks = pd.read_csv('../data/raw/yelp_academic_dataset_review.csv', chunksize = chunksize)\n",
    "mon_ami_gabi = pd.read_csv('../data/interim/mon_ami_gabi.csv')\n",
    "top_businesses = pd.read_csv('../data/interim/top_businesses.csv')"
   ]
  },
  {
   "cell_type": "markdown",
   "metadata": {},
   "source": [
    "### Load data to Postgres on AWS"
   ]
  },
  {
   "cell_type": "code",
   "execution_count": 9,
   "metadata": {},
   "outputs": [
    {
     "name": "stdout",
     "output_type": "stream",
     "text": [
      "Loaded 7968 rows in 258.8 seconds\n"
     ]
    }
   ],
   "source": [
    "t0 = time.time()\n",
    "odo(mon_ami_gabi, uri+'::mon_ami_gabi_reviews')\n",
    "t1 = np.round(time.time() - t0, 2)\n",
    "\n",
    "print(f'Loaded {mon_ami_gabi.shape[0]} rows in {t1} seconds')\n"
   ]
  },
  {
   "cell_type": "code",
   "execution_count": 13,
   "metadata": {},
   "outputs": [
    {
     "name": "stdout",
     "output_type": "stream",
     "text": [
      "Loaded 1000 rows in 28.2 seconds\n"
     ]
    }
   ],
   "source": [
    "t0 = time.time()\n",
    "odo(top_businesses, uri+'::businesses')\n",
    "t1 = np.round(time.time() - t0, 2)\n",
    "\n",
    "print(f'Loaded {top_businesses.shape[0]} rows in {t1} seconds')\n"
   ]
  },
  {
   "cell_type": "markdown",
   "metadata": {},
   "source": [
    "### Load data to Postgres in chunks"
   ]
  },
  {
   "cell_type": "code",
   "execution_count": 16,
   "metadata": {},
   "outputs": [],
   "source": [
    "def next_chunk(chunks, n):\n",
    "    '''\n",
    "    Iterates through n chunks\n",
    "    '''\n",
    "    # Go to n'th chunk\n",
    "    for i in range(n):\n",
    "        chunk = next(chunks)\n",
    "    return chunk"
   ]
  },
  {
   "cell_type": "code",
   "execution_count": 13,
   "metadata": {},
   "outputs": [],
   "source": [
    "chunk = next_chunk(review_chunks, 10)"
   ]
  },
  {
   "cell_type": "code",
   "execution_count": 15,
   "metadata": {},
   "outputs": [
    {
     "name": "stdout",
     "output_type": "stream",
     "text": [
      "32.702\n",
      "Loaded 11000 to 11999\n",
      "28.539\n",
      "Loaded 12000 to 12999\n",
      "33.829\n",
      "Loaded 13000 to 13999\n",
      "29.953\n",
      "Loaded 14000 to 14999\n",
      "33.466\n",
      "Loaded 15000 to 15999\n",
      "30.561\n",
      "Loaded 16000 to 16999\n",
      "35.261\n",
      "Loaded 17000 to 17999\n",
      "30.768\n",
      "Loaded 18000 to 18999\n",
      "34.158\n",
      "Loaded 19000 to 19999\n",
      "30.173\n",
      "Loaded 20000 to 20999\n",
      "Run me again!\n"
     ]
    }
   ],
   "source": [
    "for i in range(10):\n",
    "    t0 = time.time()\n",
    "    chunk = next(review_chunks)\n",
    "    odo(chunk, uri+'::reviews')\n",
    "    t1 = np.round(time.time() - t0, 3))\n",
    "    \n",
    "    print(f'Loaded {chunk.index[0]} to {chunk.index[-1]} in {t1} seconds')\n",
    "\n",
    "print('Run me again!')"
   ]
  },
  {
   "cell_type": "markdown",
   "metadata": {},
   "source": [
    "This is too slow so I will load my data to a local Postgres server."
   ]
  },
  {
   "cell_type": "markdown",
   "metadata": {},
   "source": [
    "### Load data to local Postgres server"
   ]
  },
  {
   "cell_type": "markdown",
   "metadata": {},
   "source": [
    "#### Set Environment Variables"
   ]
  },
  {
   "cell_type": "code",
   "execution_count": 5,
   "metadata": {},
   "outputs": [],
   "source": [
    "raw_data_directory         = os.path.join('..', 'data', 'raw')\n",
    "interim_data_directory     = os.path.join('..', 'data', 'interim')\n",
    "\n",
    "review_filepath            = os.path.join(raw_data_directory, 'yelp_academic_dataset_review.csv')\n",
    "business_filepath          = os.path.join(raw_data_directory, 'yelp_academic_dataset_business.csv')\n",
    "restaurant_review_filepath = os.path.join(interim_data_directory, 'restaurant_review.csv')\n",
    "restaurant_filepath        = os.path.join(interim_data_directory, 'restaurant.csv')"
   ]
  },
  {
   "cell_type": "code",
   "execution_count": 10,
   "metadata": {},
   "outputs": [],
   "source": [
    "# Find .env\n",
    "dotenv_path = find_dotenv()\n",
    "\n",
    "# Load entries as environment variables\n",
    "load_dotenv(dotenv_path)\n",
    "\n",
    "public_ip = os.environ.get(\"PUBLIC_IP\")\n",
    "username  = os.environ.get(\"USERNAME\")\n",
    "password  = os.environ.get(\"PASSWORD\")\n",
    "port      = os.environ.get(\"PORT\")\n",
    "database  = os.environ.get(\"DATABASE\")\n",
    "\n",
    "# Construct database URL from environment variables\n",
    "uri = f'postgresql://{username}:{password}@{public_ip}:{port}/{database}'\n",
    "        \n",
    "# Connection to Postgres database\n",
    "engine = create_engine(uri)"
   ]
  },
  {
   "cell_type": "markdown",
   "metadata": {},
   "source": [
    "#### Create table"
   ]
  },
  {
   "cell_type": "code",
   "execution_count": 12,
   "metadata": {},
   "outputs": [],
   "source": [
    "sql = '''\n",
    "CREATE TABLE IF NOT EXISTS reviews (\n",
    "    date          date, \n",
    "    stars         integer NOT NULL,\n",
    "    text          varchar(5000), \n",
    "    review_id     varchar(22),\n",
    "    business_id   varchar(22),\n",
    "    business_name varchar(64)  \n",
    ");\n",
    "'''\n",
    "# pd.read_sql(sql, con = engine)"
   ]
  },
  {
   "cell_type": "markdown",
   "metadata": {},
   "source": [
    "#### Load data to database"
   ]
  },
  {
   "cell_type": "code",
   "execution_count": 13,
   "metadata": {},
   "outputs": [],
   "source": [
    "sql = f'''\n",
    "COPY reviews(date, stars, text, review_id, business_id, business_name)\n",
    "FROM '{restaurant_review_filepath}' DELIMITER ',' CSV HEADER;\n",
    "'''\n",
    "# pd.read_sql(sql, con = engine)"
   ]
  },
  {
   "cell_type": "code",
   "execution_count": null,
   "metadata": {},
   "outputs": [],
   "source": []
  }
 ],
 "metadata": {
  "kernelspec": {
   "display_name": "Python [default]",
   "language": "python",
   "name": "python3"
  },
  "language_info": {
   "codemirror_mode": {
    "name": "ipython",
    "version": 3
   },
   "file_extension": ".py",
   "mimetype": "text/x-python",
   "name": "python",
   "nbconvert_exporter": "python",
   "pygments_lexer": "ipython3",
   "version": "3.6.5"
  }
 },
 "nbformat": 4,
 "nbformat_minor": 2
}
