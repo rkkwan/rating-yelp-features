{
 "cells": [
  {
   "cell_type": "markdown",
   "metadata": {},
   "source": [
    "## Finding the Best Dishes at a Restaurant\n",
    "\n",
    "### Questions:\n",
    "1. What are the best dishes to order at Mon Ami Gabi?\n",
    "2. What are the worst dishes?\n",
    "3. What are the popular dishes?\n",
    "4. What are the least popular dishes?"
   ]
  },
  {
   "cell_type": "markdown",
   "metadata": {},
   "source": [
    "### Table of Contents\n",
    "\n",
    "1. [Selecting a restaurant](#Selecting-Data)\n",
    "2. [Selecting reviews that mention menu items]()\n",
    "3. [Extracting sentence fragments]()\n",
    "4. [Analyzing Sentiment Intensity]()"
   ]
  },
  {
   "cell_type": "markdown",
   "metadata": {},
   "source": [
    "### Download packages"
   ]
  },
  {
   "cell_type": "markdown",
   "metadata": {},
   "source": [
    "### Import libraries"
   ]
  },
  {
   "cell_type": "code",
   "execution_count": 110,
   "metadata": {},
   "outputs": [],
   "source": [
    "import csv\n",
    "import os\n",
    "import pandas as pd\n",
    "import numpy as np\n",
    "import matplotlib.pyplot as plt\n",
    "import pickle\n",
    "import itertools as it\n",
    "from nltk.sentiment.vader import SentimentIntensityAnalyzer\n",
    "import spacy\n",
    "from IPython.display import clear_output\n",
    "from time import time \n",
    "\n"
   ]
  },
  {
   "cell_type": "markdown",
   "metadata": {},
   "source": [
    "### Set filepaths"
   ]
  },
  {
   "cell_type": "code",
   "execution_count": 2,
   "metadata": {},
   "outputs": [],
   "source": [
    "# Directories\n",
    "external_data_directory = os.path.join('..', 'data', 'external')\n",
    "interim_data_directory = os.path.join('..', 'data', 'interim')\n",
    "raw_data_directory = os.path.join('..', 'data', 'raw')\n",
    "\n",
    "# Filepaths\n",
    "review_csv_filepath = os.path.join(raw_data_directory, \n",
    "                                   'yelp_academic_dataset_review.csv')\n",
    "restaurant_review_csv_filepath = os.path.join(interim_data_directory,\n",
    "                                              'restaurant_review.csv')\n",
    "\n",
    "mon_ami_gabi_filepath = os.path.join(interim_data_directory, 'mon_ami_gabi.csv')"
   ]
  },
  {
   "cell_type": "markdown",
   "metadata": {},
   "source": [
    "### Get reviews for one restaurant by matching `business_id`"
   ]
  },
  {
   "cell_type": "code",
   "execution_count": 3,
   "metadata": {},
   "outputs": [],
   "source": [
    "def get_restaurant_reviews(input_filepath, business_id):\n",
    "    '''\n",
    "    Selects reviews that match business_id and \n",
    "    returns them in a dataframe\n",
    "    '''\n",
    "    reviews = []\n",
    "    \n",
    "    # Open csv file\n",
    "    with open(input_filepath, encoding = 'utf_8') as f_in:\n",
    "        reader = csv.DictReader(f_in)\n",
    "        columns = reader.fieldnames\n",
    "        \n",
    "        # Loop through all reviews\n",
    "        for row in reader:\n",
    "            if row['business_id'] == business_id:\n",
    "                reviews.append(row)\n",
    "                \n",
    "    return pd.DataFrame(reviews)\n",
    " "
   ]
  },
  {
   "cell_type": "code",
   "execution_count": 4,
   "metadata": {},
   "outputs": [],
   "source": [
    "def split_restaurant_reviews(input_filepath, output_filepath, business_id):\n",
    "    '''\n",
    "    Selects reviews that match business_id and \n",
    "    write to a new csv\n",
    "    '''\n",
    "    num_reviews = 0\n",
    "\n",
    "    # Write to csv file\n",
    "    with open(output_filepath, 'w', encoding = 'utf_8') as f_out:\n",
    "\n",
    "        # Open csv file\n",
    "        with open(input_filepath, encoding = 'utf_8') as f_in:\n",
    "            # Instantiate reader\n",
    "            reader = csv.DictReader(f_in)\n",
    "\n",
    "            # Get column names\n",
    "            columns = reader.fieldnames\n",
    "\n",
    "            # Instantiate writer\n",
    "            writer = csv.DictWriter(f_out, fieldnames = columns)\n",
    "\n",
    "            # Write column names\n",
    "            writer.writeheader()\n",
    "\n",
    "            # Loop through all reviews\n",
    "            for row in reader:            \n",
    "                # Skip reviews that are not about a restaurant\n",
    "                if row['business_id'] != business_id:\n",
    "                    continue\n",
    "\n",
    "                # Write row    \n",
    "                writer.writerow(row)\n",
    "                num_reviews += 1\n",
    "\n",
    "    print (f'Found {num_reviews} reviews that match {business_id}.')\n"
   ]
  },
  {
   "cell_type": "markdown",
   "metadata": {},
   "source": [
    "### Select reviews for one restaurant"
   ]
  },
  {
   "cell_type": "code",
   "execution_count": 5,
   "metadata": {},
   "outputs": [
    {
     "name": "stdout",
     "output_type": "stream",
     "text": [
      "CPU times: user 35 s, sys: 1.25 s, total: 36.2 s\n",
      "Wall time: 36.8 s\n"
     ]
    }
   ],
   "source": [
    "%%time\n",
    "# method 1: filter from all reviews: slow\n",
    "mon_ami_gabi_id = '4JNXUYY8wbaaDmk3BPzlWw'\n",
    "mon_ami_gabi = get_restaurant_reviews(restaurant_review_csv_filepath, mon_ami_gabi_id)\n"
   ]
  },
  {
   "cell_type": "code",
   "execution_count": 7,
   "metadata": {},
   "outputs": [
    {
     "name": "stdout",
     "output_type": "stream",
     "text": [
      "CPU times: user 78.5 ms, sys: 14.2 ms, total: 92.8 ms\n",
      "Wall time: 99.4 ms\n"
     ]
    }
   ],
   "source": [
    "%%time\n",
    "# method 2: directly load a csv of one restaurant's reviews\n",
    "mon_ami_gabi = pd.read_csv('../data/interim/mon_ami_gabi.csv')"
   ]
  },
  {
   "cell_type": "code",
   "execution_count": 6,
   "metadata": {
    "scrolled": true
   },
   "outputs": [
    {
     "data": {
      "text/html": [
       "<div>\n",
       "<style scoped>\n",
       "    .dataframe tbody tr th:only-of-type {\n",
       "        vertical-align: middle;\n",
       "    }\n",
       "\n",
       "    .dataframe tbody tr th {\n",
       "        vertical-align: top;\n",
       "    }\n",
       "\n",
       "    .dataframe thead th {\n",
       "        text-align: right;\n",
       "    }\n",
       "</style>\n",
       "<table border=\"1\" class=\"dataframe\">\n",
       "  <thead>\n",
       "    <tr style=\"text-align: right;\">\n",
       "      <th></th>\n",
       "      <th>date</th>\n",
       "      <th>stars</th>\n",
       "      <th>text</th>\n",
       "      <th>review_id</th>\n",
       "      <th>business_id</th>\n",
       "      <th>business_name</th>\n",
       "    </tr>\n",
       "  </thead>\n",
       "  <tbody>\n",
       "    <tr>\n",
       "      <th>0</th>\n",
       "      <td>2012-06-10</td>\n",
       "      <td>4</td>\n",
       "      <td>I booked a table here for brunch and it did no...</td>\n",
       "      <td>wl8BO_I-is-JaMwMW5c_gQ</td>\n",
       "      <td>4JNXUYY8wbaaDmk3BPzlWw</td>\n",
       "      <td>Mon Ami Gabi</td>\n",
       "    </tr>\n",
       "    <tr>\n",
       "      <th>1</th>\n",
       "      <td>2012-01-20</td>\n",
       "      <td>4</td>\n",
       "      <td>Came here for lunch after a long night of part...</td>\n",
       "      <td>cf9RrqHY9eQ9M53OPyXLtg</td>\n",
       "      <td>4JNXUYY8wbaaDmk3BPzlWw</td>\n",
       "      <td>Mon Ami Gabi</td>\n",
       "    </tr>\n",
       "    <tr>\n",
       "      <th>2</th>\n",
       "      <td>2017-05-10</td>\n",
       "      <td>5</td>\n",
       "      <td>Loved the fried goat cheese in tomato sauce al...</td>\n",
       "      <td>BvmhSQ6WFm2Jxu01G8OpdQ</td>\n",
       "      <td>4JNXUYY8wbaaDmk3BPzlWw</td>\n",
       "      <td>Mon Ami Gabi</td>\n",
       "    </tr>\n",
       "    <tr>\n",
       "      <th>3</th>\n",
       "      <td>2014-05-03</td>\n",
       "      <td>5</td>\n",
       "      <td>Love the outdoor atmosphere. Price was right, ...</td>\n",
       "      <td>IoKp9n1489XohTV_-EJ0IQ</td>\n",
       "      <td>4JNXUYY8wbaaDmk3BPzlWw</td>\n",
       "      <td>Mon Ami Gabi</td>\n",
       "    </tr>\n",
       "    <tr>\n",
       "      <th>4</th>\n",
       "      <td>2014-06-04</td>\n",
       "      <td>5</td>\n",
       "      <td>Best steak in Vegas. Best mashed potatoes in V...</td>\n",
       "      <td>7YNmSq7Lb1zi4SUKXaSjfg</td>\n",
       "      <td>4JNXUYY8wbaaDmk3BPzlWw</td>\n",
       "      <td>Mon Ami Gabi</td>\n",
       "    </tr>\n",
       "  </tbody>\n",
       "</table>\n",
       "</div>"
      ],
      "text/plain": [
       "         date stars                                               text  \\\n",
       "0  2012-06-10     4  I booked a table here for brunch and it did no...   \n",
       "1  2012-01-20     4  Came here for lunch after a long night of part...   \n",
       "2  2017-05-10     5  Loved the fried goat cheese in tomato sauce al...   \n",
       "3  2014-05-03     5  Love the outdoor atmosphere. Price was right, ...   \n",
       "4  2014-06-04     5  Best steak in Vegas. Best mashed potatoes in V...   \n",
       "\n",
       "                review_id             business_id business_name  \n",
       "0  wl8BO_I-is-JaMwMW5c_gQ  4JNXUYY8wbaaDmk3BPzlWw  Mon Ami Gabi  \n",
       "1  cf9RrqHY9eQ9M53OPyXLtg  4JNXUYY8wbaaDmk3BPzlWw  Mon Ami Gabi  \n",
       "2  BvmhSQ6WFm2Jxu01G8OpdQ  4JNXUYY8wbaaDmk3BPzlWw  Mon Ami Gabi  \n",
       "3  IoKp9n1489XohTV_-EJ0IQ  4JNXUYY8wbaaDmk3BPzlWw  Mon Ami Gabi  \n",
       "4  7YNmSq7Lb1zi4SUKXaSjfg  4JNXUYY8wbaaDmk3BPzlWw  Mon Ami Gabi  "
      ]
     },
     "execution_count": 6,
     "metadata": {},
     "output_type": "execute_result"
    }
   ],
   "source": [
    "mon_ami_gabi.head()"
   ]
  },
  {
   "cell_type": "markdown",
   "metadata": {},
   "source": [
    "### Load Menu"
   ]
  },
  {
   "cell_type": "code",
   "execution_count": 8,
   "metadata": {},
   "outputs": [
    {
     "data": {
      "text/plain": [
       "(75, 3)"
      ]
     },
     "execution_count": 8,
     "metadata": {},
     "output_type": "execute_result"
    }
   ],
   "source": [
    "menu = pickle.load(open('../data/interim/mon_ami_gabi_menu.pk', 'rb'))\n",
    "menu.shape"
   ]
  },
  {
   "cell_type": "code",
   "execution_count": 9,
   "metadata": {},
   "outputs": [
    {
     "data": {
      "text/html": [
       "<div>\n",
       "<style scoped>\n",
       "    .dataframe tbody tr th:only-of-type {\n",
       "        vertical-align: middle;\n",
       "    }\n",
       "\n",
       "    .dataframe tbody tr th {\n",
       "        vertical-align: top;\n",
       "    }\n",
       "\n",
       "    .dataframe thead th {\n",
       "        text-align: right;\n",
       "    }\n",
       "</style>\n",
       "<table border=\"1\" class=\"dataframe\">\n",
       "  <thead>\n",
       "    <tr style=\"text-align: right;\">\n",
       "      <th></th>\n",
       "      <th>id</th>\n",
       "      <th>name</th>\n",
       "      <th>variations</th>\n",
       "    </tr>\n",
       "  </thead>\n",
       "  <tbody>\n",
       "    <tr>\n",
       "      <th>0</th>\n",
       "      <td>onion_soup_au_gratin</td>\n",
       "      <td>onion soup au gratin</td>\n",
       "      <td>[french onion soup, onion soup, french onion, ...</td>\n",
       "    </tr>\n",
       "    <tr>\n",
       "      <th>1</th>\n",
       "      <td>steamed_artichoke</td>\n",
       "      <td>steamed artichoke</td>\n",
       "      <td>[steamed artichoke]</td>\n",
       "    </tr>\n",
       "    <tr>\n",
       "      <th>2</th>\n",
       "      <td>smoked_salmon</td>\n",
       "      <td>smoked salmon</td>\n",
       "      <td>[smoked salmon]</td>\n",
       "    </tr>\n",
       "    <tr>\n",
       "      <th>3</th>\n",
       "      <td>baked_goat_cheese</td>\n",
       "      <td>baked goat cheese</td>\n",
       "      <td>[goat cheese]</td>\n",
       "    </tr>\n",
       "    <tr>\n",
       "      <th>4</th>\n",
       "      <td>duck_confit</td>\n",
       "      <td>duck confit</td>\n",
       "      <td>[duck confit]</td>\n",
       "    </tr>\n",
       "  </tbody>\n",
       "</table>\n",
       "</div>"
      ],
      "text/plain": [
       "                     id                  name  \\\n",
       "0  onion_soup_au_gratin  onion soup au gratin   \n",
       "1     steamed_artichoke     steamed artichoke   \n",
       "2         smoked_salmon         smoked salmon   \n",
       "3     baked_goat_cheese     baked goat cheese   \n",
       "4           duck_confit           duck confit   \n",
       "\n",
       "                                          variations  \n",
       "0  [french onion soup, onion soup, french onion, ...  \n",
       "1                                [steamed artichoke]  \n",
       "2                                    [smoked salmon]  \n",
       "3                                      [goat cheese]  \n",
       "4                                      [duck confit]  "
      ]
     },
     "execution_count": 9,
     "metadata": {},
     "output_type": "execute_result"
    }
   ],
   "source": [
    "menu.head()"
   ]
  },
  {
   "cell_type": "markdown",
   "metadata": {},
   "source": [
    "### Preprocess restaurant reviews"
   ]
  },
  {
   "cell_type": "markdown",
   "metadata": {},
   "source": [
    "#### Lowercase, drop punctuations"
   ]
  },
  {
   "cell_type": "code",
   "execution_count": 10,
   "metadata": {},
   "outputs": [],
   "source": [
    "import re\n",
    "\n",
    "def multiple_replace(string, replace_dict):\n",
    "    '''\n",
    "    Performs multiple string replacements at once\n",
    "    '''\n",
    "    pattern = re.compile('|'.join([re.escape(k) for k in sorted(replace_dict, key = len, reverse = True)]), flags = re.DOTALL)\n",
    "    return pattern.sub(lambda x : replace_dict[x.group(0)], string)                  \n",
    "\n",
    "stop_chars = []\n",
    "replace_dict = {','   : '', \n",
    "                ';'   : '',\n",
    "                '('   : '', \n",
    "                ')'   : '', \n",
    "                '\\n' : ' ', \n",
    "                '!'   : '.',\n",
    "                '?'   : '.'}"
   ]
  },
  {
   "cell_type": "code",
   "execution_count": 11,
   "metadata": {},
   "outputs": [],
   "source": [
    "mon_ami_gabi['text'] = mon_ami_gabi['text'].apply(lambda text: multiple_replace(text.lower(), replace_dict))\n"
   ]
  },
  {
   "cell_type": "code",
   "execution_count": 12,
   "metadata": {},
   "outputs": [
    {
     "data": {
      "text/plain": [
       "0    i booked a table here for brunch and it did no...\n",
       "1    came here for lunch after a long night of part...\n",
       "2    loved the fried goat cheese in tomato sauce al...\n",
       "3    love the outdoor atmosphere. price was right s...\n",
       "4    best steak in vegas. best mashed potatoes in v...\n",
       "Name: text, dtype: object"
      ]
     },
     "execution_count": 12,
     "metadata": {},
     "output_type": "execute_result"
    }
   ],
   "source": [
    "mon_ami_gabi['text'].head()"
   ]
  },
  {
   "cell_type": "markdown",
   "metadata": {},
   "source": [
    "### For each menu item, extract sentence fragments"
   ]
  },
  {
   "cell_type": "code",
   "execution_count": 48,
   "metadata": {},
   "outputs": [],
   "source": [
    "def find_term(word_list, term):\n",
    "    '''\n",
    "    Arguments:\n",
    "    word_list : List of strings\n",
    "    term      : List or string of words to search for\n",
    "    \n",
    "    Return:\n",
    "    results : List of tuples of `start` and `end` indices of term in word_list,\n",
    "              where `start` is the index of the first character in `term` in word_list,\n",
    "              and `end` is the index of the last character in `term` in word_list.\n",
    "    '''    \n",
    "    # Check if word_list is a string or list\n",
    "    if type(word_list) is str:\n",
    "        word_list = word_list.split()\n",
    "    elif type(word_list) is not list:\n",
    "        print('Error: word_list must be a list or string.')\n",
    "        return None\n",
    "\n",
    "    # Check if term is a string or list    \n",
    "    if type(term) is str:\n",
    "        term = term.split()\n",
    "    elif type(term) is not list:\n",
    "        print('Error: term must be a list or string.')\n",
    "        return None\n",
    "\n",
    "    results = []\n",
    "    term_length = len(term)\n",
    "\n",
    "    # Find indices of term[0] in sentence\n",
    "    for ind in (i for i, word in enumerate(word_list) if word == term[0]):\n",
    "        # Check if rest of the term matches\n",
    "        if word_list[ind:ind + term_length] == term:\n",
    "            results.append((ind, ind+term_length-1))\n",
    "\n",
    "    return results"
   ]
  },
  {
   "cell_type": "code",
   "execution_count": 49,
   "metadata": {},
   "outputs": [],
   "source": [
    "def get_chunks(word_list, term, n_before = 5, n_after = 5):\n",
    "    '''\n",
    "    Arguments:\n",
    "    word_list : List or string of words\n",
    "    term      : List or string of words to search for\n",
    "    before    : Number of characters to span before term\n",
    "    after     : Number of characters to span after term   \n",
    "    \n",
    "    Builds a list of chunks containing term\n",
    "    \n",
    "    Return:\n",
    "    chunks : List of chunks\n",
    "    \n",
    "    '''\n",
    "    # Check if word_list is a string or list\n",
    "    if type(word_list) is str:\n",
    "        word_list = word_list.split()\n",
    "    elif type(word_list) is not list:\n",
    "        print('Error: word_list must be a list or string.')\n",
    "        return None\n",
    "    \n",
    "    # Check if term is a string or list    \n",
    "    if type(term) is str:\n",
    "        term = term.split()\n",
    "    elif type(term) is not list:\n",
    "        print('Error: term must be a list or string.')\n",
    "        return None    \n",
    "    \n",
    "    indices = find_term(word_list, term)\n",
    "#     print(indices)\n",
    "    chunks = []\n",
    "\n",
    "    for start, end in indices:\n",
    "        before = n_before\n",
    "        after = n_after\n",
    "        \n",
    "        # Check if start index is near the beginning of the word_list\n",
    "        if start < n_before:\n",
    "            before = start\n",
    "        # Check if end index is near the end of the word_list\n",
    "        if end > len(word_list) - n_after:\n",
    "            after = len(word_list) - end\n",
    "            \n",
    "        chunks.append(' '.join(word_list[start-before : end+after+1]))\n",
    "        \n",
    "    return chunks\n",
    "\n"
   ]
  },
  {
   "cell_type": "markdown",
   "metadata": {},
   "source": [
    "### Extract Sentence Fragments for each food item"
   ]
  },
  {
   "cell_type": "code",
   "execution_count": 51,
   "metadata": {},
   "outputs": [],
   "source": [
    "review_text = mon_ami_gabi[mon_ami_gabi['text'].str.contains('onion soup')]"
   ]
  },
  {
   "cell_type": "code",
   "execution_count": 53,
   "metadata": {},
   "outputs": [
    {
     "data": {
      "text/html": [
       "<div>\n",
       "<style scoped>\n",
       "    .dataframe tbody tr th:only-of-type {\n",
       "        vertical-align: middle;\n",
       "    }\n",
       "\n",
       "    .dataframe tbody tr th {\n",
       "        vertical-align: top;\n",
       "    }\n",
       "\n",
       "    .dataframe thead th {\n",
       "        text-align: right;\n",
       "    }\n",
       "</style>\n",
       "<table border=\"1\" class=\"dataframe\">\n",
       "  <thead>\n",
       "    <tr style=\"text-align: right;\">\n",
       "      <th></th>\n",
       "      <th>text</th>\n",
       "    </tr>\n",
       "  </thead>\n",
       "  <tbody>\n",
       "    <tr>\n",
       "      <th>18</th>\n",
       "      <td>other than being right across the fountains of...</td>\n",
       "    </tr>\n",
       "    <tr>\n",
       "      <th>36</th>\n",
       "      <td>french onion soup was watery with little taste...</td>\n",
       "    </tr>\n",
       "    <tr>\n",
       "      <th>38</th>\n",
       "      <td>where to begin.  now our dining experience her...</td>\n",
       "    </tr>\n",
       "    <tr>\n",
       "      <th>41</th>\n",
       "      <td>charming resturant that looks like it would be...</td>\n",
       "    </tr>\n",
       "    <tr>\n",
       "      <th>64</th>\n",
       "      <td>this review is long overdue.   i have been eat...</td>\n",
       "    </tr>\n",
       "  </tbody>\n",
       "</table>\n",
       "</div>"
      ],
      "text/plain": [
       "                                                 text\n",
       "18  other than being right across the fountains of...\n",
       "36  french onion soup was watery with little taste...\n",
       "38  where to begin.  now our dining experience her...\n",
       "41  charming resturant that looks like it would be...\n",
       "64  this review is long overdue.   i have been eat..."
      ]
     },
     "execution_count": 53,
     "metadata": {},
     "output_type": "execute_result"
    }
   ],
   "source": [
    "review_text[['text']].head()"
   ]
  },
  {
   "cell_type": "code",
   "execution_count": 50,
   "metadata": {},
   "outputs": [],
   "source": [
    "# Instantiate food chunks list\n",
    "food_chunks = {food_id : [] for food_id in menu['id'] }"
   ]
  },
  {
   "cell_type": "code",
   "execution_count": 54,
   "metadata": {},
   "outputs": [
    {
     "name": "stdout",
     "output_type": "stream",
     "text": [
      "Parsing 7900/7968 reviews\n",
      "CPU times: user 6min 21s, sys: 664 ms, total: 6min 22s\n",
      "Wall time: 6min 22s\n"
     ]
    }
   ],
   "source": [
    "%%time\n",
    "\n",
    "nrows = len(mon_ami_gabi)\n",
    "# each review\n",
    "for i, review in mon_ami_gabi.iterrows():\n",
    "    if (i+1)%100==0:\n",
    "        clear_output(wait = True)\n",
    "        print(f'Parsing {i+1}/{nrows} reviews')\n",
    "    \n",
    "    # each sentence\n",
    "    for sentence in review['text'].split('.'):\n",
    "        # each menu item\n",
    "        for _, item in menu.iterrows():            \n",
    "            # each food variation\n",
    "            for variation in item['variations']:\n",
    "                # get sentence fragment if sentence contains food item\n",
    "                if variation in sentence:\n",
    "                    chunks = get_chunks(sentence, variation, 7, 7)\n",
    "                    food_chunks[item['id']].append(chunks)\n",
    "                    break\n"
   ]
  },
  {
   "cell_type": "markdown",
   "metadata": {},
   "source": [
    "#### Drop any empty lists"
   ]
  },
  {
   "cell_type": "code",
   "execution_count": 55,
   "metadata": {},
   "outputs": [],
   "source": [
    "for k,v in food_chunks.items():\n",
    "    food_chunks[k] = [c for c in v if c]"
   ]
  },
  {
   "cell_type": "code",
   "execution_count": 57,
   "metadata": {},
   "outputs": [],
   "source": [
    "def flatten(superlist): \n",
    "    '''\n",
    "    Arguments: \n",
    "    superlist : A list of list of strings.\n",
    "\n",
    "    Requirements: \n",
    "    Each element in superlist must be a list.\n",
    "    \n",
    "    Return:\n",
    "    A flattened list of strings.\n",
    "\n",
    "    ex: \n",
    "    flatten([['a'], ['b', 'c'], ['d', 'e', 'f']])\n",
    "    >> ['a', 'b', 'c', 'd', 'e', 'f']\n",
    "    '''    \n",
    "    return [item \\\n",
    "            for sublist in superlist \\\n",
    "            for item in sublist]"
   ]
  },
  {
   "cell_type": "markdown",
   "metadata": {},
   "source": [
    "#### Flatten list of lists of food chunks"
   ]
  },
  {
   "cell_type": "code",
   "execution_count": 58,
   "metadata": {},
   "outputs": [],
   "source": [
    "# Flatten each food's list of chunks\n",
    "food_chunks2 = {food_id : flatten(chunks) for food_id, chunks in food_chunks.items()}"
   ]
  },
  {
   "cell_type": "code",
   "execution_count": 63,
   "metadata": {},
   "outputs": [],
   "source": [
    "# save for later\n",
    "pickle.dump(food_chunks2, open(\"../data/interim/food_chunks.pk\", \"wb\"))"
   ]
  },
  {
   "cell_type": "markdown",
   "metadata": {},
   "source": [
    "### Predict sentiment score using `SentimentIntensityAnalyzer`\n",
    "\n",
    "`SentimentIntensityAnalyzer` returns sentiment scores between `[0, 1]` for positive, negative, and neutral sentiments, `[-1, 1]` for the compound score."
   ]
  },
  {
   "cell_type": "code",
   "execution_count": 59,
   "metadata": {},
   "outputs": [],
   "source": [
    "def get_sentiments(docs):\n",
    "    '''\n",
    "    Returns a Dataframe of sentiment scores with columns:\n",
    "    'compound', 'pos', 'neu', 'neg'\n",
    "    \n",
    "    For each doc, 'pos', 'neu', 'neg' scores add to 1.\n",
    "    'compound' is an overall sentiment score of the doc.\n",
    "    '''\n",
    "    # Instantiate SentimentIntensityAnalyzer\n",
    "    sia = SentimentIntensityAnalyzer()\n",
    "\n",
    "    sentiments = []\n",
    "\n",
    "    # Generate sentiment score for each review\n",
    "    for doc in docs:\n",
    "        sentiment = sia.polarity_scores(doc)\n",
    "        sentiments.append(sentiment)\n",
    "\n",
    "    return pd.DataFrame(sentiments)"
   ]
  },
  {
   "cell_type": "code",
   "execution_count": 39,
   "metadata": {},
   "outputs": [],
   "source": [
    "sentiments = []\n",
    "# onion_chunks = flatten(food_chunks['onion_soup_au_gratin'])\n",
    "\n",
    "onion_sentiments = get_sentiments(onion_chunks['text'])"
   ]
  },
  {
   "cell_type": "code",
   "execution_count": 41,
   "metadata": {},
   "outputs": [
    {
     "data": {
      "text/html": [
       "<div>\n",
       "<style scoped>\n",
       "    .dataframe tbody tr th:only-of-type {\n",
       "        vertical-align: middle;\n",
       "    }\n",
       "\n",
       "    .dataframe tbody tr th {\n",
       "        vertical-align: top;\n",
       "    }\n",
       "\n",
       "    .dataframe thead th {\n",
       "        text-align: right;\n",
       "    }\n",
       "</style>\n",
       "<table border=\"1\" class=\"dataframe\">\n",
       "  <thead>\n",
       "    <tr style=\"text-align: right;\">\n",
       "      <th></th>\n",
       "      <th>compound</th>\n",
       "      <th>neg</th>\n",
       "      <th>neu</th>\n",
       "      <th>pos</th>\n",
       "    </tr>\n",
       "  </thead>\n",
       "  <tbody>\n",
       "    <tr>\n",
       "      <th>0</th>\n",
       "      <td>0.0000</td>\n",
       "      <td>0.0</td>\n",
       "      <td>1.000</td>\n",
       "      <td>0.000</td>\n",
       "    </tr>\n",
       "    <tr>\n",
       "      <th>1</th>\n",
       "      <td>0.6369</td>\n",
       "      <td>0.0</td>\n",
       "      <td>0.724</td>\n",
       "      <td>0.276</td>\n",
       "    </tr>\n",
       "    <tr>\n",
       "      <th>2</th>\n",
       "      <td>0.2263</td>\n",
       "      <td>0.0</td>\n",
       "      <td>0.787</td>\n",
       "      <td>0.213</td>\n",
       "    </tr>\n",
       "    <tr>\n",
       "      <th>3</th>\n",
       "      <td>0.0000</td>\n",
       "      <td>0.0</td>\n",
       "      <td>1.000</td>\n",
       "      <td>0.000</td>\n",
       "    </tr>\n",
       "    <tr>\n",
       "      <th>4</th>\n",
       "      <td>0.3182</td>\n",
       "      <td>0.0</td>\n",
       "      <td>0.867</td>\n",
       "      <td>0.133</td>\n",
       "    </tr>\n",
       "  </tbody>\n",
       "</table>\n",
       "</div>"
      ],
      "text/plain": [
       "   compound  neg    neu    pos\n",
       "0    0.0000  0.0  1.000  0.000\n",
       "1    0.6369  0.0  0.724  0.276\n",
       "2    0.2263  0.0  0.787  0.213\n",
       "3    0.0000  0.0  1.000  0.000\n",
       "4    0.3182  0.0  0.867  0.133"
      ]
     },
     "execution_count": 41,
     "metadata": {},
     "output_type": "execute_result"
    }
   ],
   "source": [
    "onion_sentiments.head()"
   ]
  },
  {
   "cell_type": "markdown",
   "metadata": {},
   "source": [
    "### Predict subjectivity score\n",
    "\n",
    "A sentence can be **objective** (has no opinion: \"I ordered the onion soup\"), or **subjective** (has opinion: \"The onion soup was great\"). I want to predict the ratings of menu items using only the subjective reviews. "
   ]
  },
  {
   "cell_type": "code",
   "execution_count": 109,
   "metadata": {},
   "outputs": [],
   "source": [
    "# TODO"
   ]
  },
  {
   "cell_type": "markdown",
   "metadata": {},
   "source": [
    "### Predictions without dropping `compound=0`"
   ]
  },
  {
   "cell_type": "code",
   "execution_count": 64,
   "metadata": {},
   "outputs": [],
   "source": [
    "food_sentiments = {}\n",
    "\n",
    "for food_id, chunks in food_chunks2.items():\n",
    "    # Run sentiment analyzer if item has chunks, otherwise default to 0\n",
    "    if len(chunks) > 0:\n",
    "        food_sentiments[food_id] = get_sentiments(chunks)['compound'].mean()\n",
    "    else:\n",
    "        food_sentiments[food_id] = np.nan"
   ]
  },
  {
   "cell_type": "markdown",
   "metadata": {},
   "source": [
    "### Convert Sentiment Score to Stars\n",
    "\n",
    "Transform continuous `[-1.0, 1.0]` range to discrete `[1, 5]`  \n",
    "Metric: RMSE of `stars` and `mean_compound`."
   ]
  },
  {
   "cell_type": "code",
   "execution_count": 65,
   "metadata": {},
   "outputs": [],
   "source": [
    "def transform_to_stars(n, lower = -1, upper = 1):\n",
    "    '''\n",
    "    Transform n to a discrete value between 1 to 5, inclusive.\n",
    "    lower and upper set the bounds of n.\n",
    "    '''\n",
    "    if n < lower or n > upper:\n",
    "        print(f'OutOfRangeError: Set n between [{lower},{upper}]')\n",
    "        return None\n",
    "    \n",
    "    interval = np.round((upper - lower) / 9, 2)\n",
    "    bins = [np.round(lower + i*interval, 2) for i in range(0,10)]\n",
    "#     print(interval)\n",
    "#     print(bins)\n",
    "    \n",
    "    # one star is the lowest rating, can't get 0.5 star\n",
    "    n_categories = 9\n",
    "    \n",
    "    if n >= 0.5:\n",
    "        return 5.0\n",
    "    elif n >= 0.46:\n",
    "        return 4.5\n",
    "    elif n >= .42: \n",
    "        return 4.0\n",
    "    elif n >= .38:\n",
    "        return 3.5\n",
    "    elif n >= .32:\n",
    "        return 3.0\n",
    "    elif n >= .28:        \n",
    "        return 2.5\n",
    "    elif n >= .24:\n",
    "        return 2.0\n",
    "    elif n >= .20:\n",
    "        return 1.5\n",
    "    else: \n",
    "        return 1.0\n",
    "    \n",
    "    for i in range(2,11):\n",
    "        if bins[i-2] <= n <= bins[i-1]:\n",
    "#             print(i)\n",
    "            return i/2\n",
    "\n",
    "    if n >= bins[-1]:\n",
    "        return 5.0\n"
   ]
  },
  {
   "cell_type": "code",
   "execution_count": 66,
   "metadata": {},
   "outputs": [],
   "source": [
    "def rescale_to_stars(scores, lower = -1, upper = 1):\n",
    "    '''\n",
    "    Rescale list of values to discrete values between 1 to 5, inclusive.\n",
    "\n",
    "    Distributes the 5-star system to a uniform distribution of the input range.\n",
    "    '''    \n",
    "    interval = np.round((upper - lower) / 5, 2)\n",
    "    bins = [np.round(lower + i*interval, 2) for i in range(0, 6)]\n",
    "\n",
    "    return list(pd.cut(scores, bins = bins, labels = np.arange(1, 6, 1), include_lowest = True))\n"
   ]
  },
  {
   "cell_type": "markdown",
   "metadata": {},
   "source": [
    "### Determine the overall sentiment score of each menu item"
   ]
  },
  {
   "cell_type": "code",
   "execution_count": 68,
   "metadata": {},
   "outputs": [
    {
     "data": {
      "text/html": [
       "<div>\n",
       "<style scoped>\n",
       "    .dataframe tbody tr th:only-of-type {\n",
       "        vertical-align: middle;\n",
       "    }\n",
       "\n",
       "    .dataframe tbody tr th {\n",
       "        vertical-align: top;\n",
       "    }\n",
       "\n",
       "    .dataframe thead th {\n",
       "        text-align: right;\n",
       "    }\n",
       "</style>\n",
       "<table border=\"1\" class=\"dataframe\">\n",
       "  <thead>\n",
       "    <tr style=\"text-align: right;\">\n",
       "      <th></th>\n",
       "      <th>food_id</th>\n",
       "      <th>sentiment_score</th>\n",
       "    </tr>\n",
       "  </thead>\n",
       "  <tbody>\n",
       "    <tr>\n",
       "      <th>0</th>\n",
       "      <td>onion_soup_au_gratin</td>\n",
       "      <td>0.271198</td>\n",
       "    </tr>\n",
       "    <tr>\n",
       "      <th>1</th>\n",
       "      <td>steamed_artichoke</td>\n",
       "      <td>0.252537</td>\n",
       "    </tr>\n",
       "    <tr>\n",
       "      <th>2</th>\n",
       "      <td>smoked_salmon</td>\n",
       "      <td>0.244316</td>\n",
       "    </tr>\n",
       "    <tr>\n",
       "      <th>3</th>\n",
       "      <td>baked_goat_cheese</td>\n",
       "      <td>0.280490</td>\n",
       "    </tr>\n",
       "    <tr>\n",
       "      <th>4</th>\n",
       "      <td>duck_confit</td>\n",
       "      <td>0.283373</td>\n",
       "    </tr>\n",
       "  </tbody>\n",
       "</table>\n",
       "</div>"
      ],
      "text/plain": [
       "                food_id  sentiment_score\n",
       "0  onion_soup_au_gratin         0.271198\n",
       "1     steamed_artichoke         0.252537\n",
       "2         smoked_salmon         0.244316\n",
       "3     baked_goat_cheese         0.280490\n",
       "4           duck_confit         0.283373"
      ]
     },
     "execution_count": 68,
     "metadata": {},
     "output_type": "execute_result"
    }
   ],
   "source": [
    "sentiment_df = pd.DataFrame(list(zip(food_sentiments.keys(), food_sentiments.values())), columns = ['food_id', 'sentiment_score'])\n",
    "sentiment_df.head()"
   ]
  },
  {
   "cell_type": "code",
   "execution_count": 69,
   "metadata": {},
   "outputs": [],
   "source": [
    "sentiment_df['stars_pred'] = sentiment_df['sentiment_score'].apply(lambda score : transform_to_stars(score))\n",
    "sentiment_df['mentions'] = sentiment_df['food_id'].apply(lambda food_id : len(food_chunks[food_id]))"
   ]
  },
  {
   "cell_type": "code",
   "execution_count": 73,
   "metadata": {},
   "outputs": [
    {
     "data": {
      "text/html": [
       "<div>\n",
       "<style scoped>\n",
       "    .dataframe tbody tr th:only-of-type {\n",
       "        vertical-align: middle;\n",
       "    }\n",
       "\n",
       "    .dataframe tbody tr th {\n",
       "        vertical-align: top;\n",
       "    }\n",
       "\n",
       "    .dataframe thead th {\n",
       "        text-align: right;\n",
       "    }\n",
       "</style>\n",
       "<table border=\"1\" class=\"dataframe\">\n",
       "  <thead>\n",
       "    <tr style=\"text-align: right;\">\n",
       "      <th></th>\n",
       "      <th>food_id</th>\n",
       "      <th>sentiment_score</th>\n",
       "      <th>stars_pred</th>\n",
       "      <th>mentions</th>\n",
       "    </tr>\n",
       "  </thead>\n",
       "  <tbody>\n",
       "    <tr>\n",
       "      <th>0</th>\n",
       "      <td>onion_soup_au_gratin</td>\n",
       "      <td>0.271198</td>\n",
       "      <td>2.0</td>\n",
       "      <td>987</td>\n",
       "    </tr>\n",
       "    <tr>\n",
       "      <th>1</th>\n",
       "      <td>steamed_artichoke</td>\n",
       "      <td>0.252537</td>\n",
       "      <td>2.0</td>\n",
       "      <td>8</td>\n",
       "    </tr>\n",
       "    <tr>\n",
       "      <th>2</th>\n",
       "      <td>smoked_salmon</td>\n",
       "      <td>0.244316</td>\n",
       "      <td>2.0</td>\n",
       "      <td>181</td>\n",
       "    </tr>\n",
       "    <tr>\n",
       "      <th>3</th>\n",
       "      <td>baked_goat_cheese</td>\n",
       "      <td>0.280490</td>\n",
       "      <td>2.5</td>\n",
       "      <td>324</td>\n",
       "    </tr>\n",
       "    <tr>\n",
       "      <th>4</th>\n",
       "      <td>duck_confit</td>\n",
       "      <td>0.283373</td>\n",
       "      <td>2.5</td>\n",
       "      <td>76</td>\n",
       "    </tr>\n",
       "  </tbody>\n",
       "</table>\n",
       "</div>"
      ],
      "text/plain": [
       "                food_id  sentiment_score  stars_pred  mentions\n",
       "0  onion_soup_au_gratin         0.271198         2.0       987\n",
       "1     steamed_artichoke         0.252537         2.0         8\n",
       "2         smoked_salmon         0.244316         2.0       181\n",
       "3     baked_goat_cheese         0.280490         2.5       324\n",
       "4           duck_confit         0.283373         2.5        76"
      ]
     },
     "execution_count": 73,
     "metadata": {},
     "output_type": "execute_result"
    }
   ],
   "source": [
    "sentiment_df.head()"
   ]
  },
  {
   "cell_type": "markdown",
   "metadata": {},
   "source": [
    "### Menu items that were never mentioned"
   ]
  },
  {
   "cell_type": "code",
   "execution_count": 74,
   "metadata": {},
   "outputs": [
    {
     "data": {
      "text/html": [
       "<div>\n",
       "<style scoped>\n",
       "    .dataframe tbody tr th:only-of-type {\n",
       "        vertical-align: middle;\n",
       "    }\n",
       "\n",
       "    .dataframe tbody tr th {\n",
       "        vertical-align: top;\n",
       "    }\n",
       "\n",
       "    .dataframe thead th {\n",
       "        text-align: right;\n",
       "    }\n",
       "</style>\n",
       "<table border=\"1\" class=\"dataframe\">\n",
       "  <thead>\n",
       "    <tr style=\"text-align: right;\">\n",
       "      <th></th>\n",
       "      <th>food_id</th>\n",
       "      <th>sentiment_score</th>\n",
       "      <th>stars_pred</th>\n",
       "      <th>mentions</th>\n",
       "    </tr>\n",
       "  </thead>\n",
       "  <tbody>\n",
       "    <tr>\n",
       "      <th>20</th>\n",
       "      <td>root_vegetable_salad</td>\n",
       "      <td>NaN</td>\n",
       "      <td>1.0</td>\n",
       "      <td>0</td>\n",
       "    </tr>\n",
       "    <tr>\n",
       "      <th>33</th>\n",
       "      <td>tournedos_of_beef</td>\n",
       "      <td>NaN</td>\n",
       "      <td>1.0</td>\n",
       "      <td>0</td>\n",
       "    </tr>\n",
       "    <tr>\n",
       "      <th>46</th>\n",
       "      <td>sauteed_mushrooms</td>\n",
       "      <td>NaN</td>\n",
       "      <td>1.0</td>\n",
       "      <td>0</td>\n",
       "    </tr>\n",
       "    <tr>\n",
       "      <th>51</th>\n",
       "      <td>artichoke_and_spinach_benedict</td>\n",
       "      <td>NaN</td>\n",
       "      <td>1.0</td>\n",
       "      <td>0</td>\n",
       "    </tr>\n",
       "    <tr>\n",
       "      <th>52</th>\n",
       "      <td>salmon_and_hash_brown_benedict</td>\n",
       "      <td>NaN</td>\n",
       "      <td>1.0</td>\n",
       "      <td>0</td>\n",
       "    </tr>\n",
       "    <tr>\n",
       "      <th>66</th>\n",
       "      <td>applewood_smoked_bacon</td>\n",
       "      <td>NaN</td>\n",
       "      <td>1.0</td>\n",
       "      <td>0</td>\n",
       "    </tr>\n",
       "    <tr>\n",
       "      <th>67</th>\n",
       "      <td>sauteed_trout</td>\n",
       "      <td>NaN</td>\n",
       "      <td>1.0</td>\n",
       "      <td>0</td>\n",
       "    </tr>\n",
       "  </tbody>\n",
       "</table>\n",
       "</div>"
      ],
      "text/plain": [
       "                           food_id  sentiment_score  stars_pred  mentions\n",
       "20            root_vegetable_salad              NaN         1.0         0\n",
       "33               tournedos_of_beef              NaN         1.0         0\n",
       "46               sauteed_mushrooms              NaN         1.0         0\n",
       "51  artichoke_and_spinach_benedict              NaN         1.0         0\n",
       "52  salmon_and_hash_brown_benedict              NaN         1.0         0\n",
       "66          applewood_smoked_bacon              NaN         1.0         0\n",
       "67                   sauteed_trout              NaN         1.0         0"
      ]
     },
     "execution_count": 74,
     "metadata": {},
     "output_type": "execute_result"
    }
   ],
   "source": [
    "sentiment_df[sentiment_df['mentions']==0]"
   ]
  },
  {
   "cell_type": "markdown",
   "metadata": {},
   "source": [
    "### Distribution of sentiments"
   ]
  },
  {
   "cell_type": "code",
   "execution_count": 75,
   "metadata": {},
   "outputs": [
    {
     "data": {
      "image/png": "[encoded data removed]",
      "text/plain": [
       "<Figure size 432x288 with 1 Axes>"
      ]
     },
     "metadata": {
      "needs_background": "light"
     },
     "output_type": "display_data"
    }
   ],
   "source": [
    "plt.title('Distribution of sentiment scores')\n",
    "plt.xlabel('Sentiment Score')\n",
    "plt.hist(sentiment_df['sentiment_score'].dropna(), bins = 30);\n"
   ]
  },
  {
   "cell_type": "markdown",
   "metadata": {},
   "source": [
    "## Recommendations"
   ]
  },
  {
   "cell_type": "markdown",
   "metadata": {},
   "source": [
    "### Show the best dishes"
   ]
  },
  {
   "cell_type": "code",
   "execution_count": 76,
   "metadata": {
    "scrolled": true
   },
   "outputs": [
    {
     "data": {
      "text/html": [
       "<div>\n",
       "<style scoped>\n",
       "    .dataframe tbody tr th:only-of-type {\n",
       "        vertical-align: middle;\n",
       "    }\n",
       "\n",
       "    .dataframe tbody tr th {\n",
       "        vertical-align: top;\n",
       "    }\n",
       "\n",
       "    .dataframe thead th {\n",
       "        text-align: right;\n",
       "    }\n",
       "</style>\n",
       "<table border=\"1\" class=\"dataframe\">\n",
       "  <thead>\n",
       "    <tr style=\"text-align: right;\">\n",
       "      <th></th>\n",
       "      <th>food_id</th>\n",
       "      <th>sentiment_score</th>\n",
       "      <th>stars_pred</th>\n",
       "      <th>mentions</th>\n",
       "    </tr>\n",
       "  </thead>\n",
       "  <tbody>\n",
       "    <tr>\n",
       "      <th>15</th>\n",
       "      <td>plats_du_jour</td>\n",
       "      <td>0.636900</td>\n",
       "      <td>5.0</td>\n",
       "      <td>1</td>\n",
       "    </tr>\n",
       "    <tr>\n",
       "      <th>65</th>\n",
       "      <td>gluten_free_toast</td>\n",
       "      <td>0.503800</td>\n",
       "      <td>5.0</td>\n",
       "      <td>7</td>\n",
       "    </tr>\n",
       "    <tr>\n",
       "      <th>54</th>\n",
       "      <td>avocado_toast</td>\n",
       "      <td>0.484000</td>\n",
       "      <td>4.5</td>\n",
       "      <td>3</td>\n",
       "    </tr>\n",
       "    <tr>\n",
       "      <th>70</th>\n",
       "      <td>chocolate_mousse</td>\n",
       "      <td>0.360858</td>\n",
       "      <td>3.0</td>\n",
       "      <td>80</td>\n",
       "    </tr>\n",
       "    <tr>\n",
       "      <th>9</th>\n",
       "      <td>spicy_salmon_tartare</td>\n",
       "      <td>0.346709</td>\n",
       "      <td>3.0</td>\n",
       "      <td>33</td>\n",
       "    </tr>\n",
       "    <tr>\n",
       "      <th>47</th>\n",
       "      <td>macaroni_gratin</td>\n",
       "      <td>0.306911</td>\n",
       "      <td>2.5</td>\n",
       "      <td>64</td>\n",
       "    </tr>\n",
       "    <tr>\n",
       "      <th>6</th>\n",
       "      <td>chicken_liver_mousse_pate</td>\n",
       "      <td>0.291230</td>\n",
       "      <td>2.5</td>\n",
       "      <td>114</td>\n",
       "    </tr>\n",
       "    <tr>\n",
       "      <th>4</th>\n",
       "      <td>duck_confit</td>\n",
       "      <td>0.283373</td>\n",
       "      <td>2.5</td>\n",
       "      <td>76</td>\n",
       "    </tr>\n",
       "    <tr>\n",
       "      <th>3</th>\n",
       "      <td>baked_goat_cheese</td>\n",
       "      <td>0.280490</td>\n",
       "      <td>2.5</td>\n",
       "      <td>324</td>\n",
       "    </tr>\n",
       "    <tr>\n",
       "      <th>57</th>\n",
       "      <td>cubano</td>\n",
       "      <td>0.278860</td>\n",
       "      <td>2.0</td>\n",
       "      <td>15</td>\n",
       "    </tr>\n",
       "  </tbody>\n",
       "</table>\n",
       "</div>"
      ],
      "text/plain": [
       "                      food_id  sentiment_score  stars_pred  mentions\n",
       "15              plats_du_jour         0.636900         5.0         1\n",
       "65          gluten_free_toast         0.503800         5.0         7\n",
       "54              avocado_toast         0.484000         4.5         3\n",
       "70           chocolate_mousse         0.360858         3.0        80\n",
       "9        spicy_salmon_tartare         0.346709         3.0        33\n",
       "47            macaroni_gratin         0.306911         2.5        64\n",
       "6   chicken_liver_mousse_pate         0.291230         2.5       114\n",
       "4                 duck_confit         0.283373         2.5        76\n",
       "3           baked_goat_cheese         0.280490         2.5       324\n",
       "57                     cubano         0.278860         2.0        15"
      ]
     },
     "execution_count": 76,
     "metadata": {},
     "output_type": "execute_result"
    }
   ],
   "source": [
    "sentiment_df.nlargest(10, 'sentiment_score')\n"
   ]
  },
  {
   "cell_type": "markdown",
   "metadata": {},
   "source": [
    "Looks like dishes with few mentions have an unfair advantage. Let's try ranking foods with more than few mentions. Note that the stars prediction is oversimplified and can be designed/tweaked. "
   ]
  },
  {
   "cell_type": "code",
   "execution_count": 126,
   "metadata": {},
   "outputs": [
    {
     "data": {
      "text/html": [
       "<div>\n",
       "<style scoped>\n",
       "    .dataframe tbody tr th:only-of-type {\n",
       "        vertical-align: middle;\n",
       "    }\n",
       "\n",
       "    .dataframe tbody tr th {\n",
       "        vertical-align: top;\n",
       "    }\n",
       "\n",
       "    .dataframe thead th {\n",
       "        text-align: right;\n",
       "    }\n",
       "</style>\n",
       "<table border=\"1\" class=\"dataframe\">\n",
       "  <thead>\n",
       "    <tr style=\"text-align: right;\">\n",
       "      <th></th>\n",
       "      <th>food_id</th>\n",
       "      <th>sentiment_score</th>\n",
       "      <th>stars_pred</th>\n",
       "      <th>mentions</th>\n",
       "    </tr>\n",
       "  </thead>\n",
       "  <tbody>\n",
       "    <tr>\n",
       "      <th>70</th>\n",
       "      <td>chocolate_mousse</td>\n",
       "      <td>0.360858</td>\n",
       "      <td>3.0</td>\n",
       "      <td>80</td>\n",
       "    </tr>\n",
       "    <tr>\n",
       "      <th>9</th>\n",
       "      <td>spicy_salmon_tartare</td>\n",
       "      <td>0.346709</td>\n",
       "      <td>3.0</td>\n",
       "      <td>33</td>\n",
       "    </tr>\n",
       "    <tr>\n",
       "      <th>47</th>\n",
       "      <td>macaroni_gratin</td>\n",
       "      <td>0.306911</td>\n",
       "      <td>2.5</td>\n",
       "      <td>64</td>\n",
       "    </tr>\n",
       "    <tr>\n",
       "      <th>6</th>\n",
       "      <td>chicken_liver_mousse_pate</td>\n",
       "      <td>0.291230</td>\n",
       "      <td>2.5</td>\n",
       "      <td>114</td>\n",
       "    </tr>\n",
       "    <tr>\n",
       "      <th>4</th>\n",
       "      <td>duck_confit</td>\n",
       "      <td>0.283373</td>\n",
       "      <td>2.5</td>\n",
       "      <td>76</td>\n",
       "    </tr>\n",
       "    <tr>\n",
       "      <th>3</th>\n",
       "      <td>baked_goat_cheese</td>\n",
       "      <td>0.280490</td>\n",
       "      <td>2.5</td>\n",
       "      <td>324</td>\n",
       "    </tr>\n",
       "    <tr>\n",
       "      <th>57</th>\n",
       "      <td>cubano</td>\n",
       "      <td>0.278860</td>\n",
       "      <td>2.0</td>\n",
       "      <td>15</td>\n",
       "    </tr>\n",
       "    <tr>\n",
       "      <th>50</th>\n",
       "      <td>classic_eggs_benedict</td>\n",
       "      <td>0.273474</td>\n",
       "      <td>2.0</td>\n",
       "      <td>538</td>\n",
       "    </tr>\n",
       "    <tr>\n",
       "      <th>0</th>\n",
       "      <td>onion_soup_au_gratin</td>\n",
       "      <td>0.271198</td>\n",
       "      <td>2.0</td>\n",
       "      <td>987</td>\n",
       "    </tr>\n",
       "    <tr>\n",
       "      <th>73</th>\n",
       "      <td>gala_apple_tarte_tatin</td>\n",
       "      <td>0.268800</td>\n",
       "      <td>2.0</td>\n",
       "      <td>17</td>\n",
       "    </tr>\n",
       "  </tbody>\n",
       "</table>\n",
       "</div>"
      ],
      "text/plain": [
       "                      food_id  sentiment_score  stars_pred  mentions\n",
       "70           chocolate_mousse         0.360858         3.0        80\n",
       "9        spicy_salmon_tartare         0.346709         3.0        33\n",
       "47            macaroni_gratin         0.306911         2.5        64\n",
       "6   chicken_liver_mousse_pate         0.291230         2.5       114\n",
       "4                 duck_confit         0.283373         2.5        76\n",
       "3           baked_goat_cheese         0.280490         2.5       324\n",
       "57                     cubano         0.278860         2.0        15\n",
       "50      classic_eggs_benedict         0.273474         2.0       538\n",
       "0        onion_soup_au_gratin         0.271198         2.0       987\n",
       "73     gala_apple_tarte_tatin         0.268800         2.0        17"
      ]
     },
     "execution_count": 126,
     "metadata": {},
     "output_type": "execute_result"
    }
   ],
   "source": [
    "sentiment_df[sentiment_df['mentions'] >= 10].nlargest(10, ['sentiment_score'])"
   ]
  },
  {
   "cell_type": "markdown",
   "metadata": {},
   "source": [
    "Dishes that are rarely mentioned "
   ]
  },
  {
   "cell_type": "code",
   "execution_count": 127,
   "metadata": {},
   "outputs": [
    {
     "data": {
      "text/html": [
       "<div>\n",
       "<style scoped>\n",
       "    .dataframe tbody tr th:only-of-type {\n",
       "        vertical-align: middle;\n",
       "    }\n",
       "\n",
       "    .dataframe tbody tr th {\n",
       "        vertical-align: top;\n",
       "    }\n",
       "\n",
       "    .dataframe thead th {\n",
       "        text-align: right;\n",
       "    }\n",
       "</style>\n",
       "<table border=\"1\" class=\"dataframe\">\n",
       "  <thead>\n",
       "    <tr style=\"text-align: right;\">\n",
       "      <th></th>\n",
       "      <th>food_id</th>\n",
       "      <th>sentiment_score</th>\n",
       "      <th>stars_pred</th>\n",
       "      <th>mentions</th>\n",
       "    </tr>\n",
       "  </thead>\n",
       "  <tbody>\n",
       "    <tr>\n",
       "      <th>20</th>\n",
       "      <td>root_vegetable_salad</td>\n",
       "      <td>NaN</td>\n",
       "      <td>1.0</td>\n",
       "      <td>0</td>\n",
       "    </tr>\n",
       "    <tr>\n",
       "      <th>33</th>\n",
       "      <td>tournedos_of_beef</td>\n",
       "      <td>NaN</td>\n",
       "      <td>1.0</td>\n",
       "      <td>0</td>\n",
       "    </tr>\n",
       "    <tr>\n",
       "      <th>46</th>\n",
       "      <td>sauteed_mushrooms</td>\n",
       "      <td>NaN</td>\n",
       "      <td>1.0</td>\n",
       "      <td>0</td>\n",
       "    </tr>\n",
       "    <tr>\n",
       "      <th>51</th>\n",
       "      <td>artichoke_and_spinach_benedict</td>\n",
       "      <td>NaN</td>\n",
       "      <td>1.0</td>\n",
       "      <td>0</td>\n",
       "    </tr>\n",
       "    <tr>\n",
       "      <th>52</th>\n",
       "      <td>salmon_and_hash_brown_benedict</td>\n",
       "      <td>NaN</td>\n",
       "      <td>1.0</td>\n",
       "      <td>0</td>\n",
       "    </tr>\n",
       "    <tr>\n",
       "      <th>66</th>\n",
       "      <td>applewood_smoked_bacon</td>\n",
       "      <td>NaN</td>\n",
       "      <td>1.0</td>\n",
       "      <td>0</td>\n",
       "    </tr>\n",
       "    <tr>\n",
       "      <th>67</th>\n",
       "      <td>sauteed_trout</td>\n",
       "      <td>NaN</td>\n",
       "      <td>1.0</td>\n",
       "      <td>0</td>\n",
       "    </tr>\n",
       "    <tr>\n",
       "      <th>15</th>\n",
       "      <td>plats_du_jour</td>\n",
       "      <td>0.6369</td>\n",
       "      <td>5.0</td>\n",
       "      <td>1</td>\n",
       "    </tr>\n",
       "    <tr>\n",
       "      <th>16</th>\n",
       "      <td>poisson_du_jour</td>\n",
       "      <td>0.0000</td>\n",
       "      <td>1.0</td>\n",
       "      <td>2</td>\n",
       "    </tr>\n",
       "    <tr>\n",
       "      <th>38</th>\n",
       "      <td>casareccia_pasta</td>\n",
       "      <td>-0.1480</td>\n",
       "      <td>1.0</td>\n",
       "      <td>2</td>\n",
       "    </tr>\n",
       "  </tbody>\n",
       "</table>\n",
       "</div>"
      ],
      "text/plain": [
       "                           food_id  sentiment_score  stars_pred  mentions\n",
       "20            root_vegetable_salad              NaN         1.0         0\n",
       "33               tournedos_of_beef              NaN         1.0         0\n",
       "46               sauteed_mushrooms              NaN         1.0         0\n",
       "51  artichoke_and_spinach_benedict              NaN         1.0         0\n",
       "52  salmon_and_hash_brown_benedict              NaN         1.0         0\n",
       "66          applewood_smoked_bacon              NaN         1.0         0\n",
       "67                   sauteed_trout              NaN         1.0         0\n",
       "15                   plats_du_jour           0.6369         5.0         1\n",
       "16                 poisson_du_jour           0.0000         1.0         2\n",
       "38                casareccia_pasta          -0.1480         1.0         2"
      ]
     },
     "execution_count": 127,
     "metadata": {},
     "output_type": "execute_result"
    }
   ],
   "source": [
    "sentiment_df[sentiment_df['mentions'] <= 10].nsmallest(10, ['mentions'])"
   ]
  },
  {
   "cell_type": "markdown",
   "metadata": {},
   "source": [
    "### Show the worst dishes"
   ]
  },
  {
   "cell_type": "code",
   "execution_count": 79,
   "metadata": {
    "scrolled": false
   },
   "outputs": [
    {
     "data": {
      "text/html": [
       "<div>\n",
       "<style scoped>\n",
       "    .dataframe tbody tr th:only-of-type {\n",
       "        vertical-align: middle;\n",
       "    }\n",
       "\n",
       "    .dataframe tbody tr th {\n",
       "        vertical-align: top;\n",
       "    }\n",
       "\n",
       "    .dataframe thead th {\n",
       "        text-align: right;\n",
       "    }\n",
       "</style>\n",
       "<table border=\"1\" class=\"dataframe\">\n",
       "  <thead>\n",
       "    <tr style=\"text-align: right;\">\n",
       "      <th></th>\n",
       "      <th>food_id</th>\n",
       "      <th>sentiment_score</th>\n",
       "      <th>stars_pred</th>\n",
       "      <th>mentions</th>\n",
       "    </tr>\n",
       "  </thead>\n",
       "  <tbody>\n",
       "    <tr>\n",
       "      <th>20</th>\n",
       "      <td>root_vegetable_salad</td>\n",
       "      <td>NaN</td>\n",
       "      <td>1.0</td>\n",
       "      <td>0</td>\n",
       "    </tr>\n",
       "    <tr>\n",
       "      <th>33</th>\n",
       "      <td>tournedos_of_beef</td>\n",
       "      <td>NaN</td>\n",
       "      <td>1.0</td>\n",
       "      <td>0</td>\n",
       "    </tr>\n",
       "    <tr>\n",
       "      <th>46</th>\n",
       "      <td>sauteed_mushrooms</td>\n",
       "      <td>NaN</td>\n",
       "      <td>1.0</td>\n",
       "      <td>0</td>\n",
       "    </tr>\n",
       "    <tr>\n",
       "      <th>51</th>\n",
       "      <td>artichoke_and_spinach_benedict</td>\n",
       "      <td>NaN</td>\n",
       "      <td>1.0</td>\n",
       "      <td>0</td>\n",
       "    </tr>\n",
       "    <tr>\n",
       "      <th>52</th>\n",
       "      <td>salmon_and_hash_brown_benedict</td>\n",
       "      <td>NaN</td>\n",
       "      <td>1.0</td>\n",
       "      <td>0</td>\n",
       "    </tr>\n",
       "    <tr>\n",
       "      <th>66</th>\n",
       "      <td>applewood_smoked_bacon</td>\n",
       "      <td>NaN</td>\n",
       "      <td>1.0</td>\n",
       "      <td>0</td>\n",
       "    </tr>\n",
       "    <tr>\n",
       "      <th>67</th>\n",
       "      <td>sauteed_trout</td>\n",
       "      <td>NaN</td>\n",
       "      <td>1.0</td>\n",
       "      <td>0</td>\n",
       "    </tr>\n",
       "    <tr>\n",
       "      <th>16</th>\n",
       "      <td>poisson_du_jour</td>\n",
       "      <td>0.00000</td>\n",
       "      <td>1.0</td>\n",
       "      <td>2</td>\n",
       "    </tr>\n",
       "    <tr>\n",
       "      <th>38</th>\n",
       "      <td>casareccia_pasta</td>\n",
       "      <td>-0.14800</td>\n",
       "      <td>1.0</td>\n",
       "      <td>2</td>\n",
       "    </tr>\n",
       "    <tr>\n",
       "      <th>59</th>\n",
       "      <td>banana_foster_waffle</td>\n",
       "      <td>-0.08808</td>\n",
       "      <td>1.0</td>\n",
       "      <td>5</td>\n",
       "    </tr>\n",
       "  </tbody>\n",
       "</table>\n",
       "</div>"
      ],
      "text/plain": [
       "                           food_id  sentiment_score  stars_pred  mentions\n",
       "20            root_vegetable_salad              NaN         1.0         0\n",
       "33               tournedos_of_beef              NaN         1.0         0\n",
       "46               sauteed_mushrooms              NaN         1.0         0\n",
       "51  artichoke_and_spinach_benedict              NaN         1.0         0\n",
       "52  salmon_and_hash_brown_benedict              NaN         1.0         0\n",
       "66          applewood_smoked_bacon              NaN         1.0         0\n",
       "67                   sauteed_trout              NaN         1.0         0\n",
       "16                 poisson_du_jour          0.00000         1.0         2\n",
       "38                casareccia_pasta         -0.14800         1.0         2\n",
       "59            banana_foster_waffle         -0.08808         1.0         5"
      ]
     },
     "execution_count": 79,
     "metadata": {},
     "output_type": "execute_result"
    }
   ],
   "source": [
    "sentiment_df.nsmallest(10, ['stars_pred', 'mentions'])"
   ]
  },
  {
   "cell_type": "markdown",
   "metadata": {},
   "source": [
    "Now only using dishes with more than 100 mentions:"
   ]
  },
  {
   "cell_type": "code",
   "execution_count": 80,
   "metadata": {},
   "outputs": [
    {
     "data": {
      "text/html": [
       "<div>\n",
       "<style scoped>\n",
       "    .dataframe tbody tr th:only-of-type {\n",
       "        vertical-align: middle;\n",
       "    }\n",
       "\n",
       "    .dataframe tbody tr th {\n",
       "        vertical-align: top;\n",
       "    }\n",
       "\n",
       "    .dataframe thead th {\n",
       "        text-align: right;\n",
       "    }\n",
       "</style>\n",
       "<table border=\"1\" class=\"dataframe\">\n",
       "  <thead>\n",
       "    <tr style=\"text-align: right;\">\n",
       "      <th></th>\n",
       "      <th>food_id</th>\n",
       "      <th>sentiment_score</th>\n",
       "      <th>stars_pred</th>\n",
       "      <th>mentions</th>\n",
       "    </tr>\n",
       "  </thead>\n",
       "  <tbody>\n",
       "    <tr>\n",
       "      <th>74</th>\n",
       "      <td>maple_bread_pudding</td>\n",
       "      <td>0.209417</td>\n",
       "      <td>1.5</td>\n",
       "      <td>111</td>\n",
       "    </tr>\n",
       "    <tr>\n",
       "      <th>8</th>\n",
       "      <td>chilled_seafood_platter</td>\n",
       "      <td>0.235148</td>\n",
       "      <td>1.5</td>\n",
       "      <td>118</td>\n",
       "    </tr>\n",
       "    <tr>\n",
       "      <th>71</th>\n",
       "      <td>vanilla_bean_creme_brulee</td>\n",
       "      <td>0.198299</td>\n",
       "      <td>1.0</td>\n",
       "      <td>127</td>\n",
       "    </tr>\n",
       "    <tr>\n",
       "      <th>56</th>\n",
       "      <td>prime_steak_sandwich</td>\n",
       "      <td>0.187556</td>\n",
       "      <td>1.0</td>\n",
       "      <td>139</td>\n",
       "    </tr>\n",
       "    <tr>\n",
       "      <th>58</th>\n",
       "      <td>waffle</td>\n",
       "      <td>0.178049</td>\n",
       "      <td>1.0</td>\n",
       "      <td>139</td>\n",
       "    </tr>\n",
       "    <tr>\n",
       "      <th>61</th>\n",
       "      <td>seafood_crepe</td>\n",
       "      <td>0.229868</td>\n",
       "      <td>1.5</td>\n",
       "      <td>139</td>\n",
       "    </tr>\n",
       "    <tr>\n",
       "      <th>29</th>\n",
       "      <td>hanger_steak</td>\n",
       "      <td>0.233625</td>\n",
       "      <td>1.5</td>\n",
       "      <td>147</td>\n",
       "    </tr>\n",
       "    <tr>\n",
       "      <th>68</th>\n",
       "      <td>hash_browns</td>\n",
       "      <td>0.228410</td>\n",
       "      <td>1.5</td>\n",
       "      <td>152</td>\n",
       "    </tr>\n",
       "    <tr>\n",
       "      <th>48</th>\n",
       "      <td>omelette</td>\n",
       "      <td>0.211049</td>\n",
       "      <td>1.5</td>\n",
       "      <td>162</td>\n",
       "    </tr>\n",
       "    <tr>\n",
       "      <th>22</th>\n",
       "      <td>au_poivre</td>\n",
       "      <td>0.161159</td>\n",
       "      <td>1.0</td>\n",
       "      <td>166</td>\n",
       "    </tr>\n",
       "  </tbody>\n",
       "</table>\n",
       "</div>"
      ],
      "text/plain": [
       "                      food_id  sentiment_score  stars_pred  mentions\n",
       "74        maple_bread_pudding         0.209417         1.5       111\n",
       "8     chilled_seafood_platter         0.235148         1.5       118\n",
       "71  vanilla_bean_creme_brulee         0.198299         1.0       127\n",
       "56       prime_steak_sandwich         0.187556         1.0       139\n",
       "58                     waffle         0.178049         1.0       139\n",
       "61              seafood_crepe         0.229868         1.5       139\n",
       "29               hanger_steak         0.233625         1.5       147\n",
       "68                hash_browns         0.228410         1.5       152\n",
       "48                   omelette         0.211049         1.5       162\n",
       "22                  au_poivre         0.161159         1.0       166"
      ]
     },
     "execution_count": 80,
     "metadata": {},
     "output_type": "execute_result"
    }
   ],
   "source": [
    "sentiment_df[sentiment_df['mentions'] >= 100].nsmallest(10, ['stars_pred', 'mentions'])"
   ]
  },
  {
   "cell_type": "code",
   "execution_count": 81,
   "metadata": {},
   "outputs": [],
   "source": [
    "sentiment_df.to_csv('../data/predictions/sentiment_df.csv')"
   ]
  },
  {
   "cell_type": "markdown",
   "metadata": {},
   "source": [
    "### Predictions after dropping `compound=0`\n",
    "I am treating chunks with `compound=0` as reviews with no opinion."
   ]
  },
  {
   "cell_type": "code",
   "execution_count": 82,
   "metadata": {},
   "outputs": [],
   "source": [
    "food_sentiments2 = {}\n",
    "\n",
    "for food_id, chunks in food_chunks2.items():\n",
    "    # Run sentiment analyzer if item has chunks, otherwise default to 0\n",
    "    if len(chunks) > 0:\n",
    "        sentiment_score = get_sentiments(chunks)['compound']\n",
    "        food_sentiments2[food_id] = sentiment_score[sentiment_score != 0].mean()\n",
    "    else:\n",
    "        food_sentiments2[food_id] = np.nan"
   ]
  },
  {
   "cell_type": "code",
   "execution_count": 83,
   "metadata": {},
   "outputs": [],
   "source": [
    "sentiment_df2 = pd.DataFrame(list(zip(food_sentiments2.keys(), food_sentiments2.values())), columns = ['food_id', 'sentiment_score'])\n"
   ]
  },
  {
   "cell_type": "code",
   "execution_count": 84,
   "metadata": {},
   "outputs": [],
   "source": [
    "sentiment_df2['stars_pred'] = sentiment_df2['sentiment_score'].apply(lambda score : transform_to_stars(score))\n",
    "sentiment_df2['mentions'] = sentiment_df2['food_id'].apply(lambda food_id : len(food_chunks[food_id]))"
   ]
  },
  {
   "cell_type": "code",
   "execution_count": 111,
   "metadata": {},
   "outputs": [],
   "source": [
    "sentiment_df2.to_csv('../data/predictions/sentiment_df_subjective.csv')"
   ]
  },
  {
   "cell_type": "markdown",
   "metadata": {},
   "source": [
    "#### With custom transformations"
   ]
  },
  {
   "cell_type": "code",
   "execution_count": 112,
   "metadata": {},
   "outputs": [],
   "source": [
    "sentiment_df3 = pd.DataFrame(list(zip(food_sentiments2.keys(), food_sentiments2.values())), columns = ['food_id', 'sentiment_score'])\n",
    "\n",
    "sentiment_df3['stars_pred'] = sentiment_df3['sentiment_score'].apply(lambda score : transform_to_stars(score))\n",
    "sentiment_df3['mentions'] = sentiment_df3['food_id'].apply(lambda food_id : len(food_chunks[food_id]))"
   ]
  },
  {
   "cell_type": "markdown",
   "metadata": {},
   "source": [
    "Best dishes with over 200 mentions"
   ]
  },
  {
   "cell_type": "code",
   "execution_count": 113,
   "metadata": {},
   "outputs": [
    {
     "data": {
      "text/html": [
       "<div>\n",
       "<style scoped>\n",
       "    .dataframe tbody tr th:only-of-type {\n",
       "        vertical-align: middle;\n",
       "    }\n",
       "\n",
       "    .dataframe tbody tr th {\n",
       "        vertical-align: top;\n",
       "    }\n",
       "\n",
       "    .dataframe thead th {\n",
       "        text-align: right;\n",
       "    }\n",
       "</style>\n",
       "<table border=\"1\" class=\"dataframe\">\n",
       "  <thead>\n",
       "    <tr style=\"text-align: right;\">\n",
       "      <th></th>\n",
       "      <th>food_id</th>\n",
       "      <th>sentiment_score</th>\n",
       "      <th>stars_pred</th>\n",
       "      <th>mentions</th>\n",
       "    </tr>\n",
       "  </thead>\n",
       "  <tbody>\n",
       "    <tr>\n",
       "      <th>36</th>\n",
       "      <td>salmon</td>\n",
       "      <td>0.473217</td>\n",
       "      <td>4.5</td>\n",
       "      <td>873</td>\n",
       "    </tr>\n",
       "    <tr>\n",
       "      <th>50</th>\n",
       "      <td>classic_eggs_benedict</td>\n",
       "      <td>0.473387</td>\n",
       "      <td>4.5</td>\n",
       "      <td>538</td>\n",
       "    </tr>\n",
       "    <tr>\n",
       "      <th>0</th>\n",
       "      <td>onion_soup_au_gratin</td>\n",
       "      <td>0.426657</td>\n",
       "      <td>4.0</td>\n",
       "      <td>987</td>\n",
       "    </tr>\n",
       "    <tr>\n",
       "      <th>12</th>\n",
       "      <td>scallops_gratinees</td>\n",
       "      <td>0.421878</td>\n",
       "      <td>4.0</td>\n",
       "      <td>637</td>\n",
       "    </tr>\n",
       "    <tr>\n",
       "      <th>30</th>\n",
       "      <td>filet_mignon</td>\n",
       "      <td>0.433164</td>\n",
       "      <td>4.0</td>\n",
       "      <td>550</td>\n",
       "    </tr>\n",
       "    <tr>\n",
       "      <th>53</th>\n",
       "      <td>french_toast</td>\n",
       "      <td>0.459178</td>\n",
       "      <td>4.0</td>\n",
       "      <td>360</td>\n",
       "    </tr>\n",
       "    <tr>\n",
       "      <th>3</th>\n",
       "      <td>baked_goat_cheese</td>\n",
       "      <td>0.455625</td>\n",
       "      <td>4.0</td>\n",
       "      <td>324</td>\n",
       "    </tr>\n",
       "    <tr>\n",
       "      <th>63</th>\n",
       "      <td>quiche</td>\n",
       "      <td>0.451370</td>\n",
       "      <td>4.0</td>\n",
       "      <td>293</td>\n",
       "    </tr>\n",
       "    <tr>\n",
       "      <th>26</th>\n",
       "      <td>prime_steak_frites</td>\n",
       "      <td>0.395956</td>\n",
       "      <td>3.5</td>\n",
       "      <td>532</td>\n",
       "    </tr>\n",
       "    <tr>\n",
       "      <th>13</th>\n",
       "      <td>mussels_mariniere</td>\n",
       "      <td>0.388301</td>\n",
       "      <td>3.5</td>\n",
       "      <td>435</td>\n",
       "    </tr>\n",
       "    <tr>\n",
       "      <th>41</th>\n",
       "      <td>frites</td>\n",
       "      <td>0.373482</td>\n",
       "      <td>3.0</td>\n",
       "      <td>2324</td>\n",
       "    </tr>\n",
       "  </tbody>\n",
       "</table>\n",
       "</div>"
      ],
      "text/plain": [
       "                  food_id  sentiment_score  stars_pred  mentions\n",
       "36                 salmon         0.473217         4.5       873\n",
       "50  classic_eggs_benedict         0.473387         4.5       538\n",
       "0    onion_soup_au_gratin         0.426657         4.0       987\n",
       "12     scallops_gratinees         0.421878         4.0       637\n",
       "30           filet_mignon         0.433164         4.0       550\n",
       "53           french_toast         0.459178         4.0       360\n",
       "3       baked_goat_cheese         0.455625         4.0       324\n",
       "63                 quiche         0.451370         4.0       293\n",
       "26     prime_steak_frites         0.395956         3.5       532\n",
       "13      mussels_mariniere         0.388301         3.5       435\n",
       "41                 frites         0.373482         3.0      2324"
      ]
     },
     "execution_count": 113,
     "metadata": {},
     "output_type": "execute_result"
    }
   ],
   "source": [
    "sentiment_df3[sentiment_df3['mentions'] > 200].sort_values(by = ['stars_pred', 'mentions'], ascending = [False, False])\n"
   ]
  },
  {
   "cell_type": "code",
   "execution_count": 87,
   "metadata": {},
   "outputs": [
    {
     "data": {
      "text/html": [
       "<div>\n",
       "<style scoped>\n",
       "    .dataframe tbody tr th:only-of-type {\n",
       "        vertical-align: middle;\n",
       "    }\n",
       "\n",
       "    .dataframe tbody tr th {\n",
       "        vertical-align: top;\n",
       "    }\n",
       "\n",
       "    .dataframe thead th {\n",
       "        text-align: right;\n",
       "    }\n",
       "</style>\n",
       "<table border=\"1\" class=\"dataframe\">\n",
       "  <thead>\n",
       "    <tr style=\"text-align: right;\">\n",
       "      <th></th>\n",
       "      <th>food_id</th>\n",
       "      <th>sentiment_score</th>\n",
       "      <th>stars_pred</th>\n",
       "      <th>mentions</th>\n",
       "    </tr>\n",
       "  </thead>\n",
       "  <tbody>\n",
       "    <tr>\n",
       "      <th>0</th>\n",
       "      <td>onion_soup_au_gratin</td>\n",
       "      <td>0.426657</td>\n",
       "      <td>4.0</td>\n",
       "      <td>987</td>\n",
       "    </tr>\n",
       "  </tbody>\n",
       "</table>\n",
       "</div>"
      ],
      "text/plain": [
       "                food_id  sentiment_score  stars_pred  mentions\n",
       "0  onion_soup_au_gratin         0.426657         4.0       987"
      ]
     },
     "execution_count": 87,
     "metadata": {},
     "output_type": "execute_result"
    }
   ],
   "source": [
    "sentiment_df3[sentiment_df3['food_id'] == 'onion_soup_au_gratin']"
   ]
  },
  {
   "cell_type": "markdown",
   "metadata": {},
   "source": [
    "Worst dishes with over 200 mentions"
   ]
  },
  {
   "cell_type": "code",
   "execution_count": 89,
   "metadata": {},
   "outputs": [
    {
     "data": {
      "text/html": [
       "<div>\n",
       "<style scoped>\n",
       "    .dataframe tbody tr th:only-of-type {\n",
       "        vertical-align: middle;\n",
       "    }\n",
       "\n",
       "    .dataframe tbody tr th {\n",
       "        vertical-align: top;\n",
       "    }\n",
       "\n",
       "    .dataframe thead th {\n",
       "        text-align: right;\n",
       "    }\n",
       "</style>\n",
       "<table border=\"1\" class=\"dataframe\">\n",
       "  <thead>\n",
       "    <tr style=\"text-align: right;\">\n",
       "      <th></th>\n",
       "      <th>food_id</th>\n",
       "      <th>sentiment_score</th>\n",
       "      <th>stars_pred</th>\n",
       "      <th>mentions</th>\n",
       "    </tr>\n",
       "  </thead>\n",
       "  <tbody>\n",
       "    <tr>\n",
       "      <th>65</th>\n",
       "      <td>gluten_free_toast</td>\n",
       "      <td>0.587767</td>\n",
       "      <td>5.0</td>\n",
       "      <td>7</td>\n",
       "    </tr>\n",
       "    <tr>\n",
       "      <th>15</th>\n",
       "      <td>plats_du_jour</td>\n",
       "      <td>0.636900</td>\n",
       "      <td>5.0</td>\n",
       "      <td>1</td>\n",
       "    </tr>\n",
       "    <tr>\n",
       "      <th>54</th>\n",
       "      <td>avocado_toast</td>\n",
       "      <td>0.484000</td>\n",
       "      <td>4.5</td>\n",
       "      <td>3</td>\n",
       "    </tr>\n",
       "    <tr>\n",
       "      <th>1</th>\n",
       "      <td>steamed_artichoke</td>\n",
       "      <td>0.404060</td>\n",
       "      <td>3.5</td>\n",
       "      <td>8</td>\n",
       "    </tr>\n",
       "    <tr>\n",
       "      <th>14</th>\n",
       "      <td>gabis_fish_and_frites</td>\n",
       "      <td>-0.381800</td>\n",
       "      <td>1.0</td>\n",
       "      <td>7</td>\n",
       "    </tr>\n",
       "    <tr>\n",
       "      <th>59</th>\n",
       "      <td>banana_foster_waffle</td>\n",
       "      <td>-0.440400</td>\n",
       "      <td>1.0</td>\n",
       "      <td>5</td>\n",
       "    </tr>\n",
       "    <tr>\n",
       "      <th>38</th>\n",
       "      <td>casareccia_pasta</td>\n",
       "      <td>-0.296000</td>\n",
       "      <td>1.0</td>\n",
       "      <td>2</td>\n",
       "    </tr>\n",
       "  </tbody>\n",
       "</table>\n",
       "</div>"
      ],
      "text/plain": [
       "                  food_id  sentiment_score  stars_pred  mentions\n",
       "65      gluten_free_toast         0.587767         5.0         7\n",
       "15          plats_du_jour         0.636900         5.0         1\n",
       "54          avocado_toast         0.484000         4.5         3\n",
       "1       steamed_artichoke         0.404060         3.5         8\n",
       "14  gabis_fish_and_frites        -0.381800         1.0         7\n",
       "59   banana_foster_waffle        -0.440400         1.0         5\n",
       "38       casareccia_pasta        -0.296000         1.0         2"
      ]
     },
     "execution_count": 89,
     "metadata": {},
     "output_type": "execute_result"
    }
   ],
   "source": [
    "sentiment_df3[sentiment_df3['mentions'] < 10].dropna().sort_values(by = ['stars_pred', 'mentions'], ascending = [False, False])\n"
   ]
  },
  {
   "cell_type": "markdown",
   "metadata": {},
   "source": [
    "### Distribution of sentiment scores"
   ]
  },
  {
   "cell_type": "code",
   "execution_count": 90,
   "metadata": {},
   "outputs": [
    {
     "data": {
      "image/png": "[encoded data removed]",
      "text/plain": [
       "<Figure size 432x288 with 1 Axes>"
      ]
     },
     "metadata": {
      "needs_background": "light"
     },
     "output_type": "display_data"
    }
   ],
   "source": [
    "plt.title('Distribution of Sentiment Scores')\n",
    "plt.xlabel('Sentiment Score')\n",
    "plt.hist(sentiment_df2['sentiment_score'].dropna(), bins = 30);"
   ]
  },
  {
   "cell_type": "markdown",
   "metadata": {},
   "source": [
    "### Show the best dishes"
   ]
  },
  {
   "cell_type": "code",
   "execution_count": 91,
   "metadata": {
    "scrolled": true
   },
   "outputs": [
    {
     "data": {
      "text/html": [
       "<div>\n",
       "<style scoped>\n",
       "    .dataframe tbody tr th:only-of-type {\n",
       "        vertical-align: middle;\n",
       "    }\n",
       "\n",
       "    .dataframe tbody tr th {\n",
       "        vertical-align: top;\n",
       "    }\n",
       "\n",
       "    .dataframe thead th {\n",
       "        text-align: right;\n",
       "    }\n",
       "</style>\n",
       "<table border=\"1\" class=\"dataframe\">\n",
       "  <thead>\n",
       "    <tr style=\"text-align: right;\">\n",
       "      <th></th>\n",
       "      <th>food_id</th>\n",
       "      <th>sentiment_score</th>\n",
       "      <th>stars_pred</th>\n",
       "      <th>mentions</th>\n",
       "    </tr>\n",
       "  </thead>\n",
       "  <tbody>\n",
       "    <tr>\n",
       "      <th>36</th>\n",
       "      <td>salmon</td>\n",
       "      <td>0.473217</td>\n",
       "      <td>4.5</td>\n",
       "      <td>873</td>\n",
       "    </tr>\n",
       "    <tr>\n",
       "      <th>50</th>\n",
       "      <td>classic_eggs_benedict</td>\n",
       "      <td>0.473387</td>\n",
       "      <td>4.5</td>\n",
       "      <td>538</td>\n",
       "    </tr>\n",
       "    <tr>\n",
       "      <th>2</th>\n",
       "      <td>smoked_salmon</td>\n",
       "      <td>0.475773</td>\n",
       "      <td>4.5</td>\n",
       "      <td>181</td>\n",
       "    </tr>\n",
       "    <tr>\n",
       "      <th>35</th>\n",
       "      <td>trout_almondine</td>\n",
       "      <td>0.497268</td>\n",
       "      <td>4.5</td>\n",
       "      <td>173</td>\n",
       "    </tr>\n",
       "    <tr>\n",
       "      <th>29</th>\n",
       "      <td>hanger_steak</td>\n",
       "      <td>0.464093</td>\n",
       "      <td>4.5</td>\n",
       "      <td>147</td>\n",
       "    </tr>\n",
       "    <tr>\n",
       "      <th>61</th>\n",
       "      <td>seafood_crepe</td>\n",
       "      <td>0.463020</td>\n",
       "      <td>4.5</td>\n",
       "      <td>139</td>\n",
       "    </tr>\n",
       "    <tr>\n",
       "      <th>21</th>\n",
       "      <td>classique</td>\n",
       "      <td>0.497640</td>\n",
       "      <td>4.5</td>\n",
       "      <td>122</td>\n",
       "    </tr>\n",
       "    <tr>\n",
       "      <th>6</th>\n",
       "      <td>chicken_liver_mousse_pate</td>\n",
       "      <td>0.478449</td>\n",
       "      <td>4.5</td>\n",
       "      <td>114</td>\n",
       "    </tr>\n",
       "    <tr>\n",
       "      <th>70</th>\n",
       "      <td>chocolate_mousse</td>\n",
       "      <td>0.497734</td>\n",
       "      <td>4.5</td>\n",
       "      <td>80</td>\n",
       "    </tr>\n",
       "    <tr>\n",
       "      <th>40</th>\n",
       "      <td>pommes_puree</td>\n",
       "      <td>0.498181</td>\n",
       "      <td>4.5</td>\n",
       "      <td>53</td>\n",
       "    </tr>\n",
       "  </tbody>\n",
       "</table>\n",
       "</div>"
      ],
      "text/plain": [
       "                      food_id  sentiment_score  stars_pred  mentions\n",
       "36                     salmon         0.473217         4.5       873\n",
       "50      classic_eggs_benedict         0.473387         4.5       538\n",
       "2               smoked_salmon         0.475773         4.5       181\n",
       "35            trout_almondine         0.497268         4.5       173\n",
       "29               hanger_steak         0.464093         4.5       147\n",
       "61              seafood_crepe         0.463020         4.5       139\n",
       "21                  classique         0.497640         4.5       122\n",
       "6   chicken_liver_mousse_pate         0.478449         4.5       114\n",
       "70           chocolate_mousse         0.497734         4.5        80\n",
       "40               pommes_puree         0.498181         4.5        53"
      ]
     },
     "execution_count": 91,
     "metadata": {},
     "output_type": "execute_result"
    }
   ],
   "source": [
    "sentiment_df2.nlargest(10, ['stars_pred', 'mentions'])\n"
   ]
  },
  {
   "cell_type": "markdown",
   "metadata": {},
   "source": [
    "Using dishes with more than 100 reviews:"
   ]
  },
  {
   "cell_type": "code",
   "execution_count": 92,
   "metadata": {},
   "outputs": [
    {
     "data": {
      "text/html": [
       "<div>\n",
       "<style scoped>\n",
       "    .dataframe tbody tr th:only-of-type {\n",
       "        vertical-align: middle;\n",
       "    }\n",
       "\n",
       "    .dataframe tbody tr th {\n",
       "        vertical-align: top;\n",
       "    }\n",
       "\n",
       "    .dataframe thead th {\n",
       "        text-align: right;\n",
       "    }\n",
       "</style>\n",
       "<table border=\"1\" class=\"dataframe\">\n",
       "  <thead>\n",
       "    <tr style=\"text-align: right;\">\n",
       "      <th></th>\n",
       "      <th>food_id</th>\n",
       "      <th>sentiment_score</th>\n",
       "      <th>stars_pred</th>\n",
       "      <th>mentions</th>\n",
       "    </tr>\n",
       "  </thead>\n",
       "  <tbody>\n",
       "    <tr>\n",
       "      <th>0</th>\n",
       "      <td>onion_soup_au_gratin</td>\n",
       "      <td>0.426657</td>\n",
       "      <td>4.0</td>\n",
       "      <td>987</td>\n",
       "    </tr>\n",
       "    <tr>\n",
       "      <th>36</th>\n",
       "      <td>salmon</td>\n",
       "      <td>0.473217</td>\n",
       "      <td>4.5</td>\n",
       "      <td>873</td>\n",
       "    </tr>\n",
       "    <tr>\n",
       "      <th>12</th>\n",
       "      <td>scallops_gratinees</td>\n",
       "      <td>0.421878</td>\n",
       "      <td>4.0</td>\n",
       "      <td>637</td>\n",
       "    </tr>\n",
       "    <tr>\n",
       "      <th>30</th>\n",
       "      <td>filet_mignon</td>\n",
       "      <td>0.433164</td>\n",
       "      <td>4.0</td>\n",
       "      <td>550</td>\n",
       "    </tr>\n",
       "    <tr>\n",
       "      <th>50</th>\n",
       "      <td>classic_eggs_benedict</td>\n",
       "      <td>0.473387</td>\n",
       "      <td>4.5</td>\n",
       "      <td>538</td>\n",
       "    </tr>\n",
       "    <tr>\n",
       "      <th>53</th>\n",
       "      <td>french_toast</td>\n",
       "      <td>0.459178</td>\n",
       "      <td>4.0</td>\n",
       "      <td>360</td>\n",
       "    </tr>\n",
       "    <tr>\n",
       "      <th>3</th>\n",
       "      <td>baked_goat_cheese</td>\n",
       "      <td>0.455625</td>\n",
       "      <td>4.0</td>\n",
       "      <td>324</td>\n",
       "    </tr>\n",
       "    <tr>\n",
       "      <th>63</th>\n",
       "      <td>quiche</td>\n",
       "      <td>0.451370</td>\n",
       "      <td>4.0</td>\n",
       "      <td>293</td>\n",
       "    </tr>\n",
       "    <tr>\n",
       "      <th>2</th>\n",
       "      <td>smoked_salmon</td>\n",
       "      <td>0.475773</td>\n",
       "      <td>4.5</td>\n",
       "      <td>181</td>\n",
       "    </tr>\n",
       "    <tr>\n",
       "      <th>35</th>\n",
       "      <td>trout_almondine</td>\n",
       "      <td>0.497268</td>\n",
       "      <td>4.5</td>\n",
       "      <td>173</td>\n",
       "    </tr>\n",
       "  </tbody>\n",
       "</table>\n",
       "</div>"
      ],
      "text/plain": [
       "                  food_id  sentiment_score  stars_pred  mentions\n",
       "0    onion_soup_au_gratin         0.426657         4.0       987\n",
       "36                 salmon         0.473217         4.5       873\n",
       "12     scallops_gratinees         0.421878         4.0       637\n",
       "30           filet_mignon         0.433164         4.0       550\n",
       "50  classic_eggs_benedict         0.473387         4.5       538\n",
       "53           french_toast         0.459178         4.0       360\n",
       "3       baked_goat_cheese         0.455625         4.0       324\n",
       "63                 quiche         0.451370         4.0       293\n",
       "2           smoked_salmon         0.475773         4.5       181\n",
       "35        trout_almondine         0.497268         4.5       173"
      ]
     },
     "execution_count": 92,
     "metadata": {},
     "output_type": "execute_result"
    }
   ],
   "source": [
    "sentiment_df2[sentiment_df2['mentions'] >= 100].nlargest(10, ['stars_pred', 'mentions'])"
   ]
  },
  {
   "cell_type": "markdown",
   "metadata": {},
   "source": [
    "### Show the worst dishes"
   ]
  },
  {
   "cell_type": "code",
   "execution_count": 94,
   "metadata": {
    "scrolled": false
   },
   "outputs": [
    {
     "data": {
      "text/html": [
       "<div>\n",
       "<style scoped>\n",
       "    .dataframe tbody tr th:only-of-type {\n",
       "        vertical-align: middle;\n",
       "    }\n",
       "\n",
       "    .dataframe tbody tr th {\n",
       "        vertical-align: top;\n",
       "    }\n",
       "\n",
       "    .dataframe thead th {\n",
       "        text-align: right;\n",
       "    }\n",
       "</style>\n",
       "<table border=\"1\" class=\"dataframe\">\n",
       "  <thead>\n",
       "    <tr style=\"text-align: right;\">\n",
       "      <th></th>\n",
       "      <th>food_id</th>\n",
       "      <th>sentiment_score</th>\n",
       "      <th>stars_pred</th>\n",
       "      <th>mentions</th>\n",
       "    </tr>\n",
       "  </thead>\n",
       "  <tbody>\n",
       "    <tr>\n",
       "      <th>59</th>\n",
       "      <td>banana_foster_waffle</td>\n",
       "      <td>-0.440400</td>\n",
       "      <td>1.0</td>\n",
       "      <td>5</td>\n",
       "    </tr>\n",
       "    <tr>\n",
       "      <th>14</th>\n",
       "      <td>gabis_fish_and_frites</td>\n",
       "      <td>-0.381800</td>\n",
       "      <td>1.0</td>\n",
       "      <td>7</td>\n",
       "    </tr>\n",
       "    <tr>\n",
       "      <th>38</th>\n",
       "      <td>casareccia_pasta</td>\n",
       "      <td>-0.296000</td>\n",
       "      <td>1.0</td>\n",
       "      <td>2</td>\n",
       "    </tr>\n",
       "    <tr>\n",
       "      <th>10</th>\n",
       "      <td>oysters_du_jour</td>\n",
       "      <td>0.208883</td>\n",
       "      <td>1.5</td>\n",
       "      <td>10</td>\n",
       "    </tr>\n",
       "    <tr>\n",
       "      <th>43</th>\n",
       "      <td>brussels_sprouts</td>\n",
       "      <td>0.305337</td>\n",
       "      <td>2.5</td>\n",
       "      <td>62</td>\n",
       "    </tr>\n",
       "    <tr>\n",
       "      <th>69</th>\n",
       "      <td>housemade_english_muffin</td>\n",
       "      <td>0.332280</td>\n",
       "      <td>3.0</td>\n",
       "      <td>48</td>\n",
       "    </tr>\n",
       "    <tr>\n",
       "      <th>71</th>\n",
       "      <td>vanilla_bean_creme_brulee</td>\n",
       "      <td>0.333041</td>\n",
       "      <td>3.0</td>\n",
       "      <td>127</td>\n",
       "    </tr>\n",
       "    <tr>\n",
       "      <th>37</th>\n",
       "      <td>classic_skate_wing</td>\n",
       "      <td>0.337419</td>\n",
       "      <td>3.0</td>\n",
       "      <td>56</td>\n",
       "    </tr>\n",
       "    <tr>\n",
       "      <th>5</th>\n",
       "      <td>country_pate</td>\n",
       "      <td>0.339022</td>\n",
       "      <td>3.0</td>\n",
       "      <td>56</td>\n",
       "    </tr>\n",
       "    <tr>\n",
       "      <th>44</th>\n",
       "      <td>french_green_beans</td>\n",
       "      <td>0.342860</td>\n",
       "      <td>3.0</td>\n",
       "      <td>79</td>\n",
       "    </tr>\n",
       "  </tbody>\n",
       "</table>\n",
       "</div>"
      ],
      "text/plain": [
       "                      food_id  sentiment_score  stars_pred  mentions\n",
       "59       banana_foster_waffle        -0.440400         1.0         5\n",
       "14      gabis_fish_and_frites        -0.381800         1.0         7\n",
       "38           casareccia_pasta        -0.296000         1.0         2\n",
       "10            oysters_du_jour         0.208883         1.5        10\n",
       "43           brussels_sprouts         0.305337         2.5        62\n",
       "69   housemade_english_muffin         0.332280         3.0        48\n",
       "71  vanilla_bean_creme_brulee         0.333041         3.0       127\n",
       "37         classic_skate_wing         0.337419         3.0        56\n",
       "5                country_pate         0.339022         3.0        56\n",
       "44         french_green_beans         0.342860         3.0        79"
      ]
     },
     "execution_count": 94,
     "metadata": {},
     "output_type": "execute_result"
    }
   ],
   "source": [
    "sentiment_df2.nsmallest(10, 'sentiment_score')"
   ]
  },
  {
   "cell_type": "markdown",
   "metadata": {},
   "source": [
    "## Conclusion"
   ]
  },
  {
   "cell_type": "markdown",
   "metadata": {},
   "source": [
    "### Answers:\n",
    "1. What are the best dishes to order at Mon Ami Gabi?  \n",
    "****\n",
    "2. What are the worst dishes?  \n",
    "****\n",
    "3. What are the popular dishes?  \n",
    "****\n",
    "4. What are the least popular dishes?  \n",
    "****"
   ]
  },
  {
   "cell_type": "code",
   "execution_count": null,
   "metadata": {},
   "outputs": [],
   "source": []
  }
 ],
 "metadata": {
  "kernelspec": {
   "display_name": "Python [default]",
   "language": "python",
   "name": "python3"
  },
  "language_info": {
   "codemirror_mode": {
    "name": "ipython",
    "version": 3
   },
   "file_extension": ".py",
   "mimetype": "text/x-python",
   "name": "python",
   "nbconvert_exporter": "python",
   "pygments_lexer": "ipython3",
   "version": "3.6.5"
  }
 },
 "nbformat": 4,
 "nbformat_minor": 2
}
