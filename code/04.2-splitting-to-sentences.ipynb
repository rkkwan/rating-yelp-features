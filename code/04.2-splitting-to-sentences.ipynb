{
 "cells": [
  {
   "cell_type": "markdown",
   "metadata": {},
   "source": [
    "## Splitting Reviews to Sentences"
   ]
  },
  {
   "cell_type": "markdown",
   "metadata": {},
   "source": [
    "### Import Libraries"
   ]
  },
  {
   "cell_type": "code",
   "execution_count": 74,
   "metadata": {},
   "outputs": [],
   "source": [
    "import pandas as pd\n",
    "import numpy as np\n",
    "from time import time\n",
    "\n",
    "pd.set_option('display.max_colwidth', -1)\n",
    "\n",
    "import spacy\n",
    "import textblob\n",
    "\n",
    "# For reading from Postgres\n",
    "from sqlalchemy import create_engine\n",
    "\n",
    "# For pickling\n",
    "import pickle\n",
    "\n",
    "# For tracking progress\n",
    "from IPython.display import clear_output\n",
    "\n",
    "# For reading and writing to postgres\n",
    "from odo import odo\n",
    "\n",
    "# For detecting language of document\n",
    "from langdetect import detect\n",
    "from langdetect import DetectorFactory \n",
    "\n",
    "# for consistent results\n",
    "DetectorFactory.seed = 42 \n",
    "\n",
    "import nltk\n",
    "\n",
    "# The NLP workhorse in Python is Natural Language Toolkit (NLTK)\n",
    "# Tokenizing, lemmatizing\n",
    "from nltk import word_tokenize, pos_tag, ne_chunk\n",
    "\n",
    "# Preprocessing packages used in class\n",
    "from nltk.stem import WordNetLemmatizer\n",
    "from nltk.tokenize import RegexpTokenizer\n",
    "\n",
    "\n",
    "# For loading secret environment variables, e.g. postgres username and password\n",
    "import os\n",
    "from dotenv import load_dotenv, find_dotenv\n"
   ]
  },
  {
   "cell_type": "markdown",
   "metadata": {},
   "source": [
    "### Load Environment Variables"
   ]
  },
  {
   "cell_type": "code",
   "execution_count": 2,
   "metadata": {},
   "outputs": [],
   "source": [
    "# Find .env\n",
    "dotenv_path = find_dotenv()\n",
    "\n",
    "# Load entries as environment variables\n",
    "load_dotenv(dotenv_path)\n",
    "\n",
    "public_ip = os.environ.get(\"PUBLIC_IP\")\n",
    "username = os.environ.get(\"USERNAME\")\n",
    "password = os.environ.get(\"PASSWORD\")\n",
    "port = os.environ.get(\"PORT\")\n",
    "\n",
    "# Construct database URL from environment variables\n",
    "uri = f'postgresql://{username}:{password}@{public_ip}:{port}'"
   ]
  },
  {
   "cell_type": "markdown",
   "metadata": {},
   "source": [
    "### Load Data from Postgres"
   ]
  },
  {
   "cell_type": "markdown",
   "metadata": {},
   "source": [
    "#### All Mon Ami Gabi Reviews"
   ]
  },
  {
   "cell_type": "code",
   "execution_count": 3,
   "metadata": {},
   "outputs": [
    {
     "name": "stdout",
     "output_type": "stream",
     "text": [
      "Loaded 7968 rows in 2.14 seconds\n"
     ]
    }
   ],
   "source": [
    "t0 = time()\n",
    "mon_ami_gabi = odo(uri+'::mon_ami_gabi_reviews', pd.DataFrame)\n",
    "t1 = np.round(time() - t0,2)\n",
    "\n",
    "print(f'Loaded {mon_ami_gabi.shape[0]} rows in {t1} seconds')"
   ]
  },
  {
   "cell_type": "code",
   "execution_count": 2,
   "metadata": {
    "scrolled": true
   },
   "outputs": [
    {
     "ename": "NameError",
     "evalue": "name 'mon_ami_gabi' is not defined",
     "output_type": "error",
     "traceback": [
      "\u001b[0;31m---------------------------------------------------------------------------\u001b[0m",
      "\u001b[0;31mNameError\u001b[0m                                 Traceback (most recent call last)",
      "\u001b[0;32m<ipython-input-2-7cd7f2d2693e>\u001b[0m in \u001b[0;36m<module>\u001b[0;34m\u001b[0m\n\u001b[0;32m----> 1\u001b[0;31m \u001b[0mmon_ami_gabi\u001b[0m\u001b[0;34m.\u001b[0m\u001b[0mhead\u001b[0m\u001b[0;34m(\u001b[0m\u001b[0;34m)\u001b[0m\u001b[0;34m\u001b[0m\u001b[0m\n\u001b[0m",
      "\u001b[0;31mNameError\u001b[0m: name 'mon_ami_gabi' is not defined"
     ]
    }
   ],
   "source": [
    "mon_ami_gabi.head()"
   ]
  },
  {
   "cell_type": "markdown",
   "metadata": {},
   "source": [
    "#### Onion Soup reviews"
   ]
  },
  {
   "cell_type": "code",
   "execution_count": 4,
   "metadata": {},
   "outputs": [],
   "source": [
    "# Connection to Postgres database\n",
    "engine = create_engine(uri)"
   ]
  },
  {
   "cell_type": "code",
   "execution_count": 5,
   "metadata": {},
   "outputs": [],
   "source": [
    "SQL = '''\n",
    "SELECT mag.*\n",
    "FROM mon_ami_gabi_reviews AS mag \n",
    "WHERE mag.text ~* 'onion soup' OR mag.text ~* 'french onion'\n",
    "'''\n",
    "onion_soup = pd.read_sql(SQL, con = engine)"
   ]
  },
  {
   "cell_type": "markdown",
   "metadata": {},
   "source": [
    "### Load data locally"
   ]
  },
  {
   "cell_type": "code",
   "execution_count": 3,
   "metadata": {},
   "outputs": [],
   "source": [
    "onion_soup_reviews = pd.read_csv('../data/interim/onion_soup_reviews.csv')\n",
    "\n",
    "eggs_benedict_reviews = pd.read_csv('../data/interim/eggs_benedict_reviews.csv')"
   ]
  },
  {
   "cell_type": "code",
   "execution_count": 58,
   "metadata": {},
   "outputs": [],
   "source": [
    "menu = pickle.load( open( \"../data/interim/menu.pk\", \"rb\" ) )"
   ]
  },
  {
   "cell_type": "markdown",
   "metadata": {},
   "source": [
    "### Drop rows that are not English"
   ]
  },
  {
   "cell_type": "code",
   "execution_count": 4,
   "metadata": {},
   "outputs": [],
   "source": [
    "def get_english_reviews(df):\n",
    "    language = df['text'].apply(detect)\n",
    "                  \n",
    "    return df.drop(df[language != 'en'].index, axis = 0)\n",
    "    "
   ]
  },
  {
   "cell_type": "code",
   "execution_count": 5,
   "metadata": {},
   "outputs": [
    {
     "name": "stdout",
     "output_type": "stream",
     "text": [
      "5.136317014694214\n"
     ]
    }
   ],
   "source": [
    "t0 = time()\n",
    "onion_soup_reviews = get_english_reviews(onion_soup_reviews)\n",
    "t1 = time() - t0\n",
    "print(t1)"
   ]
  },
  {
   "cell_type": "code",
   "execution_count": 6,
   "metadata": {
    "scrolled": true
   },
   "outputs": [
    {
     "name": "stdout",
     "output_type": "stream",
     "text": [
      "3.33713698387146\n"
     ]
    }
   ],
   "source": [
    "t0 = time()\n",
    "eggs_benedict_reviews = get_english_reviews(eggs_benedict_reviews)\n",
    "t1 = time() - t0\n",
    "print(t1)"
   ]
  },
  {
   "cell_type": "markdown",
   "metadata": {},
   "source": [
    "### Tokenize & Lemmatize Data"
   ]
  },
  {
   "cell_type": "markdown",
   "metadata": {},
   "source": [
    "[Penn Part of Speech Tags](https://cs.nyu.edu/grishman/jet/guide/PennPOS.html)"
   ]
  },
  {
   "cell_type": "code",
   "execution_count": 228,
   "metadata": {},
   "outputs": [],
   "source": [
    "def preprocess2(sentence):\n",
    "    # Tokenize doc\n",
    "    tokens = word_tokenize(sentence)\n",
    "    \n",
    "    # Tag sentences\n",
    "    tagged_tokens = pos_tag(tokens)\n",
    "\n",
    "    # Named entity chunker\n",
    "    ne_chunked_tokens = ne_chunk(tagged_tokens, binary = True)\n",
    "#     return ne_chunked_tokens\n",
    "    # Extract all named entities\n",
    "    named_entities = []\n",
    "    \n",
    "    for tagged_tree in ne_chunked_tokens:\n",
    "        print(tagged_tree)\n",
    "        if hasattr(tagged_tree, 'label'):\n",
    "            entity_name = ' '.join(c[0] for c in tagged_tree.leaves())\n",
    "            entity_type = tagged_tree.label() # category\n",
    "            named_entities.append((entity_name, entity_type))\n",
    "    \n",
    "    return named_entities\n",
    "    "
   ]
  },
  {
   "cell_type": "code",
   "execution_count": 229,
   "metadata": {
    "scrolled": true
   },
   "outputs": [
    {
     "name": "stdout",
     "output_type": "stream",
     "text": [
      "(NE French/JJ)\n",
      "('onion', 'NN')\n",
      "('soup', 'NN')\n",
      "('was', 'VBD')\n",
      "('watery', 'JJ')\n",
      "('with', 'IN')\n",
      "('little', 'JJ')\n",
      "('taste', 'NN')\n"
     ]
    }
   ],
   "source": [
    "processed_onion_soup = preprocess2(onion_soup['sentences'][1][0])"
   ]
  },
  {
   "cell_type": "code",
   "execution_count": 197,
   "metadata": {
    "scrolled": false
   },
   "outputs": [
    {
     "data": {
      "image/png": "[encoded data removed]",
      "text/plain": [
       "Tree('S', [Tree('NE', [('French', 'JJ')]), ('onion', 'NN'), ('soup', 'NN'), ('was', 'VBD'), ('watery', 'JJ'), ('with', 'IN'), ('little', 'JJ'), ('taste', 'NN')])"
      ]
     },
     "execution_count": 197,
     "metadata": {},
     "output_type": "execute_result"
    }
   ],
   "source": [
    "processed_onion_soup"
   ]
  },
  {
   "cell_type": "code",
   "execution_count": 7,
   "metadata": {
    "scrolled": true
   },
   "outputs": [
    {
     "data": {
      "text/html": [
       "<div>\n",
       "<style scoped>\n",
       "    .dataframe tbody tr th:only-of-type {\n",
       "        vertical-align: middle;\n",
       "    }\n",
       "\n",
       "    .dataframe tbody tr th {\n",
       "        vertical-align: top;\n",
       "    }\n",
       "\n",
       "    .dataframe thead th {\n",
       "        text-align: right;\n",
       "    }\n",
       "</style>\n",
       "<table border=\"1\" class=\"dataframe\">\n",
       "  <thead>\n",
       "    <tr style=\"text-align: right;\">\n",
       "      <th></th>\n",
       "      <th>text</th>\n",
       "      <th>cool</th>\n",
       "      <th>funny</th>\n",
       "      <th>review_id</th>\n",
       "      <th>date</th>\n",
       "      <th>stars</th>\n",
       "      <th>business_id</th>\n",
       "      <th>useful</th>\n",
       "      <th>user_id</th>\n",
       "      <th>business_name</th>\n",
       "    </tr>\n",
       "  </thead>\n",
       "  <tbody>\n",
       "    <tr>\n",
       "      <th>0</th>\n",
       "      <td>Other than being right across the Fountains of Bellagio, I'm not quite sure what the hype is abo...</td>\n",
       "      <td>1.0</td>\n",
       "      <td>2.0</td>\n",
       "      <td>uczUlWIWuO-KzoUiLhICNw</td>\n",
       "      <td>2015-02-10</td>\n",
       "      <td>2.0</td>\n",
       "      <td>4JNXUYY8wbaaDmk3BPzlWw</td>\n",
       "      <td>3.0</td>\n",
       "      <td>9zuYkm3k4_9KjE1PC8EPfg</td>\n",
       "      <td>Mon Ami Gabi</td>\n",
       "    </tr>\n",
       "    <tr>\n",
       "      <th>1</th>\n",
       "      <td>French onion soup was watery with little taste.  We sent it back and were refunded the cost.  Th...</td>\n",
       "      <td>0.0</td>\n",
       "      <td>0.0</td>\n",
       "      <td>185E0cpQpDRUO4JRGu3fXQ</td>\n",
       "      <td>2017-04-24</td>\n",
       "      <td>3.0</td>\n",
       "      <td>4JNXUYY8wbaaDmk3BPzlWw</td>\n",
       "      <td>0.0</td>\n",
       "      <td>EYiYLS0ZHDKGJSb1IKcpwg</td>\n",
       "      <td>Mon Ami Gabi</td>\n",
       "    </tr>\n",
       "    <tr>\n",
       "      <th>2</th>\n",
       "      <td>Where to begin!  Now our dining experience here was not a common one - we were treated to dinner...</td>\n",
       "      <td>0.0</td>\n",
       "      <td>0.0</td>\n",
       "      <td>QoY3L_d_axTcMn68pI8zxQ</td>\n",
       "      <td>2014-12-03</td>\n",
       "      <td>5.0</td>\n",
       "      <td>4JNXUYY8wbaaDmk3BPzlWw</td>\n",
       "      <td>1.0</td>\n",
       "      <td>mp3Xy-w2isyLjEN91xOeGQ</td>\n",
       "      <td>Mon Ami Gabi</td>\n",
       "    </tr>\n",
       "    <tr>\n",
       "      <th>3</th>\n",
       "      <td>Charming resturant that looks like it would be heavily overpriced. Been here twice now and reall...</td>\n",
       "      <td>0.0</td>\n",
       "      <td>0.0</td>\n",
       "      <td>nth_q-GqOy_Ly8sxsREIwA</td>\n",
       "      <td>2010-12-04</td>\n",
       "      <td>4.0</td>\n",
       "      <td>4JNXUYY8wbaaDmk3BPzlWw</td>\n",
       "      <td>0.0</td>\n",
       "      <td>M4g64KUEia1qgcn-qNlYsw</td>\n",
       "      <td>Mon Ami Gabi</td>\n",
       "    </tr>\n",
       "    <tr>\n",
       "      <th>4</th>\n",
       "      <td>This review is long overdue!   I have been eating here for years, it is always on my \"must have\"...</td>\n",
       "      <td>0.0</td>\n",
       "      <td>0.0</td>\n",
       "      <td>l0Lm7Dx69s6aH7a-5dwKDg</td>\n",
       "      <td>2010-07-11</td>\n",
       "      <td>5.0</td>\n",
       "      <td>4JNXUYY8wbaaDmk3BPzlWw</td>\n",
       "      <td>0.0</td>\n",
       "      <td>pQAUyBorkc1ZOxmV-uJ02w</td>\n",
       "      <td>Mon Ami Gabi</td>\n",
       "    </tr>\n",
       "  </tbody>\n",
       "</table>\n",
       "</div>"
      ],
      "text/plain": [
       "                                                                                                  text  \\\n",
       "0  Other than being right across the Fountains of Bellagio, I'm not quite sure what the hype is abo...   \n",
       "1  French onion soup was watery with little taste.  We sent it back and were refunded the cost.  Th...   \n",
       "2  Where to begin!  Now our dining experience here was not a common one - we were treated to dinner...   \n",
       "3  Charming resturant that looks like it would be heavily overpriced. Been here twice now and reall...   \n",
       "4  This review is long overdue!   I have been eating here for years, it is always on my \"must have\"...   \n",
       "\n",
       "   cool  funny               review_id        date  stars  \\\n",
       "0   1.0    2.0  uczUlWIWuO-KzoUiLhICNw  2015-02-10    2.0   \n",
       "1   0.0    0.0  185E0cpQpDRUO4JRGu3fXQ  2017-04-24    3.0   \n",
       "2   0.0    0.0  QoY3L_d_axTcMn68pI8zxQ  2014-12-03    5.0   \n",
       "3   0.0    0.0  nth_q-GqOy_Ly8sxsREIwA  2010-12-04    4.0   \n",
       "4   0.0    0.0  l0Lm7Dx69s6aH7a-5dwKDg  2010-07-11    5.0   \n",
       "\n",
       "              business_id  useful                 user_id business_name  \n",
       "0  4JNXUYY8wbaaDmk3BPzlWw     3.0  9zuYkm3k4_9KjE1PC8EPfg  Mon Ami Gabi  \n",
       "1  4JNXUYY8wbaaDmk3BPzlWw     0.0  EYiYLS0ZHDKGJSb1IKcpwg  Mon Ami Gabi  \n",
       "2  4JNXUYY8wbaaDmk3BPzlWw     1.0  mp3Xy-w2isyLjEN91xOeGQ  Mon Ami Gabi  \n",
       "3  4JNXUYY8wbaaDmk3BPzlWw     0.0  M4g64KUEia1qgcn-qNlYsw  Mon Ami Gabi  \n",
       "4  4JNXUYY8wbaaDmk3BPzlWw     0.0  pQAUyBorkc1ZOxmV-uJ02w  Mon Ami Gabi  "
      ]
     },
     "execution_count": 7,
     "metadata": {},
     "output_type": "execute_result"
    }
   ],
   "source": [
    "onion_soup_reviews.head()"
   ]
  },
  {
   "cell_type": "markdown",
   "metadata": {},
   "source": [
    "### Separate each review document into individual sentences"
   ]
  },
  {
   "cell_type": "code",
   "execution_count": 8,
   "metadata": {},
   "outputs": [],
   "source": [
    "def flatten(superlist): \n",
    "    '''\n",
    "    Arguments: \n",
    "    superlist : A list of list of strings.\n",
    "\n",
    "    Requirements: \n",
    "    Each element in superlist must be a list.\n",
    "    \n",
    "    Return:\n",
    "    A flattened list of strings.\n",
    "\n",
    "    ex: \n",
    "    flatten([['a'], ['b', 'c'], ['d', 'e', 'f']])\n",
    "    >> ['a', 'b', 'c', 'd', 'e', 'f']\n",
    "    '''    \n",
    "    return [item \\\n",
    "            for sublist in superlist \\\n",
    "            for item in sublist]"
   ]
  },
  {
   "cell_type": "code",
   "execution_count": 99,
   "metadata": {},
   "outputs": [],
   "source": [
    "def get_sentences(doc, menu):\n",
    "    '''\n",
    "    Arguments: \n",
    "    doc : Dataframe of reviews\n",
    "    term : String to search sentences that mention the term\n",
    "    \n",
    "    Splits a string into individual sentences and\n",
    "    selects only the sentences that contain the search term\n",
    "    \n",
    "    Return:\n",
    "    DataFrame of sentences with their target\n",
    "    '''\n",
    "    sentences = doc.apply(lambda text : text.split('.'))\n",
    "#     df['sentences'] = df['sentences'].apply(lambda sentences : [s for s in sentences])\n",
    "    sentences = flatten(sentences)\n",
    "    sentences_tags = []\n",
    "    \n",
    "    n_sentences = len(sentences)\n",
    "    \n",
    "    for i,s in enumerate(sentences):\n",
    "        s = s.lower()\n",
    "        clear_output(wait = True)\n",
    "        print(f'Finding tags in {i+1}/{n_sentences}')\n",
    "        \n",
    "        tags = []\n",
    "        for i,row in menu.iterrows():\n",
    "            for variation in row['variations']:\n",
    "                if variation in s:\n",
    "                    # print(row['entity'], '\\t', variation)\n",
    "                    tags.append(row['entity'])\n",
    "                    break\n",
    "        sentences_tags.append(', '.join(tags))\n",
    "    \n",
    "    \n",
    "    return pd.DataFrame(list(zip(sentences, sentences_tags)), columns = ['text', 'tags'])\n",
    "#     return pd.DataFrame([{'text' : s, 'target' : term} for s in sentences])    \n",
    "    "
   ]
  },
  {
   "cell_type": "code",
   "execution_count": 80,
   "metadata": {},
   "outputs": [
    {
     "name": "stdout",
     "output_type": "stream",
     "text": [
      "Finding tags in 10720/10720\n"
     ]
    }
   ],
   "source": [
    "onion_soup_sentences = get_sentences(onion_soup_reviews['text'], menu)"
   ]
  },
  {
   "cell_type": "code",
   "execution_count": 82,
   "metadata": {
    "scrolled": true
   },
   "outputs": [
    {
     "data": {
      "text/html": [
       "<div>\n",
       "<style scoped>\n",
       "    .dataframe tbody tr th:only-of-type {\n",
       "        vertical-align: middle;\n",
       "    }\n",
       "\n",
       "    .dataframe tbody tr th {\n",
       "        vertical-align: top;\n",
       "    }\n",
       "\n",
       "    .dataframe thead th {\n",
       "        text-align: right;\n",
       "    }\n",
       "</style>\n",
       "<table border=\"1\" class=\"dataframe\">\n",
       "  <thead>\n",
       "    <tr style=\"text-align: right;\">\n",
       "      <th></th>\n",
       "      <th>text</th>\n",
       "      <th>tags</th>\n",
       "    </tr>\n",
       "  </thead>\n",
       "  <tbody>\n",
       "    <tr>\n",
       "      <th>0</th>\n",
       "      <td>Other than being right across the Fountains of Bellagio, I'm not quite sure what the hype is about this place</td>\n",
       "      <td></td>\n",
       "    </tr>\n",
       "    <tr>\n",
       "      <th>1</th>\n",
       "      <td>We came here for brunch during peak hour, but luckily had a reservation so ended up waiting only a few minutes</td>\n",
       "      <td></td>\n",
       "    </tr>\n",
       "    <tr>\n",
       "      <th>2</th>\n",
       "      <td>Our table ordered Bordelaise Steak Frites (with caramelized onion and red wine sauce); Chicken and Mushroom Crepe (with kale and brie); Seafood Crepe (with scallops, shrimp, peas and cream); Onion soup; and Eggs Benedict (with Canadian bacon and hollandaise sauce)</td>\n",
       "      <td>scallops_gratinees, onion_soup_au_gratin, bordelaise, prime_steak_frites, frites, classic_eggs_benedict, chicken_and_mushroom_crepe, seafood_crepe</td>\n",
       "    </tr>\n",
       "    <tr>\n",
       "      <th>3</th>\n",
       "      <td>The steak frites and onion soup were the best things we ordered</td>\n",
       "      <td>onion_soup_au_gratin, prime_steak_frites, frites</td>\n",
       "    </tr>\n",
       "    <tr>\n",
       "      <th>4</th>\n",
       "      <td>Steak frites came with a huge chunk of juicy steak and a side of crispy, salted fries</td>\n",
       "      <td>prime_steak_frites, frites</td>\n",
       "    </tr>\n",
       "  </tbody>\n",
       "</table>\n",
       "</div>"
      ],
      "text/plain": [
       "                                                                                                                                                                                                                                                                          text  \\\n",
       "0  Other than being right across the Fountains of Bellagio, I'm not quite sure what the hype is about this place                                                                                                                                                                 \n",
       "1   We came here for brunch during peak hour, but luckily had a reservation so ended up waiting only a few minutes                                                                                                                                                               \n",
       "2     Our table ordered Bordelaise Steak Frites (with caramelized onion and red wine sauce); Chicken and Mushroom Crepe (with kale and brie); Seafood Crepe (with scallops, shrimp, peas and cream); Onion soup; and Eggs Benedict (with Canadian bacon and hollandaise sauce)   \n",
       "3     The steak frites and onion soup were the best things we ordered                                                                                                                                                                                                            \n",
       "4   Steak frites came with a huge chunk of juicy steak and a side of crispy, salted fries                                                                                                                                                                                        \n",
       "\n",
       "                                                                                                                                                 tags  \n",
       "0                                                                                                                                                      \n",
       "1                                                                                                                                                      \n",
       "2  scallops_gratinees, onion_soup_au_gratin, bordelaise, prime_steak_frites, frites, classic_eggs_benedict, chicken_and_mushroom_crepe, seafood_crepe  \n",
       "3  onion_soup_au_gratin, prime_steak_frites, frites                                                                                                    \n",
       "4  prime_steak_frites, frites                                                                                                                          "
      ]
     },
     "execution_count": 82,
     "metadata": {},
     "output_type": "execute_result"
    }
   ],
   "source": [
    "onion_soup_sentences.head()"
   ]
  },
  {
   "cell_type": "code",
   "execution_count": 85,
   "metadata": {
    "scrolled": true
   },
   "outputs": [
    {
     "data": {
      "text/plain": [
       "(1007, 2)"
      ]
     },
     "execution_count": 85,
     "metadata": {},
     "output_type": "execute_result"
    }
   ],
   "source": [
    "onion_soup_sentences = onion_soup_sentences[onion_soup_sentences['tags'].str.contains('onion_soup_au_gratin')]\n",
    "onion_soup_sentences.shape\n"
   ]
  },
  {
   "cell_type": "code",
   "execution_count": 87,
   "metadata": {},
   "outputs": [
    {
     "data": {
      "text/html": [
       "<div>\n",
       "<style scoped>\n",
       "    .dataframe tbody tr th:only-of-type {\n",
       "        vertical-align: middle;\n",
       "    }\n",
       "\n",
       "    .dataframe tbody tr th {\n",
       "        vertical-align: top;\n",
       "    }\n",
       "\n",
       "    .dataframe thead th {\n",
       "        text-align: right;\n",
       "    }\n",
       "</style>\n",
       "<table border=\"1\" class=\"dataframe\">\n",
       "  <thead>\n",
       "    <tr style=\"text-align: right;\">\n",
       "      <th></th>\n",
       "      <th>text</th>\n",
       "      <th>tags</th>\n",
       "    </tr>\n",
       "  </thead>\n",
       "  <tbody>\n",
       "    <tr>\n",
       "      <th>2</th>\n",
       "      <td>Our table ordered Bordelaise Steak Frites (with caramelized onion and red wine sauce); Chicken and Mushroom Crepe (with kale and brie); Seafood Crepe (with scallops, shrimp, peas and cream); Onion soup; and Eggs Benedict (with Canadian bacon and hollandaise sauce)</td>\n",
       "      <td>scallops_gratinees, onion_soup_au_gratin, bordelaise, prime_steak_frites, frites, classic_eggs_benedict, chicken_and_mushroom_crepe, seafood_crepe</td>\n",
       "    </tr>\n",
       "    <tr>\n",
       "      <th>3</th>\n",
       "      <td>The steak frites and onion soup were the best things we ordered</td>\n",
       "      <td>onion_soup_au_gratin, prime_steak_frites, frites</td>\n",
       "    </tr>\n",
       "    <tr>\n",
       "      <th>5</th>\n",
       "      <td>Onion soup was also a nice, big portion, but I can't say it stood out from other onion soups I've had</td>\n",
       "      <td>onion_soup_au_gratin</td>\n",
       "    </tr>\n",
       "    <tr>\n",
       "      <th>12</th>\n",
       "      <td>French onion soup was watery with little taste</td>\n",
       "      <td>onion_soup_au_gratin</td>\n",
       "    </tr>\n",
       "    <tr>\n",
       "      <th>20</th>\n",
       "      <td>We ate almost everything on the menu - although their French Onion Soup wasn't spectacular, their baked goat cheese, fresh French bread and steaks were to die for</td>\n",
       "      <td>baked_goat_cheese, onion_soup_au_gratin</td>\n",
       "    </tr>\n",
       "  </tbody>\n",
       "</table>\n",
       "</div>"
      ],
      "text/plain": [
       "                                                                                                                                                                                                                                                                           text  \\\n",
       "2      Our table ordered Bordelaise Steak Frites (with caramelized onion and red wine sauce); Chicken and Mushroom Crepe (with kale and brie); Seafood Crepe (with scallops, shrimp, peas and cream); Onion soup; and Eggs Benedict (with Canadian bacon and hollandaise sauce)   \n",
       "3      The steak frites and onion soup were the best things we ordered                                                                                                                                                                                                            \n",
       "5    Onion soup was also a nice, big portion, but I can't say it stood out from other onion soups I've had                                                                                                                                                                        \n",
       "12  French onion soup was watery with little taste                                                                                                                                                                                                                                \n",
       "20    We ate almost everything on the menu - although their French Onion Soup wasn't spectacular, their baked goat cheese, fresh French bread and steaks were to die for                                                                                                          \n",
       "\n",
       "                                                                                                                                                  tags  \n",
       "2   scallops_gratinees, onion_soup_au_gratin, bordelaise, prime_steak_frites, frites, classic_eggs_benedict, chicken_and_mushroom_crepe, seafood_crepe  \n",
       "3   onion_soup_au_gratin, prime_steak_frites, frites                                                                                                    \n",
       "5   onion_soup_au_gratin                                                                                                                                \n",
       "12  onion_soup_au_gratin                                                                                                                                \n",
       "20  baked_goat_cheese, onion_soup_au_gratin                                                                                                             "
      ]
     },
     "execution_count": 87,
     "metadata": {},
     "output_type": "execute_result"
    }
   ],
   "source": [
    "onion_soup_sentences.head()"
   ]
  },
  {
   "cell_type": "code",
   "execution_count": 91,
   "metadata": {},
   "outputs": [
    {
     "name": "stdout",
     "output_type": "stream",
     "text": [
      "Finding tags in 6464/6464\n"
     ]
    }
   ],
   "source": [
    "eggs_benedict_sentences = get_sentences(eggs_benedict_reviews['text'], menu)"
   ]
  },
  {
   "cell_type": "code",
   "execution_count": 94,
   "metadata": {},
   "outputs": [
    {
     "data": {
      "text/html": [
       "<div>\n",
       "<style scoped>\n",
       "    .dataframe tbody tr th:only-of-type {\n",
       "        vertical-align: middle;\n",
       "    }\n",
       "\n",
       "    .dataframe tbody tr th {\n",
       "        vertical-align: top;\n",
       "    }\n",
       "\n",
       "    .dataframe thead th {\n",
       "        text-align: right;\n",
       "    }\n",
       "</style>\n",
       "<table border=\"1\" class=\"dataframe\">\n",
       "  <thead>\n",
       "    <tr style=\"text-align: right;\">\n",
       "      <th></th>\n",
       "      <th>text</th>\n",
       "      <th>tags</th>\n",
       "    </tr>\n",
       "  </thead>\n",
       "  <tbody>\n",
       "    <tr>\n",
       "      <th>0</th>\n",
       "      <td>I booked a table here for brunch and it did not disappoint, it was a great experience and more relaxed I feel that the pricy dinner menu would of been, with the same outdoor table overlooking the Bellagio fountains and the Paris hotel</td>\n",
       "      <td></td>\n",
       "    </tr>\n",
       "    <tr>\n",
       "      <th>1</th>\n",
       "      <td>Eggs Benedict for me was fab and some other good options on the menu</td>\n",
       "      <td>classic_eggs_benedict</td>\n",
       "    </tr>\n",
       "    <tr>\n",
       "      <th>2</th>\n",
       "      <td>I told them we were celebrating a birthday and got a chocolate cake with a candle brought out which I was pleased to find was not included on our bill at the end!</td>\n",
       "      <td></td>\n",
       "    </tr>\n",
       "    <tr>\n",
       "      <th>3</th>\n",
       "      <td>Great breakfast</td>\n",
       "      <td></td>\n",
       "    </tr>\n",
       "    <tr>\n",
       "      <th>4</th>\n",
       "      <td>Good mimosas and bloody marys</td>\n",
       "      <td></td>\n",
       "    </tr>\n",
       "  </tbody>\n",
       "</table>\n",
       "</div>"
      ],
      "text/plain": [
       "                                                                                                                                                                                                                                         text  \\\n",
       "0  I booked a table here for brunch and it did not disappoint, it was a great experience and more relaxed I feel that the pricy dinner menu would of been, with the same outdoor table overlooking the Bellagio fountains and the Paris hotel   \n",
       "1   Eggs Benedict for me was fab and some other good options on the menu                                                                                                                                                                        \n",
       "2    I told them we were celebrating a birthday and got a chocolate cake with a candle brought out which I was pleased to find was not included on our bill at the end!                                                                         \n",
       "3  Great breakfast                                                                                                                                                                                                                              \n",
       "4   Good mimosas and bloody marys                                                                                                                                                                                                               \n",
       "\n",
       "                    tags  \n",
       "0                         \n",
       "1  classic_eggs_benedict  \n",
       "2                         \n",
       "3                         \n",
       "4                         "
      ]
     },
     "execution_count": 94,
     "metadata": {},
     "output_type": "execute_result"
    }
   ],
   "source": [
    "eggs_benedict_sentences.head()"
   ]
  },
  {
   "cell_type": "code",
   "execution_count": 95,
   "metadata": {},
   "outputs": [
    {
     "data": {
      "text/plain": [
       "(546, 2)"
      ]
     },
     "execution_count": 95,
     "metadata": {},
     "output_type": "execute_result"
    }
   ],
   "source": [
    "eggs_benedict_sentences = eggs_benedict_sentences[eggs_benedict_sentences['tags'].str.contains('eggs_benedict')]\n",
    "eggs_benedict_sentences.shape\n"
   ]
  },
  {
   "cell_type": "code",
   "execution_count": 96,
   "metadata": {},
   "outputs": [
    {
     "data": {
      "text/html": [
       "<div>\n",
       "<style scoped>\n",
       "    .dataframe tbody tr th:only-of-type {\n",
       "        vertical-align: middle;\n",
       "    }\n",
       "\n",
       "    .dataframe tbody tr th {\n",
       "        vertical-align: top;\n",
       "    }\n",
       "\n",
       "    .dataframe thead th {\n",
       "        text-align: right;\n",
       "    }\n",
       "</style>\n",
       "<table border=\"1\" class=\"dataframe\">\n",
       "  <thead>\n",
       "    <tr style=\"text-align: right;\">\n",
       "      <th></th>\n",
       "      <th>text</th>\n",
       "      <th>tags</th>\n",
       "    </tr>\n",
       "  </thead>\n",
       "  <tbody>\n",
       "    <tr>\n",
       "      <th>1</th>\n",
       "      <td>Eggs Benedict for me was fab and some other good options on the menu</td>\n",
       "      <td>classic_eggs_benedict</td>\n",
       "    </tr>\n",
       "    <tr>\n",
       "      <th>5</th>\n",
       "      <td>The French toast and eggs Benedict with duck was delicious</td>\n",
       "      <td>classic_eggs_benedict, french_toast</td>\n",
       "    </tr>\n",
       "    <tr>\n",
       "      <th>11</th>\n",
       "      <td>Our table ordered Bordelaise Steak Frites (with caramelized onion and red wine sauce); Chicken and Mushroom Crepe (with kale and brie); Seafood Crepe (with scallops, shrimp, peas and cream); Onion soup; and Eggs Benedict (with Canadian bacon and hollandaise sauce)</td>\n",
       "      <td>scallops_gratinees, onion_soup_au_gratin, bordelaise, prime_steak_frites, frites, classic_eggs_benedict, chicken_and_mushroom_crepe, seafood_crepe</td>\n",
       "    </tr>\n",
       "    <tr>\n",
       "      <th>18</th>\n",
       "      <td>Eggs benedict here is definitely not a stand-out dish, either</td>\n",
       "      <td>classic_eggs_benedict</td>\n",
       "    </tr>\n",
       "    <tr>\n",
       "      <th>27</th>\n",
       "      <td>The Salmon Eggs Benedict is scrumptious, and the crêpes and waffles are all sublime, and become even more so when you top with the house-made whipped cream</td>\n",
       "      <td>salmon, classic_eggs_benedict, waffle, chocolate_waffle</td>\n",
       "    </tr>\n",
       "  </tbody>\n",
       "</table>\n",
       "</div>"
      ],
      "text/plain": [
       "                                                                                                                                                                                                                                                                           text  \\\n",
       "1    Eggs Benedict for me was fab and some other good options on the menu                                                                                                                                                                                                         \n",
       "5    The French toast and eggs Benedict with duck was delicious                                                                                                                                                                                                                   \n",
       "11     Our table ordered Bordelaise Steak Frites (with caramelized onion and red wine sauce); Chicken and Mushroom Crepe (with kale and brie); Seafood Crepe (with scallops, shrimp, peas and cream); Onion soup; and Eggs Benedict (with Canadian bacon and hollandaise sauce)   \n",
       "18   Eggs benedict here is definitely not a stand-out dish, either                                                                                                                                                                                                                \n",
       "27   The Salmon Eggs Benedict is scrumptious, and the crêpes and waffles are all sublime, and become even more so when you top with the house-made whipped cream                                                                                                                  \n",
       "\n",
       "                                                                                                                                                  tags  \n",
       "1   classic_eggs_benedict                                                                                                                               \n",
       "5   classic_eggs_benedict, french_toast                                                                                                                 \n",
       "11  scallops_gratinees, onion_soup_au_gratin, bordelaise, prime_steak_frites, frites, classic_eggs_benedict, chicken_and_mushroom_crepe, seafood_crepe  \n",
       "18  classic_eggs_benedict                                                                                                                               \n",
       "27  salmon, classic_eggs_benedict, waffle, chocolate_waffle                                                                                             "
      ]
     },
     "execution_count": 96,
     "metadata": {},
     "output_type": "execute_result"
    }
   ],
   "source": [
    "eggs_benedict_sentences.head()"
   ]
  },
  {
   "cell_type": "code",
   "execution_count": 88,
   "metadata": {},
   "outputs": [],
   "source": [
    "# def get_sentences(col, term):\n",
    "#     '''\n",
    "#     Arguments: \n",
    "#     col : Series of strings\n",
    "#     term : String to search sentences that mention the term\n",
    "    \n",
    "#     Splits a string into individual sentences and\n",
    "#     selects only the sentences that contain the search term\n",
    "    \n",
    "#     Return:\n",
    "#     DataFrame of sentences with their target\n",
    "#     '''\n",
    "#     sentences = col.apply(lambda text : text.split('.'))\n",
    "#     sentences = sentences.apply(lambda sentences : [s for s in sentences\n",
    "#                                        if term in s.lower()])\n",
    "#     sentences = flatten(sentences)\n",
    "    \n",
    "#     return pd.DataFrame([{'text' : s, 'target' : term} for s in sentences])    \n",
    "    "
   ]
  },
  {
   "cell_type": "code",
   "execution_count": null,
   "metadata": {},
   "outputs": [],
   "source": [
    "## When splitting reviews to sentences, \n",
    "## do I simply select the sentences that mention the food item,\n",
    "## or extract all sentences and then search the sentence for food items that are in my menu?\n",
    "\n"
   ]
  },
  {
   "cell_type": "code",
   "execution_count": 89,
   "metadata": {},
   "outputs": [],
   "source": [
    "# onion_soup_sentences = get_sentences(onion_soup_reviews['text'], 'onion soup')"
   ]
  },
  {
   "cell_type": "code",
   "execution_count": 12,
   "metadata": {},
   "outputs": [
    {
     "data": {
      "text/plain": [
       "'   Our table ordered Bordelaise Steak Frites (with caramelized onion and red wine sauce); Chicken and Mushroom Crepe (with kale and brie); Seafood Crepe (with scallops, shrimp, peas and cream); Onion soup; and Eggs Benedict (with Canadian bacon and hollandaise sauce)'"
      ]
     },
     "execution_count": 12,
     "metadata": {},
     "output_type": "execute_result"
    }
   ],
   "source": [
    "one_sentence = onion_soup_sentences['text'][0]\n",
    "one_sentence"
   ]
  },
  {
   "cell_type": "code",
   "execution_count": 13,
   "metadata": {},
   "outputs": [
    {
     "data": {
      "text/html": [
       "<div>\n",
       "<style scoped>\n",
       "    .dataframe tbody tr th:only-of-type {\n",
       "        vertical-align: middle;\n",
       "    }\n",
       "\n",
       "    .dataframe tbody tr th {\n",
       "        vertical-align: top;\n",
       "    }\n",
       "\n",
       "    .dataframe thead th {\n",
       "        text-align: right;\n",
       "    }\n",
       "</style>\n",
       "<table border=\"1\" class=\"dataframe\">\n",
       "  <thead>\n",
       "    <tr style=\"text-align: right;\">\n",
       "      <th></th>\n",
       "      <th>entity</th>\n",
       "      <th>name</th>\n",
       "      <th>variations</th>\n",
       "    </tr>\n",
       "  </thead>\n",
       "  <tbody>\n",
       "    <tr>\n",
       "      <th>0</th>\n",
       "      <td>steamed_artichoke</td>\n",
       "      <td>steamed artichoke</td>\n",
       "      <td>['steamed artichoke']</td>\n",
       "    </tr>\n",
       "    <tr>\n",
       "      <th>1</th>\n",
       "      <td>wild_escargot_de_bourgogne</td>\n",
       "      <td>wild escargot de bourgogne</td>\n",
       "      <td>['wild escargot de bourgogne', 'escargot', 'wild escargot', 'bourgogne']</td>\n",
       "    </tr>\n",
       "    <tr>\n",
       "      <th>2</th>\n",
       "      <td>smoked_salmon</td>\n",
       "      <td>smoked salmon</td>\n",
       "      <td>['smoked salmon']</td>\n",
       "    </tr>\n",
       "    <tr>\n",
       "      <th>3</th>\n",
       "      <td>baked_goat_cheese</td>\n",
       "      <td>baked goat cheese</td>\n",
       "      <td>['goat cheese']</td>\n",
       "    </tr>\n",
       "    <tr>\n",
       "      <th>4</th>\n",
       "      <td>duck_confit</td>\n",
       "      <td>duck confit</td>\n",
       "      <td>['duck confit']</td>\n",
       "    </tr>\n",
       "  </tbody>\n",
       "</table>\n",
       "</div>"
      ],
      "text/plain": [
       "                       entity                        name  \\\n",
       "0           steamed_artichoke           steamed artichoke   \n",
       "1  wild_escargot_de_bourgogne  wild escargot de bourgogne   \n",
       "2               smoked_salmon               smoked salmon   \n",
       "3           baked_goat_cheese           baked goat cheese   \n",
       "4                 duck_confit                 duck confit   \n",
       "\n",
       "                                                                 variations  \n",
       "0                                                     ['steamed artichoke']  \n",
       "1  ['wild escargot de bourgogne', 'escargot', 'wild escargot', 'bourgogne']  \n",
       "2                                                         ['smoked salmon']  \n",
       "3                                                           ['goat cheese']  \n",
       "4                                                           ['duck confit']  "
      ]
     },
     "execution_count": 13,
     "metadata": {},
     "output_type": "execute_result"
    }
   ],
   "source": [
    "menu.head()"
   ]
  },
  {
   "cell_type": "code",
   "execution_count": 47,
   "metadata": {},
   "outputs": [],
   "source": [
    "onion_soup_sentences = onion_soup_reviews['text'].apply(lambda text: text.split('.'))\n"
   ]
  },
  {
   "cell_type": "code",
   "execution_count": 48,
   "metadata": {},
   "outputs": [],
   "source": [
    "onion_soup_sentences = onion_soup_sentences.apply(lambda sentences : \n",
    "                                                     [s for s in sentences \n",
    "                                                      if 'onion soup' in s.lower()])"
   ]
  },
  {
   "cell_type": "code",
   "execution_count": 49,
   "metadata": {},
   "outputs": [
    {
     "data": {
      "text/plain": [
       "867"
      ]
     },
     "execution_count": 49,
     "metadata": {},
     "output_type": "execute_result"
    }
   ],
   "source": [
    "len(onion_soup_sentences)"
   ]
  },
  {
   "cell_type": "code",
   "execution_count": 51,
   "metadata": {},
   "outputs": [],
   "source": [
    "onion_soup_sentences = flatten(onion_soup_sentences)"
   ]
  },
  {
   "cell_type": "code",
   "execution_count": 52,
   "metadata": {},
   "outputs": [],
   "source": [
    "sentence_df = pd.DataFrame(columns = ['target', 'text'])"
   ]
  },
  {
   "cell_type": "code",
   "execution_count": 53,
   "metadata": {},
   "outputs": [
    {
     "data": {
      "text/html": [
       "<div>\n",
       "<style scoped>\n",
       "    .dataframe tbody tr th:only-of-type {\n",
       "        vertical-align: middle;\n",
       "    }\n",
       "\n",
       "    .dataframe tbody tr th {\n",
       "        vertical-align: top;\n",
       "    }\n",
       "\n",
       "    .dataframe thead th {\n",
       "        text-align: right;\n",
       "    }\n",
       "</style>\n",
       "<table border=\"1\" class=\"dataframe\">\n",
       "  <thead>\n",
       "    <tr style=\"text-align: right;\">\n",
       "      <th></th>\n",
       "      <th>target</th>\n",
       "      <th>text</th>\n",
       "    </tr>\n",
       "  </thead>\n",
       "  <tbody>\n",
       "  </tbody>\n",
       "</table>\n",
       "</div>"
      ],
      "text/plain": [
       "Empty DataFrame\n",
       "Columns: [target, text]\n",
       "Index: []"
      ]
     },
     "execution_count": 53,
     "metadata": {},
     "output_type": "execute_result"
    }
   ],
   "source": [
    "sentence_df.head()"
   ]
  },
  {
   "cell_type": "code",
   "execution_count": 54,
   "metadata": {},
   "outputs": [],
   "source": [
    "sentence_df['text'] = onion_soup_sentences\n",
    "sentence_df['target'] = 'onion soup'"
   ]
  },
  {
   "cell_type": "code",
   "execution_count": 55,
   "metadata": {},
   "outputs": [
    {
     "data": {
      "text/html": [
       "<div>\n",
       "<style scoped>\n",
       "    .dataframe tbody tr th:only-of-type {\n",
       "        vertical-align: middle;\n",
       "    }\n",
       "\n",
       "    .dataframe tbody tr th {\n",
       "        vertical-align: top;\n",
       "    }\n",
       "\n",
       "    .dataframe thead th {\n",
       "        text-align: right;\n",
       "    }\n",
       "</style>\n",
       "<table border=\"1\" class=\"dataframe\">\n",
       "  <thead>\n",
       "    <tr style=\"text-align: right;\">\n",
       "      <th></th>\n",
       "      <th>target</th>\n",
       "      <th>text</th>\n",
       "    </tr>\n",
       "  </thead>\n",
       "  <tbody>\n",
       "    <tr>\n",
       "      <th>0</th>\n",
       "      <td>onion soup</td>\n",
       "      <td>Our table ordered Bordelaise Steak Frites (with caramelized onion and red wine sauce); Chicke...</td>\n",
       "    </tr>\n",
       "    <tr>\n",
       "      <th>1</th>\n",
       "      <td>onion soup</td>\n",
       "      <td>The steak frites and onion soup were the best things we ordered</td>\n",
       "    </tr>\n",
       "    <tr>\n",
       "      <th>2</th>\n",
       "      <td>onion soup</td>\n",
       "      <td>Onion soup was also a nice, big portion, but I can't say it stood out from other onion soups I'...</td>\n",
       "    </tr>\n",
       "    <tr>\n",
       "      <th>3</th>\n",
       "      <td>onion soup</td>\n",
       "      <td>French onion soup was watery with little taste</td>\n",
       "    </tr>\n",
       "    <tr>\n",
       "      <th>4</th>\n",
       "      <td>onion soup</td>\n",
       "      <td>We ate almost everything on the menu - although their French Onion Soup wasn't spectacular, th...</td>\n",
       "    </tr>\n",
       "  </tbody>\n",
       "</table>\n",
       "</div>"
      ],
      "text/plain": [
       "       target  \\\n",
       "0  onion soup   \n",
       "1  onion soup   \n",
       "2  onion soup   \n",
       "3  onion soup   \n",
       "4  onion soup   \n",
       "\n",
       "                                                                                                  text  \n",
       "0     Our table ordered Bordelaise Steak Frites (with caramelized onion and red wine sauce); Chicke...  \n",
       "1                                      The steak frites and onion soup were the best things we ordered  \n",
       "2   Onion soup was also a nice, big portion, but I can't say it stood out from other onion soups I'...  \n",
       "3                                                       French onion soup was watery with little taste  \n",
       "4    We ate almost everything on the menu - although their French Onion Soup wasn't spectacular, th...  "
      ]
     },
     "execution_count": 55,
     "metadata": {},
     "output_type": "execute_result"
    }
   ],
   "source": [
    "sentence_df.head()"
   ]
  },
  {
   "cell_type": "code",
   "execution_count": 90,
   "metadata": {},
   "outputs": [],
   "source": [
    "onion_soup_sentences.to_csv('../data/interim/onion_soup_sentences.csv', index = False)\n"
   ]
  },
  {
   "cell_type": "code",
   "execution_count": 98,
   "metadata": {},
   "outputs": [],
   "source": [
    "eggs_benedict_sentences.to_csv('../data/interim/eggs_benedict_sentences.csv', index = False)\n"
   ]
  },
  {
   "cell_type": "code",
   "execution_count": 122,
   "metadata": {},
   "outputs": [
    {
     "data": {
      "text/plain": [
       "['   Our table ordered Bordelaise Steak Frites (with caramelized onion and red wine sauce); Chicken and Mushroom Crepe (with kale and brie); Seafood Crepe (with scallops, shrimp, peas and cream); Onion soup; and Eggs Benedict (with Canadian bacon and hollandaise sauce)',\n",
       " '   The steak frites and onion soup were the best things we ordered',\n",
       " \" Onion soup was also a nice, big portion, but I can't say it stood out from other onion soups I've had\"]"
      ]
     },
     "execution_count": 122,
     "metadata": {},
     "output_type": "execute_result"
    }
   ],
   "source": [
    "[s for s in onion_soup['sentences'][0] if 'onion soup' in s.lower()]"
   ]
  },
  {
   "cell_type": "code",
   "execution_count": null,
   "metadata": {},
   "outputs": [],
   "source": []
  },
  {
   "cell_type": "code",
   "execution_count": null,
   "metadata": {},
   "outputs": [],
   "source": []
  },
  {
   "cell_type": "code",
   "execution_count": 18,
   "metadata": {},
   "outputs": [],
   "source": [
    "def preprocess(corpus):\n",
    "    # Instantiate Tokenizer\n",
    "    tokenizer = RegexpTokenizer(r'\\w+')\n",
    "\n",
    "    # Tokenize\n",
    "    corpus = corpus.apply(lambda words : \n",
    "                          tokenizer.tokenize(str(words).lower()))\n",
    "\n",
    "    # Instantiate Lemmatizer\n",
    "    lemmatizer = WordNetLemmatizer()\n",
    "\n",
    "    # Run Lemmatizer\n",
    "    corpus = corpus.apply(lambda tokens:\n",
    "                          [lemmatizer.lemmatize(t) \n",
    "                          for t in tokens])\n",
    "    return corpus\n"
   ]
  },
  {
   "cell_type": "code",
   "execution_count": 22,
   "metadata": {},
   "outputs": [],
   "source": [
    "# onion_soup['tokens'] = preprocess(onion_soup['text'])"
   ]
  },
  {
   "cell_type": "code",
   "execution_count": null,
   "metadata": {},
   "outputs": [],
   "source": []
  },
  {
   "cell_type": "code",
   "execution_count": null,
   "metadata": {},
   "outputs": [],
   "source": []
  },
  {
   "cell_type": "code",
   "execution_count": null,
   "metadata": {},
   "outputs": [],
   "source": []
  }
 ],
 "metadata": {
  "kernelspec": {
   "display_name": "Python [default]",
   "language": "python",
   "name": "python3"
  },
  "language_info": {
   "codemirror_mode": {
    "name": "ipython",
    "version": 3
   },
   "file_extension": ".py",
   "mimetype": "text/x-python",
   "name": "python",
   "nbconvert_exporter": "python",
   "pygments_lexer": "ipython3",
   "version": "3.6.5"
  }
 },
 "nbformat": 4,
 "nbformat_minor": 2
}
