{
 "cells": [
  {
   "cell_type": "markdown",
   "metadata": {},
   "source": [
    "# Subsetting Data"
   ]
  },
  {
   "cell_type": "markdown",
   "metadata": {},
   "source": [
    "### Import Libraries"
   ]
  },
  {
   "cell_type": "code",
   "execution_count": 2,
   "metadata": {},
   "outputs": [],
   "source": [
    "import csv\n",
    "import os\n",
    "import pandas as pd\n",
    "from time import time\n",
    "import warnings\n",
    "\n",
    "# For reading from Postgres\n",
    "from sqlalchemy import create_engine\n",
    "\n",
    "warnings.filterwarnings('ignore')"
   ]
  },
  {
   "cell_type": "markdown",
   "metadata": {},
   "source": [
    "### Set filepaths"
   ]
  },
  {
   "cell_type": "code",
   "execution_count": 57,
   "metadata": {},
   "outputs": [],
   "source": [
    "raw_data_directory     = os.path.join('..', 'data', 'raw')\n",
    "interim_data_directory = os.path.join('..', 'data', 'interim')\n",
    "\n",
    "review_filepath            = os.path.join(raw_data_directory, 'yelp_academic_dataset_review.csv')\n",
    "business_filepath          = os.path.join(raw_data_directory, 'yelp_academic_dataset_business.csv')\n",
    "restaurant_review_filepath = os.path.join(interim_data_directory, 'restaurant_review.csv')\n",
    "restaurant_filepath        = os.path.join(interim_data_directory, 'restaurant.csv')"
   ]
  },
  {
   "cell_type": "markdown",
   "metadata": {},
   "source": [
    "### Load Data"
   ]
  },
  {
   "cell_type": "code",
   "execution_count": 58,
   "metadata": {},
   "outputs": [
    {
     "name": "stdout",
     "output_type": "stream",
     "text": [
      "CPU times: user 25.6 s, sys: 5.15 s, total: 30.8 s\n",
      "Wall time: 32.8 s\n"
     ]
    }
   ],
   "source": [
    "%%time \n",
    "review_df = pd.read_csv(restaurant_review_filepath)"
   ]
  },
  {
   "cell_type": "code",
   "execution_count": 59,
   "metadata": {},
   "outputs": [
    {
     "data": {
      "text/html": [
       "<div>\n",
       "<style scoped>\n",
       "    .dataframe tbody tr th:only-of-type {\n",
       "        vertical-align: middle;\n",
       "    }\n",
       "\n",
       "    .dataframe tbody tr th {\n",
       "        vertical-align: top;\n",
       "    }\n",
       "\n",
       "    .dataframe thead th {\n",
       "        text-align: right;\n",
       "    }\n",
       "</style>\n",
       "<table border=\"1\" class=\"dataframe\">\n",
       "  <thead>\n",
       "    <tr style=\"text-align: right;\">\n",
       "      <th></th>\n",
       "      <th>date</th>\n",
       "      <th>stars</th>\n",
       "      <th>text</th>\n",
       "      <th>review_id</th>\n",
       "      <th>business_id</th>\n",
       "      <th>business_name</th>\n",
       "    </tr>\n",
       "  </thead>\n",
       "  <tbody>\n",
       "    <tr>\n",
       "      <th>0</th>\n",
       "      <td>2011-02-25</td>\n",
       "      <td>2</td>\n",
       "      <td>The pizza was okay. Not the best I've had. I p...</td>\n",
       "      <td>x7mDIiDB3jEiPGPHOmDzyw</td>\n",
       "      <td>iCQpiavjjPzJ5_3gPD5Ebg</td>\n",
       "      <td>Secret Pizza</td>\n",
       "    </tr>\n",
       "    <tr>\n",
       "      <th>1</th>\n",
       "      <td>2012-11-13</td>\n",
       "      <td>5</td>\n",
       "      <td>I love this place! My fiance And I go here atl...</td>\n",
       "      <td>dDl8zu1vWPdKGihJrwQbpw</td>\n",
       "      <td>pomGBqfbxcqPv14c3XH-ZQ</td>\n",
       "      <td>Leticia's Mexican Cocina</td>\n",
       "    </tr>\n",
       "    <tr>\n",
       "      <th>2</th>\n",
       "      <td>2014-10-23</td>\n",
       "      <td>1</td>\n",
       "      <td>Terrible. Dry corn bread. Rib tips were all fa...</td>\n",
       "      <td>LZp4UX5zK3e-c5ZGSeo3kA</td>\n",
       "      <td>jtQARsP6P-LbkyjbO1qNGg</td>\n",
       "      <td>H&amp;H BBQ Plus 2</td>\n",
       "    </tr>\n",
       "    <tr>\n",
       "      <th>3</th>\n",
       "      <td>2011-02-25</td>\n",
       "      <td>2</td>\n",
       "      <td>Back in 2005-2007 this place was my FAVORITE t...</td>\n",
       "      <td>Er4NBWCmCD4nM8_p1GRdow</td>\n",
       "      <td>elqbBhBfElMNSrjFqW3now</td>\n",
       "      <td>Pin Kaow Thai Restaurant</td>\n",
       "    </tr>\n",
       "    <tr>\n",
       "      <th>4</th>\n",
       "      <td>2014-09-05</td>\n",
       "      <td>5</td>\n",
       "      <td>Delicious healthy food. The steak is amazing. ...</td>\n",
       "      <td>jsDu6QEJHbwP2Blom1PLCA</td>\n",
       "      <td>Ums3gaP2qM3W1XcA5r6SsQ</td>\n",
       "      <td>Braddah's Island Style</td>\n",
       "    </tr>\n",
       "  </tbody>\n",
       "</table>\n",
       "</div>"
      ],
      "text/plain": [
       "         date  stars                                               text  \\\n",
       "0  2011-02-25      2  The pizza was okay. Not the best I've had. I p...   \n",
       "1  2012-11-13      5  I love this place! My fiance And I go here atl...   \n",
       "2  2014-10-23      1  Terrible. Dry corn bread. Rib tips were all fa...   \n",
       "3  2011-02-25      2  Back in 2005-2007 this place was my FAVORITE t...   \n",
       "4  2014-09-05      5  Delicious healthy food. The steak is amazing. ...   \n",
       "\n",
       "                review_id             business_id             business_name  \n",
       "0  x7mDIiDB3jEiPGPHOmDzyw  iCQpiavjjPzJ5_3gPD5Ebg              Secret Pizza  \n",
       "1  dDl8zu1vWPdKGihJrwQbpw  pomGBqfbxcqPv14c3XH-ZQ  Leticia's Mexican Cocina  \n",
       "2  LZp4UX5zK3e-c5ZGSeo3kA  jtQARsP6P-LbkyjbO1qNGg            H&H BBQ Plus 2  \n",
       "3  Er4NBWCmCD4nM8_p1GRdow  elqbBhBfElMNSrjFqW3now  Pin Kaow Thai Restaurant  \n",
       "4  jsDu6QEJHbwP2Blom1PLCA  Ums3gaP2qM3W1XcA5r6SsQ    Braddah's Island Style  "
      ]
     },
     "execution_count": 59,
     "metadata": {},
     "output_type": "execute_result"
    }
   ],
   "source": [
    "review_df.head()"
   ]
  },
  {
   "cell_type": "code",
   "execution_count": 6,
   "metadata": {},
   "outputs": [],
   "source": [
    "restaurant_df = pd.read_csv(restaurant_filepath)"
   ]
  },
  {
   "cell_type": "code",
   "execution_count": 8,
   "metadata": {},
   "outputs": [
    {
     "data": {
      "text/html": [
       "<div>\n",
       "<style scoped>\n",
       "    .dataframe tbody tr th:only-of-type {\n",
       "        vertical-align: middle;\n",
       "    }\n",
       "\n",
       "    .dataframe tbody tr th {\n",
       "        vertical-align: top;\n",
       "    }\n",
       "\n",
       "    .dataframe thead th {\n",
       "        text-align: right;\n",
       "    }\n",
       "</style>\n",
       "<table border=\"1\" class=\"dataframe\">\n",
       "  <thead>\n",
       "    <tr style=\"text-align: right;\">\n",
       "      <th></th>\n",
       "      <th>name</th>\n",
       "      <th>business_id</th>\n",
       "      <th>stars</th>\n",
       "      <th>review_count</th>\n",
       "      <th>categories</th>\n",
       "      <th>longitude</th>\n",
       "      <th>latitude</th>\n",
       "      <th>postal_code</th>\n",
       "      <th>city</th>\n",
       "      <th>state</th>\n",
       "    </tr>\n",
       "  </thead>\n",
       "  <tbody>\n",
       "    <tr>\n",
       "      <th>0</th>\n",
       "      <td>Minhas Micro Brewery</td>\n",
       "      <td>Apn5Q_b6Nz61Tq4XzPdf9A</td>\n",
       "      <td>4.0</td>\n",
       "      <td>24</td>\n",
       "      <td>Tours, Breweries, Pizza, Restaurants, Food, Ho...</td>\n",
       "      <td>-114.031675</td>\n",
       "      <td>51.091813</td>\n",
       "      <td>T2E 6L6</td>\n",
       "      <td>Calgary</td>\n",
       "      <td>AB</td>\n",
       "    </tr>\n",
       "    <tr>\n",
       "      <th>1</th>\n",
       "      <td>CK'S BBQ &amp; Catering</td>\n",
       "      <td>AjEbIBw6ZFfln7ePHha9PA</td>\n",
       "      <td>4.5</td>\n",
       "      <td>3</td>\n",
       "      <td>Chicken Wings, Burgers, Caterers, Street Vendo...</td>\n",
       "      <td>-114.939821</td>\n",
       "      <td>35.960734</td>\n",
       "      <td>89002</td>\n",
       "      <td>Henderson</td>\n",
       "      <td>NV</td>\n",
       "    </tr>\n",
       "    <tr>\n",
       "      <th>2</th>\n",
       "      <td>La Bastringue</td>\n",
       "      <td>O8S5hYJ1SMc8fA4QBtVujA</td>\n",
       "      <td>4.0</td>\n",
       "      <td>5</td>\n",
       "      <td>Breakfast &amp; Brunch, Restaurants, French, Sandw...</td>\n",
       "      <td>-73.599300</td>\n",
       "      <td>45.540503</td>\n",
       "      <td>H2G 1K7</td>\n",
       "      <td>Montréal</td>\n",
       "      <td>QC</td>\n",
       "    </tr>\n",
       "    <tr>\n",
       "      <th>3</th>\n",
       "      <td>Thai One On</td>\n",
       "      <td>6OuOZAok8ikONMS_T3EzXg</td>\n",
       "      <td>2.0</td>\n",
       "      <td>7</td>\n",
       "      <td>Restaurants, Thai</td>\n",
       "      <td>-79.632763</td>\n",
       "      <td>43.712946</td>\n",
       "      <td>L4T 1A8</td>\n",
       "      <td>Mississauga</td>\n",
       "      <td>ON</td>\n",
       "    </tr>\n",
       "    <tr>\n",
       "      <th>4</th>\n",
       "      <td>Filiberto's Mexican Food</td>\n",
       "      <td>8-NRKkPY1UiFXW20WXKiXg</td>\n",
       "      <td>2.5</td>\n",
       "      <td>40</td>\n",
       "      <td>Mexican, Restaurants</td>\n",
       "      <td>-112.341302</td>\n",
       "      <td>33.448106</td>\n",
       "      <td>85323</td>\n",
       "      <td>Avondale</td>\n",
       "      <td>AZ</td>\n",
       "    </tr>\n",
       "  </tbody>\n",
       "</table>\n",
       "</div>"
      ],
      "text/plain": [
       "                       name             business_id  stars  review_count  \\\n",
       "0      Minhas Micro Brewery  Apn5Q_b6Nz61Tq4XzPdf9A    4.0            24   \n",
       "1       CK'S BBQ & Catering  AjEbIBw6ZFfln7ePHha9PA    4.5             3   \n",
       "2             La Bastringue  O8S5hYJ1SMc8fA4QBtVujA    4.0             5   \n",
       "3               Thai One On  6OuOZAok8ikONMS_T3EzXg    2.0             7   \n",
       "4  Filiberto's Mexican Food  8-NRKkPY1UiFXW20WXKiXg    2.5            40   \n",
       "\n",
       "                                          categories   longitude   latitude  \\\n",
       "0  Tours, Breweries, Pizza, Restaurants, Food, Ho... -114.031675  51.091813   \n",
       "1  Chicken Wings, Burgers, Caterers, Street Vendo... -114.939821  35.960734   \n",
       "2  Breakfast & Brunch, Restaurants, French, Sandw...  -73.599300  45.540503   \n",
       "3                                  Restaurants, Thai  -79.632763  43.712946   \n",
       "4                               Mexican, Restaurants -112.341302  33.448106   \n",
       "\n",
       "  postal_code         city state  \n",
       "0     T2E 6L6      Calgary    AB  \n",
       "1       89002    Henderson    NV  \n",
       "2     H2G 1K7     Montréal    QC  \n",
       "3     L4T 1A8  Mississauga    ON  \n",
       "4       85323     Avondale    AZ  "
      ]
     },
     "execution_count": 8,
     "metadata": {},
     "output_type": "execute_result"
    }
   ],
   "source": [
    "restaurant_df.head()"
   ]
  },
  {
   "cell_type": "code",
   "execution_count": 5,
   "metadata": {},
   "outputs": [],
   "source": [
    "mon_ami_gabi_id = '4JNXUYY8wbaaDmk3BPzlWw'"
   ]
  },
  {
   "cell_type": "markdown",
   "metadata": {},
   "source": [
    "### Selecting a restaurant using PostgreSQL"
   ]
  },
  {
   "cell_type": "code",
   "execution_count": 4,
   "metadata": {},
   "outputs": [],
   "source": [
    "public_ip = 'localhost'\n",
    "username = 'postgres'\n",
    "password = 'password'\n",
    "port = '5432'\n",
    "database = 'yelp'\n",
    "\n",
    "# Construct database URL from environment variables\n",
    "uri = f'postgresql://{username}:{password}@{public_ip}:{port}/{database}'\n",
    "\n",
    "# Connection to Postgres database\n",
    "engine = create_engine(uri)"
   ]
  },
  {
   "cell_type": "code",
   "execution_count": 20,
   "metadata": {},
   "outputs": [
    {
     "name": "stdout",
     "output_type": "stream",
     "text": [
      "CPU times: user 8.91 ms, sys: 4.42 ms, total: 13.3 ms\n",
      "Wall time: 29.4 s\n"
     ]
    }
   ],
   "source": [
    "%%time\n",
    "\n",
    "SQL = f'''\n",
    "SELECT date, stars, text, review_id, business_name\n",
    "FROM reviews\n",
    "WHERE business_id = '{mon_ami_gabi_id}'\n",
    "  AND text ILIKE '%%onion soup%%'\n",
    "'''\n",
    "\n",
    "reviews = pd.read_sql(SQL, con = engine)"
   ]
  },
  {
   "cell_type": "code",
   "execution_count": 21,
   "metadata": {},
   "outputs": [
    {
     "data": {
      "text/html": [
       "<div>\n",
       "<style scoped>\n",
       "    .dataframe tbody tr th:only-of-type {\n",
       "        vertical-align: middle;\n",
       "    }\n",
       "\n",
       "    .dataframe tbody tr th {\n",
       "        vertical-align: top;\n",
       "    }\n",
       "\n",
       "    .dataframe thead th {\n",
       "        text-align: right;\n",
       "    }\n",
       "</style>\n",
       "<table border=\"1\" class=\"dataframe\">\n",
       "  <thead>\n",
       "    <tr style=\"text-align: right;\">\n",
       "      <th></th>\n",
       "      <th>date</th>\n",
       "      <th>stars</th>\n",
       "      <th>text</th>\n",
       "      <th>review_id</th>\n",
       "      <th>business_name</th>\n",
       "    </tr>\n",
       "  </thead>\n",
       "  <tbody>\n",
       "    <tr>\n",
       "      <th>0</th>\n",
       "      <td>2015-02-10</td>\n",
       "      <td>2</td>\n",
       "      <td>Other than being right across the Fountains of...</td>\n",
       "      <td>uczUlWIWuO-KzoUiLhICNw</td>\n",
       "      <td>Mon Ami Gabi</td>\n",
       "    </tr>\n",
       "    <tr>\n",
       "      <th>1</th>\n",
       "      <td>2014-12-03</td>\n",
       "      <td>5</td>\n",
       "      <td>Where to begin!  Now our dining experience her...</td>\n",
       "      <td>QoY3L_d_axTcMn68pI8zxQ</td>\n",
       "      <td>Mon Ami Gabi</td>\n",
       "    </tr>\n",
       "    <tr>\n",
       "      <th>2</th>\n",
       "      <td>2017-04-24</td>\n",
       "      <td>3</td>\n",
       "      <td>French onion soup was watery with little taste...</td>\n",
       "      <td>185E0cpQpDRUO4JRGu3fXQ</td>\n",
       "      <td>Mon Ami Gabi</td>\n",
       "    </tr>\n",
       "    <tr>\n",
       "      <th>3</th>\n",
       "      <td>2008-05-16</td>\n",
       "      <td>4</td>\n",
       "      <td>This place gets an extra star just for their c...</td>\n",
       "      <td>-RR6sy7KqQ7J_x5hQxEUkA</td>\n",
       "      <td>Mon Ami Gabi</td>\n",
       "    </tr>\n",
       "    <tr>\n",
       "      <th>4</th>\n",
       "      <td>2010-12-04</td>\n",
       "      <td>4</td>\n",
       "      <td>Charming resturant that looks like it would be...</td>\n",
       "      <td>nth_q-GqOy_Ly8sxsREIwA</td>\n",
       "      <td>Mon Ami Gabi</td>\n",
       "    </tr>\n",
       "  </tbody>\n",
       "</table>\n",
       "</div>"
      ],
      "text/plain": [
       "         date  stars                                               text  \\\n",
       "0  2015-02-10      2  Other than being right across the Fountains of...   \n",
       "1  2014-12-03      5  Where to begin!  Now our dining experience her...   \n",
       "2  2017-04-24      3  French onion soup was watery with little taste...   \n",
       "3  2008-05-16      4  This place gets an extra star just for their c...   \n",
       "4  2010-12-04      4  Charming resturant that looks like it would be...   \n",
       "\n",
       "                review_id business_name  \n",
       "0  uczUlWIWuO-KzoUiLhICNw  Mon Ami Gabi  \n",
       "1  QoY3L_d_axTcMn68pI8zxQ  Mon Ami Gabi  \n",
       "2  185E0cpQpDRUO4JRGu3fXQ  Mon Ami Gabi  \n",
       "3  -RR6sy7KqQ7J_x5hQxEUkA  Mon Ami Gabi  \n",
       "4  nth_q-GqOy_Ly8sxsREIwA  Mon Ami Gabi  "
      ]
     },
     "execution_count": 21,
     "metadata": {},
     "output_type": "execute_result"
    }
   ],
   "source": [
    "reviews.head()"
   ]
  },
  {
   "cell_type": "code",
   "execution_count": 22,
   "metadata": {},
   "outputs": [
    {
     "data": {
      "text/plain": [
       "(868, 5)"
      ]
     },
     "execution_count": 22,
     "metadata": {},
     "output_type": "execute_result"
    }
   ],
   "source": [
    "reviews.shape"
   ]
  },
  {
   "cell_type": "markdown",
   "metadata": {},
   "source": [
    "### Building my own search engine "
   ]
  },
  {
   "cell_type": "code",
   "execution_count": 124,
   "metadata": {},
   "outputs": [],
   "source": [
    "class SearchCriteria:\n",
    "    '''\n",
    "    query (any): value to search for\n",
    "    column (str): column name of dataframe to search\n",
    "    exact (bool): True: return exact matches\n",
    "                  False: return results that contains the query\n",
    "    '''\n",
    "    \n",
    "    query = None\n",
    "    column = None\n",
    "    exact = None\n",
    "    \n",
    "    def __init__(self, query, column, exact = False):\n",
    "        \n",
    "        assert type(exact) is bool, 'TypeError: exact must be boolean.'\n",
    "        assert type(column) is str, 'TypeError: column must be string.'\n",
    "        \n",
    "        self.query = query\n",
    "        self.column = column\n",
    "        self.exact = exact\n",
    "        \n",
    "        \n",
    "    def summarize(self):\n",
    "        \n",
    "        print(f'Query: {self.query}\\nColumn: {self.column}\\nExact: {self.exact}\\n')\n",
    "        \n",
    "    "
   ]
  },
  {
   "cell_type": "code",
   "execution_count": 21,
   "metadata": {},
   "outputs": [],
   "source": [
    "def searchCriteria(query, column, exact = False):\n",
    "    '''\n",
    "    Returns a dictionary for a single query criteria.\n",
    "    '''\n",
    "    if type(exact) is not bool:\n",
    "        print('Error: Exact must be True or False.')\n",
    "        return None\n",
    "    \n",
    "    return {\n",
    "        'query' : query,\n",
    "        'column' : column,\n",
    "        'exact' : exact\n",
    "    }"
   ]
  },
  {
   "cell_type": "markdown",
   "metadata": {},
   "source": [
    "### TODO: Optimize search_reviews function\n",
    "Function takes 63 seconds vs   \n",
    "Iterative Masking takes 0.48 seconds"
   ]
  },
  {
   "cell_type": "code",
   "execution_count": 43,
   "metadata": {},
   "outputs": [],
   "source": [
    "def search_reviews(df, queries):\n",
    "    '''\n",
    "    Returns a subset of df that matches a list of SearchCriteria.\n",
    "    \n",
    "    df: Dataframe\n",
    "    queries: \n",
    "    \n",
    "    Use the SearchCriteria class to build a list of queries.\n",
    "    '''\n",
    "    supermask = True\n",
    "\n",
    "    for query in queries:\n",
    "        if query.exact:\n",
    "            mask = df[query.column] == query.query\n",
    "        else:\n",
    "            mask = df[query.column].str.contains(query.query, case = False)\n",
    "        supermask = supermask & mask\n",
    "\n",
    "    return df[supermask]                \n"
   ]
  },
  {
   "cell_type": "markdown",
   "metadata": {},
   "source": [
    "### Select Mon Ami Gabi reviews"
   ]
  },
  {
   "cell_type": "code",
   "execution_count": 60,
   "metadata": {},
   "outputs": [],
   "source": [
    "mon_ami_gabi_reviews = review_df[review_df['business_id'] == mon_ami_gabi_id]"
   ]
  },
  {
   "cell_type": "code",
   "execution_count": 61,
   "metadata": {},
   "outputs": [
    {
     "data": {
      "text/plain": [
       "(7968, 6)"
      ]
     },
     "execution_count": 61,
     "metadata": {},
     "output_type": "execute_result"
    }
   ],
   "source": [
    "mon_ami_gabi_reviews.shape"
   ]
  },
  {
   "cell_type": "markdown",
   "metadata": {},
   "source": [
    "[Mon Ami Gabi's Yelp Page](https://www.yelp.com/biz/mon-ami-gabi-las-vegas-2)"
   ]
  },
  {
   "cell_type": "code",
   "execution_count": 62,
   "metadata": {},
   "outputs": [],
   "source": [
    "mon_ami_gabi_reviews.to_csv('../data/interim/mon_ami_gabi_reviews.csv', index = False)"
   ]
  },
  {
   "cell_type": "code",
   "execution_count": 63,
   "metadata": {},
   "outputs": [
    {
     "data": {
      "text/html": [
       "<div>\n",
       "<style scoped>\n",
       "    .dataframe tbody tr th:only-of-type {\n",
       "        vertical-align: middle;\n",
       "    }\n",
       "\n",
       "    .dataframe tbody tr th {\n",
       "        vertical-align: top;\n",
       "    }\n",
       "\n",
       "    .dataframe thead th {\n",
       "        text-align: right;\n",
       "    }\n",
       "</style>\n",
       "<table border=\"1\" class=\"dataframe\">\n",
       "  <thead>\n",
       "    <tr style=\"text-align: right;\">\n",
       "      <th></th>\n",
       "      <th>date</th>\n",
       "      <th>stars</th>\n",
       "      <th>text</th>\n",
       "      <th>review_id</th>\n",
       "      <th>business_id</th>\n",
       "      <th>business_name</th>\n",
       "    </tr>\n",
       "  </thead>\n",
       "  <tbody>\n",
       "    <tr>\n",
       "      <th>213</th>\n",
       "      <td>2012-06-10</td>\n",
       "      <td>4</td>\n",
       "      <td>I booked a table here for brunch and it did no...</td>\n",
       "      <td>wl8BO_I-is-JaMwMW5c_gQ</td>\n",
       "      <td>4JNXUYY8wbaaDmk3BPzlWw</td>\n",
       "      <td>Mon Ami Gabi</td>\n",
       "    </tr>\n",
       "    <tr>\n",
       "      <th>407</th>\n",
       "      <td>2012-01-20</td>\n",
       "      <td>4</td>\n",
       "      <td>Came here for lunch after a long night of part...</td>\n",
       "      <td>cf9RrqHY9eQ9M53OPyXLtg</td>\n",
       "      <td>4JNXUYY8wbaaDmk3BPzlWw</td>\n",
       "      <td>Mon Ami Gabi</td>\n",
       "    </tr>\n",
       "    <tr>\n",
       "      <th>1028</th>\n",
       "      <td>2017-05-10</td>\n",
       "      <td>5</td>\n",
       "      <td>Loved the fried goat cheese in tomato sauce al...</td>\n",
       "      <td>BvmhSQ6WFm2Jxu01G8OpdQ</td>\n",
       "      <td>4JNXUYY8wbaaDmk3BPzlWw</td>\n",
       "      <td>Mon Ami Gabi</td>\n",
       "    </tr>\n",
       "    <tr>\n",
       "      <th>1311</th>\n",
       "      <td>2014-05-03</td>\n",
       "      <td>5</td>\n",
       "      <td>Love the outdoor atmosphere. Price was right, ...</td>\n",
       "      <td>IoKp9n1489XohTV_-EJ0IQ</td>\n",
       "      <td>4JNXUYY8wbaaDmk3BPzlWw</td>\n",
       "      <td>Mon Ami Gabi</td>\n",
       "    </tr>\n",
       "    <tr>\n",
       "      <th>1612</th>\n",
       "      <td>2014-06-04</td>\n",
       "      <td>5</td>\n",
       "      <td>Best steak in Vegas. Best mashed potatoes in V...</td>\n",
       "      <td>7YNmSq7Lb1zi4SUKXaSjfg</td>\n",
       "      <td>4JNXUYY8wbaaDmk3BPzlWw</td>\n",
       "      <td>Mon Ami Gabi</td>\n",
       "    </tr>\n",
       "  </tbody>\n",
       "</table>\n",
       "</div>"
      ],
      "text/plain": [
       "            date  stars                                               text  \\\n",
       "213   2012-06-10      4  I booked a table here for brunch and it did no...   \n",
       "407   2012-01-20      4  Came here for lunch after a long night of part...   \n",
       "1028  2017-05-10      5  Loved the fried goat cheese in tomato sauce al...   \n",
       "1311  2014-05-03      5  Love the outdoor atmosphere. Price was right, ...   \n",
       "1612  2014-06-04      5  Best steak in Vegas. Best mashed potatoes in V...   \n",
       "\n",
       "                   review_id             business_id business_name  \n",
       "213   wl8BO_I-is-JaMwMW5c_gQ  4JNXUYY8wbaaDmk3BPzlWw  Mon Ami Gabi  \n",
       "407   cf9RrqHY9eQ9M53OPyXLtg  4JNXUYY8wbaaDmk3BPzlWw  Mon Ami Gabi  \n",
       "1028  BvmhSQ6WFm2Jxu01G8OpdQ  4JNXUYY8wbaaDmk3BPzlWw  Mon Ami Gabi  \n",
       "1311  IoKp9n1489XohTV_-EJ0IQ  4JNXUYY8wbaaDmk3BPzlWw  Mon Ami Gabi  \n",
       "1612  7YNmSq7Lb1zi4SUKXaSjfg  4JNXUYY8wbaaDmk3BPzlWw  Mon Ami Gabi  "
      ]
     },
     "execution_count": 63,
     "metadata": {},
     "output_type": "execute_result"
    }
   ],
   "source": [
    "mon_ami_gabi_reviews.head()"
   ]
  },
  {
   "cell_type": "markdown",
   "metadata": {},
   "source": [
    "### Select reviews from Mon Ami Gabi that mention a certain menu item"
   ]
  },
  {
   "cell_type": "markdown",
   "metadata": {},
   "source": [
    "#### Select Mon Ami Gabi reviews that mention French `onion soup`\n",
    "\n",
    "I tried subsetting using three methods: \n",
    "1. A search function for reusable code\n",
    "2. Iterative masking: `df1 = df[mask1]`, `df2 = df1[mask2]`, etc.\n",
    "3. Consecutive masking: `df[mask1 & mask2 & ...]`\n",
    "\n",
    "Iterative masking performed the fastest."
   ]
  },
  {
   "cell_type": "code",
   "execution_count": 64,
   "metadata": {},
   "outputs": [],
   "source": [
    "queries = []\n",
    "queries.append(SearchCriteria(mon_ami_gabi_id, 'business_id'))\n",
    "queries.append(SearchCriteria('onion soup', 'text'))"
   ]
  },
  {
   "cell_type": "code",
   "execution_count": 85,
   "metadata": {},
   "outputs": [
    {
     "name": "stdout",
     "output_type": "stream",
     "text": [
      "Found 868 results in 0.1076 seconds\n"
     ]
    }
   ],
   "source": [
    "# Using search_reviews function\n",
    "t0 = time()\n",
    "\n",
    "onion_soup_reviews = search_reviews(mon_ami_gabi_reviews, queries)\n",
    "\n",
    "t1 = np.round (time()-t0, 4)\n",
    "\n",
    "print(f'Found {onion_soup_reviews.shape[0]} results in {t1} seconds')"
   ]
  },
  {
   "cell_type": "code",
   "execution_count": 86,
   "metadata": {},
   "outputs": [
    {
     "name": "stdout",
     "output_type": "stream",
     "text": [
      "CPU times: user 320 ms, sys: 3.99 ms, total: 324 ms\n",
      "Wall time: 323 ms\n"
     ]
    }
   ],
   "source": [
    "%%time\n",
    "mon_ami_gabi_mask = review_df['business_id'] == mon_ami_gabi_id\n",
    "onion_soup_mask = mon_ami_gabi_reviews['text'].str.contains('onion soup', case = False)\n"
   ]
  },
  {
   "cell_type": "code",
   "execution_count": 97,
   "metadata": {},
   "outputs": [
    {
     "name": "stdout",
     "output_type": "stream",
     "text": [
      "Found 868 results in 0.6099 seconds\n"
     ]
    }
   ],
   "source": [
    "# Searching Mon Ami Gabi AND Onion Soup\n",
    "t0 = time()\n",
    "\n",
    "onion_soup_reviews = review_df[mon_ami_gabi_mask & onion_soup_mask]\n",
    "\n",
    "t1 = np.round(time() - t0, 4)\n",
    "\n",
    "print(f'Found {onion_soup_reviews.shape[0]} results in {t1} seconds')"
   ]
  },
  {
   "cell_type": "code",
   "execution_count": 90,
   "metadata": {},
   "outputs": [
    {
     "name": "stdout",
     "output_type": "stream",
     "text": [
      "Found 868 results in 0.0021 seconds\n"
     ]
    }
   ],
   "source": [
    "# Searching Onion Soup in Mon Ami Gabi data\n",
    "t0 = time()\n",
    "\n",
    "onion_soup_reviews = mon_ami_gabi_reviews[onion_soup_mask]\n",
    "\n",
    "t1 = np.round(time() - t0, 4)\n",
    "\n",
    "print(f'Found {onion_soup_reviews.shape[0]} results in {t1} seconds')"
   ]
  },
  {
   "cell_type": "code",
   "execution_count": 92,
   "metadata": {},
   "outputs": [
    {
     "name": "stdout",
     "output_type": "stream",
     "text": [
      "Found 868 results in 0.0123 seconds\n"
     ]
    }
   ],
   "source": [
    "# Searching Mon Ami Gabi, then searching Onion Soup\n",
    "t0 = time()\n",
    "\n",
    "mon_ami_gabi = review_df[mon_ami_gabi_mask]\n",
    "onion_soup_reviews = mon_ami_gabi[onion_soup_mask]\n",
    "\n",
    "t1 = np.round(time() - t0, 4)\n",
    "\n",
    "print(f'Found {onion_soup_reviews.shape[0]} results in {t1} seconds')"
   ]
  },
  {
   "cell_type": "code",
   "execution_count": 99,
   "metadata": {},
   "outputs": [
    {
     "name": "stdout",
     "output_type": "stream",
     "text": [
      "Found 868 results in 0.0111 seconds\n"
     ]
    }
   ],
   "source": [
    "# chain masking\n",
    "# Searching Mon Ami Gabi, then searching Onion Soup\n",
    "t0 = time()\n",
    "\n",
    "onion_soup_reviews = review_df[mon_ami_gabi_mask][onion_soup_mask]\n",
    "\n",
    "t1 = np.round(time() - t0, 4)\n",
    "\n",
    "print(f'Found {onion_soup_reviews.shape[0]} results in {t1} seconds')"
   ]
  },
  {
   "cell_type": "markdown",
   "metadata": {},
   "source": [
    "Chain masking seems to be the fastest method. However it requires the entire dataset to be loaded into memory, which is not scalable. "
   ]
  },
  {
   "cell_type": "code",
   "execution_count": 93,
   "metadata": {},
   "outputs": [
    {
     "data": {
      "text/plain": [
       "(868, 6)"
      ]
     },
     "execution_count": 93,
     "metadata": {},
     "output_type": "execute_result"
    }
   ],
   "source": [
    "onion_soup_reviews.shape"
   ]
  },
  {
   "cell_type": "code",
   "execution_count": 94,
   "metadata": {
    "scrolled": false
   },
   "outputs": [
    {
     "data": {
      "text/html": [
       "<div>\n",
       "<style scoped>\n",
       "    .dataframe tbody tr th:only-of-type {\n",
       "        vertical-align: middle;\n",
       "    }\n",
       "\n",
       "    .dataframe tbody tr th {\n",
       "        vertical-align: top;\n",
       "    }\n",
       "\n",
       "    .dataframe thead th {\n",
       "        text-align: right;\n",
       "    }\n",
       "</style>\n",
       "<table border=\"1\" class=\"dataframe\">\n",
       "  <thead>\n",
       "    <tr style=\"text-align: right;\">\n",
       "      <th></th>\n",
       "      <th>date</th>\n",
       "      <th>stars</th>\n",
       "      <th>text</th>\n",
       "      <th>review_id</th>\n",
       "      <th>business_id</th>\n",
       "      <th>business_name</th>\n",
       "    </tr>\n",
       "  </thead>\n",
       "  <tbody>\n",
       "    <tr>\n",
       "      <th>9215</th>\n",
       "      <td>2015-02-10</td>\n",
       "      <td>2</td>\n",
       "      <td>Other than being right across the Fountains of...</td>\n",
       "      <td>uczUlWIWuO-KzoUiLhICNw</td>\n",
       "      <td>4JNXUYY8wbaaDmk3BPzlWw</td>\n",
       "      <td>Mon Ami Gabi</td>\n",
       "    </tr>\n",
       "    <tr>\n",
       "      <th>20080</th>\n",
       "      <td>2017-04-24</td>\n",
       "      <td>3</td>\n",
       "      <td>French onion soup was watery with little taste...</td>\n",
       "      <td>185E0cpQpDRUO4JRGu3fXQ</td>\n",
       "      <td>4JNXUYY8wbaaDmk3BPzlWw</td>\n",
       "      <td>Mon Ami Gabi</td>\n",
       "    </tr>\n",
       "    <tr>\n",
       "      <th>23257</th>\n",
       "      <td>2014-12-03</td>\n",
       "      <td>5</td>\n",
       "      <td>Where to begin!  Now our dining experience her...</td>\n",
       "      <td>QoY3L_d_axTcMn68pI8zxQ</td>\n",
       "      <td>4JNXUYY8wbaaDmk3BPzlWw</td>\n",
       "      <td>Mon Ami Gabi</td>\n",
       "    </tr>\n",
       "    <tr>\n",
       "      <th>24424</th>\n",
       "      <td>2010-12-04</td>\n",
       "      <td>4</td>\n",
       "      <td>Charming resturant that looks like it would be...</td>\n",
       "      <td>nth_q-GqOy_Ly8sxsREIwA</td>\n",
       "      <td>4JNXUYY8wbaaDmk3BPzlWw</td>\n",
       "      <td>Mon Ami Gabi</td>\n",
       "    </tr>\n",
       "    <tr>\n",
       "      <th>37580</th>\n",
       "      <td>2010-07-11</td>\n",
       "      <td>5</td>\n",
       "      <td>This review is long overdue!   I have been eat...</td>\n",
       "      <td>l0Lm7Dx69s6aH7a-5dwKDg</td>\n",
       "      <td>4JNXUYY8wbaaDmk3BPzlWw</td>\n",
       "      <td>Mon Ami Gabi</td>\n",
       "    </tr>\n",
       "  </tbody>\n",
       "</table>\n",
       "</div>"
      ],
      "text/plain": [
       "             date  stars                                               text  \\\n",
       "9215   2015-02-10      2  Other than being right across the Fountains of...   \n",
       "20080  2017-04-24      3  French onion soup was watery with little taste...   \n",
       "23257  2014-12-03      5  Where to begin!  Now our dining experience her...   \n",
       "24424  2010-12-04      4  Charming resturant that looks like it would be...   \n",
       "37580  2010-07-11      5  This review is long overdue!   I have been eat...   \n",
       "\n",
       "                    review_id             business_id business_name  \n",
       "9215   uczUlWIWuO-KzoUiLhICNw  4JNXUYY8wbaaDmk3BPzlWw  Mon Ami Gabi  \n",
       "20080  185E0cpQpDRUO4JRGu3fXQ  4JNXUYY8wbaaDmk3BPzlWw  Mon Ami Gabi  \n",
       "23257  QoY3L_d_axTcMn68pI8zxQ  4JNXUYY8wbaaDmk3BPzlWw  Mon Ami Gabi  \n",
       "24424  nth_q-GqOy_Ly8sxsREIwA  4JNXUYY8wbaaDmk3BPzlWw  Mon Ami Gabi  \n",
       "37580  l0Lm7Dx69s6aH7a-5dwKDg  4JNXUYY8wbaaDmk3BPzlWw  Mon Ami Gabi  "
      ]
     },
     "execution_count": 94,
     "metadata": {},
     "output_type": "execute_result"
    }
   ],
   "source": [
    "onion_soup_reviews.head()"
   ]
  },
  {
   "cell_type": "markdown",
   "metadata": {},
   "source": [
    "#### Save Onion Soup reviews"
   ]
  },
  {
   "cell_type": "code",
   "execution_count": 95,
   "metadata": {},
   "outputs": [],
   "source": [
    "onion_soup_reviews.to_csv('../data/interim/onion_soup_reviews.csv', index = False)"
   ]
  },
  {
   "cell_type": "markdown",
   "metadata": {},
   "source": [
    "#### Select Mon Ami Gabi reviews that  mention eggs `benedict`"
   ]
  },
  {
   "cell_type": "code",
   "execution_count": 100,
   "metadata": {},
   "outputs": [
    {
     "name": "stdout",
     "output_type": "stream",
     "text": [
      "Found 610 results in 4.47 seconds\n"
     ]
    }
   ],
   "source": [
    "t0 = time()\n",
    "\n",
    "eggs_benedict_reviews = mon_ami_gabi_reviews[mon_ami_gabi_reviews['text'].str.contains('benedict', case = False)]\n",
    "t1 = np.round(time() - t0, 2)\n",
    "\n",
    "print(f'Found {eggs_benedict_reviews.shape[0]} results in {t1} seconds')"
   ]
  },
  {
   "cell_type": "markdown",
   "metadata": {},
   "source": [
    "#### Save Eggs Benedict reviews"
   ]
  },
  {
   "cell_type": "code",
   "execution_count": 108,
   "metadata": {},
   "outputs": [],
   "source": [
    "eggs_benedict_reviews.to_csv('../data/interim/eggs_benedict_reviews.csv', index = False)"
   ]
  },
  {
   "cell_type": "code",
   "execution_count": null,
   "metadata": {},
   "outputs": [],
   "source": []
  },
  {
   "cell_type": "markdown",
   "metadata": {},
   "source": [
    "### Select restaurants with the most reviews"
   ]
  },
  {
   "cell_type": "code",
   "execution_count": 111,
   "metadata": {},
   "outputs": [
    {
     "data": {
      "text/html": [
       "<div>\n",
       "<style scoped>\n",
       "    .dataframe tbody tr th:only-of-type {\n",
       "        vertical-align: middle;\n",
       "    }\n",
       "\n",
       "    .dataframe tbody tr th {\n",
       "        vertical-align: top;\n",
       "    }\n",
       "\n",
       "    .dataframe thead th {\n",
       "        text-align: right;\n",
       "    }\n",
       "</style>\n",
       "<table border=\"1\" class=\"dataframe\">\n",
       "  <thead>\n",
       "    <tr style=\"text-align: right;\">\n",
       "      <th></th>\n",
       "      <th>name</th>\n",
       "      <th>business_id</th>\n",
       "      <th>stars</th>\n",
       "      <th>review_count</th>\n",
       "      <th>categories</th>\n",
       "      <th>longitude</th>\n",
       "      <th>latitude</th>\n",
       "      <th>postal_code</th>\n",
       "      <th>city</th>\n",
       "      <th>state</th>\n",
       "    </tr>\n",
       "  </thead>\n",
       "  <tbody>\n",
       "    <tr>\n",
       "      <th>42044</th>\n",
       "      <td>Mon Ami Gabi</td>\n",
       "      <td>4JNXUYY8wbaaDmk3BPzlWw</td>\n",
       "      <td>4.0</td>\n",
       "      <td>7968</td>\n",
       "      <td>Steakhouses, Breakfast &amp; Brunch, Restaurants, ...</td>\n",
       "      <td>-115.172581</td>\n",
       "      <td>36.112827</td>\n",
       "      <td>89109</td>\n",
       "      <td>Las Vegas</td>\n",
       "      <td>NV</td>\n",
       "    </tr>\n",
       "    <tr>\n",
       "      <th>56089</th>\n",
       "      <td>Bacchanal Buffet</td>\n",
       "      <td>RESDUcs7fIiihp38-d6_6g</td>\n",
       "      <td>4.0</td>\n",
       "      <td>7866</td>\n",
       "      <td>Sandwiches, Buffets, Breakfast &amp; Brunch, Food,...</td>\n",
       "      <td>-115.176222</td>\n",
       "      <td>36.116113</td>\n",
       "      <td>89109</td>\n",
       "      <td>Las Vegas</td>\n",
       "      <td>NV</td>\n",
       "    </tr>\n",
       "    <tr>\n",
       "      <th>19340</th>\n",
       "      <td>Wicked Spoon</td>\n",
       "      <td>K7lWdNUhCbcnEvI0NhGewg</td>\n",
       "      <td>3.5</td>\n",
       "      <td>6446</td>\n",
       "      <td>Buffets, Restaurants, Breakfast &amp; Brunch</td>\n",
       "      <td>-115.176155</td>\n",
       "      <td>36.109550</td>\n",
       "      <td>89109</td>\n",
       "      <td>Las Vegas</td>\n",
       "      <td>NV</td>\n",
       "    </tr>\n",
       "    <tr>\n",
       "      <th>56981</th>\n",
       "      <td>Gordon Ramsay BurGR</td>\n",
       "      <td>cYwJA2A6I12KNkm2rtXd5g</td>\n",
       "      <td>4.0</td>\n",
       "      <td>5472</td>\n",
       "      <td>Burgers, American (Traditional), Restaurants</td>\n",
       "      <td>-115.172169</td>\n",
       "      <td>36.110724</td>\n",
       "      <td>89109</td>\n",
       "      <td>Las Vegas</td>\n",
       "      <td>NV</td>\n",
       "    </tr>\n",
       "    <tr>\n",
       "      <th>51619</th>\n",
       "      <td>Hash House A Go Go</td>\n",
       "      <td>f4x1YBxkLrZg652xt2KR5g</td>\n",
       "      <td>4.0</td>\n",
       "      <td>5382</td>\n",
       "      <td>Breakfast &amp; Brunch, American (New), Restaurants</td>\n",
       "      <td>-115.171580</td>\n",
       "      <td>36.118181</td>\n",
       "      <td>89109</td>\n",
       "      <td>Las Vegas</td>\n",
       "      <td>NV</td>\n",
       "    </tr>\n",
       "    <tr>\n",
       "      <th>53840</th>\n",
       "      <td>Earl of Sandwich</td>\n",
       "      <td>DkYS3arLOhA8si5uUEmHOw</td>\n",
       "      <td>4.5</td>\n",
       "      <td>4981</td>\n",
       "      <td>Sandwiches, Wraps, Food, Caterers, Restaurants...</td>\n",
       "      <td>-115.171869</td>\n",
       "      <td>36.109443</td>\n",
       "      <td>89109</td>\n",
       "      <td>Las Vegas</td>\n",
       "      <td>NV</td>\n",
       "    </tr>\n",
       "    <tr>\n",
       "      <th>55021</th>\n",
       "      <td>The Buffet</td>\n",
       "      <td>2weQS-RnoOBhb1KsHKyoSQ</td>\n",
       "      <td>3.5</td>\n",
       "      <td>4240</td>\n",
       "      <td>Restaurants, Buffets</td>\n",
       "      <td>-115.165590</td>\n",
       "      <td>36.126887</td>\n",
       "      <td>89109</td>\n",
       "      <td>Las Vegas</td>\n",
       "      <td>NV</td>\n",
       "    </tr>\n",
       "    <tr>\n",
       "      <th>41313</th>\n",
       "      <td>The Buffet at Bellagio</td>\n",
       "      <td>ujHiaprwCQ5ewziu0Vi9rw</td>\n",
       "      <td>3.5</td>\n",
       "      <td>4091</td>\n",
       "      <td>Buffets, American (New), Restaurants</td>\n",
       "      <td>-115.176890</td>\n",
       "      <td>36.113220</td>\n",
       "      <td>89109</td>\n",
       "      <td>Las Vegas</td>\n",
       "      <td>NV</td>\n",
       "    </tr>\n",
       "    <tr>\n",
       "      <th>54814</th>\n",
       "      <td>Secret Pizza</td>\n",
       "      <td>iCQpiavjjPzJ5_3gPD5Ebg</td>\n",
       "      <td>4.0</td>\n",
       "      <td>4078</td>\n",
       "      <td>Pizza, Restaurants</td>\n",
       "      <td>-115.174212</td>\n",
       "      <td>36.109837</td>\n",
       "      <td>89109</td>\n",
       "      <td>Las Vegas</td>\n",
       "      <td>NV</td>\n",
       "    </tr>\n",
       "    <tr>\n",
       "      <th>8939</th>\n",
       "      <td>Lotus of Siam</td>\n",
       "      <td>KskYqH1Bi7Z_61pH6Om8pg</td>\n",
       "      <td>4.0</td>\n",
       "      <td>3975</td>\n",
       "      <td>Wine Bars, Nightlife, Restaurants, Seafood, Ca...</td>\n",
       "      <td>-115.141891</td>\n",
       "      <td>36.143664</td>\n",
       "      <td>89104</td>\n",
       "      <td>Las Vegas</td>\n",
       "      <td>NV</td>\n",
       "    </tr>\n",
       "  </tbody>\n",
       "</table>\n",
       "</div>"
      ],
      "text/plain": [
       "                         name             business_id  stars  review_count  \\\n",
       "42044            Mon Ami Gabi  4JNXUYY8wbaaDmk3BPzlWw    4.0          7968   \n",
       "56089        Bacchanal Buffet  RESDUcs7fIiihp38-d6_6g    4.0          7866   \n",
       "19340            Wicked Spoon  K7lWdNUhCbcnEvI0NhGewg    3.5          6446   \n",
       "56981     Gordon Ramsay BurGR  cYwJA2A6I12KNkm2rtXd5g    4.0          5472   \n",
       "51619      Hash House A Go Go  f4x1YBxkLrZg652xt2KR5g    4.0          5382   \n",
       "53840        Earl of Sandwich  DkYS3arLOhA8si5uUEmHOw    4.5          4981   \n",
       "55021              The Buffet  2weQS-RnoOBhb1KsHKyoSQ    3.5          4240   \n",
       "41313  The Buffet at Bellagio  ujHiaprwCQ5ewziu0Vi9rw    3.5          4091   \n",
       "54814            Secret Pizza  iCQpiavjjPzJ5_3gPD5Ebg    4.0          4078   \n",
       "8939            Lotus of Siam  KskYqH1Bi7Z_61pH6Om8pg    4.0          3975   \n",
       "\n",
       "                                              categories   longitude  \\\n",
       "42044  Steakhouses, Breakfast & Brunch, Restaurants, ... -115.172581   \n",
       "56089  Sandwiches, Buffets, Breakfast & Brunch, Food,... -115.176222   \n",
       "19340           Buffets, Restaurants, Breakfast & Brunch -115.176155   \n",
       "56981       Burgers, American (Traditional), Restaurants -115.172169   \n",
       "51619    Breakfast & Brunch, American (New), Restaurants -115.171580   \n",
       "53840  Sandwiches, Wraps, Food, Caterers, Restaurants... -115.171869   \n",
       "55021                               Restaurants, Buffets -115.165590   \n",
       "41313               Buffets, American (New), Restaurants -115.176890   \n",
       "54814                                 Pizza, Restaurants -115.174212   \n",
       "8939   Wine Bars, Nightlife, Restaurants, Seafood, Ca... -115.141891   \n",
       "\n",
       "        latitude postal_code       city state  \n",
       "42044  36.112827       89109  Las Vegas    NV  \n",
       "56089  36.116113       89109  Las Vegas    NV  \n",
       "19340  36.109550       89109  Las Vegas    NV  \n",
       "56981  36.110724       89109  Las Vegas    NV  \n",
       "51619  36.118181       89109  Las Vegas    NV  \n",
       "53840  36.109443       89109  Las Vegas    NV  \n",
       "55021  36.126887       89109  Las Vegas    NV  \n",
       "41313  36.113220       89109  Las Vegas    NV  \n",
       "54814  36.109837       89109  Las Vegas    NV  \n",
       "8939   36.143664       89104  Las Vegas    NV  "
      ]
     },
     "execution_count": 111,
     "metadata": {},
     "output_type": "execute_result"
    }
   ],
   "source": [
    "popular_restaurants = restaurant_df.nlargest(1000, 'review_count')\n",
    "popular_restaurants.head(10)"
   ]
  },
  {
   "cell_type": "markdown",
   "metadata": {},
   "source": [
    "Vegas loves their restaurants."
   ]
  },
  {
   "cell_type": "markdown",
   "metadata": {},
   "source": [
    "#### Save 1000 most reviewed restaurants"
   ]
  },
  {
   "cell_type": "code",
   "execution_count": 107,
   "metadata": {
    "scrolled": true
   },
   "outputs": [],
   "source": [
    "popular_restaurants.to_csv('../data/interim/popular_restaurants.csv')"
   ]
  },
  {
   "cell_type": "markdown",
   "metadata": {},
   "source": [
    "### Select restaurants with the lowest stars"
   ]
  },
  {
   "cell_type": "code",
   "execution_count": 127,
   "metadata": {},
   "outputs": [
    {
     "data": {
      "text/html": [
       "<div>\n",
       "<style scoped>\n",
       "    .dataframe tbody tr th:only-of-type {\n",
       "        vertical-align: middle;\n",
       "    }\n",
       "\n",
       "    .dataframe tbody tr th {\n",
       "        vertical-align: top;\n",
       "    }\n",
       "\n",
       "    .dataframe thead th {\n",
       "        text-align: right;\n",
       "    }\n",
       "</style>\n",
       "<table border=\"1\" class=\"dataframe\">\n",
       "  <thead>\n",
       "    <tr style=\"text-align: right;\">\n",
       "      <th></th>\n",
       "      <th>name</th>\n",
       "      <th>business_id</th>\n",
       "      <th>stars</th>\n",
       "      <th>review_count</th>\n",
       "      <th>categories</th>\n",
       "      <th>longitude</th>\n",
       "      <th>latitude</th>\n",
       "      <th>postal_code</th>\n",
       "      <th>city</th>\n",
       "      <th>state</th>\n",
       "    </tr>\n",
       "  </thead>\n",
       "  <tbody>\n",
       "    <tr>\n",
       "      <th>51023</th>\n",
       "      <td>Sam Woo BBQ Restaurant</td>\n",
       "      <td>DVfCbJhJUDWRlUfrKzaKOA</td>\n",
       "      <td>2.0</td>\n",
       "      <td>532</td>\n",
       "      <td>Noodles, Chinese, Restaurants, Barbeque</td>\n",
       "      <td>-115.195980</td>\n",
       "      <td>36.125381</td>\n",
       "      <td>89102</td>\n",
       "      <td>Las Vegas</td>\n",
       "      <td>NV</td>\n",
       "    </tr>\n",
       "    <tr>\n",
       "      <th>12464</th>\n",
       "      <td>The Buffet At TI</td>\n",
       "      <td>7EZ4Eu7YJ1ltRCC5jXFJrQ</td>\n",
       "      <td>2.5</td>\n",
       "      <td>748</td>\n",
       "      <td>American (Traditional), Asian Fusion, Sushi Ba...</td>\n",
       "      <td>-115.171991</td>\n",
       "      <td>36.124829</td>\n",
       "      <td>89109</td>\n",
       "      <td>Las Vegas</td>\n",
       "      <td>NV</td>\n",
       "    </tr>\n",
       "    <tr>\n",
       "      <th>54474</th>\n",
       "      <td>Paradise Garden Buffet</td>\n",
       "      <td>_kb6GT4qawjwq47OsQ52xw</td>\n",
       "      <td>2.5</td>\n",
       "      <td>497</td>\n",
       "      <td>Buffets, Restaurants</td>\n",
       "      <td>-115.171394</td>\n",
       "      <td>36.115690</td>\n",
       "      <td>89109</td>\n",
       "      <td>Las Vegas</td>\n",
       "      <td>NV</td>\n",
       "    </tr>\n",
       "    <tr>\n",
       "      <th>53340</th>\n",
       "      <td>Beijing Noodle No. 9</td>\n",
       "      <td>U9aA5H13y7t9xWnoQslV0Q</td>\n",
       "      <td>2.5</td>\n",
       "      <td>827</td>\n",
       "      <td>Restaurants, Chinese</td>\n",
       "      <td>-115.175067</td>\n",
       "      <td>36.116165</td>\n",
       "      <td>89109</td>\n",
       "      <td>Las Vegas</td>\n",
       "      <td>NV</td>\n",
       "    </tr>\n",
       "    <tr>\n",
       "      <th>32302</th>\n",
       "      <td>MGM Grand Buffet</td>\n",
       "      <td>-U7tvCtaraTQ9b0zBhpBMA</td>\n",
       "      <td>2.5</td>\n",
       "      <td>1096</td>\n",
       "      <td>Restaurants, Buffets, American (Traditional)</td>\n",
       "      <td>-115.171778</td>\n",
       "      <td>36.102091</td>\n",
       "      <td>89109</td>\n",
       "      <td>Las Vegas</td>\n",
       "      <td>NV</td>\n",
       "    </tr>\n",
       "    <tr>\n",
       "      <th>56805</th>\n",
       "      <td>Hakkasan Nightclub</td>\n",
       "      <td>X8c23dur0ll2D9XTu-I8Qg</td>\n",
       "      <td>2.5</td>\n",
       "      <td>1720</td>\n",
       "      <td>Restaurants, Bars, Nightlife, Chinese, Dance C...</td>\n",
       "      <td>-115.172452</td>\n",
       "      <td>36.101375</td>\n",
       "      <td>89109</td>\n",
       "      <td>Las Vegas</td>\n",
       "      <td>NV</td>\n",
       "    </tr>\n",
       "    <tr>\n",
       "      <th>37954</th>\n",
       "      <td>The Buffet at Luxor</td>\n",
       "      <td>ABJjxuO6oh5D9R48-eAUdQ</td>\n",
       "      <td>2.5</td>\n",
       "      <td>747</td>\n",
       "      <td>Arts &amp; Entertainment, Buffets, Casinos, Restau...</td>\n",
       "      <td>-115.175835</td>\n",
       "      <td>36.095492</td>\n",
       "      <td>89109</td>\n",
       "      <td>Las Vegas</td>\n",
       "      <td>NV</td>\n",
       "    </tr>\n",
       "    <tr>\n",
       "      <th>30331</th>\n",
       "      <td>Riviera Hotel &amp; Casino</td>\n",
       "      <td>5Zc41a446gV3K_o7CDs69Q</td>\n",
       "      <td>2.5</td>\n",
       "      <td>809</td>\n",
       "      <td>Hotels &amp; Travel, Hotels, Arts &amp; Entertainment,...</td>\n",
       "      <td>-115.162176</td>\n",
       "      <td>36.135164</td>\n",
       "      <td>89109</td>\n",
       "      <td>Las Vegas</td>\n",
       "      <td>NV</td>\n",
       "    </tr>\n",
       "    <tr>\n",
       "      <th>13127</th>\n",
       "      <td>Saddle Ranch Chop House</td>\n",
       "      <td>IyVdd_IqwUtzQDTxw2W9qw</td>\n",
       "      <td>2.5</td>\n",
       "      <td>520</td>\n",
       "      <td>Steakhouses, Restaurants, Bars, Nightlife</td>\n",
       "      <td>-112.260762</td>\n",
       "      <td>33.532952</td>\n",
       "      <td>85305</td>\n",
       "      <td>Glendale</td>\n",
       "      <td>AZ</td>\n",
       "    </tr>\n",
       "    <tr>\n",
       "      <th>47263</th>\n",
       "      <td>Blondies Sports Bar &amp; Grill</td>\n",
       "      <td>4X0KWUPcD2EkHN83aa4cXg</td>\n",
       "      <td>2.5</td>\n",
       "      <td>543</td>\n",
       "      <td>American (Traditional), Bars, Sports Bars, Res...</td>\n",
       "      <td>-115.169562</td>\n",
       "      <td>36.110526</td>\n",
       "      <td>89109</td>\n",
       "      <td>Las Vegas</td>\n",
       "      <td>NV</td>\n",
       "    </tr>\n",
       "  </tbody>\n",
       "</table>\n",
       "</div>"
      ],
      "text/plain": [
       "                              name             business_id  stars  \\\n",
       "51023       Sam Woo BBQ Restaurant  DVfCbJhJUDWRlUfrKzaKOA    2.0   \n",
       "12464             The Buffet At TI  7EZ4Eu7YJ1ltRCC5jXFJrQ    2.5   \n",
       "54474       Paradise Garden Buffet  _kb6GT4qawjwq47OsQ52xw    2.5   \n",
       "53340         Beijing Noodle No. 9  U9aA5H13y7t9xWnoQslV0Q    2.5   \n",
       "32302             MGM Grand Buffet  -U7tvCtaraTQ9b0zBhpBMA    2.5   \n",
       "56805           Hakkasan Nightclub  X8c23dur0ll2D9XTu-I8Qg    2.5   \n",
       "37954          The Buffet at Luxor  ABJjxuO6oh5D9R48-eAUdQ    2.5   \n",
       "30331       Riviera Hotel & Casino  5Zc41a446gV3K_o7CDs69Q    2.5   \n",
       "13127      Saddle Ranch Chop House  IyVdd_IqwUtzQDTxw2W9qw    2.5   \n",
       "47263  Blondies Sports Bar & Grill  4X0KWUPcD2EkHN83aa4cXg    2.5   \n",
       "\n",
       "       review_count                                         categories  \\\n",
       "51023           532            Noodles, Chinese, Restaurants, Barbeque   \n",
       "12464           748  American (Traditional), Asian Fusion, Sushi Ba...   \n",
       "54474           497                               Buffets, Restaurants   \n",
       "53340           827                               Restaurants, Chinese   \n",
       "32302          1096       Restaurants, Buffets, American (Traditional)   \n",
       "56805          1720  Restaurants, Bars, Nightlife, Chinese, Dance C...   \n",
       "37954           747  Arts & Entertainment, Buffets, Casinos, Restau...   \n",
       "30331           809  Hotels & Travel, Hotels, Arts & Entertainment,...   \n",
       "13127           520          Steakhouses, Restaurants, Bars, Nightlife   \n",
       "47263           543  American (Traditional), Bars, Sports Bars, Res...   \n",
       "\n",
       "        longitude   latitude postal_code       city state  \n",
       "51023 -115.195980  36.125381       89102  Las Vegas    NV  \n",
       "12464 -115.171991  36.124829       89109  Las Vegas    NV  \n",
       "54474 -115.171394  36.115690       89109  Las Vegas    NV  \n",
       "53340 -115.175067  36.116165       89109  Las Vegas    NV  \n",
       "32302 -115.171778  36.102091       89109  Las Vegas    NV  \n",
       "56805 -115.172452  36.101375       89109  Las Vegas    NV  \n",
       "37954 -115.175835  36.095492       89109  Las Vegas    NV  \n",
       "30331 -115.162176  36.135164       89109  Las Vegas    NV  \n",
       "13127 -112.260762  33.532952       85305   Glendale    AZ  \n",
       "47263 -115.169562  36.110526       89109  Las Vegas    NV  "
      ]
     },
     "execution_count": 127,
     "metadata": {},
     "output_type": "execute_result"
    }
   ],
   "source": [
    "worst_restaurants = popular_restaurants.nsmallest(1000, 'stars')\n",
    "\n",
    "worst_restaurants.head(10)"
   ]
  },
  {
   "cell_type": "markdown",
   "metadata": {},
   "source": [
    "### Trade offs"
   ]
  },
  {
   "cell_type": "markdown",
   "metadata": {},
   "source": [
    "**Speed comparison:**  \n",
    "PostgreSQL: `29.4 s`  \n",
    "Loading dataset into memory: `32.8 s`\n",
    "My custom search engine: `0.1076 s`  \n",
    "Chain masking: `0.0111 s`  \n",
    "\n",
    "Verdict: SQL is the way to go. Loading the entire dataset into memory is not scalable. The query takes marginally less time if you're only doing one query. Ideally, use a database system that caches queries, such as Google BigQuery."
   ]
  },
  {
   "cell_type": "code",
   "execution_count": null,
   "metadata": {},
   "outputs": [],
   "source": []
  }
 ],
 "metadata": {
  "kernelspec": {
   "display_name": "Python [default]",
   "language": "python",
   "name": "python3"
  },
  "language_info": {
   "codemirror_mode": {
    "name": "ipython",
    "version": 3
   },
   "file_extension": ".py",
   "mimetype": "text/x-python",
   "name": "python",
   "nbconvert_exporter": "python",
   "pygments_lexer": "ipython3",
   "version": "3.6.5"
  }
 },
 "nbformat": 4,
 "nbformat_minor": 2
}
