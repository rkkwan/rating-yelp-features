{
 "cells": [
  {
   "cell_type": "markdown",
   "metadata": {},
   "source": [
    "# Sentiment Analysis"
   ]
  },
  {
   "cell_type": "markdown",
   "metadata": {},
   "source": [
    "### Import Libraries"
   ]
  },
  {
   "cell_type": "code",
   "execution_count": 1,
   "metadata": {},
   "outputs": [],
   "source": [
    "import pandas as pd\n",
    "import numpy as np\n",
    "import matplotlib.pyplot as plt\n",
    "import seaborn as sns\n",
    "\n",
    "from nltk.sentiment.vader import SentimentIntensityAnalyzer"
   ]
  },
  {
   "cell_type": "markdown",
   "metadata": {},
   "source": [
    "### Load Data"
   ]
  },
  {
   "cell_type": "code",
   "execution_count": 4,
   "metadata": {},
   "outputs": [],
   "source": [
    "onion_soup_reviews = pd.read_csv('../data/interim/onion_soup_reviews.csv')\n",
    "onion_soup_sentences = pd.read_csv('../data/interim/onion_soup_sentences.csv')\n",
    "onion_soup_chunks = pd.read_csv('../data/interim/onion_soup_chunks.csv')"
   ]
  },
  {
   "cell_type": "code",
   "execution_count": 5,
   "metadata": {},
   "outputs": [
    {
     "data": {
      "text/plain": [
       "(868, 10)"
      ]
     },
     "execution_count": 5,
     "metadata": {},
     "output_type": "execute_result"
    }
   ],
   "source": [
    "onion_soup_reviews.shape"
   ]
  },
  {
   "cell_type": "code",
   "execution_count": 6,
   "metadata": {},
   "outputs": [
    {
     "data": {
      "text/plain": [
       "(1007, 2)"
      ]
     },
     "execution_count": 6,
     "metadata": {},
     "output_type": "execute_result"
    }
   ],
   "source": [
    "onion_soup_sentences.shape"
   ]
  },
  {
   "cell_type": "code",
   "execution_count": 7,
   "metadata": {},
   "outputs": [
    {
     "data": {
      "text/plain": [
       "(1007, 2)"
      ]
     },
     "execution_count": 7,
     "metadata": {},
     "output_type": "execute_result"
    }
   ],
   "source": [
    "onion_soup_chunks.shape"
   ]
  },
  {
   "cell_type": "code",
   "execution_count": 2,
   "metadata": {},
   "outputs": [],
   "source": [
    "sentiment_df = pd.read_csv('../data/predictions/sentiment_df.csv')"
   ]
  },
  {
   "cell_type": "markdown",
   "metadata": {},
   "source": [
    "## Sentiment Analysis"
   ]
  },
  {
   "cell_type": "markdown",
   "metadata": {},
   "source": [
    "### Predict sentiment score using `SentimentIntensityAnalyzer`\n",
    "\n",
    "`SentimentIntensityAnalyzer` returns sentiment scores between `[0, 1]` for positive, negative, and neutral sentiments, `[-1, 1]` for the compound score."
   ]
  },
  {
   "cell_type": "code",
   "execution_count": 9,
   "metadata": {},
   "outputs": [],
   "source": [
    "def get_sentiments(docs):\n",
    "    '''\n",
    "    Returns a Dataframe of sentiment scores with columns:\n",
    "    'compound', 'pos', 'neu', 'neg'\n",
    "    \n",
    "    For each doc, 'pos', 'neu', 'neg' scores add to 1.\n",
    "    'compound' is an overall sentiment score of the doc.\n",
    "    '''\n",
    "    # Instantiate SentimentIntensityAnalyzer\n",
    "    sia = SentimentIntensityAnalyzer()\n",
    "\n",
    "    sentiments = []\n",
    "\n",
    "    # Generate sentiment score for each review\n",
    "    for doc in docs:\n",
    "        sentiment = sia.polarity_scores(doc)\n",
    "        sentiments.append(sentiment)\n",
    "\n",
    "    return pd.DataFrame(sentiments)"
   ]
  },
  {
   "cell_type": "code",
   "execution_count": 27,
   "metadata": {},
   "outputs": [],
   "source": [
    "def transform_to_stars(n, lower = -1, upper = 1):\n",
    "    '''\n",
    "    Transform n to a discrete value between 1 to 5, inclusive.\n",
    "    '''\n",
    "    if n < lower or n > upper:\n",
    "        print(f'OutOfRangeError: Set n between [{lower},{upper}]')\n",
    "        return None\n",
    "    \n",
    "    interval = np.round((upper - lower) / 9, 2)\n",
    "    bins = [np.round(lower + i*interval, 2) for i in range(0,10)]\n",
    "#     print(interval)\n",
    "#     print(bins)\n",
    "    \n",
    "    # one star is the lowest rating, can't get 0.5 star\n",
    "    n_categories = 9\n",
    "    \n",
    "    if n >= 0.5:\n",
    "        return 5.0\n",
    "    elif n >= 0.46:\n",
    "        return 4.5\n",
    "    elif n >= .42: \n",
    "        return 4.0\n",
    "    elif n >= .38:\n",
    "        return 3.5\n",
    "    elif n >= .32:\n",
    "        return 3.0\n",
    "    elif n >= .28:        \n",
    "        return 2.5\n",
    "    elif n >= .24:\n",
    "        return 2.0\n",
    "    elif n >= .20:\n",
    "        return 1.5\n",
    "    else: \n",
    "        return 1.0\n",
    "    \n",
    "    for i in range(2,11):\n",
    "        if bins[i-2] <= n <= bins[i-1]:\n",
    "#             print(i)\n",
    "            return i/2\n",
    "\n",
    "    if n >= bins[-1]:\n",
    "        return 5.0\n"
   ]
  },
  {
   "cell_type": "markdown",
   "metadata": {},
   "source": [
    "#### Review-Level Sentiment Analysis"
   ]
  },
  {
   "cell_type": "code",
   "execution_count": 10,
   "metadata": {},
   "outputs": [],
   "source": [
    "onion_soup_reviews = pd.concat([onion_soup_reviews, get_sentiments(onion_soup_reviews['text'])], axis = 1)"
   ]
  },
  {
   "cell_type": "code",
   "execution_count": 11,
   "metadata": {
    "scrolled": true
   },
   "outputs": [
    {
     "data": {
      "text/html": [
       "<div>\n",
       "<style scoped>\n",
       "    .dataframe tbody tr th:only-of-type {\n",
       "        vertical-align: middle;\n",
       "    }\n",
       "\n",
       "    .dataframe tbody tr th {\n",
       "        vertical-align: top;\n",
       "    }\n",
       "\n",
       "    .dataframe thead th {\n",
       "        text-align: right;\n",
       "    }\n",
       "</style>\n",
       "<table border=\"1\" class=\"dataframe\">\n",
       "  <thead>\n",
       "    <tr style=\"text-align: right;\">\n",
       "      <th></th>\n",
       "      <th>text</th>\n",
       "      <th>compound</th>\n",
       "      <th>pos</th>\n",
       "      <th>neu</th>\n",
       "      <th>neg</th>\n",
       "    </tr>\n",
       "  </thead>\n",
       "  <tbody>\n",
       "    <tr>\n",
       "      <th>0</th>\n",
       "      <td>Other than being right across the Fountains of...</td>\n",
       "      <td>0.9895</td>\n",
       "      <td>0.163</td>\n",
       "      <td>0.823</td>\n",
       "      <td>0.014</td>\n",
       "    </tr>\n",
       "    <tr>\n",
       "      <th>1</th>\n",
       "      <td>French onion soup was watery with little taste...</td>\n",
       "      <td>0.5647</td>\n",
       "      <td>0.071</td>\n",
       "      <td>0.929</td>\n",
       "      <td>0.000</td>\n",
       "    </tr>\n",
       "    <tr>\n",
       "      <th>2</th>\n",
       "      <td>Where to begin!  Now our dining experience her...</td>\n",
       "      <td>0.9475</td>\n",
       "      <td>0.209</td>\n",
       "      <td>0.750</td>\n",
       "      <td>0.040</td>\n",
       "    </tr>\n",
       "    <tr>\n",
       "      <th>3</th>\n",
       "      <td>Charming resturant that looks like it would be...</td>\n",
       "      <td>0.5767</td>\n",
       "      <td>0.092</td>\n",
       "      <td>0.908</td>\n",
       "      <td>0.000</td>\n",
       "    </tr>\n",
       "    <tr>\n",
       "      <th>4</th>\n",
       "      <td>This review is long overdue!   I have been eat...</td>\n",
       "      <td>0.9674</td>\n",
       "      <td>0.245</td>\n",
       "      <td>0.755</td>\n",
       "      <td>0.000</td>\n",
       "    </tr>\n",
       "  </tbody>\n",
       "</table>\n",
       "</div>"
      ],
      "text/plain": [
       "                                                text  compound    pos    neu  \\\n",
       "0  Other than being right across the Fountains of...    0.9895  0.163  0.823   \n",
       "1  French onion soup was watery with little taste...    0.5647  0.071  0.929   \n",
       "2  Where to begin!  Now our dining experience her...    0.9475  0.209  0.750   \n",
       "3  Charming resturant that looks like it would be...    0.5767  0.092  0.908   \n",
       "4  This review is long overdue!   I have been eat...    0.9674  0.245  0.755   \n",
       "\n",
       "     neg  \n",
       "0  0.014  \n",
       "1  0.000  \n",
       "2  0.040  \n",
       "3  0.000  \n",
       "4  0.000  "
      ]
     },
     "execution_count": 11,
     "metadata": {},
     "output_type": "execute_result"
    }
   ],
   "source": [
    "onion_soup_reviews[['text', 'compound', 'pos', 'neu', 'neg']].head()"
   ]
  },
  {
   "cell_type": "markdown",
   "metadata": {},
   "source": [
    "#### Sentence-Level Sentiment Analysis"
   ]
  },
  {
   "cell_type": "code",
   "execution_count": 12,
   "metadata": {},
   "outputs": [],
   "source": [
    "onion_soup_sentences = pd.concat([onion_soup_sentences, get_sentiments(onion_soup_sentences['text'])], axis = 1)"
   ]
  },
  {
   "cell_type": "code",
   "execution_count": 13,
   "metadata": {
    "scrolled": true
   },
   "outputs": [
    {
     "data": {
      "text/html": [
       "<div>\n",
       "<style scoped>\n",
       "    .dataframe tbody tr th:only-of-type {\n",
       "        vertical-align: middle;\n",
       "    }\n",
       "\n",
       "    .dataframe tbody tr th {\n",
       "        vertical-align: top;\n",
       "    }\n",
       "\n",
       "    .dataframe thead th {\n",
       "        text-align: right;\n",
       "    }\n",
       "</style>\n",
       "<table border=\"1\" class=\"dataframe\">\n",
       "  <thead>\n",
       "    <tr style=\"text-align: right;\">\n",
       "      <th></th>\n",
       "      <th>text</th>\n",
       "      <th>compound</th>\n",
       "      <th>pos</th>\n",
       "      <th>neu</th>\n",
       "      <th>neg</th>\n",
       "    </tr>\n",
       "  </thead>\n",
       "  <tbody>\n",
       "    <tr>\n",
       "      <th>0</th>\n",
       "      <td>Our table ordered Bordelaise Steak Frites (...</td>\n",
       "      <td>0.0000</td>\n",
       "      <td>0.000</td>\n",
       "      <td>1.000</td>\n",
       "      <td>0.000</td>\n",
       "    </tr>\n",
       "    <tr>\n",
       "      <th>1</th>\n",
       "      <td>The steak frites and onion soup were the be...</td>\n",
       "      <td>0.6369</td>\n",
       "      <td>0.276</td>\n",
       "      <td>0.724</td>\n",
       "      <td>0.000</td>\n",
       "    </tr>\n",
       "    <tr>\n",
       "      <th>2</th>\n",
       "      <td>Onion soup was also a nice, big portion, but ...</td>\n",
       "      <td>0.2263</td>\n",
       "      <td>0.095</td>\n",
       "      <td>0.905</td>\n",
       "      <td>0.000</td>\n",
       "    </tr>\n",
       "    <tr>\n",
       "      <th>3</th>\n",
       "      <td>French onion soup was watery with little taste</td>\n",
       "      <td>0.0000</td>\n",
       "      <td>0.000</td>\n",
       "      <td>1.000</td>\n",
       "      <td>0.000</td>\n",
       "    </tr>\n",
       "    <tr>\n",
       "      <th>4</th>\n",
       "      <td>We ate almost everything on the menu - altho...</td>\n",
       "      <td>-0.3818</td>\n",
       "      <td>0.074</td>\n",
       "      <td>0.801</td>\n",
       "      <td>0.125</td>\n",
       "    </tr>\n",
       "  </tbody>\n",
       "</table>\n",
       "</div>"
      ],
      "text/plain": [
       "                                                text  compound    pos    neu  \\\n",
       "0     Our table ordered Bordelaise Steak Frites (...    0.0000  0.000  1.000   \n",
       "1     The steak frites and onion soup were the be...    0.6369  0.276  0.724   \n",
       "2   Onion soup was also a nice, big portion, but ...    0.2263  0.095  0.905   \n",
       "3     French onion soup was watery with little taste    0.0000  0.000  1.000   \n",
       "4    We ate almost everything on the menu - altho...   -0.3818  0.074  0.801   \n",
       "\n",
       "     neg  \n",
       "0  0.000  \n",
       "1  0.000  \n",
       "2  0.000  \n",
       "3  0.000  \n",
       "4  0.125  "
      ]
     },
     "execution_count": 13,
     "metadata": {},
     "output_type": "execute_result"
    }
   ],
   "source": [
    "onion_soup_sentences[['text', 'compound', 'pos', 'neu', 'neg']].head()"
   ]
  },
  {
   "cell_type": "markdown",
   "metadata": {},
   "source": [
    "#### Entity-level Sentiment Analysis"
   ]
  },
  {
   "cell_type": "code",
   "execution_count": 14,
   "metadata": {},
   "outputs": [],
   "source": [
    "onion_soup_chunks = pd.concat([onion_soup_chunks, get_sentiments(onion_soup_chunks['text'])], axis = 1)"
   ]
  },
  {
   "cell_type": "code",
   "execution_count": 28,
   "metadata": {},
   "outputs": [],
   "source": [
    "onion_soup_chunks['stars_pred'] = onion_soup_chunks['compound'].apply(transform_to_stars)"
   ]
  },
  {
   "cell_type": "code",
   "execution_count": 34,
   "metadata": {},
   "outputs": [
    {
     "data": {
      "text/html": [
       "<div>\n",
       "<style scoped>\n",
       "    .dataframe tbody tr th:only-of-type {\n",
       "        vertical-align: middle;\n",
       "    }\n",
       "\n",
       "    .dataframe tbody tr th {\n",
       "        vertical-align: top;\n",
       "    }\n",
       "\n",
       "    .dataframe thead th {\n",
       "        text-align: right;\n",
       "    }\n",
       "</style>\n",
       "<table border=\"1\" class=\"dataframe\">\n",
       "  <thead>\n",
       "    <tr style=\"text-align: right;\">\n",
       "      <th></th>\n",
       "      <th>text</th>\n",
       "      <th>compound</th>\n",
       "      <th>stars_pred</th>\n",
       "    </tr>\n",
       "  </thead>\n",
       "  <tbody>\n",
       "    <tr>\n",
       "      <th>1</th>\n",
       "      <td>the steak frites and onion soup were the best ...</td>\n",
       "      <td>0.6369</td>\n",
       "      <td>5.0</td>\n",
       "    </tr>\n",
       "    <tr>\n",
       "      <th>2</th>\n",
       "      <td>onion soup was also a nice big</td>\n",
       "      <td>0.4215</td>\n",
       "      <td>4.0</td>\n",
       "    </tr>\n",
       "    <tr>\n",
       "      <th>8</th>\n",
       "      <td>waffles pancakes kale salad onion soup bacon e...</td>\n",
       "      <td>0.5719</td>\n",
       "      <td>5.0</td>\n",
       "    </tr>\n",
       "    <tr>\n",
       "      <th>12</th>\n",
       "      <td>have been the best french onion soup of my life</td>\n",
       "      <td>0.6369</td>\n",
       "      <td>5.0</td>\n",
       "    </tr>\n",
       "    <tr>\n",
       "      <th>17</th>\n",
       "      <td>four we started with the onion soup escargo ha...</td>\n",
       "      <td>0.2732</td>\n",
       "      <td>2.0</td>\n",
       "    </tr>\n",
       "  </tbody>\n",
       "</table>\n",
       "</div>"
      ],
      "text/plain": [
       "                                                 text  compound  stars_pred\n",
       "1   the steak frites and onion soup were the best ...    0.6369         5.0\n",
       "2                      onion soup was also a nice big    0.4215         4.0\n",
       "8   waffles pancakes kale salad onion soup bacon e...    0.5719         5.0\n",
       "12    have been the best french onion soup of my life    0.6369         5.0\n",
       "17  four we started with the onion soup escargo ha...    0.2732         2.0"
      ]
     },
     "execution_count": 34,
     "metadata": {},
     "output_type": "execute_result"
    }
   ],
   "source": [
    "onion_soup_chunks[onion_soup_chunks['compound'] != 0][['text', 'compound', 'stars_pred']].head()"
   ]
  },
  {
   "cell_type": "code",
   "execution_count": 32,
   "metadata": {},
   "outputs": [
    {
     "data": {
      "text/html": [
       "<div>\n",
       "<style scoped>\n",
       "    .dataframe tbody tr th:only-of-type {\n",
       "        vertical-align: middle;\n",
       "    }\n",
       "\n",
       "    .dataframe tbody tr th {\n",
       "        vertical-align: top;\n",
       "    }\n",
       "\n",
       "    .dataframe thead th {\n",
       "        text-align: right;\n",
       "    }\n",
       "</style>\n",
       "<table border=\"1\" class=\"dataframe\">\n",
       "  <thead>\n",
       "    <tr style=\"text-align: right;\">\n",
       "      <th></th>\n",
       "      <th>text</th>\n",
       "      <th>compound</th>\n",
       "      <th>stars_pred</th>\n",
       "    </tr>\n",
       "  </thead>\n",
       "  <tbody>\n",
       "    <tr>\n",
       "      <th>54</th>\n",
       "      <td>sangria amazing escargots delicious onion soup...</td>\n",
       "      <td>0.9062</td>\n",
       "      <td>5.0</td>\n",
       "    </tr>\n",
       "    <tr>\n",
       "      <th>961</th>\n",
       "      <td>best fries great salmon and onion soup good se...</td>\n",
       "      <td>0.9042</td>\n",
       "      <td>5.0</td>\n",
       "    </tr>\n",
       "    <tr>\n",
       "      <th>248</th>\n",
       "      <td>wow more please best french onion soup i 've e...</td>\n",
       "      <td>0.8973</td>\n",
       "      <td>5.0</td>\n",
       "    </tr>\n",
       "    <tr>\n",
       "      <th>45</th>\n",
       "      <td>food was great the french onion soup was great...</td>\n",
       "      <td>0.8834</td>\n",
       "      <td>5.0</td>\n",
       "    </tr>\n",
       "    <tr>\n",
       "      <th>648</th>\n",
       "      <td>my friend got the french onion soup and it was...</td>\n",
       "      <td>0.8779</td>\n",
       "      <td>5.0</td>\n",
       "    </tr>\n",
       "  </tbody>\n",
       "</table>\n",
       "</div>"
      ],
      "text/plain": [
       "                                                  text  compound  stars_pred\n",
       "54   sangria amazing escargots delicious onion soup...    0.9062         5.0\n",
       "961  best fries great salmon and onion soup good se...    0.9042         5.0\n",
       "248  wow more please best french onion soup i 've e...    0.8973         5.0\n",
       "45   food was great the french onion soup was great...    0.8834         5.0\n",
       "648  my friend got the french onion soup and it was...    0.8779         5.0"
      ]
     },
     "execution_count": 32,
     "metadata": {},
     "output_type": "execute_result"
    }
   ],
   "source": [
    "onion_soup_chunks[onion_soup_chunks['compound'] != 0][['text', 'compound', 'stars_pred']].sort_values(by = 'compound', ascending = False).head()"
   ]
  },
  {
   "cell_type": "code",
   "execution_count": 37,
   "metadata": {},
   "outputs": [
    {
     "data": {
      "text/html": [
       "<div>\n",
       "<style scoped>\n",
       "    .dataframe tbody tr th:only-of-type {\n",
       "        vertical-align: middle;\n",
       "    }\n",
       "\n",
       "    .dataframe tbody tr th {\n",
       "        vertical-align: top;\n",
       "    }\n",
       "\n",
       "    .dataframe thead th {\n",
       "        text-align: right;\n",
       "    }\n",
       "</style>\n",
       "<table border=\"1\" class=\"dataframe\">\n",
       "  <thead>\n",
       "    <tr style=\"text-align: right;\">\n",
       "      <th></th>\n",
       "      <th>text</th>\n",
       "      <th>compound</th>\n",
       "      <th>stars_pred</th>\n",
       "    </tr>\n",
       "  </thead>\n",
       "  <tbody>\n",
       "    <tr>\n",
       "      <th>913</th>\n",
       "      <td>had a craving for french onion soup yes i know...</td>\n",
       "      <td>0.2500</td>\n",
       "      <td>2.0</td>\n",
       "    </tr>\n",
       "    <tr>\n",
       "      <th>731</th>\n",
       "      <td>the french onion soup is alright</td>\n",
       "      <td>0.2500</td>\n",
       "      <td>2.0</td>\n",
       "    </tr>\n",
       "    <tr>\n",
       "      <th>681</th>\n",
       "      <td>my boyfriend got the french onion soup it was ...</td>\n",
       "      <td>0.2500</td>\n",
       "      <td>2.0</td>\n",
       "    </tr>\n",
       "    <tr>\n",
       "      <th>549</th>\n",
       "      <td>my friends ordered the french onion soup as an...</td>\n",
       "      <td>0.2617</td>\n",
       "      <td>2.0</td>\n",
       "    </tr>\n",
       "    <tr>\n",
       "      <th>987</th>\n",
       "      <td>we ordered french onion soup as it came highly...</td>\n",
       "      <td>0.2716</td>\n",
       "      <td>2.0</td>\n",
       "    </tr>\n",
       "    <tr>\n",
       "      <th>374</th>\n",
       "      <td>onion soup was very good but overly</td>\n",
       "      <td>0.2724</td>\n",
       "      <td>2.0</td>\n",
       "    </tr>\n",
       "    <tr>\n",
       "      <th>923</th>\n",
       "      <td>he ordered the french onion soup as well as a few</td>\n",
       "      <td>0.2732</td>\n",
       "      <td>2.0</td>\n",
       "    </tr>\n",
       "    <tr>\n",
       "      <th>889</th>\n",
       "      <td>french onion soup flavors inside worked well</td>\n",
       "      <td>0.2732</td>\n",
       "      <td>2.0</td>\n",
       "    </tr>\n",
       "    <tr>\n",
       "      <th>17</th>\n",
       "      <td>four we started with the onion soup escargo ha...</td>\n",
       "      <td>0.2732</td>\n",
       "      <td>2.0</td>\n",
       "    </tr>\n",
       "    <tr>\n",
       "      <th>401</th>\n",
       "      <td>as well as their french onion soup</td>\n",
       "      <td>0.2732</td>\n",
       "      <td>2.0</td>\n",
       "    </tr>\n",
       "    <tr>\n",
       "      <th>349</th>\n",
       "      <td>sooo well with the french onion soup and the s...</td>\n",
       "      <td>0.2732</td>\n",
       "      <td>2.0</td>\n",
       "    </tr>\n",
       "    <tr>\n",
       "      <th>150</th>\n",
       "      <td>enough to order the french onion soup as well</td>\n",
       "      <td>0.2732</td>\n",
       "      <td>2.0</td>\n",
       "    </tr>\n",
       "    <tr>\n",
       "      <th>60</th>\n",
       "      <td>french onion soup is well french</td>\n",
       "      <td>0.2732</td>\n",
       "      <td>2.0</td>\n",
       "    </tr>\n",
       "    <tr>\n",
       "      <th>33</th>\n",
       "      <td>as well as the french onion soup</td>\n",
       "      <td>0.2732</td>\n",
       "      <td>2.0</td>\n",
       "    </tr>\n",
       "    <tr>\n",
       "      <th>431</th>\n",
       "      <td>working well items ordered french onion soup omg</td>\n",
       "      <td>0.2732</td>\n",
       "      <td>2.0</td>\n",
       "    </tr>\n",
       "    <tr>\n",
       "      <th>991</th>\n",
       "      <td>pate as well as french onion soup</td>\n",
       "      <td>0.2732</td>\n",
       "      <td>2.0</td>\n",
       "    </tr>\n",
       "    <tr>\n",
       "      <th>552</th>\n",
       "      <td>which was pretty good french onion soup which ...</td>\n",
       "      <td>0.2752</td>\n",
       "      <td>2.0</td>\n",
       "    </tr>\n",
       "  </tbody>\n",
       "</table>\n",
       "</div>"
      ],
      "text/plain": [
       "                                                  text  compound  stars_pred\n",
       "913  had a craving for french onion soup yes i know...    0.2500         2.0\n",
       "731                   the french onion soup is alright    0.2500         2.0\n",
       "681  my boyfriend got the french onion soup it was ...    0.2500         2.0\n",
       "549  my friends ordered the french onion soup as an...    0.2617         2.0\n",
       "987  we ordered french onion soup as it came highly...    0.2716         2.0\n",
       "374                onion soup was very good but overly    0.2724         2.0\n",
       "923  he ordered the french onion soup as well as a few    0.2732         2.0\n",
       "889       french onion soup flavors inside worked well    0.2732         2.0\n",
       "17   four we started with the onion soup escargo ha...    0.2732         2.0\n",
       "401                 as well as their french onion soup    0.2732         2.0\n",
       "349  sooo well with the french onion soup and the s...    0.2732         2.0\n",
       "150      enough to order the french onion soup as well    0.2732         2.0\n",
       "60                    french onion soup is well french    0.2732         2.0\n",
       "33                    as well as the french onion soup    0.2732         2.0\n",
       "431   working well items ordered french onion soup omg    0.2732         2.0\n",
       "991                  pate as well as french onion soup    0.2732         2.0\n",
       "552  which was pretty good french onion soup which ...    0.2752         2.0"
      ]
     },
     "execution_count": 37,
     "metadata": {},
     "output_type": "execute_result"
    }
   ],
   "source": [
    "onion_soup_chunks[(onion_soup_chunks['compound'] != 0) & (onion_soup_chunks['stars_pred'] == 2)][['text', 'compound', 'stars_pred']].sort_values(by = 'compound', ascending = True)"
   ]
  },
  {
   "cell_type": "markdown",
   "metadata": {},
   "source": [
    "#### Most positive chunks"
   ]
  },
  {
   "cell_type": "code",
   "execution_count": 19,
   "metadata": {},
   "outputs": [
    {
     "data": {
      "text/html": [
       "<div>\n",
       "<style scoped>\n",
       "    .dataframe tbody tr th:only-of-type {\n",
       "        vertical-align: middle;\n",
       "    }\n",
       "\n",
       "    .dataframe tbody tr th {\n",
       "        vertical-align: top;\n",
       "    }\n",
       "\n",
       "    .dataframe thead th {\n",
       "        text-align: right;\n",
       "    }\n",
       "</style>\n",
       "<table border=\"1\" class=\"dataframe\">\n",
       "  <thead>\n",
       "    <tr style=\"text-align: right;\">\n",
       "      <th></th>\n",
       "      <th>text</th>\n",
       "      <th>compound</th>\n",
       "    </tr>\n",
       "  </thead>\n",
       "  <tbody>\n",
       "    <tr>\n",
       "      <th>54</th>\n",
       "      <td>sangria amazing escargots delicious onion soup...</td>\n",
       "      <td>0.9062</td>\n",
       "    </tr>\n",
       "    <tr>\n",
       "      <th>961</th>\n",
       "      <td>best fries great salmon and onion soup good se...</td>\n",
       "      <td>0.9042</td>\n",
       "    </tr>\n",
       "    <tr>\n",
       "      <th>248</th>\n",
       "      <td>wow more please best french onion soup i 've e...</td>\n",
       "      <td>0.8973</td>\n",
       "    </tr>\n",
       "    <tr>\n",
       "      <th>45</th>\n",
       "      <td>food was great the french onion soup was great...</td>\n",
       "      <td>0.8834</td>\n",
       "    </tr>\n",
       "    <tr>\n",
       "      <th>648</th>\n",
       "      <td>my friend got the french onion soup and it was...</td>\n",
       "      <td>0.8779</td>\n",
       "    </tr>\n",
       "  </tbody>\n",
       "</table>\n",
       "</div>"
      ],
      "text/plain": [
       "                                                  text  compound\n",
       "54   sangria amazing escargots delicious onion soup...    0.9062\n",
       "961  best fries great salmon and onion soup good se...    0.9042\n",
       "248  wow more please best french onion soup i 've e...    0.8973\n",
       "45   food was great the french onion soup was great...    0.8834\n",
       "648  my friend got the french onion soup and it was...    0.8779"
      ]
     },
     "execution_count": 19,
     "metadata": {},
     "output_type": "execute_result"
    }
   ],
   "source": [
    "onion_soup_chunks[onion_soup_chunks['compound'] != 0][['text', 'compound']].sort_values(by = 'compound', ascending = False).head()"
   ]
  },
  {
   "cell_type": "markdown",
   "metadata": {},
   "source": [
    "#### Most negative chunks"
   ]
  },
  {
   "cell_type": "code",
   "execution_count": 23,
   "metadata": {},
   "outputs": [
    {
     "data": {
      "text/html": [
       "<div>\n",
       "<style scoped>\n",
       "    .dataframe tbody tr th:only-of-type {\n",
       "        vertical-align: middle;\n",
       "    }\n",
       "\n",
       "    .dataframe tbody tr th {\n",
       "        vertical-align: top;\n",
       "    }\n",
       "\n",
       "    .dataframe thead th {\n",
       "        text-align: right;\n",
       "    }\n",
       "</style>\n",
       "<table border=\"1\" class=\"dataframe\">\n",
       "  <thead>\n",
       "    <tr style=\"text-align: right;\">\n",
       "      <th></th>\n",
       "      <th>text</th>\n",
       "      <th>compound</th>\n",
       "    </tr>\n",
       "  </thead>\n",
       "  <tbody>\n",
       "    <tr>\n",
       "      <th>564</th>\n",
       "      <td>what the hell its french onion soup</td>\n",
       "      <td>-0.6808</td>\n",
       "    </tr>\n",
       "    <tr>\n",
       "      <th>391</th>\n",
       "      <td>french onion soup was weirdly not delicious not</td>\n",
       "      <td>-0.6367</td>\n",
       "    </tr>\n",
       "    <tr>\n",
       "      <th>768</th>\n",
       "      <td>as i absolutely hate french onion soup</td>\n",
       "      <td>-0.6115</td>\n",
       "    </tr>\n",
       "    <tr>\n",
       "      <th>907</th>\n",
       "      <td>the onion soup was to die for</td>\n",
       "      <td>-0.5994</td>\n",
       "    </tr>\n",
       "    <tr>\n",
       "      <th>719</th>\n",
       "      <td>writing this review the french onion soup is t...</td>\n",
       "      <td>-0.5994</td>\n",
       "    </tr>\n",
       "  </tbody>\n",
       "</table>\n",
       "</div>"
      ],
      "text/plain": [
       "                                                  text  compound\n",
       "564                what the hell its french onion soup   -0.6808\n",
       "391    french onion soup was weirdly not delicious not   -0.6367\n",
       "768             as i absolutely hate french onion soup   -0.6115\n",
       "907                      the onion soup was to die for   -0.5994\n",
       "719  writing this review the french onion soup is t...   -0.5994"
      ]
     },
     "execution_count": 23,
     "metadata": {},
     "output_type": "execute_result"
    }
   ],
   "source": [
    "onion_soup_chunks[onion_soup_chunks['compound'] != 0][['text', 'compound']].sort_values(by = 'compound', ascending = True).head()"
   ]
  },
  {
   "cell_type": "code",
   "execution_count": 26,
   "metadata": {},
   "outputs": [
    {
     "data": {
      "text/plain": [
       "0.41377303754266215"
      ]
     },
     "execution_count": 26,
     "metadata": {},
     "output_type": "execute_result"
    }
   ],
   "source": [
    "onion_soup_chunks[onion_soup_chunks['compound'] != 0]['compound'].mean()"
   ]
  },
  {
   "cell_type": "markdown",
   "metadata": {},
   "source": [
    "### Observe sentences with positive ([0.3, 1]), neutral (<-0.3, 0.3>), or negative ([-1, -0.3]) compound scores."
   ]
  },
  {
   "cell_type": "code",
   "execution_count": 14,
   "metadata": {},
   "outputs": [
    {
     "data": {
      "text/html": [
       "<style  type=\"text/css\" >\n",
       "    #T_cb3cd67a_2bea_11e9_a33a_6a00c4e90301row0_col0 {\n",
       "            text-align:  left;\n",
       "        }    #T_cb3cd67a_2bea_11e9_a33a_6a00c4e90301row0_col1 {\n",
       "            text-align:  left;\n",
       "        }    #T_cb3cd67a_2bea_11e9_a33a_6a00c4e90301row0_col2 {\n",
       "            text-align:  left;\n",
       "        }    #T_cb3cd67a_2bea_11e9_a33a_6a00c4e90301row0_col3 {\n",
       "            text-align:  left;\n",
       "        }    #T_cb3cd67a_2bea_11e9_a33a_6a00c4e90301row0_col4 {\n",
       "            text-align:  left;\n",
       "        }    #T_cb3cd67a_2bea_11e9_a33a_6a00c4e90301row1_col0 {\n",
       "            text-align:  left;\n",
       "        }    #T_cb3cd67a_2bea_11e9_a33a_6a00c4e90301row1_col1 {\n",
       "            text-align:  left;\n",
       "        }    #T_cb3cd67a_2bea_11e9_a33a_6a00c4e90301row1_col2 {\n",
       "            text-align:  left;\n",
       "        }    #T_cb3cd67a_2bea_11e9_a33a_6a00c4e90301row1_col3 {\n",
       "            text-align:  left;\n",
       "        }    #T_cb3cd67a_2bea_11e9_a33a_6a00c4e90301row1_col4 {\n",
       "            text-align:  left;\n",
       "        }    #T_cb3cd67a_2bea_11e9_a33a_6a00c4e90301row2_col0 {\n",
       "            text-align:  left;\n",
       "        }    #T_cb3cd67a_2bea_11e9_a33a_6a00c4e90301row2_col1 {\n",
       "            text-align:  left;\n",
       "        }    #T_cb3cd67a_2bea_11e9_a33a_6a00c4e90301row2_col2 {\n",
       "            text-align:  left;\n",
       "        }    #T_cb3cd67a_2bea_11e9_a33a_6a00c4e90301row2_col3 {\n",
       "            text-align:  left;\n",
       "        }    #T_cb3cd67a_2bea_11e9_a33a_6a00c4e90301row2_col4 {\n",
       "            text-align:  left;\n",
       "        }    #T_cb3cd67a_2bea_11e9_a33a_6a00c4e90301row3_col0 {\n",
       "            text-align:  left;\n",
       "        }    #T_cb3cd67a_2bea_11e9_a33a_6a00c4e90301row3_col1 {\n",
       "            text-align:  left;\n",
       "        }    #T_cb3cd67a_2bea_11e9_a33a_6a00c4e90301row3_col2 {\n",
       "            text-align:  left;\n",
       "        }    #T_cb3cd67a_2bea_11e9_a33a_6a00c4e90301row3_col3 {\n",
       "            text-align:  left;\n",
       "        }    #T_cb3cd67a_2bea_11e9_a33a_6a00c4e90301row3_col4 {\n",
       "            text-align:  left;\n",
       "        }    #T_cb3cd67a_2bea_11e9_a33a_6a00c4e90301row4_col0 {\n",
       "            text-align:  left;\n",
       "        }    #T_cb3cd67a_2bea_11e9_a33a_6a00c4e90301row4_col1 {\n",
       "            text-align:  left;\n",
       "        }    #T_cb3cd67a_2bea_11e9_a33a_6a00c4e90301row4_col2 {\n",
       "            text-align:  left;\n",
       "        }    #T_cb3cd67a_2bea_11e9_a33a_6a00c4e90301row4_col3 {\n",
       "            text-align:  left;\n",
       "        }    #T_cb3cd67a_2bea_11e9_a33a_6a00c4e90301row4_col4 {\n",
       "            text-align:  left;\n",
       "        }</style>  \n",
       "<table id=\"T_cb3cd67a_2bea_11e9_a33a_6a00c4e90301\" > \n",
       "<thead>    <tr> \n",
       "        <th class=\"blank level0\" ></th> \n",
       "        <th class=\"col_heading level0 col0\" >text</th> \n",
       "        <th class=\"col_heading level0 col1\" >compound</th> \n",
       "        <th class=\"col_heading level0 col2\" >pos</th> \n",
       "        <th class=\"col_heading level0 col3\" >neu</th> \n",
       "        <th class=\"col_heading level0 col4\" >neg</th> \n",
       "    </tr></thead> \n",
       "<tbody>    <tr> \n",
       "        <th id=\"T_cb3cd67a_2bea_11e9_a33a_6a00c4e90301level0_row0\" class=\"row_heading level0 row0\" >2</th> \n",
       "        <td id=\"T_cb3cd67a_2bea_11e9_a33a_6a00c4e90301row0_col0\" class=\"data row0 col0\" > Onion soup was also a nice, big portion, but I can't say it stood out from other onion soups I've had</td> \n",
       "        <td id=\"T_cb3cd67a_2bea_11e9_a33a_6a00c4e90301row0_col1\" class=\"data row0 col1\" >0.2263</td> \n",
       "        <td id=\"T_cb3cd67a_2bea_11e9_a33a_6a00c4e90301row0_col2\" class=\"data row0 col2\" >0.095</td> \n",
       "        <td id=\"T_cb3cd67a_2bea_11e9_a33a_6a00c4e90301row0_col3\" class=\"data row0 col3\" >0.905</td> \n",
       "        <td id=\"T_cb3cd67a_2bea_11e9_a33a_6a00c4e90301row0_col4\" class=\"data row0 col4\" >0</td> \n",
       "    </tr>    <tr> \n",
       "        <th id=\"T_cb3cd67a_2bea_11e9_a33a_6a00c4e90301level0_row1\" class=\"row_heading level0 row1\" >30</th> \n",
       "        <td id=\"T_cb3cd67a_2bea_11e9_a33a_6a00c4e90301row1_col0\" class=\"data row1 col0\" > We started with a warm baguette and a French onion soup</td> \n",
       "        <td id=\"T_cb3cd67a_2bea_11e9_a33a_6a00c4e90301row1_col1\" class=\"data row1 col1\" >0.2263</td> \n",
       "        <td id=\"T_cb3cd67a_2bea_11e9_a33a_6a00c4e90301row1_col2\" class=\"data row1 col2\" >0.192</td> \n",
       "        <td id=\"T_cb3cd67a_2bea_11e9_a33a_6a00c4e90301row1_col3\" class=\"data row1 col3\" >0.808</td> \n",
       "        <td id=\"T_cb3cd67a_2bea_11e9_a33a_6a00c4e90301row1_col4\" class=\"data row1 col4\" >0</td> \n",
       "    </tr>    <tr> \n",
       "        <th id=\"T_cb3cd67a_2bea_11e9_a33a_6a00c4e90301level0_row2\" class=\"row_heading level0 row2\" >31</th> \n",
       "        <td id=\"T_cb3cd67a_2bea_11e9_a33a_6a00c4e90301row2_col0\" class=\"data row2 col0\" >    Also tried their butternut squash & chestnut soup as well as the french onion soup</td> \n",
       "        <td id=\"T_cb3cd67a_2bea_11e9_a33a_6a00c4e90301row2_col1\" class=\"data row2 col1\" >0.2732</td> \n",
       "        <td id=\"T_cb3cd67a_2bea_11e9_a33a_6a00c4e90301row2_col2\" class=\"data row2 col2\" >0.139</td> \n",
       "        <td id=\"T_cb3cd67a_2bea_11e9_a33a_6a00c4e90301row2_col3\" class=\"data row2 col3\" >0.861</td> \n",
       "        <td id=\"T_cb3cd67a_2bea_11e9_a33a_6a00c4e90301row2_col4\" class=\"data row2 col4\" >0</td> \n",
       "    </tr>    <tr> \n",
       "        <th id=\"T_cb3cd67a_2bea_11e9_a33a_6a00c4e90301level0_row3\" class=\"row_heading level0 row3\" >35</th> \n",
       "        <td id=\"T_cb3cd67a_2bea_11e9_a33a_6a00c4e90301row3_col0\" class=\"data row3 col0\" >I gave this place 3 stars based on the following: - their french onion soup is delicious and one of my favorites - i hate to say this but</td> \n",
       "        <td id=\"T_cb3cd67a_2bea_11e9_a33a_6a00c4e90301row3_col1\" class=\"data row3 col1\" >0.2263</td> \n",
       "        <td id=\"T_cb3cd67a_2bea_11e9_a33a_6a00c4e90301row3_col2\" class=\"data row3 col2\" >0.154</td> \n",
       "        <td id=\"T_cb3cd67a_2bea_11e9_a33a_6a00c4e90301row3_col3\" class=\"data row3 col3\" >0.761</td> \n",
       "        <td id=\"T_cb3cd67a_2bea_11e9_a33a_6a00c4e90301row3_col4\" class=\"data row3 col4\" >0.085</td> \n",
       "    </tr>    <tr> \n",
       "        <th id=\"T_cb3cd67a_2bea_11e9_a33a_6a00c4e90301level0_row4\" class=\"row_heading level0 row4\" >42</th> \n",
       "        <td id=\"T_cb3cd67a_2bea_11e9_a33a_6a00c4e90301row4_col0\" class=\"data row4 col0\" > The soup was fine as far as French Onion Soup goes</td> \n",
       "        <td id=\"T_cb3cd67a_2bea_11e9_a33a_6a00c4e90301row4_col1\" class=\"data row4 col1\" >0.2023</td> \n",
       "        <td id=\"T_cb3cd67a_2bea_11e9_a33a_6a00c4e90301row4_col2\" class=\"data row4 col2\" >0.153</td> \n",
       "        <td id=\"T_cb3cd67a_2bea_11e9_a33a_6a00c4e90301row4_col3\" class=\"data row4 col3\" >0.847</td> \n",
       "        <td id=\"T_cb3cd67a_2bea_11e9_a33a_6a00c4e90301row4_col4\" class=\"data row4 col4\" >0</td> \n",
       "    </tr></tbody> \n",
       "</table> "
      ],
      "text/plain": [
       "<pandas.io.formats.style.Styler at 0x1a18abdc88>"
      ]
     },
     "execution_count": 14,
     "metadata": {},
     "output_type": "execute_result"
    }
   ],
   "source": [
    "pos_upper = onion_soup_sentences['compound'] <= 0.3\n",
    "pos_lower = onion_soup_sentences['compound'] >= 0.1\n",
    "\n",
    "onion_soup_sentences[pos_lower & pos_upper][['text', 'compound', 'pos', 'neu', 'neg']].head().style.set_properties(**{'text-align': 'left'})\n"
   ]
  },
  {
   "cell_type": "code",
   "execution_count": null,
   "metadata": {},
   "outputs": [],
   "source": []
  },
  {
   "cell_type": "code",
   "execution_count": 17,
   "metadata": {},
   "outputs": [],
   "source": [
    "reviews_score = np.round(onion_soup_reviews['compound'].mean(), 2)"
   ]
  },
  {
   "cell_type": "code",
   "execution_count": 20,
   "metadata": {},
   "outputs": [],
   "source": [
    "sentences_score = np.round(onion_soup_sentences['compound'].mean(), 2)"
   ]
  },
  {
   "cell_type": "code",
   "execution_count": 21,
   "metadata": {},
   "outputs": [
    {
     "ename": "NameError",
     "evalue": "name 'transform_to_stars' is not defined",
     "output_type": "error",
     "traceback": [
      "\u001b[0;31m---------------------------------------------------------------------------\u001b[0m",
      "\u001b[0;31mNameError\u001b[0m                                 Traceback (most recent call last)",
      "\u001b[0;32m<ipython-input-21-f5681db8d833>\u001b[0m in \u001b[0;36m<module>\u001b[0;34m\u001b[0m\n\u001b[0;32m----> 1\u001b[0;31m \u001b[0mprint\u001b[0m\u001b[0;34m(\u001b[0m\u001b[0;34mf'Reviews-level Score: {reviews_score}, Stars: {transform_to_stars(reviews_score)}'\u001b[0m\u001b[0;34m)\u001b[0m\u001b[0;34m\u001b[0m\u001b[0m\n\u001b[0m\u001b[1;32m      2\u001b[0m \u001b[0mprint\u001b[0m\u001b[0;34m(\u001b[0m\u001b[0;34mf'Sentence-level Score: {sentences_score}, Stars: {transform_to_stars(sentences_score)}'\u001b[0m\u001b[0;34m)\u001b[0m\u001b[0;34m\u001b[0m\u001b[0m\n",
      "\u001b[0;31mNameError\u001b[0m: name 'transform_to_stars' is not defined"
     ]
    }
   ],
   "source": [
    "print(f'Reviews-level Score: {reviews_score}, Stars: {transform_to_stars(reviews_score)}')\n",
    "print(f'Sentence-level Score: {sentences_score}, Stars: {transform_to_stars(sentences_score)}')"
   ]
  },
  {
   "cell_type": "code",
   "execution_count": null,
   "metadata": {},
   "outputs": [],
   "source": []
  },
  {
   "cell_type": "code",
   "execution_count": null,
   "metadata": {},
   "outputs": [],
   "source": [
    "def get_between(df, col, lower, upper):\n",
    "    lower = df[col] >= lower\n",
    "    upper = df[col] <= upper\n",
    "\n",
    "    return df[lower & upper]"
   ]
  },
  {
   "cell_type": "markdown",
   "metadata": {},
   "source": [
    "SIA is quite bad at detecting slang. \"to die for\" and \"the BOMB\" were ranked highly negative."
   ]
  },
  {
   "cell_type": "code",
   "execution_count": null,
   "metadata": {},
   "outputs": [],
   "source": [
    "get_between(onion_soup_sentences, 'compound', -.05, .05)"
   ]
  },
  {
   "cell_type": "code",
   "execution_count": null,
   "metadata": {},
   "outputs": [],
   "source": [
    "get_between(onion_soup_sentences, 'compound', -.7, -.5).head(8)"
   ]
  },
  {
   "cell_type": "code",
   "execution_count": null,
   "metadata": {
    "scrolled": true
   },
   "outputs": [],
   "source": [
    "get_between(onion_soup_chunks, 'compound', -.1, .1).sort_values(by = 'compound').head(8)"
   ]
  },
  {
   "cell_type": "code",
   "execution_count": null,
   "metadata": {
    "scrolled": true
   },
   "outputs": [],
   "source": [
    "get_between(onion_soup_chunks, 'compound', .1, .3).sort_values(by = 'compound').head(8)"
   ]
  },
  {
   "cell_type": "code",
   "execution_count": null,
   "metadata": {},
   "outputs": [],
   "source": []
  },
  {
   "cell_type": "markdown",
   "metadata": {},
   "source": [
    "### Plot Distribution of Sentiments for each star rating"
   ]
  },
  {
   "cell_type": "code",
   "execution_count": null,
   "metadata": {},
   "outputs": [],
   "source": [
    "def subplot_hist_per_stars(df, col, desc, bins = 20, xlim = (-1,1)):\n",
    "    '''\n",
    "    Plots distribution of a column grouped by number of stars (1-5)\n",
    "    '''\n",
    "    nrows = 2\n",
    "    ncols = 3\n",
    "    \n",
    "    # set up subplots\n",
    "    fig, axes = plt.subplots(nrows = nrows, ncols = ncols, \n",
    "                             figsize = (5*ncols, 5*nrows))\n",
    "    axes = axes.ravel()\n",
    "    \n",
    "    # drop extra plots\n",
    "    plt.delaxes(axes[5])    \n",
    "    \n",
    "    for i in range(5):\n",
    "        n_stars = i+1\n",
    "        mask = df['stars'] == n_stars\n",
    "\n",
    "        axes[i].hist(df[mask][col], bins = bins)\n",
    "\n",
    "        axes[i].set_title(f'Distribution of {desc}\\nof {n_stars}-star Reviews')\n",
    "        axes[i].set_xlabel('Score')\n",
    "        axes[i].set_xlim(xlim)\n",
    "        axes[i].set_ylabel('Frequency')\n",
    "\n",
    "    plt.tight_layout()\n"
   ]
  },
  {
   "cell_type": "code",
   "execution_count": null,
   "metadata": {
    "scrolled": false
   },
   "outputs": [],
   "source": [
    "# subplot_hist_per_stars(onion_soup_reviews, 'pos', 'Positive Sentiments', 20, (0,1))"
   ]
  },
  {
   "cell_type": "code",
   "execution_count": 22,
   "metadata": {
    "scrolled": false
   },
   "outputs": [],
   "source": [
    "# subplot_hist_per_stars(onion_soup_reviews, 'neu', 'Neutral Sentiments', 20, (0,1))"
   ]
  },
  {
   "cell_type": "code",
   "execution_count": 23,
   "metadata": {
    "scrolled": false
   },
   "outputs": [],
   "source": [
    "# subplot_hist_per_stars(onion_soup_reviews, 'neg', 'Negative Sentiments', 20, (0,1))"
   ]
  },
  {
   "cell_type": "code",
   "execution_count": 25,
   "metadata": {
    "scrolled": true
   },
   "outputs": [],
   "source": [
    "# subplot_hist_per_stars(onion_soup_reviews, 'compound', 'Compound Sentiments', 20, (-1,1))"
   ]
  },
  {
   "cell_type": "markdown",
   "metadata": {},
   "source": [
    "### Plot Correlation Heatmap"
   ]
  },
  {
   "cell_type": "code",
   "execution_count": 26,
   "metadata": {},
   "outputs": [],
   "source": [
    "def plot_corr(df, return_corr = False):\n",
    "    '''\n",
    "    Plots a lower triangle correlation heatmap (removes redundancy of correlation heatmaps)\n",
    "    '''\n",
    "    corr = df.corr()\n",
    "    \n",
    "    fig, ax = plt.subplots(figsize=(10,8))\n",
    "\n",
    "    ax.set_title('Correlation Heatmap', fontsize = 20)\n",
    "\n",
    "    # Generate a mask for the upper triangle (taken from seaborn example gallery)\n",
    "    mask = np.zeros_like(corr, dtype=np.bool)\n",
    "    mask[np.triu_indices_from(mask)] = True\n",
    "\n",
    "    # Plot the heatmap with seaborn.\n",
    "    # Assign the matplotlib axis the function returns. This will let us resize the labels.\n",
    "    ax = sns.heatmap(corr, mask=mask, ax=ax, annot=True)\n",
    "\n",
    "    # Resize the labels.\n",
    "    ax.set_xticklabels(ax.xaxis.get_ticklabels(), fontsize=15)\n",
    "    ax.set_yticklabels(ax.yaxis.get_ticklabels(), fontsize=15)\n",
    "\n",
    "    plt.show()\n",
    "    \n",
    "    if return_corr:\n",
    "        return corr"
   ]
  },
  {
   "cell_type": "code",
   "execution_count": 27,
   "metadata": {},
   "outputs": [
    {
     "data": {
      "image/png": "[encoded data removed]",
      "text/plain": [
       "<Figure size 720x576 with 2 Axes>"
      ]
     },
     "metadata": {
      "needs_background": "light"
     },
     "output_type": "display_data"
    }
   ],
   "source": [
    "plot_corr(onion_soup_reviews)"
   ]
  },
  {
   "cell_type": "markdown",
   "metadata": {},
   "source": [
    "## Predict Sentiment of Food"
   ]
  },
  {
   "cell_type": "markdown",
   "metadata": {},
   "source": [
    "### Benchmark model: Mean of Compound Sentiment, scaled to 1 to 5 stars\n",
    "\n",
    "Transform continuous `[-1.0, 1.0]` range to discrete `[1, 5]`  "
   ]
  },
  {
   "cell_type": "code",
   "execution_count": 28,
   "metadata": {},
   "outputs": [],
   "source": [
    "def transform_to_stars(n, lower = -1, upper = 1):\n",
    "    '''\n",
    "    Transform n to a discrete value between 1 to 5, inclusive.\n",
    "    '''\n",
    "    if n < lower or n > upper:\n",
    "        print(f'OutOfRangeError: Set n between [{lower},{upper}]')\n",
    "        return None\n",
    "    \n",
    "    interval = np.round((upper - lower) / 9, 2)\n",
    "    bins = [np.round(lower + i*interval, 2) for i in range(0,10)]\n",
    "#     print(interval)\n",
    "#     print(bins)\n",
    "    \n",
    "    # one star is the lowest rating, can't get 0.5 star\n",
    "    n_categories = 9\n",
    "    \n",
    "    for i in range(2,11):\n",
    "        if bins[i-2] <= n <= bins[i-1]:\n",
    "#             print(i)\n",
    "            return i/2\n",
    "\n",
    "    if n >= bins[-1]:\n",
    "        return 5.0\n"
   ]
  },
  {
   "cell_type": "code",
   "execution_count": 29,
   "metadata": {},
   "outputs": [],
   "source": [
    "def rescale_to_stars(scores, lower = -1, upper = 1):\n",
    "    '''\n",
    "    Rescale list of values to discrete values between 1 to 5, inclusive.\n",
    "\n",
    "    Distributes the 5-star system to a uniform distribution of the input range.\n",
    "    '''    \n",
    "    interval = np.round((upper - lower) / 5, 2)\n",
    "    bins = [np.round(lower + i*interval, 2) for i in range(0, 6)]\n",
    "\n",
    "    return list(pd.cut(scores, bins = bins, labels = np.arange(1, 6, 1), include_lowest = True))\n"
   ]
  },
  {
   "cell_type": "markdown",
   "metadata": {},
   "source": [
    "#### Review-Level Predictions"
   ]
  },
  {
   "cell_type": "code",
   "execution_count": 30,
   "metadata": {},
   "outputs": [],
   "source": [
    "onion_soup_reviews['stars_pred'] = rescale_to_stars(onion_soup_reviews['compound'])"
   ]
  },
  {
   "cell_type": "code",
   "execution_count": 31,
   "metadata": {},
   "outputs": [
    {
     "data": {
      "text/html": [
       "<div>\n",
       "<style scoped>\n",
       "    .dataframe tbody tr th:only-of-type {\n",
       "        vertical-align: middle;\n",
       "    }\n",
       "\n",
       "    .dataframe tbody tr th {\n",
       "        vertical-align: top;\n",
       "    }\n",
       "\n",
       "    .dataframe thead th {\n",
       "        text-align: right;\n",
       "    }\n",
       "</style>\n",
       "<table border=\"1\" class=\"dataframe\">\n",
       "  <thead>\n",
       "    <tr style=\"text-align: right;\">\n",
       "      <th></th>\n",
       "      <th>text</th>\n",
       "      <th>compound</th>\n",
       "      <th>stars</th>\n",
       "      <th>stars_pred</th>\n",
       "    </tr>\n",
       "  </thead>\n",
       "  <tbody>\n",
       "    <tr>\n",
       "      <th>0</th>\n",
       "      <td>Other than being right across the Fountains of Bellagio, I'm not quite sure what the hype is about this place. We came here for brunch during peak hour, but luckily had a reservation so ended up waiting only a few minutes.   Our table ordered Bordelaise Steak Frites (with caramelized onion and red wine sauce); Chicken and Mushroom Crepe (with kale and brie); Seafood Crepe (with scallops, shrimp, peas and cream); Onion soup; and Eggs Benedict (with Canadian bacon and hollandaise sauce).   The steak frites and onion soup were the best things we ordered. Steak frites came with a huge chunk of juicy steak and a side of crispy, salted fries. Onion soup was also a nice, big portion, but I can't say it stood out from other onion soups I've had. Can't speak for the chicken and mushroom crepe since I didn't get to try it, but everything else truthfully fell short of expectations. The seafood crepe not only lacked flavor, but also was too creamy and heavy for my taste. The large pieces of shrimp and scallops saved the dish, but overall, the crepe was just okay. Eggs benedict here is definitely not a stand-out dish, either. The muffin was too hard and I've definitely had better hollandaise sauce.</td>\n",
       "      <td>0.9895</td>\n",
       "      <td>2.0</td>\n",
       "      <td>5</td>\n",
       "    </tr>\n",
       "    <tr>\n",
       "      <th>1</th>\n",
       "      <td>French onion soup was watery with little taste.  We sent it back and were refunded the cost.  The wait staff also forgot that we were there for a birthday and didn't bring out a candle for dessert.  On the plus side my trout was wonderful and my wife enjoyed her scallops.  We've been a number of times but this last meal has tarnished that \"must visit\" image.  Pricing is reasonable for Vegas and reservations can usual be booked same day.</td>\n",
       "      <td>0.5647</td>\n",
       "      <td>3.0</td>\n",
       "      <td>4</td>\n",
       "    </tr>\n",
       "    <tr>\n",
       "      <th>2</th>\n",
       "      <td>Where to begin!  Now our dining experience here was not a common one - we were treated to dinner here.  We ate almost everything on the menu - although their French Onion Soup wasn't spectacular, their baked goat cheese, fresh French bread and steaks were to die for.  They had a great wine selection, and our server, Angie, was phenomenal.  She had great wine recommendations and was overall a joy to have.  Would definitely eat here again!  Thank you George at the Paris for everything!</td>\n",
       "      <td>0.9475</td>\n",
       "      <td>5.0</td>\n",
       "      <td>5</td>\n",
       "    </tr>\n",
       "    <tr>\n",
       "      <th>3</th>\n",
       "      <td>Charming resturant that looks like it would be heavily overpriced. Been here twice now and really enoued the onion soup, they are not stingey on the gruyer cheese! Endive and pear salad was a bit salty for my taste but there's plenty more to choose from. Baugettes were real tasty!</td>\n",
       "      <td>0.5767</td>\n",
       "      <td>4.0</td>\n",
       "      <td>4</td>\n",
       "    </tr>\n",
       "    <tr>\n",
       "      <th>4</th>\n",
       "      <td>This review is long overdue!   I have been eating here for years, it is always on my \"must have\" list when visiting vegas. I have NEVER been disappointed with the food or service in the many years I have eaten here.   I love everything on the menu. EVERYTHING. Honestly you cant go wrong. The french onion soup, the bread, the steaks, the seafood, dessert - it is all fabulous.   Thank you mon ami for being my favorite vegas restaurant!</td>\n",
       "      <td>0.9674</td>\n",
       "      <td>5.0</td>\n",
       "      <td>5</td>\n",
       "    </tr>\n",
       "  </tbody>\n",
       "</table>\n",
       "</div>"
      ],
      "text/plain": [
       "                                                                                                                                                                                                                                                                                                                                                                                                                                                                                                                                                                                                                                                                                                                                                                                                                                                                                                                                                                                                                                                                                                                                                                                                                                                   text  \\\n",
       "0  Other than being right across the Fountains of Bellagio, I'm not quite sure what the hype is about this place. We came here for brunch during peak hour, but luckily had a reservation so ended up waiting only a few minutes.   Our table ordered Bordelaise Steak Frites (with caramelized onion and red wine sauce); Chicken and Mushroom Crepe (with kale and brie); Seafood Crepe (with scallops, shrimp, peas and cream); Onion soup; and Eggs Benedict (with Canadian bacon and hollandaise sauce).   The steak frites and onion soup were the best things we ordered. Steak frites came with a huge chunk of juicy steak and a side of crispy, salted fries. Onion soup was also a nice, big portion, but I can't say it stood out from other onion soups I've had. Can't speak for the chicken and mushroom crepe since I didn't get to try it, but everything else truthfully fell short of expectations. The seafood crepe not only lacked flavor, but also was too creamy and heavy for my taste. The large pieces of shrimp and scallops saved the dish, but overall, the crepe was just okay. Eggs benedict here is definitely not a stand-out dish, either. The muffin was too hard and I've definitely had better hollandaise sauce.   \n",
       "1  French onion soup was watery with little taste.  We sent it back and were refunded the cost.  The wait staff also forgot that we were there for a birthday and didn't bring out a candle for dessert.  On the plus side my trout was wonderful and my wife enjoyed her scallops.  We've been a number of times but this last meal has tarnished that \"must visit\" image.  Pricing is reasonable for Vegas and reservations can usual be booked same day.                                                                                                                                                                                                                                                                                                                                                                                                                                                                                                                                                                                                                                                                                                                                                                                               \n",
       "2  Where to begin!  Now our dining experience here was not a common one - we were treated to dinner here.  We ate almost everything on the menu - although their French Onion Soup wasn't spectacular, their baked goat cheese, fresh French bread and steaks were to die for.  They had a great wine selection, and our server, Angie, was phenomenal.  She had great wine recommendations and was overall a joy to have.  Would definitely eat here again!  Thank you George at the Paris for everything!                                                                                                                                                                                                                                                                                                                                                                                                                                                                                                                                                                                                                                                                                                                                               \n",
       "3  Charming resturant that looks like it would be heavily overpriced. Been here twice now and really enoued the onion soup, they are not stingey on the gruyer cheese! Endive and pear salad was a bit salty for my taste but there's plenty more to choose from. Baugettes were real tasty!                                                                                                                                                                                                                                                                                                                                                                                                                                                                                                                                                                                                                                                                                                                                                                                                                                                                                                                                                              \n",
       "4  This review is long overdue!   I have been eating here for years, it is always on my \"must have\" list when visiting vegas. I have NEVER been disappointed with the food or service in the many years I have eaten here.   I love everything on the menu. EVERYTHING. Honestly you cant go wrong. The french onion soup, the bread, the steaks, the seafood, dessert - it is all fabulous.   Thank you mon ami for being my favorite vegas restaurant!                                                                                                                                                                                                                                                                                                                                                                                                                                                                                                                                                                                                                                                                                                                                                                                                  \n",
       "\n",
       "   compound  stars  stars_pred  \n",
       "0  0.9895    2.0    5           \n",
       "1  0.5647    3.0    4           \n",
       "2  0.9475    5.0    5           \n",
       "3  0.5767    4.0    4           \n",
       "4  0.9674    5.0    5           "
      ]
     },
     "execution_count": 31,
     "metadata": {},
     "output_type": "execute_result"
    }
   ],
   "source": [
    "onion_soup_reviews[['text', 'compound', 'stars', 'stars_pred']].head()"
   ]
  },
  {
   "cell_type": "markdown",
   "metadata": {},
   "source": [
    "#### Sentence-Level Predictions"
   ]
  },
  {
   "cell_type": "code",
   "execution_count": 33,
   "metadata": {
    "scrolled": true
   },
   "outputs": [
    {
     "data": {
      "text/html": [
       "<div>\n",
       "<style scoped>\n",
       "    .dataframe tbody tr th:only-of-type {\n",
       "        vertical-align: middle;\n",
       "    }\n",
       "\n",
       "    .dataframe tbody tr th {\n",
       "        vertical-align: top;\n",
       "    }\n",
       "\n",
       "    .dataframe thead th {\n",
       "        text-align: right;\n",
       "    }\n",
       "</style>\n",
       "<table border=\"1\" class=\"dataframe\">\n",
       "  <thead>\n",
       "    <tr style=\"text-align: right;\">\n",
       "      <th></th>\n",
       "      <th>text</th>\n",
       "      <th>compound</th>\n",
       "      <th>stars_pred</th>\n",
       "    </tr>\n",
       "  </thead>\n",
       "  <tbody>\n",
       "    <tr>\n",
       "      <th>0</th>\n",
       "      <td>Our table ordered Bordelaise Steak Frites (with caramelized onion and red wine sauce); Chicken and Mushroom Crepe (with kale and brie); Seafood Crepe (with scallops, shrimp, peas and cream); Onion soup; and Eggs Benedict (with Canadian bacon and hollandaise sauce)</td>\n",
       "      <td>0.0000</td>\n",
       "      <td>3</td>\n",
       "    </tr>\n",
       "    <tr>\n",
       "      <th>1</th>\n",
       "      <td>The steak frites and onion soup were the best things we ordered</td>\n",
       "      <td>0.6369</td>\n",
       "      <td>5</td>\n",
       "    </tr>\n",
       "    <tr>\n",
       "      <th>2</th>\n",
       "      <td>Onion soup was also a nice, big portion, but I can't say it stood out from other onion soups I've had</td>\n",
       "      <td>0.2263</td>\n",
       "      <td>4</td>\n",
       "    </tr>\n",
       "    <tr>\n",
       "      <th>3</th>\n",
       "      <td>French onion soup was watery with little taste</td>\n",
       "      <td>0.0000</td>\n",
       "      <td>3</td>\n",
       "    </tr>\n",
       "    <tr>\n",
       "      <th>4</th>\n",
       "      <td>We ate almost everything on the menu - although their French Onion Soup wasn't spectacular, their baked goat cheese, fresh French bread and steaks were to die for</td>\n",
       "      <td>-0.3818</td>\n",
       "      <td>2</td>\n",
       "    </tr>\n",
       "  </tbody>\n",
       "</table>\n",
       "</div>"
      ],
      "text/plain": [
       "                                                                                                                                                                                                                                                                          text  \\\n",
       "0     Our table ordered Bordelaise Steak Frites (with caramelized onion and red wine sauce); Chicken and Mushroom Crepe (with kale and brie); Seafood Crepe (with scallops, shrimp, peas and cream); Onion soup; and Eggs Benedict (with Canadian bacon and hollandaise sauce)   \n",
       "1     The steak frites and onion soup were the best things we ordered                                                                                                                                                                                                            \n",
       "2   Onion soup was also a nice, big portion, but I can't say it stood out from other onion soups I've had                                                                                                                                                                        \n",
       "3  French onion soup was watery with little taste                                                                                                                                                                                                                                \n",
       "4    We ate almost everything on the menu - although their French Onion Soup wasn't spectacular, their baked goat cheese, fresh French bread and steaks were to die for                                                                                                          \n",
       "\n",
       "   compound  stars_pred  \n",
       "0  0.0000    3           \n",
       "1  0.6369    5           \n",
       "2  0.2263    4           \n",
       "3  0.0000    3           \n",
       "4 -0.3818    2           "
      ]
     },
     "execution_count": 33,
     "metadata": {},
     "output_type": "execute_result"
    }
   ],
   "source": [
    "onion_soup_sentences['stars_pred'] = rescale_to_stars(onion_soup_sentences['compound'])\n",
    "onion_soup_sentences[['text', 'compound', 'stars_pred']].head()\n"
   ]
  },
  {
   "cell_type": "markdown",
   "metadata": {},
   "source": [
    "#### Entity-Level Predictions"
   ]
  },
  {
   "cell_type": "code",
   "execution_count": 34,
   "metadata": {},
   "outputs": [
    {
     "data": {
      "text/html": [
       "<div>\n",
       "<style scoped>\n",
       "    .dataframe tbody tr th:only-of-type {\n",
       "        vertical-align: middle;\n",
       "    }\n",
       "\n",
       "    .dataframe tbody tr th {\n",
       "        vertical-align: top;\n",
       "    }\n",
       "\n",
       "    .dataframe thead th {\n",
       "        text-align: right;\n",
       "    }\n",
       "</style>\n",
       "<table border=\"1\" class=\"dataframe\">\n",
       "  <thead>\n",
       "    <tr style=\"text-align: right;\">\n",
       "      <th></th>\n",
       "      <th>text</th>\n",
       "      <th>compound</th>\n",
       "      <th>stars_pred</th>\n",
       "    </tr>\n",
       "  </thead>\n",
       "  <tbody>\n",
       "    <tr>\n",
       "      <th>0</th>\n",
       "      <td>scallops shrimp peas and cream onion soup and eggs benedict with canadian</td>\n",
       "      <td>0.0000</td>\n",
       "      <td>3</td>\n",
       "    </tr>\n",
       "    <tr>\n",
       "      <th>1</th>\n",
       "      <td>the steak frites and onion soup were the best things we</td>\n",
       "      <td>0.6369</td>\n",
       "      <td>5</td>\n",
       "    </tr>\n",
       "    <tr>\n",
       "      <th>2</th>\n",
       "      <td>onion soup was also a nice big</td>\n",
       "      <td>0.4215</td>\n",
       "      <td>4</td>\n",
       "    </tr>\n",
       "    <tr>\n",
       "      <th>3</th>\n",
       "      <td>french onion soup was watery with little taste</td>\n",
       "      <td>0.0000</td>\n",
       "      <td>3</td>\n",
       "    </tr>\n",
       "    <tr>\n",
       "      <th>4</th>\n",
       "      <td>the menu although their french onion soup was n't spectacular their baked</td>\n",
       "      <td>0.0000</td>\n",
       "      <td>3</td>\n",
       "    </tr>\n",
       "  </tbody>\n",
       "</table>\n",
       "</div>"
      ],
      "text/plain": [
       "                                                                        text  \\\n",
       "0  scallops shrimp peas and cream onion soup and eggs benedict with canadian   \n",
       "1  the steak frites and onion soup were the best things we                     \n",
       "2  onion soup was also a nice big                                              \n",
       "3  french onion soup was watery with little taste                              \n",
       "4  the menu although their french onion soup was n't spectacular their baked   \n",
       "\n",
       "   compound  stars_pred  \n",
       "0  0.0000    3           \n",
       "1  0.6369    5           \n",
       "2  0.4215    4           \n",
       "3  0.0000    3           \n",
       "4  0.0000    3           "
      ]
     },
     "execution_count": 34,
     "metadata": {},
     "output_type": "execute_result"
    }
   ],
   "source": [
    "onion_soup_chunks['stars_pred'] = rescale_to_stars(onion_soup_chunks['compound'])\n",
    "onion_soup_chunks[['text', 'compound', 'stars_pred']].head()\n"
   ]
  },
  {
   "cell_type": "code",
   "execution_count": null,
   "metadata": {},
   "outputs": [],
   "source": []
  },
  {
   "cell_type": "markdown",
   "metadata": {},
   "source": [
    "### Final predictions without dropping `compound=0` rows"
   ]
  },
  {
   "cell_type": "markdown",
   "metadata": {},
   "source": [
    "#### Using the mean of `compound`"
   ]
  },
  {
   "cell_type": "code",
   "execution_count": 35,
   "metadata": {},
   "outputs": [
    {
     "name": "stdout",
     "output_type": "stream",
     "text": [
      "Review-level Score:\t0.8735\n",
      "Review-level Rating:\t5.0\n",
      "\n",
      "Sentence-level Score:\t0.3865\n",
      "Sentence-level Rating:\t4.0\n",
      "\n",
      "Entity-level Score:\t0.2408\n",
      "Entity-level Rating:\t3.5\n"
     ]
    }
   ],
   "source": [
    "# final prediction\n",
    "review_score = np.round(onion_soup_reviews['compound'].mean(), 4)\n",
    "sentence_score = np.round(onion_soup_sentences['compound'].mean(), 4)\n",
    "chunk_score = np.round(onion_soup_chunks['compound'].mean(), 4)\n",
    "\n",
    "print(f'Review-level Score:\\t{review_score}')\n",
    "print(f'Review-level Rating:\\t{transform_to_stars(review_score)}')\n",
    "print()\n",
    "print(f'Sentence-level Score:\\t{sentence_score}')\n",
    "print(f'Sentence-level Rating:\\t{transform_to_stars(sentence_score)}')\n",
    "print()\n",
    "print(f'Entity-level Score:\\t{chunk_score}')\n",
    "print(f'Entity-level Rating:\\t{transform_to_stars(chunk_score)}')\n",
    "\n"
   ]
  },
  {
   "cell_type": "markdown",
   "metadata": {},
   "source": [
    "#### Using the mean of `stars_pred`"
   ]
  },
  {
   "cell_type": "code",
   "execution_count": 36,
   "metadata": {},
   "outputs": [
    {
     "name": "stdout",
     "output_type": "stream",
     "text": [
      "Review-level Rating:\t4.8\n",
      "Sentence-level Rating:\t4.0\n",
      "Entity-level Rating:\t3.6\n"
     ]
    }
   ],
   "source": [
    "# final prediction\n",
    "review_star_score = np.round(onion_soup_reviews['stars_pred'].mean(), 1)\n",
    "sentence_star_score = np.round(onion_soup_sentences['stars_pred'].mean(), 1)\n",
    "chunk_star_score = np.round(onion_soup_chunks['stars_pred'].mean(), 1)\n",
    "\n",
    "print(f'Review-level Rating:\\t{review_star_score}')\n",
    "print(f'Sentence-level Rating:\\t{sentence_star_score}')\n",
    "print(f'Entity-level Rating:\\t{chunk_star_score}')"
   ]
  },
  {
   "cell_type": "markdown",
   "metadata": {},
   "source": [
    "### Final predictions after dropping `compound=0` rows"
   ]
  },
  {
   "cell_type": "code",
   "execution_count": 37,
   "metadata": {},
   "outputs": [],
   "source": [
    "# drop compound=0\n",
    "onion_soup_reviews2   = onion_soup_reviews.drop(onion_soup_reviews[onion_soup_reviews['compound']==0].index)\n",
    "onion_soup_sentences2 = onion_soup_sentences.drop(onion_soup_sentences[onion_soup_sentences['compound']==0].index)\n",
    "onion_soup_chunks2    = onion_soup_chunks.drop(onion_soup_chunks[onion_soup_chunks['compound']==0].index)\n",
    "\n"
   ]
  },
  {
   "cell_type": "markdown",
   "metadata": {},
   "source": [
    "#### Using the mean of `compound`"
   ]
  },
  {
   "cell_type": "code",
   "execution_count": 38,
   "metadata": {},
   "outputs": [
    {
     "name": "stdout",
     "output_type": "stream",
     "text": [
      "Review-level Score:\t0.8755\n",
      "Review-level Rating:\t5.0\n",
      "\n",
      "Sentence-level Score:\t0.5155\n",
      "Sentence-level Rating:\t4.0\n",
      "\n",
      "Entity-level Score:\t0.4138\n",
      "Entity-level Rating:\t4.0\n"
     ]
    }
   ],
   "source": [
    "# final prediction\n",
    "review_score2 = np.round(onion_soup_reviews2['compound'].mean(), 4)\n",
    "sentence_score2 = np.round(onion_soup_sentences2['compound'].mean(), 4)\n",
    "chunk_score2 = np.round(onion_soup_chunks2['compound'].mean(), 4)\n",
    "\n",
    "print(f'Review-level Score:\\t{review_score2}')\n",
    "print(f'Review-level Rating:\\t{transform_to_stars(review_score2)}')\n",
    "print()\n",
    "print(f'Sentence-level Score:\\t{sentence_score2}')\n",
    "print(f'Sentence-level Rating:\\t{transform_to_stars(sentence_score2)}')\n",
    "print()\n",
    "print(f'Entity-level Score:\\t{chunk_score2}')\n",
    "print(f'Entity-level Rating:\\t{transform_to_stars(chunk_score2)}')"
   ]
  },
  {
   "cell_type": "markdown",
   "metadata": {},
   "source": [
    "#### Using the mean of `stars_pred`"
   ]
  },
  {
   "cell_type": "code",
   "execution_count": 39,
   "metadata": {},
   "outputs": [
    {
     "name": "stdout",
     "output_type": "stream",
     "text": [
      "Review-level Rating:\t4.8\n",
      "Sentence-level Rating:\t4.3\n",
      "Entity-level Rating:\t4.0\n"
     ]
    }
   ],
   "source": [
    "# final prediction\n",
    "review_star_score2 = np.round(onion_soup_reviews2['stars_pred'].mean(), 1)\n",
    "sentence_star_score2 = np.round(onion_soup_sentences2['stars_pred'].mean(), 1)\n",
    "chunk_star_score2 = np.round(onion_soup_chunks2['stars_pred'].mean(), 1)\n",
    "\n",
    "print(f'Review-level Rating:\\t{review_star_score2}')\n",
    "print(f'Sentence-level Rating:\\t{sentence_star_score2}')\n",
    "print(f'Entity-level Rating:\\t{chunk_star_score2}')"
   ]
  },
  {
   "cell_type": "code",
   "execution_count": 40,
   "metadata": {},
   "outputs": [],
   "source": [
    "business_df = pd.read_csv('../data/interim/restaurants.csv')"
   ]
  },
  {
   "cell_type": "code",
   "execution_count": 41,
   "metadata": {},
   "outputs": [
    {
     "data": {
      "text/html": [
       "<div>\n",
       "<style scoped>\n",
       "    .dataframe tbody tr th:only-of-type {\n",
       "        vertical-align: middle;\n",
       "    }\n",
       "\n",
       "    .dataframe tbody tr th {\n",
       "        vertical-align: top;\n",
       "    }\n",
       "\n",
       "    .dataframe thead th {\n",
       "        text-align: right;\n",
       "    }\n",
       "</style>\n",
       "<table border=\"1\" class=\"dataframe\">\n",
       "  <thead>\n",
       "    <tr style=\"text-align: right;\">\n",
       "      <th></th>\n",
       "      <th>name</th>\n",
       "      <th>business_id</th>\n",
       "      <th>stars</th>\n",
       "      <th>review_count</th>\n",
       "      <th>categories</th>\n",
       "      <th>longitude</th>\n",
       "      <th>latitude</th>\n",
       "      <th>postal_code</th>\n",
       "      <th>city</th>\n",
       "      <th>state</th>\n",
       "    </tr>\n",
       "  </thead>\n",
       "  <tbody>\n",
       "    <tr>\n",
       "      <th>42060</th>\n",
       "      <td>Mon Ami Gabi</td>\n",
       "      <td>4JNXUYY8wbaaDmk3BPzlWw</td>\n",
       "      <td>4.0</td>\n",
       "      <td>7968</td>\n",
       "      <td>Steakhouses, Breakfast &amp; Brunch, Restaurants, French</td>\n",
       "      <td>-115.172581</td>\n",
       "      <td>36.112827</td>\n",
       "      <td>89109</td>\n",
       "      <td>Las Vegas</td>\n",
       "      <td>NV</td>\n",
       "    </tr>\n",
       "  </tbody>\n",
       "</table>\n",
       "</div>"
      ],
      "text/plain": [
       "               name             business_id  stars  review_count  \\\n",
       "42060  Mon Ami Gabi  4JNXUYY8wbaaDmk3BPzlWw  4.0    7968           \n",
       "\n",
       "                                                 categories   longitude  \\\n",
       "42060  Steakhouses, Breakfast & Brunch, Restaurants, French -115.172581   \n",
       "\n",
       "        latitude postal_code       city state  \n",
       "42060  36.112827  89109       Las Vegas  NV    "
      ]
     },
     "execution_count": 41,
     "metadata": {},
     "output_type": "execute_result"
    }
   ],
   "source": [
    "business_df[business_df['business_id'] == '4JNXUYY8wbaaDmk3BPzlWw']"
   ]
  },
  {
   "cell_type": "code",
   "execution_count": null,
   "metadata": {},
   "outputs": [],
   "source": []
  },
  {
   "cell_type": "markdown",
   "metadata": {},
   "source": [
    "### Plot Distribution of Sentiments"
   ]
  },
  {
   "cell_type": "code",
   "execution_count": 42,
   "metadata": {},
   "outputs": [],
   "source": [
    "def compare_hist(cols, titles, xlabel, ylabel, bins = 30):\n",
    "    ncols = len(cols)\n",
    "    fig, axes = plt.subplots(ncols   = ncols, \n",
    "                             figsize = (5*ncols, 5), \n",
    "                             sharex  = True)\n",
    "    for i in range(ncols):\n",
    "        axes[i].hist(cols[i], bins = bins)\n",
    "        \n",
    "        axes[i].set_title(titles[i], fontsize = 20)\n",
    "        axes[i].set_xlabel(xlabel, fontsize = 15)\n",
    "        axes[i].set_ylabel(ylabel, fontsize = 15)\n",
    "        \n",
    "    plt.tight_layout()\n"
   ]
  },
  {
   "cell_type": "code",
   "execution_count": 43,
   "metadata": {},
   "outputs": [
    {
     "data": {
      "image/png": "[encoded data removed]",
      "text/plain": [
       "<Figure size 1080x360 with 3 Axes>"
      ]
     },
     "metadata": {
      "needs_background": "light"
     },
     "output_type": "display_data"
    }
   ],
   "source": [
    "compare_hist([onion_soup_reviews['compound'], onion_soup_sentences['compound'], onion_soup_chunks['compound']],\n",
    "             titles = ['Review-level Sentiment Analysis', 'Sentence-level Sentiment Analysis', 'Entity-level Sentiment Analysis'],\n",
    "             xlabel = 'Sentiment Score',\n",
    "             ylabel = 'Frequency')\n"
   ]
  },
  {
   "cell_type": "markdown",
   "metadata": {},
   "source": [
    "At the review-level, `compound` sentiment scores tend to be inflated towards the maximum value. This may be due to a limitation of the nltk SIA on large documents.   \n",
    "\n",
    "At the sentence-level, `compound` sentiment scores start to have a more interesting distribution.  \n",
    "However, there appears to be a high frequency of neutral scores (`compound`~=0). Could this be due to mixed sentiments within sentences? This may affect the true distribution. **Entity-level** SIA may be able to address this issue.  \n",
    "Edit (2/2/19): Entity-level SIA reveals that even more chunks have perfectly neutral or undeterminable sentiments.\n",
    "\n",
    "Reviews with no sentiment score will be dropped.\n",
    "\n",
    "\n"
   ]
  },
  {
   "cell_type": "code",
   "execution_count": 44,
   "metadata": {},
   "outputs": [
    {
     "data": {
      "image/png": "[encoded data removed]",
      "text/plain": [
       "<Figure size 1080x360 with 3 Axes>"
      ]
     },
     "metadata": {
      "needs_background": "light"
     },
     "output_type": "display_data"
    }
   ],
   "source": [
    "compare_hist([onion_soup_reviews2['compound'], onion_soup_sentences2['compound'], onion_soup_chunks2['compound']],\n",
    "             titles = ['Review-level Sentiment Analysis', 'Sentence-level Sentiment Analysis', 'Entity-level Sentiment Analysis'],\n",
    "             xlabel = 'Sentiment Score',\n",
    "             ylabel = 'Frequency')\n"
   ]
  }
 ],
 "metadata": {
  "kernelspec": {
   "display_name": "Python [default]",
   "language": "python",
   "name": "python3"
  },
  "language_info": {
   "codemirror_mode": {
    "name": "ipython",
    "version": 3
   },
   "file_extension": ".py",
   "mimetype": "text/x-python",
   "name": "python",
   "nbconvert_exporter": "python",
   "pygments_lexer": "ipython3",
   "version": "3.6.5"
  }
 },
 "nbformat": 4,
 "nbformat_minor": 2
}
