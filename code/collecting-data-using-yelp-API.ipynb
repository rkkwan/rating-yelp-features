{
 "cells": [
  {
   "cell_type": "markdown",
   "metadata": {},
   "source": [
    "# Collecting Data using Yelp's API"
   ]
  },
  {
   "cell_type": "markdown",
   "metadata": {},
   "source": [
    "### Install Packages\n",
    "\n",
    "[GraphQL for Python](https://github.com/graphql-python/gql)"
   ]
  },
  {
   "cell_type": "markdown",
   "metadata": {},
   "source": [
    "### Import Libraries"
   ]
  },
  {
   "cell_type": "code",
   "execution_count": 60,
   "metadata": {},
   "outputs": [],
   "source": [
    "from yelpapi import YelpAPI"
   ]
  },
  {
   "cell_type": "code",
   "execution_count": 2,
   "metadata": {},
   "outputs": [],
   "source": [
    "CLIENT_ID = 'kpS9UixjJFqT3Qcz_hn_Cw'\n",
    "API_KEY = 'hpJ8xcJApi281dfToafB0JtiJE8Ktbz5TOUD5LiZdkxR2i0li6rBZucRN5o3S5KKdNgnBDxzy7ZGbx6JIIqAT3JJP83ayEm7nfp7YQNKphpKJL-qktS4VSuJ2YNHXHYx'\n",
    "yelp_api = YelpAPI(API_KEY)\n"
   ]
  },
  {
   "cell_type": "markdown",
   "metadata": {},
   "source": [
    "### Search business info for a restaurant"
   ]
  },
  {
   "cell_type": "code",
   "execution_count": 47,
   "metadata": {},
   "outputs": [],
   "source": [
    "search_results = yelp_api.search_query(term = 'chicken wings', location = '1031 Irving St', limit = 10)\n"
   ]
  },
  {
   "cell_type": "code",
   "execution_count": 48,
   "metadata": {},
   "outputs": [
    {
     "data": {
      "text/plain": [
       "{'id': 'M0JTO3oyu6gxh1mfFjU-dA',\n",
       " 'alias': 'san-tung-san-francisco-2',\n",
       " 'name': 'San Tung',\n",
       " 'image_url': 'https://s3-media4.fl.yelpcdn.com/bphoto/LTtoZ25m8FX1UV37asnTCw/o.jpg',\n",
       " 'is_closed': False,\n",
       " 'url': 'https://www.yelp.com/biz/san-tung-san-francisco-2?adjust_creative=kpS9UixjJFqT3Qcz_hn_Cw&utm_campaign=yelp_api_v3&utm_medium=api_v3_business_search&utm_source=kpS9UixjJFqT3Qcz_hn_Cw',\n",
       " 'review_count': 6396,\n",
       " 'categories': [{'alias': 'chinese', 'title': 'Chinese'},\n",
       "  {'alias': 'chicken_wings', 'title': 'Chicken Wings'},\n",
       "  {'alias': 'noodles', 'title': 'Noodles'}],\n",
       " 'rating': 4.0,\n",
       " 'coordinates': {'latitude': 37.76367, 'longitude': -122.46896},\n",
       " 'transactions': [],\n",
       " 'price': '$$',\n",
       " 'location': {'address1': '1031 Irving St',\n",
       "  'address2': '',\n",
       "  'address3': '',\n",
       "  'city': 'San Francisco',\n",
       "  'zip_code': '94122',\n",
       "  'country': 'US',\n",
       "  'state': 'CA',\n",
       "  'display_address': ['1031 Irving St', 'San Francisco, CA 94122']},\n",
       " 'phone': '+14152420828',\n",
       " 'display_phone': '(415) 242-0828',\n",
       " 'distance': 8.671820758369517}"
      ]
     },
     "execution_count": 48,
     "metadata": {},
     "output_type": "execute_result"
    }
   ],
   "source": [
    "search_results['businesses'][0]"
   ]
  },
  {
   "cell_type": "code",
   "execution_count": 44,
   "metadata": {},
   "outputs": [
    {
     "data": {
      "text/plain": [
       "'M0JTO3oyu6gxh1mfFjU-dA'"
      ]
     },
     "execution_count": 44,
     "metadata": {},
     "output_type": "execute_result"
    }
   ],
   "source": [
    "san_tung_id = search_results['businesses'][0]['id']\n",
    "san_tung_id"
   ]
  },
  {
   "cell_type": "markdown",
   "metadata": {},
   "source": [
    "### Search reviews for a restaurant"
   ]
  },
  {
   "cell_type": "code",
   "execution_count": 58,
   "metadata": {},
   "outputs": [],
   "source": [
    "reviews_results = yelp_api.reviews_query(san_tung_id, limit = 100)"
   ]
  },
  {
   "cell_type": "code",
   "execution_count": 64,
   "metadata": {},
   "outputs": [
    {
     "data": {
      "text/plain": [
       "dict_keys(['reviews', 'total', 'possible_languages'])"
      ]
     },
     "execution_count": 64,
     "metadata": {},
     "output_type": "execute_result"
    }
   ],
   "source": [
    "reviews_results.keys()"
   ]
  },
  {
   "cell_type": "code",
   "execution_count": 63,
   "metadata": {},
   "outputs": [
    {
     "data": {
      "text/plain": [
       "3"
      ]
     },
     "execution_count": 63,
     "metadata": {},
     "output_type": "execute_result"
    }
   ],
   "source": [
    "len(reviews_results['reviews'])"
   ]
  },
  {
   "cell_type": "markdown",
   "metadata": {},
   "source": [
    "Yelp API only returns 3 reviews per restaurant, arbitrarily chosen. Not much else to do here."
   ]
  },
  {
   "cell_type": "code",
   "execution_count": null,
   "metadata": {},
   "outputs": [],
   "source": []
  }
 ],
 "metadata": {
  "kernelspec": {
   "display_name": "Python [default]",
   "language": "python",
   "name": "python3"
  },
  "language_info": {
   "codemirror_mode": {
    "name": "ipython",
    "version": 3
   },
   "file_extension": ".py",
   "mimetype": "text/x-python",
   "name": "python",
   "nbconvert_exporter": "python",
   "pygments_lexer": "ipython3",
   "version": "3.6.5"
  }
 },
 "nbformat": 4,
 "nbformat_minor": 2
}
