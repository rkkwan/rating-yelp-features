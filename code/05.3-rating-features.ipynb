{
 "cells": [
  {
   "cell_type": "markdown",
   "metadata": {},
   "source": [
    "## Rating Features\n",
    "\n",
    "### Questions:\n",
    "1. Based on sentiment score, how are the key restaurant features scored at Mon Ami Gabi?  \n",
    "    1. Food\n",
    "    1. Service\n",
    "    1. Cleanliness\n",
    "    1. Ambiance\n",
    "    1. Authenticity\n",
    "    1. Portion Size"
   ]
  },
  {
   "cell_type": "markdown",
   "metadata": {},
   "source": [
    "### Import libraries"
   ]
  },
  {
   "cell_type": "code",
   "execution_count": 13,
   "metadata": {},
   "outputs": [],
   "source": [
    "import csv\n",
    "import pandas as pd\n",
    "import numpy as np\n",
    "import matplotlib.pyplot as plt\n",
    "import pickle\n",
    "import itertools as it\n",
    "from nltk.sentiment.vader import SentimentIntensityAnalyzer\n",
    "from IPython.display import clear_output\n",
    "from time import time \n",
    "\n",
    "# For loading secret environment variables, e.g. postgres username and password\n",
    "import os\n",
    "from dotenv import load_dotenv, find_dotenv\n",
    "\n",
    "# For reading from Postgres\n",
    "from sqlalchemy import create_engine\n",
    "\n",
    "# Display full content of column\n",
    "pd.set_option('display.max_colwidth', 100)"
   ]
  },
  {
   "cell_type": "markdown",
   "metadata": {},
   "source": [
    "### Set filepaths"
   ]
  },
  {
   "cell_type": "code",
   "execution_count": 9,
   "metadata": {},
   "outputs": [],
   "source": [
    "# Directories\n",
    "external_data_directory = os.path.join('..', 'data', 'external')\n",
    "interim_data_directory = os.path.join('..', 'data', 'interim')\n",
    "raw_data_directory = os.path.join('..', 'data', 'raw')\n",
    "\n",
    "# Filepaths\n",
    "review_csv_filepath = os.path.join(raw_data_directory, \n",
    "                                   'yelp_academic_dataset_review.csv')\n",
    "restaurant_review_csv_filepath = os.path.join(interim_data_directory,\n",
    "                                              'restaurant_review.csv')\n",
    "\n",
    "mon_ami_gabi_filepath = os.path.join(interim_data_directory, 'mon_ami_gabi.csv')"
   ]
  },
  {
   "cell_type": "markdown",
   "metadata": {},
   "source": [
    "### Set environment variables"
   ]
  },
  {
   "cell_type": "code",
   "execution_count": 14,
   "metadata": {},
   "outputs": [],
   "source": [
    "public_ip = 'localhost'\n",
    "username = 'postgres'\n",
    "password = 'password'\n",
    "port = '5432'\n",
    "database = 'yelp'\n",
    "\n",
    "# Construct database URL from environment variables\n",
    "uri = f'postgresql://{username}:{password}@{public_ip}:{port}/{database}'\n",
    "\n",
    "# Connection to Postgres database\n",
    "engine = create_engine(uri)"
   ]
  },
  {
   "cell_type": "markdown",
   "metadata": {},
   "source": [
    "### Get reviews for one restaurant by matching `business_id`"
   ]
  },
  {
   "cell_type": "code",
   "execution_count": 10,
   "metadata": {},
   "outputs": [],
   "source": [
    "mon_ami_gabi_id = '4JNXUYY8wbaaDmk3BPzlWw'"
   ]
  },
  {
   "cell_type": "code",
   "execution_count": 15,
   "metadata": {},
   "outputs": [
    {
     "name": "stdout",
     "output_type": "stream",
     "text": [
      "CPU times: user 99.1 ms, sys: 81.5 ms, total: 181 ms\n",
      "Wall time: 6.59 s\n"
     ]
    }
   ],
   "source": [
    "%%time\n",
    "\n",
    "mon_ami_gabi_id = '4JNXUYY8wbaaDmk3BPzlWw' \n",
    "\n",
    "SQL = f'''\n",
    "SELECT date, stars, text, review_id, business_id, business_name\n",
    "FROM reviews\n",
    "WHERE business_id = '{mon_ami_gabi_id}'\n",
    "'''\n",
    "\n",
    "mon_ami_gabi = pd.read_sql(SQL, con = engine)"
   ]
  },
  {
   "cell_type": "code",
   "execution_count": 16,
   "metadata": {
    "scrolled": true
   },
   "outputs": [
    {
     "data": {
      "text/html": [
       "<div>\n",
       "<style scoped>\n",
       "    .dataframe tbody tr th:only-of-type {\n",
       "        vertical-align: middle;\n",
       "    }\n",
       "\n",
       "    .dataframe tbody tr th {\n",
       "        vertical-align: top;\n",
       "    }\n",
       "\n",
       "    .dataframe thead th {\n",
       "        text-align: right;\n",
       "    }\n",
       "</style>\n",
       "<table border=\"1\" class=\"dataframe\">\n",
       "  <thead>\n",
       "    <tr style=\"text-align: right;\">\n",
       "      <th></th>\n",
       "      <th>date</th>\n",
       "      <th>stars</th>\n",
       "      <th>text</th>\n",
       "      <th>review_id</th>\n",
       "      <th>business_id</th>\n",
       "      <th>business_name</th>\n",
       "    </tr>\n",
       "  </thead>\n",
       "  <tbody>\n",
       "    <tr>\n",
       "      <th>0</th>\n",
       "      <td>2017-05-10</td>\n",
       "      <td>5</td>\n",
       "      <td>Loved the fried goat cheese in tomato sauce along with dogfish 60 minutes IPA. Very nice view of...</td>\n",
       "      <td>BvmhSQ6WFm2Jxu01G8OpdQ</td>\n",
       "      <td>4JNXUYY8wbaaDmk3BPzlWw</td>\n",
       "      <td>Mon Ami Gabi</td>\n",
       "    </tr>\n",
       "    <tr>\n",
       "      <th>1</th>\n",
       "      <td>2012-06-10</td>\n",
       "      <td>4</td>\n",
       "      <td>I booked a table here for brunch and it did not disappoint, it was a great experience and more r...</td>\n",
       "      <td>wl8BO_I-is-JaMwMW5c_gQ</td>\n",
       "      <td>4JNXUYY8wbaaDmk3BPzlWw</td>\n",
       "      <td>Mon Ami Gabi</td>\n",
       "    </tr>\n",
       "    <tr>\n",
       "      <th>2</th>\n",
       "      <td>2012-01-20</td>\n",
       "      <td>4</td>\n",
       "      <td>Came here for lunch after a long night of partying.  I'm a huge fan of French food, and had defi...</td>\n",
       "      <td>cf9RrqHY9eQ9M53OPyXLtg</td>\n",
       "      <td>4JNXUYY8wbaaDmk3BPzlWw</td>\n",
       "      <td>Mon Ami Gabi</td>\n",
       "    </tr>\n",
       "    <tr>\n",
       "      <th>3</th>\n",
       "      <td>2014-06-04</td>\n",
       "      <td>5</td>\n",
       "      <td>Best steak in Vegas. Best mashed potatoes in Vegas. Best French restaurant in Vegas.  MAKE MAKE ...</td>\n",
       "      <td>7YNmSq7Lb1zi4SUKXaSjfg</td>\n",
       "      <td>4JNXUYY8wbaaDmk3BPzlWw</td>\n",
       "      <td>Mon Ami Gabi</td>\n",
       "    </tr>\n",
       "    <tr>\n",
       "      <th>4</th>\n",
       "      <td>2014-05-03</td>\n",
       "      <td>5</td>\n",
       "      <td>Love the outdoor atmosphere. Price was right, service exceptional and the food tasted fantastic</td>\n",
       "      <td>IoKp9n1489XohTV_-EJ0IQ</td>\n",
       "      <td>4JNXUYY8wbaaDmk3BPzlWw</td>\n",
       "      <td>Mon Ami Gabi</td>\n",
       "    </tr>\n",
       "  </tbody>\n",
       "</table>\n",
       "</div>"
      ],
      "text/plain": [
       "         date  stars  \\\n",
       "0  2017-05-10      5   \n",
       "1  2012-06-10      4   \n",
       "2  2012-01-20      4   \n",
       "3  2014-06-04      5   \n",
       "4  2014-05-03      5   \n",
       "\n",
       "                                                                                                  text  \\\n",
       "0  Loved the fried goat cheese in tomato sauce along with dogfish 60 minutes IPA. Very nice view of...   \n",
       "1  I booked a table here for brunch and it did not disappoint, it was a great experience and more r...   \n",
       "2  Came here for lunch after a long night of partying.  I'm a huge fan of French food, and had defi...   \n",
       "3  Best steak in Vegas. Best mashed potatoes in Vegas. Best French restaurant in Vegas.  MAKE MAKE ...   \n",
       "4      Love the outdoor atmosphere. Price was right, service exceptional and the food tasted fantastic   \n",
       "\n",
       "                review_id             business_id business_name  \n",
       "0  BvmhSQ6WFm2Jxu01G8OpdQ  4JNXUYY8wbaaDmk3BPzlWw  Mon Ami Gabi  \n",
       "1  wl8BO_I-is-JaMwMW5c_gQ  4JNXUYY8wbaaDmk3BPzlWw  Mon Ami Gabi  \n",
       "2  cf9RrqHY9eQ9M53OPyXLtg  4JNXUYY8wbaaDmk3BPzlWw  Mon Ami Gabi  \n",
       "3  7YNmSq7Lb1zi4SUKXaSjfg  4JNXUYY8wbaaDmk3BPzlWw  Mon Ami Gabi  \n",
       "4  IoKp9n1489XohTV_-EJ0IQ  4JNXUYY8wbaaDmk3BPzlWw  Mon Ami Gabi  "
      ]
     },
     "execution_count": 16,
     "metadata": {},
     "output_type": "execute_result"
    }
   ],
   "source": [
    "mon_ami_gabi.head()"
   ]
  },
  {
   "cell_type": "code",
   "execution_count": 17,
   "metadata": {},
   "outputs": [
    {
     "data": {
      "text/plain": [
       "(7968, 6)"
      ]
     },
     "execution_count": 17,
     "metadata": {},
     "output_type": "execute_result"
    }
   ],
   "source": [
    "mon_ami_gabi.shape"
   ]
  },
  {
   "cell_type": "markdown",
   "metadata": {},
   "source": [
    "### Load Key Features"
   ]
  },
  {
   "cell_type": "code",
   "execution_count": 78,
   "metadata": {},
   "outputs": [
    {
     "data": {
      "text/plain": [
       "(6, 3)"
      ]
     },
     "execution_count": 78,
     "metadata": {},
     "output_type": "execute_result"
    }
   ],
   "source": [
    "features = pickle.load(open('../data/interim/key_features.pk', 'rb'))\n",
    "features.shape"
   ]
  },
  {
   "cell_type": "code",
   "execution_count": 79,
   "metadata": {},
   "outputs": [
    {
     "data": {
      "text/html": [
       "<div>\n",
       "<style scoped>\n",
       "    .dataframe tbody tr th:only-of-type {\n",
       "        vertical-align: middle;\n",
       "    }\n",
       "\n",
       "    .dataframe tbody tr th {\n",
       "        vertical-align: top;\n",
       "    }\n",
       "\n",
       "    .dataframe thead th {\n",
       "        text-align: right;\n",
       "    }\n",
       "</style>\n",
       "<table border=\"1\" class=\"dataframe\">\n",
       "  <thead>\n",
       "    <tr style=\"text-align: right;\">\n",
       "      <th></th>\n",
       "      <th>id</th>\n",
       "      <th>name</th>\n",
       "      <th>variations</th>\n",
       "    </tr>\n",
       "  </thead>\n",
       "  <tbody>\n",
       "    <tr>\n",
       "      <th>0</th>\n",
       "      <td>food</td>\n",
       "      <td>food</td>\n",
       "      <td>[food, meal, flavor, tast, delicious, gross, disgusting, seasoned, perfection, amazing, cold]</td>\n",
       "    </tr>\n",
       "    <tr>\n",
       "      <th>1</th>\n",
       "      <td>service</td>\n",
       "      <td>service</td>\n",
       "      <td>[service, waiter, waitress, server, manager, management, staff, polite, rude, slow, fast]</td>\n",
       "    </tr>\n",
       "    <tr>\n",
       "      <th>2</th>\n",
       "      <td>cleanliness</td>\n",
       "      <td>cleanliness</td>\n",
       "      <td>[clean, dirty, dusty]</td>\n",
       "    </tr>\n",
       "    <tr>\n",
       "      <th>3</th>\n",
       "      <td>ambiance</td>\n",
       "      <td>ambiance</td>\n",
       "      <td>[ambiance,  view, chic, atmosphere]</td>\n",
       "    </tr>\n",
       "    <tr>\n",
       "      <th>4</th>\n",
       "      <td>authenticity</td>\n",
       "      <td>authenticity</td>\n",
       "      <td>[authentic]</td>\n",
       "    </tr>\n",
       "    <tr>\n",
       "      <th>5</th>\n",
       "      <td>portion_size</td>\n",
       "      <td>portion_size</td>\n",
       "      <td>[portion]</td>\n",
       "    </tr>\n",
       "  </tbody>\n",
       "</table>\n",
       "</div>"
      ],
      "text/plain": [
       "             id          name  \\\n",
       "0          food          food   \n",
       "1       service       service   \n",
       "2   cleanliness   cleanliness   \n",
       "3      ambiance      ambiance   \n",
       "4  authenticity  authenticity   \n",
       "5  portion_size  portion_size   \n",
       "\n",
       "                                                                                      variations  \n",
       "0  [food, meal, flavor, tast, delicious, gross, disgusting, seasoned, perfection, amazing, cold]  \n",
       "1      [service, waiter, waitress, server, manager, management, staff, polite, rude, slow, fast]  \n",
       "2                                                                          [clean, dirty, dusty]  \n",
       "3                                                            [ambiance,  view, chic, atmosphere]  \n",
       "4                                                                                    [authentic]  \n",
       "5                                                                                      [portion]  "
      ]
     },
     "execution_count": 79,
     "metadata": {},
     "output_type": "execute_result"
    }
   ],
   "source": [
    "features"
   ]
  },
  {
   "cell_type": "markdown",
   "metadata": {},
   "source": [
    "### Preprocess restaurant reviews"
   ]
  },
  {
   "cell_type": "markdown",
   "metadata": {},
   "source": [
    "#### Lowercase, drop punctuations"
   ]
  },
  {
   "cell_type": "code",
   "execution_count": 21,
   "metadata": {},
   "outputs": [],
   "source": [
    "import re\n",
    "\n",
    "def multiple_replace(string, replace_dict):\n",
    "    '''\n",
    "    Performs multiple string replacements at once\n",
    "    '''\n",
    "    pattern = re.compile('|'.join([re.escape(k) for k in sorted(replace_dict, key = len, reverse = True)]), flags = re.DOTALL)\n",
    "    return pattern.sub(lambda x : replace_dict[x.group(0)], string)                  \n",
    "\n",
    "stop_chars = []\n",
    "replace_dict = {','   : '', \n",
    "                ';'   : '',\n",
    "                '('   : '', \n",
    "                ')'   : '', \n",
    "                '\\n' : ' ', \n",
    "                '!'   : '.',\n",
    "                '?'   : '.'}"
   ]
  },
  {
   "cell_type": "code",
   "execution_count": 22,
   "metadata": {},
   "outputs": [],
   "source": [
    "mon_ami_gabi['text'] = mon_ami_gabi['text'].apply(lambda text: multiple_replace(text.lower(), replace_dict))\n"
   ]
  },
  {
   "cell_type": "code",
   "execution_count": 24,
   "metadata": {},
   "outputs": [
    {
     "data": {
      "text/html": [
       "<div>\n",
       "<style scoped>\n",
       "    .dataframe tbody tr th:only-of-type {\n",
       "        vertical-align: middle;\n",
       "    }\n",
       "\n",
       "    .dataframe tbody tr th {\n",
       "        vertical-align: top;\n",
       "    }\n",
       "\n",
       "    .dataframe thead th {\n",
       "        text-align: right;\n",
       "    }\n",
       "</style>\n",
       "<table border=\"1\" class=\"dataframe\">\n",
       "  <thead>\n",
       "    <tr style=\"text-align: right;\">\n",
       "      <th></th>\n",
       "      <th>text</th>\n",
       "    </tr>\n",
       "  </thead>\n",
       "  <tbody>\n",
       "    <tr>\n",
       "      <th>0</th>\n",
       "      <td>loved the fried goat cheese in tomato sauce along with dogfish 60 minutes ipa. very nice view of...</td>\n",
       "    </tr>\n",
       "    <tr>\n",
       "      <th>1</th>\n",
       "      <td>i booked a table here for brunch and it did not disappoint it was a great experience and more re...</td>\n",
       "    </tr>\n",
       "    <tr>\n",
       "      <th>2</th>\n",
       "      <td>came here for lunch after a long night of partying.  i'm a huge fan of french food and had defin...</td>\n",
       "    </tr>\n",
       "    <tr>\n",
       "      <th>3</th>\n",
       "      <td>best steak in vegas. best mashed potatoes in vegas. best french restaurant in vegas.  make make ...</td>\n",
       "    </tr>\n",
       "    <tr>\n",
       "      <th>4</th>\n",
       "      <td>love the outdoor atmosphere. price was right service exceptional and the food tasted fantastic</td>\n",
       "    </tr>\n",
       "  </tbody>\n",
       "</table>\n",
       "</div>"
      ],
      "text/plain": [
       "                                                                                                  text\n",
       "0  loved the fried goat cheese in tomato sauce along with dogfish 60 minutes ipa. very nice view of...\n",
       "1  i booked a table here for brunch and it did not disappoint it was a great experience and more re...\n",
       "2  came here for lunch after a long night of partying.  i'm a huge fan of french food and had defin...\n",
       "3  best steak in vegas. best mashed potatoes in vegas. best french restaurant in vegas.  make make ...\n",
       "4       love the outdoor atmosphere. price was right service exceptional and the food tasted fantastic"
      ]
     },
     "execution_count": 24,
     "metadata": {},
     "output_type": "execute_result"
    }
   ],
   "source": [
    "mon_ami_gabi[['text']].head()"
   ]
  },
  {
   "cell_type": "markdown",
   "metadata": {},
   "source": [
    "### For each item, extract sentence fragments"
   ]
  },
  {
   "cell_type": "code",
   "execution_count": 37,
   "metadata": {},
   "outputs": [],
   "source": [
    "def find_term(word_list, term):\n",
    "    '''\n",
    "    Arguments:\n",
    "    word_list : List of strings\n",
    "    term      : List or string of words to search for\n",
    "    \n",
    "    Return:\n",
    "    results : List of tuples of `start` and `end` indices of term in word_list,\n",
    "              where `start` is the index of the first character in `term` in word_list,\n",
    "              and `end` is the index of the last character in `term` in word_list.\n",
    "    '''    \n",
    "    # Check if word_list is a string or list\n",
    "    if type(word_list) is str:\n",
    "        word_list = word_list.split()\n",
    "    elif type(word_list) is not list:\n",
    "        print('Error: word_list must be a list or string.')\n",
    "        return None\n",
    "\n",
    "    # Check if term is a string or list    \n",
    "    if type(term) is str:\n",
    "        term = term.split()\n",
    "    elif type(term) is not list:\n",
    "        print('Error: term must be a list or string.')\n",
    "        return None\n",
    "\n",
    "    results = []\n",
    "    term_length = len(term)\n",
    "\n",
    "    # Find indices of term[0] in sentence\n",
    "    for ind in (i for i, word in enumerate(word_list) if word == term[0]):\n",
    "        # Check if rest of the term matches\n",
    "        if word_list[ind:ind + term_length] == term:\n",
    "            results.append((ind, ind+term_length-1))\n",
    "\n",
    "    return results"
   ]
  },
  {
   "cell_type": "code",
   "execution_count": 36,
   "metadata": {},
   "outputs": [],
   "source": [
    "def get_chunks(word_list, term, n_before = 5, n_after = 5):\n",
    "    '''\n",
    "    Arguments:\n",
    "    word_list : List or string of words\n",
    "    term      : List or string of words to search for\n",
    "    before    : Number of characters to span before term\n",
    "    after     : Number of characters to span after term   \n",
    "    \n",
    "    Builds a list of chunks containing term\n",
    "    \n",
    "    Return:\n",
    "    chunks : List of chunks\n",
    "    \n",
    "    '''\n",
    "    # Check if word_list is a string or list\n",
    "    if type(word_list) is str:\n",
    "        word_list = word_list.split()\n",
    "    elif type(word_list) is not list:\n",
    "        print('Error: word_list must be a list or string.')\n",
    "        return None\n",
    "    \n",
    "    # Check if term is a string or list    \n",
    "    if type(term) is str:\n",
    "        term = term.split()\n",
    "    elif type(term) is not list:\n",
    "        print('Error: term must be a list or string.')\n",
    "        return None    \n",
    "    \n",
    "    indices = find_term(word_list, term)\n",
    "#     print(indices)\n",
    "    chunks = []\n",
    "\n",
    "    for start, end in indices:\n",
    "        before = n_before\n",
    "        after = n_after\n",
    "        \n",
    "        # Check if start index is near the beginning of the word_list\n",
    "        if start < n_before:\n",
    "            before = start\n",
    "        # Check if end index is near the end of the word_list\n",
    "        if end > len(word_list) - n_after:\n",
    "            after = len(word_list) - end\n",
    "            \n",
    "        chunks.append(' '.join(word_list[start-before : end+after+1]))\n",
    "        \n",
    "    return chunks\n",
    "\n"
   ]
  },
  {
   "cell_type": "markdown",
   "metadata": {},
   "source": [
    "### Extract Sentence Fragments for each food item"
   ]
  },
  {
   "cell_type": "code",
   "execution_count": 26,
   "metadata": {},
   "outputs": [],
   "source": [
    "review_text = mon_ami_gabi[mon_ami_gabi['text'].str.contains('service')]"
   ]
  },
  {
   "cell_type": "code",
   "execution_count": 32,
   "metadata": {},
   "outputs": [
    {
     "data": {
      "text/html": [
       "<div>\n",
       "<style scoped>\n",
       "    .dataframe tbody tr th:only-of-type {\n",
       "        vertical-align: middle;\n",
       "    }\n",
       "\n",
       "    .dataframe tbody tr th {\n",
       "        vertical-align: top;\n",
       "    }\n",
       "\n",
       "    .dataframe thead th {\n",
       "        text-align: right;\n",
       "    }\n",
       "</style>\n",
       "<table border=\"1\" class=\"dataframe\">\n",
       "  <thead>\n",
       "    <tr style=\"text-align: right;\">\n",
       "      <th></th>\n",
       "      <th>text</th>\n",
       "    </tr>\n",
       "  </thead>\n",
       "  <tbody>\n",
       "    <tr>\n",
       "      <th>0</th>\n",
       "      <td>loved the fried goat cheese in tomato sauce along with dogfish 60 minutes ipa. very nice view of the vegas strip along with excellent service</td>\n",
       "    </tr>\n",
       "    <tr>\n",
       "      <th>4</th>\n",
       "      <td>love the outdoor atmosphere. price was right service exceptional and the food tasted fantastic</td>\n",
       "    </tr>\n",
       "    <tr>\n",
       "      <th>7</th>\n",
       "      <td>i would've given this 5 stars if my steak didn't have to be sent back 4 times... i asked for medium to medium well my first steak was pretty much jerky and the next 2 were raw. completely raw. the...</td>\n",
       "    </tr>\n",
       "    <tr>\n",
       "      <th>9</th>\n",
       "      <td>coming here for many years and this is my first bad experience. the food was still great but the service and the new policy of not allowing you to have a sample tasting of wine before ordering  sp...</td>\n",
       "    </tr>\n",
       "    <tr>\n",
       "      <th>11</th>\n",
       "      <td>believe it or not my friends and i got a recommendation for mon ami gabi from our cab driver. on our cab ride from the airport to the hotel the cab driver was giving us a song and dance about bein...</td>\n",
       "    </tr>\n",
       "  </tbody>\n",
       "</table>\n",
       "</div>"
      ],
      "text/plain": [
       "                                                                                                                                                                                                       text\n",
       "0                                                             loved the fried goat cheese in tomato sauce along with dogfish 60 minutes ipa. very nice view of the vegas strip along with excellent service\n",
       "4                                                                                                            love the outdoor atmosphere. price was right service exceptional and the food tasted fantastic\n",
       "7   i would've given this 5 stars if my steak didn't have to be sent back 4 times... i asked for medium to medium well my first steak was pretty much jerky and the next 2 were raw. completely raw. the...\n",
       "9   coming here for many years and this is my first bad experience. the food was still great but the service and the new policy of not allowing you to have a sample tasting of wine before ordering  sp...\n",
       "11  believe it or not my friends and i got a recommendation for mon ami gabi from our cab driver. on our cab ride from the airport to the hotel the cab driver was giving us a song and dance about bein..."
      ]
     },
     "execution_count": 32,
     "metadata": {},
     "output_type": "execute_result"
    }
   ],
   "source": [
    "pd.set_option('display.max_colwidth', 200)\n",
    "review_text[['text']].head()"
   ]
  },
  {
   "cell_type": "code",
   "execution_count": 82,
   "metadata": {},
   "outputs": [
    {
     "name": "stdout",
     "output_type": "stream",
     "text": [
      "Parsing 7900/7968 reviews\n",
      "CPU times: user 34.5 s, sys: 152 ms, total: 34.6 s\n",
      "Wall time: 34.7 s\n"
     ]
    }
   ],
   "source": [
    "%%time\n",
    "\n",
    "# Instantiate features chunks list\n",
    "features_chunks = {feature_id : [] for feature_id in features['id'] }\n",
    "\n",
    "nrows = len(mon_ami_gabi)\n",
    "# each review\n",
    "for i, review in mon_ami_gabi.iterrows():\n",
    "    if (i+1)%100==0:\n",
    "        clear_output(wait = True)\n",
    "        print(f'Parsing {i+1}/{nrows} reviews')\n",
    "    \n",
    "    # each sentence\n",
    "    for sentence in review['text'].split('.'):\n",
    "        # each feature item\n",
    "        for _, item in features.iterrows():            \n",
    "            # each feature variation\n",
    "            for variation in item['variations']:\n",
    "                # get sentence fragment if sentence contains feature item\n",
    "                if variation in sentence:\n",
    "                    chunks = get_chunks(sentence, variation, 7, 7)\n",
    "                    features_chunks[item['id']].append(chunks)\n",
    "                    break\n"
   ]
  },
  {
   "cell_type": "markdown",
   "metadata": {},
   "source": [
    "#### Drop any empty lists"
   ]
  },
  {
   "cell_type": "code",
   "execution_count": 83,
   "metadata": {},
   "outputs": [],
   "source": [
    "for k,v in features_chunks.items():\n",
    "    features_chunks[k] = [c for c in v if c]"
   ]
  },
  {
   "cell_type": "code",
   "execution_count": 40,
   "metadata": {},
   "outputs": [],
   "source": [
    "def flatten(superlist): \n",
    "    '''\n",
    "    Arguments: \n",
    "    superlist : A list of list of strings.\n",
    "\n",
    "    Requirements: \n",
    "    Each element in superlist must be a list.\n",
    "    \n",
    "    Return:\n",
    "    A flattened list of strings.\n",
    "\n",
    "    ex: \n",
    "    flatten([['a'], ['b', 'c'], ['d', 'e', 'f']])\n",
    "    >> ['a', 'b', 'c', 'd', 'e', 'f']\n",
    "    '''    \n",
    "    return [item \\\n",
    "            for sublist in superlist \\\n",
    "            for item in sublist]"
   ]
  },
  {
   "cell_type": "markdown",
   "metadata": {},
   "source": [
    "#### Flatten list of lists of feature chunks"
   ]
  },
  {
   "cell_type": "code",
   "execution_count": 84,
   "metadata": {},
   "outputs": [],
   "source": [
    "# Flatten each food's list of chunks\n",
    "features_chunks2 = {feature_id : flatten(chunks) for feature_id, chunks in features_chunks.items()}"
   ]
  },
  {
   "cell_type": "code",
   "execution_count": 85,
   "metadata": {},
   "outputs": [],
   "source": [
    "# save for later\n",
    "pickle.dump(features_chunks2, open(\"../data/interim/features_chunks.pk\", \"wb\"))"
   ]
  },
  {
   "cell_type": "markdown",
   "metadata": {},
   "source": [
    "### Predict sentiment score using `SentimentIntensityAnalyzer`\n",
    "\n",
    "`SentimentIntensityAnalyzer` returns sentiment scores between `[0, 1]` for positive, negative, and neutral sentiments, `[-1, 1]` for the compound score."
   ]
  },
  {
   "cell_type": "code",
   "execution_count": 45,
   "metadata": {},
   "outputs": [],
   "source": [
    "def get_sentiments(docs):\n",
    "    '''\n",
    "    Returns a Dataframe of sentiment scores with columns:\n",
    "    'compound', 'pos', 'neu', 'neg'\n",
    "    \n",
    "    For each doc, 'pos', 'neu', 'neg' scores add to 1.\n",
    "    'compound' is an overall sentiment score of the doc.\n",
    "    '''\n",
    "    # Instantiate SentimentIntensityAnalyzer\n",
    "    sia = SentimentIntensityAnalyzer()\n",
    "\n",
    "    sentiments = []\n",
    "\n",
    "    # Generate sentiment score for each review\n",
    "    for doc in docs:\n",
    "        sentiment = sia.polarity_scores(doc)\n",
    "        sentiments.append(sentiment)\n",
    "\n",
    "    return pd.DataFrame(sentiments)"
   ]
  },
  {
   "cell_type": "code",
   "execution_count": 86,
   "metadata": {},
   "outputs": [],
   "source": [
    "service_chunks = flatten(features_chunks['service'])\n",
    "\n",
    "service_sentiments = get_sentiments(service_chunks)"
   ]
  },
  {
   "cell_type": "code",
   "execution_count": 90,
   "metadata": {},
   "outputs": [
    {
     "data": {
      "text/html": [
       "<div>\n",
       "<style scoped>\n",
       "    .dataframe tbody tr th:only-of-type {\n",
       "        vertical-align: middle;\n",
       "    }\n",
       "\n",
       "    .dataframe tbody tr th {\n",
       "        vertical-align: top;\n",
       "    }\n",
       "\n",
       "    .dataframe thead th {\n",
       "        text-align: right;\n",
       "    }\n",
       "</style>\n",
       "<table border=\"1\" class=\"dataframe\">\n",
       "  <thead>\n",
       "    <tr style=\"text-align: right;\">\n",
       "      <th></th>\n",
       "      <th>compound</th>\n",
       "      <th>neg</th>\n",
       "      <th>neu</th>\n",
       "      <th>pos</th>\n",
       "    </tr>\n",
       "  </thead>\n",
       "  <tbody>\n",
       "    <tr>\n",
       "      <th>0</th>\n",
       "      <td>0.5719</td>\n",
       "      <td>0.0</td>\n",
       "      <td>0.654</td>\n",
       "      <td>0.346</td>\n",
       "    </tr>\n",
       "    <tr>\n",
       "      <th>1</th>\n",
       "      <td>0.4404</td>\n",
       "      <td>0.0</td>\n",
       "      <td>0.707</td>\n",
       "      <td>0.293</td>\n",
       "    </tr>\n",
       "    <tr>\n",
       "      <th>2</th>\n",
       "      <td>0.5574</td>\n",
       "      <td>0.0</td>\n",
       "      <td>0.714</td>\n",
       "      <td>0.286</td>\n",
       "    </tr>\n",
       "    <tr>\n",
       "      <th>3</th>\n",
       "      <td>0.0000</td>\n",
       "      <td>0.0</td>\n",
       "      <td>1.000</td>\n",
       "      <td>0.000</td>\n",
       "    </tr>\n",
       "    <tr>\n",
       "      <th>4</th>\n",
       "      <td>0.0000</td>\n",
       "      <td>0.0</td>\n",
       "      <td>1.000</td>\n",
       "      <td>0.000</td>\n",
       "    </tr>\n",
       "  </tbody>\n",
       "</table>\n",
       "</div>"
      ],
      "text/plain": [
       "   compound  neg    neu    pos\n",
       "0    0.5719  0.0  0.654  0.346\n",
       "1    0.4404  0.0  0.707  0.293\n",
       "2    0.5574  0.0  0.714  0.286\n",
       "3    0.0000  0.0  1.000  0.000\n",
       "4    0.0000  0.0  1.000  0.000"
      ]
     },
     "execution_count": 90,
     "metadata": {},
     "output_type": "execute_result"
    }
   ],
   "source": [
    "service_sentiments.head()"
   ]
  },
  {
   "cell_type": "markdown",
   "metadata": {},
   "source": [
    "### Predict subjectivity score\n",
    "\n",
    "A sentence can be **objective** (has no opinion: \"I ordered the onion soup\"), or **subjective** (has opinion: \"The onion soup was great\"). I want to predict the ratings of key features using only the subjective reviews. "
   ]
  },
  {
   "cell_type": "code",
   "execution_count": 93,
   "metadata": {},
   "outputs": [],
   "source": [
    "# TODO"
   ]
  },
  {
   "cell_type": "markdown",
   "metadata": {},
   "source": [
    "### Predictions without dropping `compound=0`"
   ]
  },
  {
   "cell_type": "code",
   "execution_count": 88,
   "metadata": {},
   "outputs": [],
   "source": [
    "features_sentiments = {}\n",
    "\n",
    "for feature_id, chunks in features_chunks2.items():\n",
    "    # Run sentiment analyzer if item has chunks, otherwise default to 0\n",
    "    if len(chunks) > 0:\n",
    "        features_sentiments[feature_id] = get_sentiments(chunks)['compound'].mean()\n",
    "    else:\n",
    "        features_sentiments[feature_id] = np.nan"
   ]
  },
  {
   "cell_type": "markdown",
   "metadata": {},
   "source": [
    "### Convert Sentiment Score to Stars\n",
    "\n",
    "Transform continuous `[-1.0, 1.0]` range to discrete `[1, 5]`  \n",
    "Metric: RMSE of `stars` and `mean_compound`."
   ]
  },
  {
   "cell_type": "code",
   "execution_count": 91,
   "metadata": {},
   "outputs": [],
   "source": [
    "def transform_to_stars(n, lower = -1, upper = 1):\n",
    "    '''\n",
    "    Transform n to a discrete value between 1 to 5, inclusive.\n",
    "    lower and upper set the bounds of n.\n",
    "    '''\n",
    "    if n < lower or n > upper:\n",
    "        print(f'OutOfRangeError: Set n between [{lower},{upper}]')\n",
    "        return None\n",
    "    \n",
    "    interval = np.round((upper - lower) / 9, 2)\n",
    "    bins = [np.round(lower + i*interval, 2) for i in range(0,10)]\n",
    "#     print(interval)\n",
    "#     print(bins)\n",
    "    \n",
    "    # one star is the lowest rating, can't get 0.5 star\n",
    "    n_categories = 9\n",
    "    \n",
    "    if n >= 0.5:\n",
    "        return 5.0\n",
    "    elif n >= 0.46:\n",
    "        return 4.5\n",
    "    elif n >= .42: \n",
    "        return 4.0\n",
    "    elif n >= .38:\n",
    "        return 3.5\n",
    "    elif n >= .32:\n",
    "        return 3.0\n",
    "    elif n >= .28:        \n",
    "        return 2.5\n",
    "    elif n >= .24:\n",
    "        return 2.0\n",
    "    elif n >= .20:\n",
    "        return 1.5\n",
    "    else: \n",
    "        return 1.0\n",
    "    \n",
    "    for i in range(2,11):\n",
    "        if bins[i-2] <= n <= bins[i-1]:\n",
    "#             print(i)\n",
    "            return i/2\n",
    "\n",
    "    if n >= bins[-1]:\n",
    "        return 5.0\n"
   ]
  },
  {
   "cell_type": "code",
   "execution_count": 92,
   "metadata": {},
   "outputs": [],
   "source": [
    "def rescale_to_stars(scores, lower = -1, upper = 1):\n",
    "    '''\n",
    "    Rescale list of values to discrete values between 1 to 5, inclusive.\n",
    "\n",
    "    Distributes the 5-star system to a uniform distribution of the input range.\n",
    "    '''    \n",
    "    interval = np.round((upper - lower) / 5, 2)\n",
    "    bins = [np.round(lower + i*interval, 2) for i in range(0, 6)]\n",
    "\n",
    "    return list(pd.cut(scores, bins = bins, labels = np.arange(1, 6, 1), include_lowest = True))\n"
   ]
  },
  {
   "cell_type": "markdown",
   "metadata": {},
   "source": [
    "### Determine the overall sentiment score of each key feature"
   ]
  },
  {
   "cell_type": "code",
   "execution_count": 93,
   "metadata": {},
   "outputs": [
    {
     "data": {
      "text/html": [
       "<div>\n",
       "<style scoped>\n",
       "    .dataframe tbody tr th:only-of-type {\n",
       "        vertical-align: middle;\n",
       "    }\n",
       "\n",
       "    .dataframe tbody tr th {\n",
       "        vertical-align: top;\n",
       "    }\n",
       "\n",
       "    .dataframe thead th {\n",
       "        text-align: right;\n",
       "    }\n",
       "</style>\n",
       "<table border=\"1\" class=\"dataframe\">\n",
       "  <thead>\n",
       "    <tr style=\"text-align: right;\">\n",
       "      <th></th>\n",
       "      <th>feature_id</th>\n",
       "      <th>sentiment_score</th>\n",
       "    </tr>\n",
       "  </thead>\n",
       "  <tbody>\n",
       "    <tr>\n",
       "      <th>0</th>\n",
       "      <td>food</td>\n",
       "      <td>0.417114</td>\n",
       "    </tr>\n",
       "    <tr>\n",
       "      <th>1</th>\n",
       "      <td>service</td>\n",
       "      <td>0.322873</td>\n",
       "    </tr>\n",
       "    <tr>\n",
       "      <th>2</th>\n",
       "      <td>cleanliness</td>\n",
       "      <td>0.180028</td>\n",
       "    </tr>\n",
       "    <tr>\n",
       "      <th>3</th>\n",
       "      <td>ambiance</td>\n",
       "      <td>0.443734</td>\n",
       "    </tr>\n",
       "    <tr>\n",
       "      <th>4</th>\n",
       "      <td>authenticity</td>\n",
       "      <td>0.226320</td>\n",
       "    </tr>\n",
       "    <tr>\n",
       "      <th>5</th>\n",
       "      <td>portion_size</td>\n",
       "      <td>0.317824</td>\n",
       "    </tr>\n",
       "  </tbody>\n",
       "</table>\n",
       "</div>"
      ],
      "text/plain": [
       "     feature_id  sentiment_score\n",
       "0          food         0.417114\n",
       "1       service         0.322873\n",
       "2   cleanliness         0.180028\n",
       "3      ambiance         0.443734\n",
       "4  authenticity         0.226320\n",
       "5  portion_size         0.317824"
      ]
     },
     "execution_count": 93,
     "metadata": {},
     "output_type": "execute_result"
    }
   ],
   "source": [
    "sentiment_df = pd.DataFrame(list(zip(features_sentiments.keys(), features_sentiments.values())), columns = ['feature_id', 'sentiment_score'])\n",
    "sentiment_df"
   ]
  },
  {
   "cell_type": "code",
   "execution_count": 94,
   "metadata": {},
   "outputs": [],
   "source": [
    "sentiment_df['stars_pred'] = sentiment_df['sentiment_score'].apply(lambda score : transform_to_stars(score))\n",
    "sentiment_df['mentions'] = sentiment_df['feature_id'].apply(lambda feature_id : len(features_chunks[feature_id]))"
   ]
  },
  {
   "cell_type": "markdown",
   "metadata": {},
   "source": [
    "## Overall sentiment of each key feature"
   ]
  },
  {
   "cell_type": "code",
   "execution_count": 95,
   "metadata": {},
   "outputs": [
    {
     "data": {
      "text/html": [
       "<div>\n",
       "<style scoped>\n",
       "    .dataframe tbody tr th:only-of-type {\n",
       "        vertical-align: middle;\n",
       "    }\n",
       "\n",
       "    .dataframe tbody tr th {\n",
       "        vertical-align: top;\n",
       "    }\n",
       "\n",
       "    .dataframe thead th {\n",
       "        text-align: right;\n",
       "    }\n",
       "</style>\n",
       "<table border=\"1\" class=\"dataframe\">\n",
       "  <thead>\n",
       "    <tr style=\"text-align: right;\">\n",
       "      <th></th>\n",
       "      <th>feature_id</th>\n",
       "      <th>sentiment_score</th>\n",
       "      <th>stars_pred</th>\n",
       "      <th>mentions</th>\n",
       "    </tr>\n",
       "  </thead>\n",
       "  <tbody>\n",
       "    <tr>\n",
       "      <th>0</th>\n",
       "      <td>food</td>\n",
       "      <td>0.417114</td>\n",
       "      <td>3.5</td>\n",
       "      <td>10875</td>\n",
       "    </tr>\n",
       "    <tr>\n",
       "      <th>1</th>\n",
       "      <td>service</td>\n",
       "      <td>0.322873</td>\n",
       "      <td>3.0</td>\n",
       "      <td>6995</td>\n",
       "    </tr>\n",
       "    <tr>\n",
       "      <th>2</th>\n",
       "      <td>cleanliness</td>\n",
       "      <td>0.180028</td>\n",
       "      <td>1.0</td>\n",
       "      <td>100</td>\n",
       "    </tr>\n",
       "    <tr>\n",
       "      <th>3</th>\n",
       "      <td>ambiance</td>\n",
       "      <td>0.443734</td>\n",
       "      <td>4.0</td>\n",
       "      <td>3285</td>\n",
       "    </tr>\n",
       "    <tr>\n",
       "      <th>4</th>\n",
       "      <td>authenticity</td>\n",
       "      <td>0.226320</td>\n",
       "      <td>1.5</td>\n",
       "      <td>97</td>\n",
       "    </tr>\n",
       "  </tbody>\n",
       "</table>\n",
       "</div>"
      ],
      "text/plain": [
       "     feature_id  sentiment_score  stars_pred  mentions\n",
       "0          food         0.417114         3.5     10875\n",
       "1       service         0.322873         3.0      6995\n",
       "2   cleanliness         0.180028         1.0       100\n",
       "3      ambiance         0.443734         4.0      3285\n",
       "4  authenticity         0.226320         1.5        97"
      ]
     },
     "execution_count": 95,
     "metadata": {},
     "output_type": "execute_result"
    }
   ],
   "source": [
    "sentiment_df.head()"
   ]
  },
  {
   "cell_type": "markdown",
   "metadata": {},
   "source": [
    "## Food"
   ]
  },
  {
   "cell_type": "code",
   "execution_count": 147,
   "metadata": {},
   "outputs": [
    {
     "data": {
      "text/html": [
       "<div>\n",
       "<style scoped>\n",
       "    .dataframe tbody tr th:only-of-type {\n",
       "        vertical-align: middle;\n",
       "    }\n",
       "\n",
       "    .dataframe tbody tr th {\n",
       "        vertical-align: top;\n",
       "    }\n",
       "\n",
       "    .dataframe thead th {\n",
       "        text-align: right;\n",
       "    }\n",
       "</style>\n",
       "<table border=\"1\" class=\"dataframe\">\n",
       "  <thead>\n",
       "    <tr style=\"text-align: right;\">\n",
       "      <th></th>\n",
       "      <th>text</th>\n",
       "      <th>compound</th>\n",
       "    </tr>\n",
       "  </thead>\n",
       "  <tbody>\n",
       "    <tr>\n",
       "      <th>0</th>\n",
       "      <td>i'm a huge fan of french food and had definitely been craving it ever</td>\n",
       "      <td>0.7430</td>\n",
       "    </tr>\n",
       "    <tr>\n",
       "      <th>1</th>\n",
       "      <td>the quiche lorraine was delicious but i was so full by the</td>\n",
       "      <td>0.3291</td>\n",
       "    </tr>\n",
       "    <tr>\n",
       "      <th>2</th>\n",
       "      <td>but highly disappointing was the cold butter</td>\n",
       "      <td>-0.6946</td>\n",
       "    </tr>\n",
       "    <tr>\n",
       "      <th>3</th>\n",
       "      <td>definitely worth coming here for a meal that is nice but not too nice</td>\n",
       "      <td>0.7845</td>\n",
       "    </tr>\n",
       "    <tr>\n",
       "      <th>4</th>\n",
       "      <td>to leave this place as our last meal in vegas and i wouldn't want to</td>\n",
       "      <td>-0.1083</td>\n",
       "    </tr>\n",
       "  </tbody>\n",
       "</table>\n",
       "</div>"
      ],
      "text/plain": [
       "                                                                    text  \\\n",
       "0  i'm a huge fan of french food and had definitely been craving it ever   \n",
       "1             the quiche lorraine was delicious but i was so full by the   \n",
       "2                           but highly disappointing was the cold butter   \n",
       "3  definitely worth coming here for a meal that is nice but not too nice   \n",
       "4   to leave this place as our last meal in vegas and i wouldn't want to   \n",
       "\n",
       "   compound  \n",
       "0    0.7430  \n",
       "1    0.3291  \n",
       "2   -0.6946  \n",
       "3    0.7845  \n",
       "4   -0.1083  "
      ]
     },
     "execution_count": 147,
     "metadata": {},
     "output_type": "execute_result"
    }
   ],
   "source": [
    "food_df = pd.concat([pd.DataFrame(features_chunks2['food'], columns=['text']), get_sentiments(features_chunks2['food'])['compound']], axis = 1)\n",
    "food_df.head()"
   ]
  },
  {
   "cell_type": "markdown",
   "metadata": {},
   "source": [
    "### Most positive reviews on food"
   ]
  },
  {
   "cell_type": "code",
   "execution_count": 150,
   "metadata": {},
   "outputs": [
    {
     "data": {
      "text/html": [
       "<div>\n",
       "<style scoped>\n",
       "    .dataframe tbody tr th:only-of-type {\n",
       "        vertical-align: middle;\n",
       "    }\n",
       "\n",
       "    .dataframe tbody tr th {\n",
       "        vertical-align: top;\n",
       "    }\n",
       "\n",
       "    .dataframe thead th {\n",
       "        text-align: right;\n",
       "    }\n",
       "</style>\n",
       "<table border=\"1\" class=\"dataframe\">\n",
       "  <thead>\n",
       "    <tr style=\"text-align: right;\">\n",
       "      <th></th>\n",
       "      <th>text</th>\n",
       "      <th>compound</th>\n",
       "    </tr>\n",
       "  </thead>\n",
       "  <tbody>\n",
       "    <tr>\n",
       "      <th>3298</th>\n",
       "      <td>be thicker but it's perfectly cooked with delicious sauce and a huge side of perfectly</td>\n",
       "      <td>0.9705</td>\n",
       "    </tr>\n",
       "    <tr>\n",
       "      <th>1244</th>\n",
       "      <td>great atmosphere great location great service great food great prices</td>\n",
       "      <td>0.9702</td>\n",
       "    </tr>\n",
       "    <tr>\n",
       "      <th>1730</th>\n",
       "      <td>love about fine dining: beautiful scenery delicious food great music perfect ambiance</td>\n",
       "      <td>0.9698</td>\n",
       "    </tr>\n",
       "    <tr>\n",
       "      <th>9776</th>\n",
       "      <td>the name but the sauce was wow amazing perfectly cooked the waiter was really attentive</td>\n",
       "      <td>0.9595</td>\n",
       "    </tr>\n",
       "    <tr>\n",
       "      <th>1964</th>\n",
       "      <td>tourist attraction but who cares if the food is delicious and the service is great</td>\n",
       "      <td>0.9565</td>\n",
       "    </tr>\n",
       "  </tbody>\n",
       "</table>\n",
       "</div>"
      ],
      "text/plain": [
       "                                                                                         text  \\\n",
       "3298   be thicker but it's perfectly cooked with delicious sauce and a huge side of perfectly   \n",
       "1244                    great atmosphere great location great service great food great prices   \n",
       "1730    love about fine dining: beautiful scenery delicious food great music perfect ambiance   \n",
       "9776  the name but the sauce was wow amazing perfectly cooked the waiter was really attentive   \n",
       "1964       tourist attraction but who cares if the food is delicious and the service is great   \n",
       "\n",
       "      compound  \n",
       "3298    0.9705  \n",
       "1244    0.9702  \n",
       "1730    0.9698  \n",
       "9776    0.9595  \n",
       "1964    0.9565  "
      ]
     },
     "execution_count": 150,
     "metadata": {},
     "output_type": "execute_result"
    }
   ],
   "source": [
    "food_df.nlargest(5, 'compound')"
   ]
  },
  {
   "cell_type": "markdown",
   "metadata": {},
   "source": [
    "### Most negative reviews on food "
   ]
  },
  {
   "cell_type": "code",
   "execution_count": 151,
   "metadata": {
    "scrolled": false
   },
   "outputs": [
    {
     "data": {
      "text/html": [
       "<div>\n",
       "<style scoped>\n",
       "    .dataframe tbody tr th:only-of-type {\n",
       "        vertical-align: middle;\n",
       "    }\n",
       "\n",
       "    .dataframe tbody tr th {\n",
       "        vertical-align: top;\n",
       "    }\n",
       "\n",
       "    .dataframe thead th {\n",
       "        text-align: right;\n",
       "    }\n",
       "</style>\n",
       "<table border=\"1\" class=\"dataframe\">\n",
       "  <thead>\n",
       "    <tr style=\"text-align: right;\">\n",
       "      <th></th>\n",
       "      <th>text</th>\n",
       "      <th>compound</th>\n",
       "    </tr>\n",
       "  </thead>\n",
       "  <tbody>\n",
       "    <tr>\n",
       "      <th>2656</th>\n",
       "      <td>guy but bad service can kill a meal for me</td>\n",
       "      <td>-0.9231</td>\n",
       "    </tr>\n",
       "    <tr>\n",
       "      <th>9827</th>\n",
       "      <td>avoid this disgusting and dishonest place</td>\n",
       "      <td>-0.8519</td>\n",
       "    </tr>\n",
       "    <tr>\n",
       "      <th>1098</th>\n",
       "      <td>just got an off evening but the food was a severe disappointment</td>\n",
       "      <td>-0.8338</td>\n",
       "    </tr>\n",
       "    <tr>\n",
       "      <th>7938</th>\n",
       "      <td>the creme brulee is excruciatingly delicious it hurts so bad</td>\n",
       "      <td>-0.8312</td>\n",
       "    </tr>\n",
       "    <tr>\n",
       "      <th>8919</th>\n",
       "      <td>in our poorly made drinks very disappointing food and terrible service we decided to cut</td>\n",
       "      <td>-0.8268</td>\n",
       "    </tr>\n",
       "  </tbody>\n",
       "</table>\n",
       "</div>"
      ],
      "text/plain": [
       "                                                                                          text  \\\n",
       "2656                                                guy but bad service can kill a meal for me   \n",
       "9827                                                 avoid this disgusting and dishonest place   \n",
       "1098                          just got an off evening but the food was a severe disappointment   \n",
       "7938                              the creme brulee is excruciatingly delicious it hurts so bad   \n",
       "8919  in our poorly made drinks very disappointing food and terrible service we decided to cut   \n",
       "\n",
       "      compound  \n",
       "2656   -0.9231  \n",
       "9827   -0.8519  \n",
       "1098   -0.8338  \n",
       "7938   -0.8312  \n",
       "8919   -0.8268  "
      ]
     },
     "execution_count": 151,
     "metadata": {},
     "output_type": "execute_result"
    }
   ],
   "source": [
    "food_df.nsmallest(5, 'compound')"
   ]
  },
  {
   "cell_type": "markdown",
   "metadata": {},
   "source": [
    "## Service"
   ]
  },
  {
   "cell_type": "code",
   "execution_count": 123,
   "metadata": {
    "scrolled": true
   },
   "outputs": [
    {
     "data": {
      "text/html": [
       "<div>\n",
       "<style scoped>\n",
       "    .dataframe tbody tr th:only-of-type {\n",
       "        vertical-align: middle;\n",
       "    }\n",
       "\n",
       "    .dataframe tbody tr th {\n",
       "        vertical-align: top;\n",
       "    }\n",
       "\n",
       "    .dataframe thead th {\n",
       "        text-align: right;\n",
       "    }\n",
       "</style>\n",
       "<table border=\"1\" class=\"dataframe\">\n",
       "  <thead>\n",
       "    <tr style=\"text-align: right;\">\n",
       "      <th></th>\n",
       "      <th>text</th>\n",
       "      <th>compound</th>\n",
       "    </tr>\n",
       "  </thead>\n",
       "  <tbody>\n",
       "    <tr>\n",
       "      <th>0</th>\n",
       "      <td>of the vegas strip along with excellent service</td>\n",
       "      <td>0.5719</td>\n",
       "    </tr>\n",
       "    <tr>\n",
       "      <th>1</th>\n",
       "      <td>our server made our experience 10x times better</td>\n",
       "      <td>0.4404</td>\n",
       "    </tr>\n",
       "    <tr>\n",
       "      <th>2</th>\n",
       "      <td>price was right service exceptional and the food tasted fantastic</td>\n",
       "      <td>0.5574</td>\n",
       "    </tr>\n",
       "    <tr>\n",
       "      <th>3</th>\n",
       "      <td>once seated we waited forever for a server</td>\n",
       "      <td>0.0000</td>\n",
       "    </tr>\n",
       "    <tr>\n",
       "      <th>4</th>\n",
       "      <td>the entire experience was just slow</td>\n",
       "      <td>0.0000</td>\n",
       "    </tr>\n",
       "  </tbody>\n",
       "</table>\n",
       "</div>"
      ],
      "text/plain": [
       "                                                                text  compound\n",
       "0                    of the vegas strip along with excellent service    0.5719\n",
       "1                    our server made our experience 10x times better    0.4404\n",
       "2  price was right service exceptional and the food tasted fantastic    0.5574\n",
       "3                         once seated we waited forever for a server    0.0000\n",
       "4                                the entire experience was just slow    0.0000"
      ]
     },
     "execution_count": 123,
     "metadata": {},
     "output_type": "execute_result"
    }
   ],
   "source": [
    "service_df = pd.concat([pd.DataFrame(features_chunks2['service'], columns=['text']), get_sentiments(features_chunks2['service'])['compound']], axis = 1)\n",
    "service_df.head()"
   ]
  },
  {
   "cell_type": "markdown",
   "metadata": {},
   "source": [
    "### Most positive reviews on service "
   ]
  },
  {
   "cell_type": "code",
   "execution_count": 152,
   "metadata": {},
   "outputs": [
    {
     "data": {
      "text/html": [
       "<div>\n",
       "<style scoped>\n",
       "    .dataframe tbody tr th:only-of-type {\n",
       "        vertical-align: middle;\n",
       "    }\n",
       "\n",
       "    .dataframe tbody tr th {\n",
       "        vertical-align: top;\n",
       "    }\n",
       "\n",
       "    .dataframe thead th {\n",
       "        text-align: right;\n",
       "    }\n",
       "</style>\n",
       "<table border=\"1\" class=\"dataframe\">\n",
       "  <thead>\n",
       "    <tr style=\"text-align: right;\">\n",
       "      <th></th>\n",
       "      <th>text</th>\n",
       "      <th>compound</th>\n",
       "    </tr>\n",
       "  </thead>\n",
       "  <tbody>\n",
       "    <tr>\n",
       "      <th>865</th>\n",
       "      <td>great atmosphere great location great service great food great prices</td>\n",
       "      <td>0.9702</td>\n",
       "    </tr>\n",
       "    <tr>\n",
       "      <th>2939</th>\n",
       "      <td>great view great food great friendly service and the price is great</td>\n",
       "      <td>0.9666</td>\n",
       "    </tr>\n",
       "    <tr>\n",
       "      <th>58</th>\n",
       "      <td>excellent service excellent burger excellent steak excellent chicken excellent</td>\n",
       "      <td>0.9612</td>\n",
       "    </tr>\n",
       "    <tr>\n",
       "      <th>7016</th>\n",
       "      <td>a great romantic and relaxing environment great service and great food</td>\n",
       "      <td>0.9595</td>\n",
       "    </tr>\n",
       "    <tr>\n",
       "      <th>2256</th>\n",
       "      <td>great food great service great price great setting</td>\n",
       "      <td>0.9545</td>\n",
       "    </tr>\n",
       "  </tbody>\n",
       "</table>\n",
       "</div>"
      ],
      "text/plain": [
       "                                                                                text  \\\n",
       "865            great atmosphere great location great service great food great prices   \n",
       "2939             great view great food great friendly service and the price is great   \n",
       "58    excellent service excellent burger excellent steak excellent chicken excellent   \n",
       "7016          a great romantic and relaxing environment great service and great food   \n",
       "2256                              great food great service great price great setting   \n",
       "\n",
       "      compound  \n",
       "865     0.9702  \n",
       "2939    0.9666  \n",
       "58      0.9612  \n",
       "7016    0.9595  \n",
       "2256    0.9545  "
      ]
     },
     "execution_count": 152,
     "metadata": {},
     "output_type": "execute_result"
    }
   ],
   "source": [
    "service_df.nlargest(5, 'compound')"
   ]
  },
  {
   "cell_type": "markdown",
   "metadata": {},
   "source": [
    "### Most negative reviews on service "
   ]
  },
  {
   "cell_type": "code",
   "execution_count": 146,
   "metadata": {
    "scrolled": true
   },
   "outputs": [
    {
     "data": {
      "text/html": [
       "<div>\n",
       "<style scoped>\n",
       "    .dataframe tbody tr th:only-of-type {\n",
       "        vertical-align: middle;\n",
       "    }\n",
       "\n",
       "    .dataframe tbody tr th {\n",
       "        vertical-align: top;\n",
       "    }\n",
       "\n",
       "    .dataframe thead th {\n",
       "        text-align: right;\n",
       "    }\n",
       "</style>\n",
       "<table border=\"1\" class=\"dataframe\">\n",
       "  <thead>\n",
       "    <tr style=\"text-align: right;\">\n",
       "      <th></th>\n",
       "      <th>text</th>\n",
       "      <th>compound</th>\n",
       "    </tr>\n",
       "  </thead>\n",
       "  <tbody>\n",
       "    <tr>\n",
       "      <th>1709</th>\n",
       "      <td>off due to that guy but bad service can kill a meal for me</td>\n",
       "      <td>-0.9231</td>\n",
       "    </tr>\n",
       "    <tr>\n",
       "      <th>5734</th>\n",
       "      <td>made drinks very disappointing food and terrible service we decided to cut out losses and</td>\n",
       "      <td>-0.8858</td>\n",
       "    </tr>\n",
       "    <tr>\n",
       "      <th>436</th>\n",
       "      <td>one i won't forget but the horrible service left a bad taste in my mouth</td>\n",
       "      <td>-0.8798</td>\n",
       "    </tr>\n",
       "    <tr>\n",
       "      <th>1858</th>\n",
       "      <td>but when the service is this bad no matter how hard</td>\n",
       "      <td>-0.8732</td>\n",
       "    </tr>\n",
       "    <tr>\n",
       "      <th>5463</th>\n",
       "      <td>with my boyfriend i got a horrible waiter who was obnoxiously rude and just didn't</td>\n",
       "      <td>-0.8689</td>\n",
       "    </tr>\n",
       "  </tbody>\n",
       "</table>\n",
       "</div>"
      ],
      "text/plain": [
       "                                                                                           text  \\\n",
       "1709                                 off due to that guy but bad service can kill a meal for me   \n",
       "5734  made drinks very disappointing food and terrible service we decided to cut out losses and   \n",
       "436                    one i won't forget but the horrible service left a bad taste in my mouth   \n",
       "1858                                        but when the service is this bad no matter how hard   \n",
       "5463         with my boyfriend i got a horrible waiter who was obnoxiously rude and just didn't   \n",
       "\n",
       "      compound  \n",
       "1709   -0.9231  \n",
       "5734   -0.8858  \n",
       "436    -0.8798  \n",
       "1858   -0.8732  \n",
       "5463   -0.8689  "
      ]
     },
     "execution_count": 146,
     "metadata": {},
     "output_type": "execute_result"
    }
   ],
   "source": [
    "service_df.nsmallest(5, 'compound')"
   ]
  },
  {
   "cell_type": "markdown",
   "metadata": {},
   "source": [
    "## Cleanliness"
   ]
  },
  {
   "cell_type": "code",
   "execution_count": 124,
   "metadata": {},
   "outputs": [
    {
     "data": {
      "text/html": [
       "<div>\n",
       "<style scoped>\n",
       "    .dataframe tbody tr th:only-of-type {\n",
       "        vertical-align: middle;\n",
       "    }\n",
       "\n",
       "    .dataframe tbody tr th {\n",
       "        vertical-align: top;\n",
       "    }\n",
       "\n",
       "    .dataframe thead th {\n",
       "        text-align: right;\n",
       "    }\n",
       "</style>\n",
       "<table border=\"1\" class=\"dataframe\">\n",
       "  <thead>\n",
       "    <tr style=\"text-align: right;\">\n",
       "      <th></th>\n",
       "      <th>text</th>\n",
       "      <th>compound</th>\n",
       "    </tr>\n",
       "  </thead>\n",
       "  <tbody>\n",
       "    <tr>\n",
       "      <th>0</th>\n",
       "      <td>with dirty forks</td>\n",
       "      <td>-0.4404</td>\n",
       "    </tr>\n",
       "    <tr>\n",
       "      <th>1</th>\n",
       "      <td>this place is very clean and all the servers was friendly and</td>\n",
       "      <td>0.7346</td>\n",
       "    </tr>\n",
       "    <tr>\n",
       "      <th>2</th>\n",
       "      <td>10 food - 10 wait time- 9 clean - 10</td>\n",
       "      <td>0.4019</td>\n",
       "    </tr>\n",
       "    <tr>\n",
       "      <th>3</th>\n",
       "      <td>i saw another person ask for a clean glass also while i was there</td>\n",
       "      <td>0.4019</td>\n",
       "    </tr>\n",
       "    <tr>\n",
       "      <th>4</th>\n",
       "      <td>overall very clean well set place</td>\n",
       "      <td>0.6566</td>\n",
       "    </tr>\n",
       "  </tbody>\n",
       "</table>\n",
       "</div>"
      ],
      "text/plain": [
       "                                                                text  compound\n",
       "0                                                   with dirty forks   -0.4404\n",
       "1      this place is very clean and all the servers was friendly and    0.7346\n",
       "2                               10 food - 10 wait time- 9 clean - 10    0.4019\n",
       "3  i saw another person ask for a clean glass also while i was there    0.4019\n",
       "4                                  overall very clean well set place    0.6566"
      ]
     },
     "execution_count": 124,
     "metadata": {},
     "output_type": "execute_result"
    }
   ],
   "source": [
    "cleanliness_df = pd.concat([pd.DataFrame(features_chunks2['cleanliness'], columns=['text']), get_sentiments(features_chunks2['cleanliness'])['compound']], axis = 1)\n",
    "cleanliness_df.head()"
   ]
  },
  {
   "cell_type": "markdown",
   "metadata": {},
   "source": [
    "### Most positive reviews on cleanliness "
   ]
  },
  {
   "cell_type": "code",
   "execution_count": 145,
   "metadata": {},
   "outputs": [
    {
     "data": {
      "text/html": [
       "<div>\n",
       "<style scoped>\n",
       "    .dataframe tbody tr th:only-of-type {\n",
       "        vertical-align: middle;\n",
       "    }\n",
       "\n",
       "    .dataframe tbody tr th {\n",
       "        vertical-align: top;\n",
       "    }\n",
       "\n",
       "    .dataframe thead th {\n",
       "        text-align: right;\n",
       "    }\n",
       "</style>\n",
       "<table border=\"1\" class=\"dataframe\">\n",
       "  <thead>\n",
       "    <tr style=\"text-align: right;\">\n",
       "      <th></th>\n",
       "      <th>text</th>\n",
       "      <th>compound</th>\n",
       "    </tr>\n",
       "  </thead>\n",
       "  <tbody>\n",
       "    <tr>\n",
       "      <th>60</th>\n",
       "      <td>awesome and i had the shrimp cocktail clean and good while my daughter loved the</td>\n",
       "      <td>0.9274</td>\n",
       "    </tr>\n",
       "    <tr>\n",
       "      <th>84</th>\n",
       "      <td>still on the strip but quiet clean friendly and not bad prices</td>\n",
       "      <td>0.9122</td>\n",
       "    </tr>\n",
       "    <tr>\n",
       "      <th>88</th>\n",
       "      <td>were perfectly ripe and such a nice clean dessert after something like steak</td>\n",
       "      <td>0.9042</td>\n",
       "    </tr>\n",
       "    <tr>\n",
       "      <th>36</th>\n",
       "      <td>inside of the restaurant is very clean seats are very comfortable and very relaxing</td>\n",
       "      <td>0.8773</td>\n",
       "    </tr>\n",
       "    <tr>\n",
       "      <th>40</th>\n",
       "      <td>sandwich and crepe were amazing- crepe was clean and the peas went nicely with the</td>\n",
       "      <td>0.8555</td>\n",
       "    </tr>\n",
       "  </tbody>\n",
       "</table>\n",
       "</div>"
      ],
      "text/plain": [
       "                                                                                   text  \\\n",
       "60     awesome and i had the shrimp cocktail clean and good while my daughter loved the   \n",
       "84                       still on the strip but quiet clean friendly and not bad prices   \n",
       "88         were perfectly ripe and such a nice clean dessert after something like steak   \n",
       "36  inside of the restaurant is very clean seats are very comfortable and very relaxing   \n",
       "40   sandwich and crepe were amazing- crepe was clean and the peas went nicely with the   \n",
       "\n",
       "    compound  \n",
       "60    0.9274  \n",
       "84    0.9122  \n",
       "88    0.9042  \n",
       "36    0.8773  \n",
       "40    0.8555  "
      ]
     },
     "execution_count": 145,
     "metadata": {},
     "output_type": "execute_result"
    }
   ],
   "source": [
    "cleanliness_df.nlargest(5, 'compound')"
   ]
  },
  {
   "cell_type": "markdown",
   "metadata": {},
   "source": [
    "### Most negative reviews on cleanliness "
   ]
  },
  {
   "cell_type": "code",
   "execution_count": 144,
   "metadata": {
    "scrolled": true
   },
   "outputs": [
    {
     "data": {
      "text/html": [
       "<div>\n",
       "<style scoped>\n",
       "    .dataframe tbody tr th:only-of-type {\n",
       "        vertical-align: middle;\n",
       "    }\n",
       "\n",
       "    .dataframe tbody tr th {\n",
       "        vertical-align: top;\n",
       "    }\n",
       "\n",
       "    .dataframe thead th {\n",
       "        text-align: right;\n",
       "    }\n",
       "</style>\n",
       "<table border=\"1\" class=\"dataframe\">\n",
       "  <thead>\n",
       "    <tr style=\"text-align: right;\">\n",
       "      <th></th>\n",
       "      <th>text</th>\n",
       "      <th>compound</th>\n",
       "    </tr>\n",
       "  </thead>\n",
       "  <tbody>\n",
       "    <tr>\n",
       "      <th>21</th>\n",
       "      <td>napkin because the first was stained and dirty and our server brought us the wrong</td>\n",
       "      <td>-0.7184</td>\n",
       "    </tr>\n",
       "    <tr>\n",
       "      <th>44</th>\n",
       "      <td>dirty plates dirty everything</td>\n",
       "      <td>-0.7003</td>\n",
       "    </tr>\n",
       "    <tr>\n",
       "      <th>45</th>\n",
       "      <td>dirty plates dirty everything</td>\n",
       "      <td>-0.7003</td>\n",
       "    </tr>\n",
       "    <tr>\n",
       "      <th>86</th>\n",
       "      <td>a very unimpressive meal i didn't even clean my plate</td>\n",
       "      <td>-0.6061</td>\n",
       "    </tr>\n",
       "    <tr>\n",
       "      <th>26</th>\n",
       "      <td>i was sticky dirty blurry at some parts</td>\n",
       "      <td>-0.5106</td>\n",
       "    </tr>\n",
       "  </tbody>\n",
       "</table>\n",
       "</div>"
      ],
      "text/plain": [
       "                                                                                  text  \\\n",
       "21  napkin because the first was stained and dirty and our server brought us the wrong   \n",
       "44                                                       dirty plates dirty everything   \n",
       "45                                                       dirty plates dirty everything   \n",
       "86                               a very unimpressive meal i didn't even clean my plate   \n",
       "26                                             i was sticky dirty blurry at some parts   \n",
       "\n",
       "    compound  \n",
       "21   -0.7184  \n",
       "44   -0.7003  \n",
       "45   -0.7003  \n",
       "86   -0.6061  \n",
       "26   -0.5106  "
      ]
     },
     "execution_count": 144,
     "metadata": {},
     "output_type": "execute_result"
    }
   ],
   "source": [
    "cleanliness_df.nsmallest(5, 'compound')"
   ]
  },
  {
   "cell_type": "markdown",
   "metadata": {},
   "source": [
    "## Ambiance"
   ]
  },
  {
   "cell_type": "code",
   "execution_count": 153,
   "metadata": {},
   "outputs": [
    {
     "data": {
      "text/html": [
       "<div>\n",
       "<style scoped>\n",
       "    .dataframe tbody tr th:only-of-type {\n",
       "        vertical-align: middle;\n",
       "    }\n",
       "\n",
       "    .dataframe tbody tr th {\n",
       "        vertical-align: top;\n",
       "    }\n",
       "\n",
       "    .dataframe thead th {\n",
       "        text-align: right;\n",
       "    }\n",
       "</style>\n",
       "<table border=\"1\" class=\"dataframe\">\n",
       "  <thead>\n",
       "    <tr style=\"text-align: right;\">\n",
       "      <th></th>\n",
       "      <th>text</th>\n",
       "      <th>compound</th>\n",
       "    </tr>\n",
       "  </thead>\n",
       "  <tbody>\n",
       "    <tr>\n",
       "      <th>0</th>\n",
       "      <td>very nice view of the vegas strip along with excellent</td>\n",
       "      <td>0.7778</td>\n",
       "    </tr>\n",
       "    <tr>\n",
       "      <th>1</th>\n",
       "      <td>love the outdoor atmosphere</td>\n",
       "      <td>0.6369</td>\n",
       "    </tr>\n",
       "    <tr>\n",
       "      <th>2</th>\n",
       "      <td>amazing service yummy food friendly staff beautiful view and free dessert for the hassle with</td>\n",
       "      <td>0.9559</td>\n",
       "    </tr>\n",
       "    <tr>\n",
       "      <th>3</th>\n",
       "      <td>the ambiance was good too</td>\n",
       "      <td>0.4404</td>\n",
       "    </tr>\n",
       "    <tr>\n",
       "      <th>4</th>\n",
       "      <td>a perfect view with a perfect breakfast</td>\n",
       "      <td>0.8126</td>\n",
       "    </tr>\n",
       "  </tbody>\n",
       "</table>\n",
       "</div>"
      ],
      "text/plain": [
       "                                                                                            text  \\\n",
       "0                                         very nice view of the vegas strip along with excellent   \n",
       "1                                                                    love the outdoor atmosphere   \n",
       "2  amazing service yummy food friendly staff beautiful view and free dessert for the hassle with   \n",
       "3                                                                      the ambiance was good too   \n",
       "4                                                        a perfect view with a perfect breakfast   \n",
       "\n",
       "   compound  \n",
       "0    0.7778  \n",
       "1    0.6369  \n",
       "2    0.9559  \n",
       "3    0.4404  \n",
       "4    0.8126  "
      ]
     },
     "execution_count": 153,
     "metadata": {},
     "output_type": "execute_result"
    }
   ],
   "source": [
    "ambiance_df = pd.concat([pd.DataFrame(features_chunks2['ambiance'], columns=['text']), get_sentiments(features_chunks2['ambiance'])['compound']], axis = 1)\n",
    "ambiance_df.head()"
   ]
  },
  {
   "cell_type": "markdown",
   "metadata": {},
   "source": [
    "### Most positive reviews on ambiance"
   ]
  },
  {
   "cell_type": "code",
   "execution_count": 154,
   "metadata": {},
   "outputs": [
    {
     "data": {
      "text/html": [
       "<div>\n",
       "<style scoped>\n",
       "    .dataframe tbody tr th:only-of-type {\n",
       "        vertical-align: middle;\n",
       "    }\n",
       "\n",
       "    .dataframe tbody tr th {\n",
       "        vertical-align: top;\n",
       "    }\n",
       "\n",
       "    .dataframe thead th {\n",
       "        text-align: right;\n",
       "    }\n",
       "</style>\n",
       "<table border=\"1\" class=\"dataframe\">\n",
       "  <thead>\n",
       "    <tr style=\"text-align: right;\">\n",
       "      <th></th>\n",
       "      <th>text</th>\n",
       "      <th>compound</th>\n",
       "    </tr>\n",
       "  </thead>\n",
       "  <tbody>\n",
       "    <tr>\n",
       "      <th>414</th>\n",
       "      <td>great atmosphere great location great service great food great</td>\n",
       "      <td>0.9702</td>\n",
       "    </tr>\n",
       "    <tr>\n",
       "      <th>2</th>\n",
       "      <td>amazing service yummy food friendly staff beautiful view and free dessert for the hassle with</td>\n",
       "      <td>0.9559</td>\n",
       "    </tr>\n",
       "    <tr>\n",
       "      <th>1503</th>\n",
       "      <td>great good great atmosphere and great value</td>\n",
       "      <td>0.9559</td>\n",
       "    </tr>\n",
       "    <tr>\n",
       "      <th>2832</th>\n",
       "      <td>overall great food great service great ambiance and beautiful views</td>\n",
       "      <td>0.9531</td>\n",
       "    </tr>\n",
       "    <tr>\n",
       "      <th>1360</th>\n",
       "      <td>great view great food great friendly service and the</td>\n",
       "      <td>0.9477</td>\n",
       "    </tr>\n",
       "  </tbody>\n",
       "</table>\n",
       "</div>"
      ],
      "text/plain": [
       "                                                                                               text  \\\n",
       "414                                  great atmosphere great location great service great food great   \n",
       "2     amazing service yummy food friendly staff beautiful view and free dessert for the hassle with   \n",
       "1503                                                    great good great atmosphere and great value   \n",
       "2832                            overall great food great service great ambiance and beautiful views   \n",
       "1360                                           great view great food great friendly service and the   \n",
       "\n",
       "      compound  \n",
       "414     0.9702  \n",
       "2       0.9559  \n",
       "1503    0.9559  \n",
       "2832    0.9531  \n",
       "1360    0.9477  "
      ]
     },
     "execution_count": 154,
     "metadata": {},
     "output_type": "execute_result"
    }
   ],
   "source": [
    "ambiance_df.nlargest(5, 'compound')"
   ]
  },
  {
   "cell_type": "markdown",
   "metadata": {},
   "source": [
    "### Most negative reviews on ambiance"
   ]
  },
  {
   "cell_type": "code",
   "execution_count": 155,
   "metadata": {
    "scrolled": true
   },
   "outputs": [
    {
     "data": {
      "text/html": [
       "<div>\n",
       "<style scoped>\n",
       "    .dataframe tbody tr th:only-of-type {\n",
       "        vertical-align: middle;\n",
       "    }\n",
       "\n",
       "    .dataframe tbody tr th {\n",
       "        vertical-align: top;\n",
       "    }\n",
       "\n",
       "    .dataframe thead th {\n",
       "        text-align: right;\n",
       "    }\n",
       "</style>\n",
       "<table border=\"1\" class=\"dataframe\">\n",
       "  <thead>\n",
       "    <tr style=\"text-align: right;\">\n",
       "      <th></th>\n",
       "      <th>text</th>\n",
       "      <th>compound</th>\n",
       "    </tr>\n",
       "  </thead>\n",
       "  <tbody>\n",
       "    <tr>\n",
       "      <th>164</th>\n",
       "      <td>terrible the food not that great the view was blocked by pedestrians and trees</td>\n",
       "      <td>-0.8173</td>\n",
       "    </tr>\n",
       "    <tr>\n",
       "      <th>847</th>\n",
       "      <td>crappy service mediocre food loud obnoxious atmosphere i was thinking this place might have</td>\n",
       "      <td>-0.7650</td>\n",
       "    </tr>\n",
       "    <tr>\n",
       "      <th>2947</th>\n",
       "      <td>drop dead view of the bellagio fountains if you can</td>\n",
       "      <td>-0.7506</td>\n",
       "    </tr>\n",
       "    <tr>\n",
       "      <th>2764</th>\n",
       "      <td>are inside dim strip hotels with no view inconvenient from the street with limited menus</td>\n",
       "      <td>-0.6705</td>\n",
       "    </tr>\n",
       "    <tr>\n",
       "      <th>2085</th>\n",
       "      <td>we requested outside seating the view was good but the only negative here</td>\n",
       "      <td>-0.6249</td>\n",
       "    </tr>\n",
       "  </tbody>\n",
       "</table>\n",
       "</div>"
      ],
      "text/plain": [
       "                                                                                             text  \\\n",
       "164                terrible the food not that great the view was blocked by pedestrians and trees   \n",
       "847   crappy service mediocre food loud obnoxious atmosphere i was thinking this place might have   \n",
       "2947                                          drop dead view of the bellagio fountains if you can   \n",
       "2764     are inside dim strip hotels with no view inconvenient from the street with limited menus   \n",
       "2085                    we requested outside seating the view was good but the only negative here   \n",
       "\n",
       "      compound  \n",
       "164    -0.8173  \n",
       "847    -0.7650  \n",
       "2947   -0.7506  \n",
       "2764   -0.6705  \n",
       "2085   -0.6249  "
      ]
     },
     "execution_count": 155,
     "metadata": {},
     "output_type": "execute_result"
    }
   ],
   "source": [
    "ambiance_df.nsmallest(5, 'compound')"
   ]
  },
  {
   "cell_type": "markdown",
   "metadata": {},
   "source": [
    "## Authenticity"
   ]
  },
  {
   "cell_type": "code",
   "execution_count": 156,
   "metadata": {},
   "outputs": [
    {
     "data": {
      "text/html": [
       "<div>\n",
       "<style scoped>\n",
       "    .dataframe tbody tr th:only-of-type {\n",
       "        vertical-align: middle;\n",
       "    }\n",
       "\n",
       "    .dataframe tbody tr th {\n",
       "        vertical-align: top;\n",
       "    }\n",
       "\n",
       "    .dataframe thead th {\n",
       "        text-align: right;\n",
       "    }\n",
       "</style>\n",
       "<table border=\"1\" class=\"dataframe\">\n",
       "  <thead>\n",
       "    <tr style=\"text-align: right;\">\n",
       "      <th></th>\n",
       "      <th>text</th>\n",
       "      <th>compound</th>\n",
       "    </tr>\n",
       "  </thead>\n",
       "  <tbody>\n",
       "    <tr>\n",
       "      <th>0</th>\n",
       "      <td>it's classy and very authentic french cuisine</td>\n",
       "      <td>0.4404</td>\n",
       "    </tr>\n",
       "    <tr>\n",
       "      <th>1</th>\n",
       "      <td>authentic is the word you should use to</td>\n",
       "      <td>0.0000</td>\n",
       "    </tr>\n",
       "    <tr>\n",
       "      <th>2</th>\n",
       "      <td>that being said it's not the most authentic french restaurant i've ever been to but</td>\n",
       "      <td>0.0000</td>\n",
       "    </tr>\n",
       "    <tr>\n",
       "      <th>3</th>\n",
       "      <td>very authentic french atmosphere</td>\n",
       "      <td>0.0000</td>\n",
       "    </tr>\n",
       "    <tr>\n",
       "      <th>4</th>\n",
       "      <td>the food is delicious and authentic</td>\n",
       "      <td>0.5719</td>\n",
       "    </tr>\n",
       "  </tbody>\n",
       "</table>\n",
       "</div>"
      ],
      "text/plain": [
       "                                                                                  text  \\\n",
       "0                                        it's classy and very authentic french cuisine   \n",
       "1                                              authentic is the word you should use to   \n",
       "2  that being said it's not the most authentic french restaurant i've ever been to but   \n",
       "3                                                     very authentic french atmosphere   \n",
       "4                                                  the food is delicious and authentic   \n",
       "\n",
       "   compound  \n",
       "0    0.4404  \n",
       "1    0.0000  \n",
       "2    0.0000  \n",
       "3    0.0000  \n",
       "4    0.5719  "
      ]
     },
     "execution_count": 156,
     "metadata": {},
     "output_type": "execute_result"
    }
   ],
   "source": [
    "authenticity_df = pd.concat([pd.DataFrame(features_chunks2['authenticity'], columns=['text']), get_sentiments(features_chunks2['authenticity'])['compound']], axis = 1)\n",
    "authenticity_df.head()"
   ]
  },
  {
   "cell_type": "markdown",
   "metadata": {},
   "source": [
    "### Most positive reviews on authenticity"
   ]
  },
  {
   "cell_type": "code",
   "execution_count": 157,
   "metadata": {
    "scrolled": true
   },
   "outputs": [
    {
     "data": {
      "text/html": [
       "<div>\n",
       "<style scoped>\n",
       "    .dataframe tbody tr th:only-of-type {\n",
       "        vertical-align: middle;\n",
       "    }\n",
       "\n",
       "    .dataframe tbody tr th {\n",
       "        vertical-align: top;\n",
       "    }\n",
       "\n",
       "    .dataframe thead th {\n",
       "        text-align: right;\n",
       "    }\n",
       "</style>\n",
       "<table border=\"1\" class=\"dataframe\">\n",
       "  <thead>\n",
       "    <tr style=\"text-align: right;\">\n",
       "      <th></th>\n",
       "      <th>text</th>\n",
       "      <th>compound</th>\n",
       "    </tr>\n",
       "  </thead>\n",
       "  <tbody>\n",
       "    <tr>\n",
       "      <th>90</th>\n",
       "      <td>chris topped off the great food and authentic french ambiance with gracious and extremely competent</td>\n",
       "      <td>0.8832</td>\n",
       "    </tr>\n",
       "    <tr>\n",
       "      <th>32</th>\n",
       "      <td>nice relaxing place to enjoy a near authentic parisienne bistro experience</td>\n",
       "      <td>0.8481</td>\n",
       "    </tr>\n",
       "    <tr>\n",
       "      <th>23</th>\n",
       "      <td>service is excellent and the decor is authentic and quite lovely</td>\n",
       "      <td>0.8313</td>\n",
       "    </tr>\n",
       "    <tr>\n",
       "      <th>80</th>\n",
       "      <td>the food feels authentic the staff is incredibly friendly fun and</td>\n",
       "      <td>0.7947</td>\n",
       "    </tr>\n",
       "    <tr>\n",
       "      <th>34</th>\n",
       "      <td>fabulous service authentic french cruise and divine atmosphere</td>\n",
       "      <td>0.7906</td>\n",
       "    </tr>\n",
       "  </tbody>\n",
       "</table>\n",
       "</div>"
      ],
      "text/plain": [
       "                                                                                                   text  \\\n",
       "90  chris topped off the great food and authentic french ambiance with gracious and extremely competent   \n",
       "32                           nice relaxing place to enjoy a near authentic parisienne bistro experience   \n",
       "23                                     service is excellent and the decor is authentic and quite lovely   \n",
       "80                                    the food feels authentic the staff is incredibly friendly fun and   \n",
       "34                                       fabulous service authentic french cruise and divine atmosphere   \n",
       "\n",
       "    compound  \n",
       "90    0.8832  \n",
       "32    0.8481  \n",
       "23    0.8313  \n",
       "80    0.7947  \n",
       "34    0.7906  "
      ]
     },
     "execution_count": 157,
     "metadata": {},
     "output_type": "execute_result"
    }
   ],
   "source": [
    "authenticity_df.nlargest(5, 'compound')"
   ]
  },
  {
   "cell_type": "markdown",
   "metadata": {},
   "source": [
    "### Most negative reviews on authenticity"
   ]
  },
  {
   "cell_type": "code",
   "execution_count": 158,
   "metadata": {
    "scrolled": false
   },
   "outputs": [
    {
     "data": {
      "text/html": [
       "<div>\n",
       "<style scoped>\n",
       "    .dataframe tbody tr th:only-of-type {\n",
       "        vertical-align: middle;\n",
       "    }\n",
       "\n",
       "    .dataframe tbody tr th {\n",
       "        vertical-align: top;\n",
       "    }\n",
       "\n",
       "    .dataframe thead th {\n",
       "        text-align: right;\n",
       "    }\n",
       "</style>\n",
       "<table border=\"1\" class=\"dataframe\">\n",
       "  <thead>\n",
       "    <tr style=\"text-align: right;\">\n",
       "      <th></th>\n",
       "      <th>text</th>\n",
       "      <th>compound</th>\n",
       "    </tr>\n",
       "  </thead>\n",
       "  <tbody>\n",
       "    <tr>\n",
       "      <th>77</th>\n",
       "      <td>it would be a little bit more authentic but was sadly disappointed</td>\n",
       "      <td>-0.8338</td>\n",
       "    </tr>\n",
       "    <tr>\n",
       "      <th>41</th>\n",
       "      <td>we got an authentic french waiter but the poor thing was</td>\n",
       "      <td>-0.6310</td>\n",
       "    </tr>\n",
       "    <tr>\n",
       "      <th>44</th>\n",
       "      <td>give you homemade bread which is very authentic unfortunately i didn't eat much of it</td>\n",
       "      <td>-0.3976</td>\n",
       "    </tr>\n",
       "    <tr>\n",
       "      <th>94</th>\n",
       "      <td>hostesses aren't french they certainly have that authentic french snooty attitude</td>\n",
       "      <td>-0.2584</td>\n",
       "    </tr>\n",
       "    <tr>\n",
       "      <th>85</th>\n",
       "      <td>it's a great baguette not authentic but pretty close</td>\n",
       "      <td>-0.2244</td>\n",
       "    </tr>\n",
       "  </tbody>\n",
       "</table>\n",
       "</div>"
      ],
      "text/plain": [
       "                                                                                     text  \\\n",
       "77                     it would be a little bit more authentic but was sadly disappointed   \n",
       "41                               we got an authentic french waiter but the poor thing was   \n",
       "44  give you homemade bread which is very authentic unfortunately i didn't eat much of it   \n",
       "94      hostesses aren't french they certainly have that authentic french snooty attitude   \n",
       "85                                   it's a great baguette not authentic but pretty close   \n",
       "\n",
       "    compound  \n",
       "77   -0.8338  \n",
       "41   -0.6310  \n",
       "44   -0.3976  \n",
       "94   -0.2584  \n",
       "85   -0.2244  "
      ]
     },
     "execution_count": 158,
     "metadata": {},
     "output_type": "execute_result"
    }
   ],
   "source": [
    "authenticity_df.nsmallest(5, 'compound')"
   ]
  },
  {
   "cell_type": "markdown",
   "metadata": {},
   "source": [
    "Certain features are likely subject to bias. Reviews are more likely to write negatively about service and cleanliness.\n"
   ]
  },
  {
   "cell_type": "code",
   "execution_count": 131,
   "metadata": {},
   "outputs": [],
   "source": [
    "sentiment_df.to_csv('../data/predictions/features_sentiment.csv', index=False)"
   ]
  },
  {
   "cell_type": "markdown",
   "metadata": {},
   "source": [
    "### Predictions after dropping `compound=0`\n",
    "I am treating chunks with `compound=0` as reviews with no opinion."
   ]
  },
  {
   "cell_type": "code",
   "execution_count": 134,
   "metadata": {},
   "outputs": [],
   "source": [
    "features_sentiments2 = {}\n",
    "\n",
    "for feature_id, chunks in features_chunks2.items():\n",
    "    # Run sentiment analyzer if item has chunks, otherwise default to 0\n",
    "    if len(chunks) > 0:\n",
    "        sentiment_score = get_sentiments(chunks)['compound']\n",
    "        features_sentiments2[feature_id] = sentiment_score[sentiment_score != 0].mean()\n",
    "    else:\n",
    "        features_sentiments2[feature_id] = np.nan"
   ]
  },
  {
   "cell_type": "code",
   "execution_count": 135,
   "metadata": {},
   "outputs": [],
   "source": [
    "sentiment_df2 = pd.DataFrame(list(zip(features_sentiments2.keys(), features_sentiments2.values())), columns = ['feature_id', 'sentiment_score'])\n"
   ]
  },
  {
   "cell_type": "code",
   "execution_count": 137,
   "metadata": {},
   "outputs": [],
   "source": [
    "sentiment_df2['stars_pred'] = sentiment_df2['sentiment_score'].apply(lambda score : transform_to_stars(score))\n",
    "sentiment_df2['mentions'] = sentiment_df2['feature_id'].apply(lambda feature_id : len(features_chunks[feature_id]))"
   ]
  },
  {
   "cell_type": "code",
   "execution_count": 138,
   "metadata": {},
   "outputs": [],
   "source": [
    "sentiment_df2.to_csv('../data/predictions/features_sentiment_subjective.csv', index=False)"
   ]
  },
  {
   "cell_type": "code",
   "execution_count": 143,
   "metadata": {},
   "outputs": [
    {
     "data": {
      "text/html": [
       "<div>\n",
       "<style scoped>\n",
       "    .dataframe tbody tr th:only-of-type {\n",
       "        vertical-align: middle;\n",
       "    }\n",
       "\n",
       "    .dataframe tbody tr th {\n",
       "        vertical-align: top;\n",
       "    }\n",
       "\n",
       "    .dataframe thead th {\n",
       "        text-align: right;\n",
       "    }\n",
       "</style>\n",
       "<table border=\"1\" class=\"dataframe\">\n",
       "  <thead>\n",
       "    <tr style=\"text-align: right;\">\n",
       "      <th></th>\n",
       "      <th>feature_id</th>\n",
       "      <th>sentiment_score</th>\n",
       "      <th>stars_pred</th>\n",
       "      <th>mentions</th>\n",
       "    </tr>\n",
       "  </thead>\n",
       "  <tbody>\n",
       "    <tr>\n",
       "      <th>0</th>\n",
       "      <td>food</td>\n",
       "      <td>0.512972</td>\n",
       "      <td>5.0</td>\n",
       "      <td>10875</td>\n",
       "    </tr>\n",
       "    <tr>\n",
       "      <th>1</th>\n",
       "      <td>service</td>\n",
       "      <td>0.433615</td>\n",
       "      <td>4.0</td>\n",
       "      <td>6995</td>\n",
       "    </tr>\n",
       "    <tr>\n",
       "      <th>2</th>\n",
       "      <td>cleanliness</td>\n",
       "      <td>0.185539</td>\n",
       "      <td>1.0</td>\n",
       "      <td>100</td>\n",
       "    </tr>\n",
       "    <tr>\n",
       "      <th>3</th>\n",
       "      <td>ambiance</td>\n",
       "      <td>0.575814</td>\n",
       "      <td>5.0</td>\n",
       "      <td>3285</td>\n",
       "    </tr>\n",
       "    <tr>\n",
       "      <th>4</th>\n",
       "      <td>authenticity</td>\n",
       "      <td>0.396061</td>\n",
       "      <td>3.5</td>\n",
       "      <td>97</td>\n",
       "    </tr>\n",
       "    <tr>\n",
       "      <th>5</th>\n",
       "      <td>portion_size</td>\n",
       "      <td>0.488959</td>\n",
       "      <td>4.5</td>\n",
       "      <td>295</td>\n",
       "    </tr>\n",
       "  </tbody>\n",
       "</table>\n",
       "</div>"
      ],
      "text/plain": [
       "     feature_id  sentiment_score  stars_pred  mentions\n",
       "0          food         0.512972         5.0     10875\n",
       "1       service         0.433615         4.0      6995\n",
       "2   cleanliness         0.185539         1.0       100\n",
       "3      ambiance         0.575814         5.0      3285\n",
       "4  authenticity         0.396061         3.5        97\n",
       "5  portion_size         0.488959         4.5       295"
      ]
     },
     "execution_count": 143,
     "metadata": {},
     "output_type": "execute_result"
    }
   ],
   "source": [
    "sentiment_df2"
   ]
  },
  {
   "cell_type": "code",
   "execution_count": null,
   "metadata": {},
   "outputs": [],
   "source": []
  },
  {
   "cell_type": "code",
   "execution_count": null,
   "metadata": {},
   "outputs": [],
   "source": []
  }
 ],
 "metadata": {
  "kernelspec": {
   "display_name": "Python [default]",
   "language": "python",
   "name": "python3"
  },
  "language_info": {
   "codemirror_mode": {
    "name": "ipython",
    "version": 3
   },
   "file_extension": ".py",
   "mimetype": "text/x-python",
   "name": "python",
   "nbconvert_exporter": "python",
   "pygments_lexer": "ipython3",
   "version": "3.6.5"
  }
 },
 "nbformat": 4,
 "nbformat_minor": 2
}
