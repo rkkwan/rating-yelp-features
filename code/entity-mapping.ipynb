{
 "cells": [
  {
   "cell_type": "markdown",
   "metadata": {},
   "source": [
    "# Entity Mapping\n",
    "\n",
    "For each entity of interest, I made a list of as many possible words/phrases that a reviewer would write that refers to the entity. For example, for the entity `onion soup au gratin`, reviewers could write `onion soup au gratin`, `french onion soup`, or `onion soup`. This is a non-exhaustive list.\n",
    "\n",
    "I am pickling the dataframes since lists do not load well from csv."
   ]
  },
  {
   "cell_type": "markdown",
   "metadata": {},
   "source": [
    "### Import Libraries"
   ]
  },
  {
   "cell_type": "code",
   "execution_count": 3,
   "metadata": {},
   "outputs": [],
   "source": [
    "import pandas as pd\n",
    "import pickle"
   ]
  },
  {
   "cell_type": "markdown",
   "metadata": {},
   "source": [
    "### Menu: "
   ]
  },
  {
   "cell_type": "code",
   "execution_count": 4,
   "metadata": {},
   "outputs": [],
   "source": [
    "menu = {\n",
    "    'onion soup au gratin' : ['french onion soup', 'onion soup', 'french onion', 'au gratin'],\n",
    "    'steamed artichoke' : ['steamed artichoke'],\n",
    "#     'wild escargot de bourgogne' : ['wild escargot de bourgogne', 'escargot', 'wild escargot', 'bourgogne'],\n",
    "    'smoked salmon' : ['smoked salmon'],\n",
    "    'baked goat cheese' : ['goat cheese'],\n",
    "    'duck confit' : ['duck confit'],\n",
    "    'country pate' : ['country pate'],\n",
    "    'chicken liver mousse pate' : ['chicken liver mousse pate', 'chicken liver', 'mousse pate'],\n",
    "    'steak tartare' : ['steak tartare'],\n",
    "#     'charcuterie and cheese platter' : ['charcuterie and cheese platter', 'charcuterie', 'cheese platter'],\n",
    "    'chilled seafood platter' : ['chilled seafood', 'seafood platter'],\n",
    "    'spicy salmon tartare' : ['spicy salmon', 'salmon tartare'],\n",
    "    'oysters du jour' : ['oysters du jour'],\n",
    "    'shrimp cocktail' : ['shrimp cocktail'],\n",
    "    'scallops gratinees' : ['scallops gratinees', 'scallops'],\n",
    "    'mussels mariniere' : ['mussels mariniere', 'mussels', 'mariniere'],\n",
    "    'gabis fish and frites' : ['gabi\\'s fish and frites', 'fish & frites', 'gabi\\'s fish'],\n",
    "    'plats du jour' : ['plats du jour'],\n",
    "    'poisson du jour' : ['poisson du jour'],\n",
    "    'arugula salad' : ['arugula salad', 'arugula'],\n",
    "    'endive salad' : ['endive salad'],\n",
    "#     'frisee, kale warm bacon salad' : ['frisee', 'kale warm bacon salad', 'bacon salad'],\n",
    "    'caesar salad' : ['caesar salad'],\n",
    "    'root vegetable salad' : ['root vegetable salad'],\n",
    "#     'salmon, spinach and baby kale' : ['salmon, spinach, & baby kale', 'salmon, spinach and baby kale', 'salmon, spinach'],\n",
    "    'classique' : ['classique'],\n",
    "    'au poivre' : ['au poivre'],\n",
    "    'bordelaise' : ['bordelaise'],\n",
    "    'roquefort' : ['roquefort'],\n",
    "    'bearnaise' : ['bearnaise'],\n",
    "    'prime steak frites' : ['prime steak frites', 'steak frites'],\n",
    "    'croque madame sandwich' : ['croque madame sandwich', 'croque madame'],\n",
    "    'cheeseburger' : ['cheeseburger', 'cheese burger'],\n",
    "#     'truffle and brie burger' : ['truffle & brie burger', 'truffle and brie burger', 'brie burger', 'truffle burger'],\n",
    "    'hanger steak' : ['hanger steak', 'hanger'],\n",
    "    'filet mignon' : ['filet mignon', 'mignon'],\n",
    "    'filet mignon au poivre' : ['filet mignon au poivre'],\n",
    "    'new york strip' : ['new york strip'],\n",
    "#     'tournedos of beef' : ['tournedos of beef', 'tournedos'],\n",
    "    'bone in ribeye' : ['bone in ribeye'],\n",
    "    'trout almondine' : ['trout almondine', 'trout', 'almondine'],\n",
    "    'salmon' : ['salmon'],\n",
    "    'classic skate wing' : ['skate wing'],\n",
    "    'casareccia pasta' : ['casareccia pasta', 'casareccia'],\n",
    "#     'chicken grand mere' : ['chicken grand-mere', 'grand-mere', 'grand mere'],\n",
    "    'beef bourguignon' : ['beef bourguignon', 'bourguignon'],\n",
    "    'pommes puree' : ['pommes puree', 'pommes'],\n",
    "    'frites' : ['frites', 'fries'],\n",
    "    'cauliflower puree' : ['cauliflower puree', 'cauliflower'],\n",
    "    'brussels sprouts' : ['brussels sprouts', 'brussel sprouts', 'brussel'],\n",
    "    'french green beans' : ['french green beans', 'green beans'],\n",
    "    'garlic spinach' : ['garlic spinach'],\n",
    "    'sauteed mushrooms' : ['sauteed mushroom'],\n",
    "    'macaroni gratin' : ['macaroni gratin', 'macaroni'],\n",
    "#     'omelette lorraine' : ['omelette lorraine'],\n",
    "    'omelette' : ['omelette'],\n",
    "    'egg white omelette' : ['egg white omelette', 'egg white'],\n",
    "    'classic eggs benedict' : ['classic eggs benedict', 'eggs benedict', 'classic eggs'],\n",
    "    'artichoke and spinach benedict' : [],\n",
    "    'salmon and hash brown benedict' : [],\n",
    "#     'steak n eggs your way' : ['steak and eggs', 'steak n eggs', 'steak n\\' eggs'],\n",
    "#     'fruit and berry coupe' : ['fruit & berry coupe', 'berry coupe', 'coupe'],\n",
    "    'french toast' : ['french toast'],\n",
    "    'avocado toast' : ['avocado toast'],\n",
    "#     'warm chicken and brie' : ['warm chicken', 'chicken & brie', 'chicken and brie'],\n",
    "    'croque monsieur' : ['croque monsieur', 'monsieur'],\n",
    "    'prime steak sandwich' : ['prime steak sandwich', 'steak sandwich'],\n",
    "    'cubano' : ['cubano'],\n",
    "#     'maine lobster roll' : ['maine lobster roll', 'lobster roll', 'maine lobster'],\n",
    "    'waffle' : ['waffle'],        \n",
    "#     'chocolate waffle' : ['chocolate waffle', 'waffle'],\n",
    "    'banana foster waffle' : ['banana foster', 'bananas foster'],\n",
    "    'ham and cheese crepe' : ['ham and cheese crepe', 'cheese crepe'],\n",
    "#     'chicken and mushroom crepe' : ['chicken and mushroom crepe', 'mushroom crepe', 'chicken crepe'],\n",
    "    'seafood crepe' : ['seafood crepe'],\n",
    "    'quiche lorraine' : ['quiche lorraine'],\n",
    "#     'bacon, brie cheese and butternut squash quiche' : ['butternut squash quiche'],\n",
    "    'quiche' : ['quiche'],\n",
    "    'housemade brioche' : ['housemade brioche', 'brioche'],\n",
    "    'gluten free toast' : ['gluten-free toast'],\n",
    "#     'housemade pork sausage patties' : ['housemade pork sausage patties', 'sausage patties'],\n",
    "    'applewood smoked bacon' : ['applewood smoked bacon', 'applewood smoked'],\n",
    "    'sauteed trout' : ['sauteed trout'],\n",
    "    'hash browns' : ['hash browns'],\n",
    "    'housemade english muffin' : ['housemade english muffin', 'english muffin'],\n",
    "    'chocolate mousse' : ['chocolate mousse'],\n",
    "    'vanilla bean creme brulee' : ['vanilla bean creme brulee', 'vanilla creme brulee', 'creme brulee'],\n",
    "    'sorbet du jour' : ['sorbet du jour', 'sorbet'],\n",
    "    'gala apple tarte tatin' : ['gala apple tarte tatin', 'apple tart', 'tart tatin', 'tarte tatin'],\n",
    "    'maple bread pudding' : ['maple bread pudding', 'bread pudding'],\n",
    "#     'salted chocolate caramel tart' : ['salted chocolate caramel tart', 'caramel tart', 'carmel tart']\n",
    "}"
   ]
  },
  {
   "cell_type": "code",
   "execution_count": 5,
   "metadata": {},
   "outputs": [],
   "source": [
    "menu_df = pd.DataFrame([{'name' : item, 'variations' : variations} for item, variations in menu.items()])\n",
    "menu_df['id'] = menu_df['name'].apply(lambda x : x.replace(' ', '_')\n",
    "                                                      .replace(',', ''))\n",
    "\n",
    "menu_df = menu_df[['id', 'name', 'variations']]\n"
   ]
  },
  {
   "cell_type": "code",
   "execution_count": 6,
   "metadata": {},
   "outputs": [
    {
     "data": {
      "text/html": [
       "<div>\n",
       "<style scoped>\n",
       "    .dataframe tbody tr th:only-of-type {\n",
       "        vertical-align: middle;\n",
       "    }\n",
       "\n",
       "    .dataframe tbody tr th {\n",
       "        vertical-align: top;\n",
       "    }\n",
       "\n",
       "    .dataframe thead th {\n",
       "        text-align: right;\n",
       "    }\n",
       "</style>\n",
       "<table border=\"1\" class=\"dataframe\">\n",
       "  <thead>\n",
       "    <tr style=\"text-align: right;\">\n",
       "      <th></th>\n",
       "      <th>id</th>\n",
       "      <th>name</th>\n",
       "      <th>variations</th>\n",
       "    </tr>\n",
       "  </thead>\n",
       "  <tbody>\n",
       "    <tr>\n",
       "      <th>0</th>\n",
       "      <td>onion_soup_au_gratin</td>\n",
       "      <td>onion soup au gratin</td>\n",
       "      <td>[french onion soup, onion soup, french onion, ...</td>\n",
       "    </tr>\n",
       "    <tr>\n",
       "      <th>1</th>\n",
       "      <td>steamed_artichoke</td>\n",
       "      <td>steamed artichoke</td>\n",
       "      <td>[steamed artichoke]</td>\n",
       "    </tr>\n",
       "    <tr>\n",
       "      <th>2</th>\n",
       "      <td>smoked_salmon</td>\n",
       "      <td>smoked salmon</td>\n",
       "      <td>[smoked salmon]</td>\n",
       "    </tr>\n",
       "    <tr>\n",
       "      <th>3</th>\n",
       "      <td>baked_goat_cheese</td>\n",
       "      <td>baked goat cheese</td>\n",
       "      <td>[goat cheese]</td>\n",
       "    </tr>\n",
       "    <tr>\n",
       "      <th>4</th>\n",
       "      <td>duck_confit</td>\n",
       "      <td>duck confit</td>\n",
       "      <td>[duck confit]</td>\n",
       "    </tr>\n",
       "  </tbody>\n",
       "</table>\n",
       "</div>"
      ],
      "text/plain": [
       "                     id                  name  \\\n",
       "0  onion_soup_au_gratin  onion soup au gratin   \n",
       "1     steamed_artichoke     steamed artichoke   \n",
       "2         smoked_salmon         smoked salmon   \n",
       "3     baked_goat_cheese     baked goat cheese   \n",
       "4           duck_confit           duck confit   \n",
       "\n",
       "                                          variations  \n",
       "0  [french onion soup, onion soup, french onion, ...  \n",
       "1                                [steamed artichoke]  \n",
       "2                                    [smoked salmon]  \n",
       "3                                      [goat cheese]  \n",
       "4                                      [duck confit]  "
      ]
     },
     "execution_count": 6,
     "metadata": {},
     "output_type": "execute_result"
    }
   ],
   "source": [
    "menu_df.head()"
   ]
  },
  {
   "cell_type": "code",
   "execution_count": 7,
   "metadata": {},
   "outputs": [
    {
     "data": {
      "text/plain": [
       "(74, 3)"
      ]
     },
     "execution_count": 7,
     "metadata": {},
     "output_type": "execute_result"
    }
   ],
   "source": [
    "menu_df.shape"
   ]
  },
  {
   "cell_type": "code",
   "execution_count": 8,
   "metadata": {},
   "outputs": [],
   "source": [
    "menu_df.to_csv('../data/interim/mon_ami_gabi_menu.csv', index = False)"
   ]
  },
  {
   "cell_type": "code",
   "execution_count": 9,
   "metadata": {},
   "outputs": [],
   "source": [
    "pickle.dump(menu_df, open('../data/interim/mon_ami_gabi_menu.pk', 'wb'))"
   ]
  },
  {
   "cell_type": "markdown",
   "metadata": {},
   "source": [
    "### Key Features"
   ]
  },
  {
   "cell_type": "code",
   "execution_count": 25,
   "metadata": {},
   "outputs": [],
   "source": [
    "features = {\n",
    "    'food'         : ['food', 'meal', 'flavor', 'tast', 'delicious', \n",
    "                      'gross', 'disgusting', 'seasoned', 'perfection',\n",
    "                      'amazing', 'cold'],\n",
    "    'service'      : ['service', 'waiter', 'waitress', 'server', 'manager', \n",
    "                      'management', 'staff', 'polite', 'rude', 'slow', 'fast'],\n",
    "    'cleanliness'  : ['clean', 'dirty', 'dusty'],\n",
    "    'ambiance'     : ['ambiance', ' view', 'chic', 'atmosphere'],\n",
    "    'authenticity' : ['authentic'],\n",
    "    'portion_size' : ['portion'],\n",
    "}"
   ]
  },
  {
   "cell_type": "code",
   "execution_count": 26,
   "metadata": {},
   "outputs": [
    {
     "data": {
      "text/html": [
       "<div>\n",
       "<style scoped>\n",
       "    .dataframe tbody tr th:only-of-type {\n",
       "        vertical-align: middle;\n",
       "    }\n",
       "\n",
       "    .dataframe tbody tr th {\n",
       "        vertical-align: top;\n",
       "    }\n",
       "\n",
       "    .dataframe thead th {\n",
       "        text-align: right;\n",
       "    }\n",
       "</style>\n",
       "<table border=\"1\" class=\"dataframe\">\n",
       "  <thead>\n",
       "    <tr style=\"text-align: right;\">\n",
       "      <th></th>\n",
       "      <th>id</th>\n",
       "      <th>name</th>\n",
       "      <th>variations</th>\n",
       "    </tr>\n",
       "  </thead>\n",
       "  <tbody>\n",
       "    <tr>\n",
       "      <th>0</th>\n",
       "      <td>food</td>\n",
       "      <td>food</td>\n",
       "      <td>[food, meal, flavor, tast, delicious, gross, d...</td>\n",
       "    </tr>\n",
       "    <tr>\n",
       "      <th>1</th>\n",
       "      <td>service</td>\n",
       "      <td>service</td>\n",
       "      <td>[service, waiter, waitress, server, manager, m...</td>\n",
       "    </tr>\n",
       "    <tr>\n",
       "      <th>2</th>\n",
       "      <td>cleanliness</td>\n",
       "      <td>cleanliness</td>\n",
       "      <td>[clean, dirty, dusty]</td>\n",
       "    </tr>\n",
       "    <tr>\n",
       "      <th>3</th>\n",
       "      <td>ambiance</td>\n",
       "      <td>ambiance</td>\n",
       "      <td>[ambiance,  view, chic, atmosphere]</td>\n",
       "    </tr>\n",
       "    <tr>\n",
       "      <th>4</th>\n",
       "      <td>authenticity</td>\n",
       "      <td>authenticity</td>\n",
       "      <td>[authentic]</td>\n",
       "    </tr>\n",
       "    <tr>\n",
       "      <th>5</th>\n",
       "      <td>portion_size</td>\n",
       "      <td>portion_size</td>\n",
       "      <td>[portion]</td>\n",
       "    </tr>\n",
       "  </tbody>\n",
       "</table>\n",
       "</div>"
      ],
      "text/plain": [
       "             id          name  \\\n",
       "0          food          food   \n",
       "1       service       service   \n",
       "2   cleanliness   cleanliness   \n",
       "3      ambiance      ambiance   \n",
       "4  authenticity  authenticity   \n",
       "5  portion_size  portion_size   \n",
       "\n",
       "                                          variations  \n",
       "0  [food, meal, flavor, tast, delicious, gross, d...  \n",
       "1  [service, waiter, waitress, server, manager, m...  \n",
       "2                              [clean, dirty, dusty]  \n",
       "3                [ambiance,  view, chic, atmosphere]  \n",
       "4                                        [authentic]  \n",
       "5                                          [portion]  "
      ]
     },
     "execution_count": 26,
     "metadata": {},
     "output_type": "execute_result"
    }
   ],
   "source": [
    "features_df = pd.DataFrame([{'name' : item, 'variations' : variations} for item, variations in features.items()])\n",
    "features_df['id'] = features_df['name'].apply(lambda x : x.replace(' ', '_')\n",
    "                                                      .replace(',', ''))\n",
    "\n",
    "features_df = features_df[['id', 'name', 'variations']]\n",
    "features_df"
   ]
  },
  {
   "cell_type": "code",
   "execution_count": 27,
   "metadata": {},
   "outputs": [],
   "source": [
    "features_df.to_csv('../data/interim/key_features.csv', index = False)"
   ]
  },
  {
   "cell_type": "code",
   "execution_count": 28,
   "metadata": {},
   "outputs": [],
   "source": [
    "pickle.dump(features_df, open('../data/interim/key_features.pk', 'wb'))"
   ]
  },
  {
   "cell_type": "code",
   "execution_count": null,
   "metadata": {},
   "outputs": [],
   "source": []
  }
 ],
 "metadata": {
  "kernelspec": {
   "display_name": "Python [default]",
   "language": "python",
   "name": "python3"
  },
  "language_info": {
   "codemirror_mode": {
    "name": "ipython",
    "version": 3
   },
   "file_extension": ".py",
   "mimetype": "text/x-python",
   "name": "python",
   "nbconvert_exporter": "python",
   "pygments_lexer": "ipython3",
   "version": "3.6.5"
  }
 },
 "nbformat": 4,
 "nbformat_minor": 2
}
