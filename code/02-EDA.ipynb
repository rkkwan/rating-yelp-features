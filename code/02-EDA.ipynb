{
 "cells": [
  {
   "cell_type": "markdown",
   "metadata": {},
   "source": [
    "# EDA"
   ]
  },
  {
   "cell_type": "markdown",
   "metadata": {},
   "source": [
    "## Table of Contents\n",
    "1. [The Most Reviewed Restaurants](#The-most-reviewed-restaurants)\n",
    "2. [The highest and lowest rated restaurants with over 1000 reviews](#The-highest-and-lowest-rated-restaurants-with-over-1000-reviews)"
   ]
  },
  {
   "cell_type": "markdown",
   "metadata": {},
   "source": [
    "### Import Libraries"
   ]
  },
  {
   "cell_type": "code",
   "execution_count": 1,
   "metadata": {},
   "outputs": [],
   "source": [
    "import pandas as pd\n",
    "import csv\n",
    "import os\n",
    "import numpy as np\n",
    "import matplotlib.pyplot as plt\n",
    "from nltk.sentiment.vader import SentimentIntensityAnalyzer\n",
    "import time"
   ]
  },
  {
   "cell_type": "markdown",
   "metadata": {},
   "source": [
    "### Set Filepaths"
   ]
  },
  {
   "cell_type": "code",
   "execution_count": 2,
   "metadata": {},
   "outputs": [],
   "source": [
    "raw_data_directory     = os.path.join('..', 'data', 'raw')\n",
    "interim_data_directory = os.path.join('..', 'data', 'interim')\n",
    "\n",
    "review_filepath            = os.path.join(raw_data_directory, 'yelp_academic_dataset_review.csv')\n",
    "business_filepath          = os.path.join(raw_data_directory, 'yelp_academic_dataset_business.csv')\n",
    "restaurant_review_filepath = os.path.join(interim_data_directory, 'restaurant_review.csv')"
   ]
  },
  {
   "cell_type": "markdown",
   "metadata": {},
   "source": [
    "### Load Data"
   ]
  },
  {
   "cell_type": "code",
   "execution_count": 3,
   "metadata": {},
   "outputs": [
    {
     "name": "stdout",
     "output_type": "stream",
     "text": [
      "CPU times: user 26 s, sys: 4.51 s, total: 30.5 s\n",
      "Wall time: 31.4 s\n"
     ]
    }
   ],
   "source": [
    "%%time\n",
    "review_df = pd.read_csv('../data/interim/restaurant_review.csv')"
   ]
  },
  {
   "cell_type": "code",
   "execution_count": 4,
   "metadata": {},
   "outputs": [
    {
     "data": {
      "text/html": [
       "<div>\n",
       "<style scoped>\n",
       "    .dataframe tbody tr th:only-of-type {\n",
       "        vertical-align: middle;\n",
       "    }\n",
       "\n",
       "    .dataframe tbody tr th {\n",
       "        vertical-align: top;\n",
       "    }\n",
       "\n",
       "    .dataframe thead th {\n",
       "        text-align: right;\n",
       "    }\n",
       "</style>\n",
       "<table border=\"1\" class=\"dataframe\">\n",
       "  <thead>\n",
       "    <tr style=\"text-align: right;\">\n",
       "      <th></th>\n",
       "      <th>date</th>\n",
       "      <th>stars</th>\n",
       "      <th>text</th>\n",
       "      <th>review_id</th>\n",
       "      <th>business_id</th>\n",
       "      <th>business_name</th>\n",
       "    </tr>\n",
       "  </thead>\n",
       "  <tbody>\n",
       "    <tr>\n",
       "      <th>0</th>\n",
       "      <td>2011-02-25</td>\n",
       "      <td>2</td>\n",
       "      <td>The pizza was okay. Not the best I've had. I p...</td>\n",
       "      <td>x7mDIiDB3jEiPGPHOmDzyw</td>\n",
       "      <td>iCQpiavjjPzJ5_3gPD5Ebg</td>\n",
       "      <td>Secret Pizza</td>\n",
       "    </tr>\n",
       "    <tr>\n",
       "      <th>1</th>\n",
       "      <td>2012-11-13</td>\n",
       "      <td>5</td>\n",
       "      <td>I love this place! My fiance And I go here atl...</td>\n",
       "      <td>dDl8zu1vWPdKGihJrwQbpw</td>\n",
       "      <td>pomGBqfbxcqPv14c3XH-ZQ</td>\n",
       "      <td>Leticia's Mexican Cocina</td>\n",
       "    </tr>\n",
       "    <tr>\n",
       "      <th>2</th>\n",
       "      <td>2014-10-23</td>\n",
       "      <td>1</td>\n",
       "      <td>Terrible. Dry corn bread. Rib tips were all fa...</td>\n",
       "      <td>LZp4UX5zK3e-c5ZGSeo3kA</td>\n",
       "      <td>jtQARsP6P-LbkyjbO1qNGg</td>\n",
       "      <td>H&amp;H BBQ Plus 2</td>\n",
       "    </tr>\n",
       "    <tr>\n",
       "      <th>3</th>\n",
       "      <td>2011-02-25</td>\n",
       "      <td>2</td>\n",
       "      <td>Back in 2005-2007 this place was my FAVORITE t...</td>\n",
       "      <td>Er4NBWCmCD4nM8_p1GRdow</td>\n",
       "      <td>elqbBhBfElMNSrjFqW3now</td>\n",
       "      <td>Pin Kaow Thai Restaurant</td>\n",
       "    </tr>\n",
       "    <tr>\n",
       "      <th>4</th>\n",
       "      <td>2014-09-05</td>\n",
       "      <td>5</td>\n",
       "      <td>Delicious healthy food. The steak is amazing. ...</td>\n",
       "      <td>jsDu6QEJHbwP2Blom1PLCA</td>\n",
       "      <td>Ums3gaP2qM3W1XcA5r6SsQ</td>\n",
       "      <td>Braddah's Island Style</td>\n",
       "    </tr>\n",
       "  </tbody>\n",
       "</table>\n",
       "</div>"
      ],
      "text/plain": [
       "         date  stars                                               text  \\\n",
       "0  2011-02-25      2  The pizza was okay. Not the best I've had. I p...   \n",
       "1  2012-11-13      5  I love this place! My fiance And I go here atl...   \n",
       "2  2014-10-23      1  Terrible. Dry corn bread. Rib tips were all fa...   \n",
       "3  2011-02-25      2  Back in 2005-2007 this place was my FAVORITE t...   \n",
       "4  2014-09-05      5  Delicious healthy food. The steak is amazing. ...   \n",
       "\n",
       "                review_id             business_id             business_name  \n",
       "0  x7mDIiDB3jEiPGPHOmDzyw  iCQpiavjjPzJ5_3gPD5Ebg              Secret Pizza  \n",
       "1  dDl8zu1vWPdKGihJrwQbpw  pomGBqfbxcqPv14c3XH-ZQ  Leticia's Mexican Cocina  \n",
       "2  LZp4UX5zK3e-c5ZGSeo3kA  jtQARsP6P-LbkyjbO1qNGg            H&H BBQ Plus 2  \n",
       "3  Er4NBWCmCD4nM8_p1GRdow  elqbBhBfElMNSrjFqW3now  Pin Kaow Thai Restaurant  \n",
       "4  jsDu6QEJHbwP2Blom1PLCA  Ums3gaP2qM3W1XcA5r6SsQ    Braddah's Island Style  "
      ]
     },
     "execution_count": 4,
     "metadata": {},
     "output_type": "execute_result"
    }
   ],
   "source": [
    "review_df.head()"
   ]
  },
  {
   "cell_type": "code",
   "execution_count": 5,
   "metadata": {},
   "outputs": [
    {
     "name": "stdout",
     "output_type": "stream",
     "text": [
      "CPU times: user 225 ms, sys: 70.3 ms, total: 296 ms\n",
      "Wall time: 333 ms\n"
     ]
    }
   ],
   "source": [
    "%%time\n",
    "restaurant_df = pd.read_csv('../data/interim/restaurant.csv')"
   ]
  },
  {
   "cell_type": "code",
   "execution_count": 6,
   "metadata": {},
   "outputs": [
    {
     "data": {
      "text/plain": [
       "Index(['name', 'business_id', 'stars', 'review_count', 'categories',\n",
       "       'longitude', 'latitude', 'postal_code', 'city', 'state'],\n",
       "      dtype='object')"
      ]
     },
     "execution_count": 6,
     "metadata": {},
     "output_type": "execute_result"
    }
   ],
   "source": [
    "restaurant_df.columns"
   ]
  },
  {
   "cell_type": "code",
   "execution_count": 7,
   "metadata": {},
   "outputs": [
    {
     "data": {
      "text/html": [
       "<div>\n",
       "<style scoped>\n",
       "    .dataframe tbody tr th:only-of-type {\n",
       "        vertical-align: middle;\n",
       "    }\n",
       "\n",
       "    .dataframe tbody tr th {\n",
       "        vertical-align: top;\n",
       "    }\n",
       "\n",
       "    .dataframe thead th {\n",
       "        text-align: right;\n",
       "    }\n",
       "</style>\n",
       "<table border=\"1\" class=\"dataframe\">\n",
       "  <thead>\n",
       "    <tr style=\"text-align: right;\">\n",
       "      <th></th>\n",
       "      <th>name</th>\n",
       "      <th>business_id</th>\n",
       "      <th>stars</th>\n",
       "      <th>review_count</th>\n",
       "      <th>categories</th>\n",
       "      <th>longitude</th>\n",
       "      <th>latitude</th>\n",
       "      <th>postal_code</th>\n",
       "      <th>city</th>\n",
       "      <th>state</th>\n",
       "    </tr>\n",
       "  </thead>\n",
       "  <tbody>\n",
       "    <tr>\n",
       "      <th>0</th>\n",
       "      <td>Minhas Micro Brewery</td>\n",
       "      <td>Apn5Q_b6Nz61Tq4XzPdf9A</td>\n",
       "      <td>4.0</td>\n",
       "      <td>24</td>\n",
       "      <td>Tours, Breweries, Pizza, Restaurants, Food, Ho...</td>\n",
       "      <td>-114.031675</td>\n",
       "      <td>51.091813</td>\n",
       "      <td>T2E 6L6</td>\n",
       "      <td>Calgary</td>\n",
       "      <td>AB</td>\n",
       "    </tr>\n",
       "    <tr>\n",
       "      <th>1</th>\n",
       "      <td>CK'S BBQ &amp; Catering</td>\n",
       "      <td>AjEbIBw6ZFfln7ePHha9PA</td>\n",
       "      <td>4.5</td>\n",
       "      <td>3</td>\n",
       "      <td>Chicken Wings, Burgers, Caterers, Street Vendo...</td>\n",
       "      <td>-114.939821</td>\n",
       "      <td>35.960734</td>\n",
       "      <td>89002</td>\n",
       "      <td>Henderson</td>\n",
       "      <td>NV</td>\n",
       "    </tr>\n",
       "    <tr>\n",
       "      <th>2</th>\n",
       "      <td>La Bastringue</td>\n",
       "      <td>O8S5hYJ1SMc8fA4QBtVujA</td>\n",
       "      <td>4.0</td>\n",
       "      <td>5</td>\n",
       "      <td>Breakfast &amp; Brunch, Restaurants, French, Sandw...</td>\n",
       "      <td>-73.599300</td>\n",
       "      <td>45.540503</td>\n",
       "      <td>H2G 1K7</td>\n",
       "      <td>Montréal</td>\n",
       "      <td>QC</td>\n",
       "    </tr>\n",
       "    <tr>\n",
       "      <th>3</th>\n",
       "      <td>Thai One On</td>\n",
       "      <td>6OuOZAok8ikONMS_T3EzXg</td>\n",
       "      <td>2.0</td>\n",
       "      <td>7</td>\n",
       "      <td>Restaurants, Thai</td>\n",
       "      <td>-79.632763</td>\n",
       "      <td>43.712946</td>\n",
       "      <td>L4T 1A8</td>\n",
       "      <td>Mississauga</td>\n",
       "      <td>ON</td>\n",
       "    </tr>\n",
       "    <tr>\n",
       "      <th>4</th>\n",
       "      <td>Filiberto's Mexican Food</td>\n",
       "      <td>8-NRKkPY1UiFXW20WXKiXg</td>\n",
       "      <td>2.5</td>\n",
       "      <td>40</td>\n",
       "      <td>Mexican, Restaurants</td>\n",
       "      <td>-112.341302</td>\n",
       "      <td>33.448106</td>\n",
       "      <td>85323</td>\n",
       "      <td>Avondale</td>\n",
       "      <td>AZ</td>\n",
       "    </tr>\n",
       "  </tbody>\n",
       "</table>\n",
       "</div>"
      ],
      "text/plain": [
       "                       name             business_id  stars  review_count  \\\n",
       "0      Minhas Micro Brewery  Apn5Q_b6Nz61Tq4XzPdf9A    4.0            24   \n",
       "1       CK'S BBQ & Catering  AjEbIBw6ZFfln7ePHha9PA    4.5             3   \n",
       "2             La Bastringue  O8S5hYJ1SMc8fA4QBtVujA    4.0             5   \n",
       "3               Thai One On  6OuOZAok8ikONMS_T3EzXg    2.0             7   \n",
       "4  Filiberto's Mexican Food  8-NRKkPY1UiFXW20WXKiXg    2.5            40   \n",
       "\n",
       "                                          categories   longitude   latitude  \\\n",
       "0  Tours, Breweries, Pizza, Restaurants, Food, Ho... -114.031675  51.091813   \n",
       "1  Chicken Wings, Burgers, Caterers, Street Vendo... -114.939821  35.960734   \n",
       "2  Breakfast & Brunch, Restaurants, French, Sandw...  -73.599300  45.540503   \n",
       "3                                  Restaurants, Thai  -79.632763  43.712946   \n",
       "4                               Mexican, Restaurants -112.341302  33.448106   \n",
       "\n",
       "  postal_code         city state  \n",
       "0     T2E 6L6      Calgary    AB  \n",
       "1       89002    Henderson    NV  \n",
       "2     H2G 1K7     Montréal    QC  \n",
       "3     L4T 1A8  Mississauga    ON  \n",
       "4       85323     Avondale    AZ  "
      ]
     },
     "execution_count": 7,
     "metadata": {},
     "output_type": "execute_result"
    }
   ],
   "source": [
    "restaurant_df.head()"
   ]
  },
  {
   "cell_type": "code",
   "execution_count": 8,
   "metadata": {},
   "outputs": [
    {
     "data": {
      "text/plain": [
       "(57056, 10)"
      ]
     },
     "execution_count": 8,
     "metadata": {},
     "output_type": "execute_result"
    }
   ],
   "source": [
    "restaurant_df.shape"
   ]
  },
  {
   "cell_type": "markdown",
   "metadata": {},
   "source": [
    "### The most reviewed restaurants"
   ]
  },
  {
   "cell_type": "code",
   "execution_count": 9,
   "metadata": {
    "scrolled": false
   },
   "outputs": [
    {
     "data": {
      "text/html": [
       "<div>\n",
       "<style scoped>\n",
       "    .dataframe tbody tr th:only-of-type {\n",
       "        vertical-align: middle;\n",
       "    }\n",
       "\n",
       "    .dataframe tbody tr th {\n",
       "        vertical-align: top;\n",
       "    }\n",
       "\n",
       "    .dataframe thead th {\n",
       "        text-align: right;\n",
       "    }\n",
       "</style>\n",
       "<table border=\"1\" class=\"dataframe\">\n",
       "  <thead>\n",
       "    <tr style=\"text-align: right;\">\n",
       "      <th></th>\n",
       "      <th>name</th>\n",
       "      <th>business_id</th>\n",
       "      <th>stars</th>\n",
       "      <th>review_count</th>\n",
       "      <th>categories</th>\n",
       "      <th>longitude</th>\n",
       "      <th>latitude</th>\n",
       "      <th>postal_code</th>\n",
       "      <th>city</th>\n",
       "      <th>state</th>\n",
       "    </tr>\n",
       "  </thead>\n",
       "  <tbody>\n",
       "    <tr>\n",
       "      <th>42044</th>\n",
       "      <td>Mon Ami Gabi</td>\n",
       "      <td>4JNXUYY8wbaaDmk3BPzlWw</td>\n",
       "      <td>4.0</td>\n",
       "      <td>7968</td>\n",
       "      <td>Steakhouses, Breakfast &amp; Brunch, Restaurants, ...</td>\n",
       "      <td>-115.172581</td>\n",
       "      <td>36.112827</td>\n",
       "      <td>89109</td>\n",
       "      <td>Las Vegas</td>\n",
       "      <td>NV</td>\n",
       "    </tr>\n",
       "    <tr>\n",
       "      <th>56089</th>\n",
       "      <td>Bacchanal Buffet</td>\n",
       "      <td>RESDUcs7fIiihp38-d6_6g</td>\n",
       "      <td>4.0</td>\n",
       "      <td>7866</td>\n",
       "      <td>Sandwiches, Buffets, Breakfast &amp; Brunch, Food,...</td>\n",
       "      <td>-115.176222</td>\n",
       "      <td>36.116113</td>\n",
       "      <td>89109</td>\n",
       "      <td>Las Vegas</td>\n",
       "      <td>NV</td>\n",
       "    </tr>\n",
       "    <tr>\n",
       "      <th>19340</th>\n",
       "      <td>Wicked Spoon</td>\n",
       "      <td>K7lWdNUhCbcnEvI0NhGewg</td>\n",
       "      <td>3.5</td>\n",
       "      <td>6446</td>\n",
       "      <td>Buffets, Restaurants, Breakfast &amp; Brunch</td>\n",
       "      <td>-115.176155</td>\n",
       "      <td>36.109550</td>\n",
       "      <td>89109</td>\n",
       "      <td>Las Vegas</td>\n",
       "      <td>NV</td>\n",
       "    </tr>\n",
       "    <tr>\n",
       "      <th>56981</th>\n",
       "      <td>Gordon Ramsay BurGR</td>\n",
       "      <td>cYwJA2A6I12KNkm2rtXd5g</td>\n",
       "      <td>4.0</td>\n",
       "      <td>5472</td>\n",
       "      <td>Burgers, American (Traditional), Restaurants</td>\n",
       "      <td>-115.172169</td>\n",
       "      <td>36.110724</td>\n",
       "      <td>89109</td>\n",
       "      <td>Las Vegas</td>\n",
       "      <td>NV</td>\n",
       "    </tr>\n",
       "    <tr>\n",
       "      <th>51619</th>\n",
       "      <td>Hash House A Go Go</td>\n",
       "      <td>f4x1YBxkLrZg652xt2KR5g</td>\n",
       "      <td>4.0</td>\n",
       "      <td>5382</td>\n",
       "      <td>Breakfast &amp; Brunch, American (New), Restaurants</td>\n",
       "      <td>-115.171580</td>\n",
       "      <td>36.118181</td>\n",
       "      <td>89109</td>\n",
       "      <td>Las Vegas</td>\n",
       "      <td>NV</td>\n",
       "    </tr>\n",
       "  </tbody>\n",
       "</table>\n",
       "</div>"
      ],
      "text/plain": [
       "                      name             business_id  stars  review_count  \\\n",
       "42044         Mon Ami Gabi  4JNXUYY8wbaaDmk3BPzlWw    4.0          7968   \n",
       "56089     Bacchanal Buffet  RESDUcs7fIiihp38-d6_6g    4.0          7866   \n",
       "19340         Wicked Spoon  K7lWdNUhCbcnEvI0NhGewg    3.5          6446   \n",
       "56981  Gordon Ramsay BurGR  cYwJA2A6I12KNkm2rtXd5g    4.0          5472   \n",
       "51619   Hash House A Go Go  f4x1YBxkLrZg652xt2KR5g    4.0          5382   \n",
       "\n",
       "                                              categories   longitude  \\\n",
       "42044  Steakhouses, Breakfast & Brunch, Restaurants, ... -115.172581   \n",
       "56089  Sandwiches, Buffets, Breakfast & Brunch, Food,... -115.176222   \n",
       "19340           Buffets, Restaurants, Breakfast & Brunch -115.176155   \n",
       "56981       Burgers, American (Traditional), Restaurants -115.172169   \n",
       "51619    Breakfast & Brunch, American (New), Restaurants -115.171580   \n",
       "\n",
       "        latitude postal_code       city state  \n",
       "42044  36.112827       89109  Las Vegas    NV  \n",
       "56089  36.116113       89109  Las Vegas    NV  \n",
       "19340  36.109550       89109  Las Vegas    NV  \n",
       "56981  36.110724       89109  Las Vegas    NV  \n",
       "51619  36.118181       89109  Las Vegas    NV  "
      ]
     },
     "execution_count": 9,
     "metadata": {},
     "output_type": "execute_result"
    }
   ],
   "source": [
    "restaurant_df.nlargest(5, 'review_count')"
   ]
  },
  {
   "cell_type": "markdown",
   "metadata": {},
   "source": [
    "### Column size limit"
   ]
  },
  {
   "cell_type": "code",
   "execution_count": 24,
   "metadata": {},
   "outputs": [
    {
     "name": "stdout",
     "output_type": "stream",
     "text": [
      "date\t object\t 10\n",
      "stars\t int64\t 5\n",
      "text\t object\t 5000\n",
      "review_id\t object\t 22\n",
      "business_id\t object\t 22\n",
      "business_name\t object\t 64\n"
     ]
    }
   ],
   "source": [
    "for col in review_df:\n",
    "    if review_df[col].dtype == int:\n",
    "        print(f'{col}\\t {review_df[col].dtype}\\t {review_df[col].max()}')\n",
    "    else:\n",
    "        print(f'{col}\\t {review_df[col].dtype}\\t {review_df[col].map(len).max()}')    "
   ]
  },
  {
   "cell_type": "code",
   "execution_count": 7,
   "metadata": {},
   "outputs": [
    {
     "data": {
      "text/plain": [
       "5000"
      ]
     },
     "execution_count": 7,
     "metadata": {},
     "output_type": "execute_result"
    }
   ],
   "source": [
    "review_df['text'].map(len).max()"
   ]
  },
  {
   "cell_type": "markdown",
   "metadata": {},
   "source": [
    "### The highest and lowest rated restaurants with over 1000 reviews"
   ]
  },
  {
   "cell_type": "markdown",
   "metadata": {},
   "source": [
    "Highest Rated:"
   ]
  },
  {
   "cell_type": "code",
   "execution_count": 10,
   "metadata": {},
   "outputs": [
    {
     "data": {
      "text/html": [
       "<div>\n",
       "<style scoped>\n",
       "    .dataframe tbody tr th:only-of-type {\n",
       "        vertical-align: middle;\n",
       "    }\n",
       "\n",
       "    .dataframe tbody tr th {\n",
       "        vertical-align: top;\n",
       "    }\n",
       "\n",
       "    .dataframe thead th {\n",
       "        text-align: right;\n",
       "    }\n",
       "</style>\n",
       "<table border=\"1\" class=\"dataframe\">\n",
       "  <thead>\n",
       "    <tr style=\"text-align: right;\">\n",
       "      <th></th>\n",
       "      <th>name</th>\n",
       "      <th>business_id</th>\n",
       "      <th>stars</th>\n",
       "      <th>review_count</th>\n",
       "      <th>categories</th>\n",
       "      <th>longitude</th>\n",
       "      <th>latitude</th>\n",
       "      <th>postal_code</th>\n",
       "      <th>city</th>\n",
       "      <th>state</th>\n",
       "    </tr>\n",
       "  </thead>\n",
       "  <tbody>\n",
       "    <tr>\n",
       "      <th>53840</th>\n",
       "      <td>Earl of Sandwich</td>\n",
       "      <td>DkYS3arLOhA8si5uUEmHOw</td>\n",
       "      <td>4.5</td>\n",
       "      <td>4981</td>\n",
       "      <td>Sandwiches, Wraps, Food, Caterers, Restaurants...</td>\n",
       "      <td>-115.171869</td>\n",
       "      <td>36.109443</td>\n",
       "      <td>89109</td>\n",
       "      <td>Las Vegas</td>\n",
       "      <td>NV</td>\n",
       "    </tr>\n",
       "    <tr>\n",
       "      <th>29880</th>\n",
       "      <td>Gangnam Asian BBQ Dining</td>\n",
       "      <td>hihud--QRriCYZw1zZvW4g</td>\n",
       "      <td>4.5</td>\n",
       "      <td>3731</td>\n",
       "      <td>Asian Fusion, Barbeque, Korean, Japanese, Rest...</td>\n",
       "      <td>-115.151261</td>\n",
       "      <td>36.108898</td>\n",
       "      <td>89169</td>\n",
       "      <td>Las Vegas</td>\n",
       "      <td>NV</td>\n",
       "    </tr>\n",
       "    <tr>\n",
       "      <th>30152</th>\n",
       "      <td>Egg &amp; I</td>\n",
       "      <td>3kdSl5mo9dWC4clrQjEDGg</td>\n",
       "      <td>4.5</td>\n",
       "      <td>2909</td>\n",
       "      <td>Pizza, Breakfast &amp; Brunch, American (Tradition...</td>\n",
       "      <td>-115.202487</td>\n",
       "      <td>36.144085</td>\n",
       "      <td>89102</td>\n",
       "      <td>Las Vegas</td>\n",
       "      <td>NV</td>\n",
       "    </tr>\n",
       "    <tr>\n",
       "      <th>45354</th>\n",
       "      <td>Yardbird Southern Table &amp; Bar</td>\n",
       "      <td>faPVqws-x-5k2CQKDNtHxw</td>\n",
       "      <td>4.5</td>\n",
       "      <td>2887</td>\n",
       "      <td>Southern, Restaurants, American (New)</td>\n",
       "      <td>-115.170112</td>\n",
       "      <td>36.122328</td>\n",
       "      <td>89109</td>\n",
       "      <td>Las Vegas</td>\n",
       "      <td>NV</td>\n",
       "    </tr>\n",
       "    <tr>\n",
       "      <th>8827</th>\n",
       "      <td>Rollin Smoke Barbeque</td>\n",
       "      <td>fL-b760btOaGa85OJ9ut3w</td>\n",
       "      <td>4.5</td>\n",
       "      <td>2617</td>\n",
       "      <td>Barbeque, Burgers, Restaurants, Soul Food</td>\n",
       "      <td>-115.177096</td>\n",
       "      <td>36.132188</td>\n",
       "      <td>89109</td>\n",
       "      <td>Las Vegas</td>\n",
       "      <td>NV</td>\n",
       "    </tr>\n",
       "    <tr>\n",
       "      <th>45718</th>\n",
       "      <td>The Oyster Bar</td>\n",
       "      <td>awI4hHMfa7H0Xf0-ChU5hg</td>\n",
       "      <td>4.5</td>\n",
       "      <td>2313</td>\n",
       "      <td>Seafood, Nightlife, Bars, Restaurants</td>\n",
       "      <td>-115.174341</td>\n",
       "      <td>36.144205</td>\n",
       "      <td>89102</td>\n",
       "      <td>Las Vegas</td>\n",
       "      <td>NV</td>\n",
       "    </tr>\n",
       "    <tr>\n",
       "      <th>11761</th>\n",
       "      <td>Bobby Q</td>\n",
       "      <td>VyVIneSU7XAWgMBllI6LnQ</td>\n",
       "      <td>4.5</td>\n",
       "      <td>2267</td>\n",
       "      <td>Barbeque, Event Planning &amp; Services, Restauran...</td>\n",
       "      <td>-112.115747</td>\n",
       "      <td>33.561085</td>\n",
       "      <td>85051</td>\n",
       "      <td>Phoenix</td>\n",
       "      <td>AZ</td>\n",
       "    </tr>\n",
       "    <tr>\n",
       "      <th>56217</th>\n",
       "      <td>Joes Seafood Prime Steak &amp; Stone Crab</td>\n",
       "      <td>I6EDDi4-Eq_XlFghcDCUhw</td>\n",
       "      <td>4.5</td>\n",
       "      <td>2259</td>\n",
       "      <td>Steakhouses, Nightlife, Wine Bars, Bars, Resta...</td>\n",
       "      <td>-115.173752</td>\n",
       "      <td>36.118933</td>\n",
       "      <td>89109</td>\n",
       "      <td>Las Vegas</td>\n",
       "      <td>NV</td>\n",
       "    </tr>\n",
       "    <tr>\n",
       "      <th>50922</th>\n",
       "      <td>Echo &amp; Rig</td>\n",
       "      <td>igHYkXZMLAc9UdV5VnR_AA</td>\n",
       "      <td>4.5</td>\n",
       "      <td>2169</td>\n",
       "      <td>Food, Specialty Food, Meat Shops, Restaurants,...</td>\n",
       "      <td>-115.286232</td>\n",
       "      <td>36.166576</td>\n",
       "      <td>89145</td>\n",
       "      <td>Las Vegas</td>\n",
       "      <td>NV</td>\n",
       "    </tr>\n",
       "    <tr>\n",
       "      <th>37472</th>\n",
       "      <td>Four Peaks Brewing</td>\n",
       "      <td>JzOp695tclcNCNMuBl7oxA</td>\n",
       "      <td>4.5</td>\n",
       "      <td>2097</td>\n",
       "      <td>Bars, Sandwiches, Pizza, American (New), Night...</td>\n",
       "      <td>-111.916097</td>\n",
       "      <td>33.419568</td>\n",
       "      <td>85281</td>\n",
       "      <td>Tempe</td>\n",
       "      <td>AZ</td>\n",
       "    </tr>\n",
       "  </tbody>\n",
       "</table>\n",
       "</div>"
      ],
      "text/plain": [
       "                                        name             business_id  stars  \\\n",
       "53840                       Earl of Sandwich  DkYS3arLOhA8si5uUEmHOw    4.5   \n",
       "29880               Gangnam Asian BBQ Dining  hihud--QRriCYZw1zZvW4g    4.5   \n",
       "30152                                Egg & I  3kdSl5mo9dWC4clrQjEDGg    4.5   \n",
       "45354          Yardbird Southern Table & Bar  faPVqws-x-5k2CQKDNtHxw    4.5   \n",
       "8827                   Rollin Smoke Barbeque  fL-b760btOaGa85OJ9ut3w    4.5   \n",
       "45718                         The Oyster Bar  awI4hHMfa7H0Xf0-ChU5hg    4.5   \n",
       "11761                                Bobby Q  VyVIneSU7XAWgMBllI6LnQ    4.5   \n",
       "56217  Joes Seafood Prime Steak & Stone Crab  I6EDDi4-Eq_XlFghcDCUhw    4.5   \n",
       "50922                             Echo & Rig  igHYkXZMLAc9UdV5VnR_AA    4.5   \n",
       "37472                     Four Peaks Brewing  JzOp695tclcNCNMuBl7oxA    4.5   \n",
       "\n",
       "       review_count                                         categories  \\\n",
       "53840          4981  Sandwiches, Wraps, Food, Caterers, Restaurants...   \n",
       "29880          3731  Asian Fusion, Barbeque, Korean, Japanese, Rest...   \n",
       "30152          2909  Pizza, Breakfast & Brunch, American (Tradition...   \n",
       "45354          2887              Southern, Restaurants, American (New)   \n",
       "8827           2617          Barbeque, Burgers, Restaurants, Soul Food   \n",
       "45718          2313              Seafood, Nightlife, Bars, Restaurants   \n",
       "11761          2267  Barbeque, Event Planning & Services, Restauran...   \n",
       "56217          2259  Steakhouses, Nightlife, Wine Bars, Bars, Resta...   \n",
       "50922          2169  Food, Specialty Food, Meat Shops, Restaurants,...   \n",
       "37472          2097  Bars, Sandwiches, Pizza, American (New), Night...   \n",
       "\n",
       "        longitude   latitude postal_code       city state  \n",
       "53840 -115.171869  36.109443       89109  Las Vegas    NV  \n",
       "29880 -115.151261  36.108898       89169  Las Vegas    NV  \n",
       "30152 -115.202487  36.144085       89102  Las Vegas    NV  \n",
       "45354 -115.170112  36.122328       89109  Las Vegas    NV  \n",
       "8827  -115.177096  36.132188       89109  Las Vegas    NV  \n",
       "45718 -115.174341  36.144205       89102  Las Vegas    NV  \n",
       "11761 -112.115747  33.561085       85051    Phoenix    AZ  \n",
       "56217 -115.173752  36.118933       89109  Las Vegas    NV  \n",
       "50922 -115.286232  36.166576       89145  Las Vegas    NV  \n",
       "37472 -111.916097  33.419568       85281      Tempe    AZ  "
      ]
     },
     "execution_count": 10,
     "metadata": {},
     "output_type": "execute_result"
    }
   ],
   "source": [
    "restaurant_df[restaurant_df['review_count'] >= 1000].nlargest(10, ['stars', 'review_count'])"
   ]
  },
  {
   "cell_type": "code",
   "execution_count": 11,
   "metadata": {},
   "outputs": [
    {
     "data": {
      "text/html": [
       "<div>\n",
       "<style scoped>\n",
       "    .dataframe tbody tr th:only-of-type {\n",
       "        vertical-align: middle;\n",
       "    }\n",
       "\n",
       "    .dataframe tbody tr th {\n",
       "        vertical-align: top;\n",
       "    }\n",
       "\n",
       "    .dataframe thead th {\n",
       "        text-align: right;\n",
       "    }\n",
       "</style>\n",
       "<table border=\"1\" class=\"dataframe\">\n",
       "  <thead>\n",
       "    <tr style=\"text-align: right;\">\n",
       "      <th></th>\n",
       "      <th>name</th>\n",
       "      <th>business_id</th>\n",
       "      <th>stars</th>\n",
       "      <th>review_count</th>\n",
       "      <th>categories</th>\n",
       "      <th>longitude</th>\n",
       "      <th>latitude</th>\n",
       "      <th>postal_code</th>\n",
       "      <th>city</th>\n",
       "      <th>state</th>\n",
       "    </tr>\n",
       "  </thead>\n",
       "  <tbody>\n",
       "    <tr>\n",
       "      <th>39406</th>\n",
       "      <td>Brew Tea Bar</td>\n",
       "      <td>IhNASEZ3XnBHmuuVnWdIwA</td>\n",
       "      <td>5.0</td>\n",
       "      <td>1380</td>\n",
       "      <td>Cafes, Desserts, Tea Rooms, Bubble Tea, Food, ...</td>\n",
       "      <td>-115.242443</td>\n",
       "      <td>36.054195</td>\n",
       "      <td>89139</td>\n",
       "      <td>Las Vegas</td>\n",
       "      <td>NV</td>\n",
       "    </tr>\n",
       "    <tr>\n",
       "      <th>9589</th>\n",
       "      <td>Little Miss BBQ</td>\n",
       "      <td>Xg5qEQiB-7L6kGJ5F4K3bQ</td>\n",
       "      <td>5.0</td>\n",
       "      <td>1746</td>\n",
       "      <td>Barbeque, Restaurants</td>\n",
       "      <td>-111.989344</td>\n",
       "      <td>33.421877</td>\n",
       "      <td>85034</td>\n",
       "      <td>Phoenix</td>\n",
       "      <td>AZ</td>\n",
       "    </tr>\n",
       "    <tr>\n",
       "      <th>12842</th>\n",
       "      <td>Hwaro</td>\n",
       "      <td>GmdujALb1Nq2RHGr7jhCaA</td>\n",
       "      <td>4.5</td>\n",
       "      <td>1217</td>\n",
       "      <td>Buffets, Barbeque, Restaurants, Korean</td>\n",
       "      <td>-115.209860</td>\n",
       "      <td>36.127031</td>\n",
       "      <td>89146</td>\n",
       "      <td>Spring Valley</td>\n",
       "      <td>NV</td>\n",
       "    </tr>\n",
       "    <tr>\n",
       "      <th>51419</th>\n",
       "      <td>Carson Kitchen</td>\n",
       "      <td>2iTsRqUsPGRH1li1WVRvKQ</td>\n",
       "      <td>4.5</td>\n",
       "      <td>1819</td>\n",
       "      <td>American (New), Restaurants, Salad, Burgers, F...</td>\n",
       "      <td>-115.140640</td>\n",
       "      <td>36.167878</td>\n",
       "      <td>89101</td>\n",
       "      <td>Las Vegas</td>\n",
       "      <td>NV</td>\n",
       "    </tr>\n",
       "    <tr>\n",
       "      <th>17014</th>\n",
       "      <td>Juan's Flaming Fajitas &amp; Cantina</td>\n",
       "      <td>SVGApDPNdpFlEjwRQThCxA</td>\n",
       "      <td>4.5</td>\n",
       "      <td>1479</td>\n",
       "      <td>Restaurants, Bars, Nightlife, Mexican</td>\n",
       "      <td>-115.302689</td>\n",
       "      <td>36.100509</td>\n",
       "      <td>89147</td>\n",
       "      <td>Las Vegas</td>\n",
       "      <td>NV</td>\n",
       "    </tr>\n",
       "  </tbody>\n",
       "</table>\n",
       "</div>"
      ],
      "text/plain": [
       "                                   name             business_id  stars  \\\n",
       "39406                      Brew Tea Bar  IhNASEZ3XnBHmuuVnWdIwA    5.0   \n",
       "9589                    Little Miss BBQ  Xg5qEQiB-7L6kGJ5F4K3bQ    5.0   \n",
       "12842                             Hwaro  GmdujALb1Nq2RHGr7jhCaA    4.5   \n",
       "51419                    Carson Kitchen  2iTsRqUsPGRH1li1WVRvKQ    4.5   \n",
       "17014  Juan's Flaming Fajitas & Cantina  SVGApDPNdpFlEjwRQThCxA    4.5   \n",
       "\n",
       "       review_count                                         categories  \\\n",
       "39406          1380  Cafes, Desserts, Tea Rooms, Bubble Tea, Food, ...   \n",
       "9589           1746                              Barbeque, Restaurants   \n",
       "12842          1217             Buffets, Barbeque, Restaurants, Korean   \n",
       "51419          1819  American (New), Restaurants, Salad, Burgers, F...   \n",
       "17014          1479              Restaurants, Bars, Nightlife, Mexican   \n",
       "\n",
       "        longitude   latitude postal_code           city state  \n",
       "39406 -115.242443  36.054195       89139      Las Vegas    NV  \n",
       "9589  -111.989344  33.421877       85034        Phoenix    AZ  \n",
       "12842 -115.209860  36.127031       89146  Spring Valley    NV  \n",
       "51419 -115.140640  36.167878       89101      Las Vegas    NV  \n",
       "17014 -115.302689  36.100509       89147      Las Vegas    NV  "
      ]
     },
     "execution_count": 11,
     "metadata": {},
     "output_type": "execute_result"
    }
   ],
   "source": [
    "restaurant_df[restaurant_df['review_count'] >= 1000].sort_values(by = 'stars', ascending = False).head()"
   ]
  },
  {
   "cell_type": "markdown",
   "metadata": {},
   "source": [
    "Lowest Rated:"
   ]
  },
  {
   "cell_type": "code",
   "execution_count": 12,
   "metadata": {},
   "outputs": [
    {
     "data": {
      "text/html": [
       "<div>\n",
       "<style scoped>\n",
       "    .dataframe tbody tr th:only-of-type {\n",
       "        vertical-align: middle;\n",
       "    }\n",
       "\n",
       "    .dataframe tbody tr th {\n",
       "        vertical-align: top;\n",
       "    }\n",
       "\n",
       "    .dataframe thead th {\n",
       "        text-align: right;\n",
       "    }\n",
       "</style>\n",
       "<table border=\"1\" class=\"dataframe\">\n",
       "  <thead>\n",
       "    <tr style=\"text-align: right;\">\n",
       "      <th></th>\n",
       "      <th>name</th>\n",
       "      <th>business_id</th>\n",
       "      <th>stars</th>\n",
       "      <th>review_count</th>\n",
       "      <th>categories</th>\n",
       "      <th>longitude</th>\n",
       "      <th>latitude</th>\n",
       "      <th>postal_code</th>\n",
       "      <th>city</th>\n",
       "      <th>state</th>\n",
       "    </tr>\n",
       "  </thead>\n",
       "  <tbody>\n",
       "    <tr>\n",
       "      <th>56805</th>\n",
       "      <td>Hakkasan Nightclub</td>\n",
       "      <td>X8c23dur0ll2D9XTu-I8Qg</td>\n",
       "      <td>2.5</td>\n",
       "      <td>1720</td>\n",
       "      <td>Restaurants, Bars, Nightlife, Chinese, Dance C...</td>\n",
       "      <td>-115.172452</td>\n",
       "      <td>36.101375</td>\n",
       "      <td>89109</td>\n",
       "      <td>Las Vegas</td>\n",
       "      <td>NV</td>\n",
       "    </tr>\n",
       "    <tr>\n",
       "      <th>32302</th>\n",
       "      <td>MGM Grand Buffet</td>\n",
       "      <td>-U7tvCtaraTQ9b0zBhpBMA</td>\n",
       "      <td>2.5</td>\n",
       "      <td>1096</td>\n",
       "      <td>Restaurants, Buffets, American (Traditional)</td>\n",
       "      <td>-115.171778</td>\n",
       "      <td>36.102091</td>\n",
       "      <td>89109</td>\n",
       "      <td>Las Vegas</td>\n",
       "      <td>NV</td>\n",
       "    </tr>\n",
       "    <tr>\n",
       "      <th>26080</th>\n",
       "      <td>Hooters Casino Hotel Las Vegas</td>\n",
       "      <td>4GXII-GU7S0ZyU6ElkhscQ</td>\n",
       "      <td>2.5</td>\n",
       "      <td>1432</td>\n",
       "      <td>American (Traditional), Restaurants, Casinos, ...</td>\n",
       "      <td>-115.167874</td>\n",
       "      <td>36.099346</td>\n",
       "      <td>89109</td>\n",
       "      <td>Las Vegas</td>\n",
       "      <td>NV</td>\n",
       "    </tr>\n",
       "    <tr>\n",
       "      <th>43087</th>\n",
       "      <td>MGM Grand Hotel</td>\n",
       "      <td>El4FC8jcawUVgw_0EIcbaQ</td>\n",
       "      <td>3.0</td>\n",
       "      <td>3730</td>\n",
       "      <td>Arts &amp; Entertainment, Hotels &amp; Travel, Event P...</td>\n",
       "      <td>-115.169968</td>\n",
       "      <td>36.102251</td>\n",
       "      <td>89109</td>\n",
       "      <td>Las Vegas</td>\n",
       "      <td>NV</td>\n",
       "    </tr>\n",
       "    <tr>\n",
       "      <th>52616</th>\n",
       "      <td>Bayside Buffet at Mandalay Bay</td>\n",
       "      <td>PgJgpW4TKQ8IoALH2Yq-zA</td>\n",
       "      <td>3.0</td>\n",
       "      <td>1117</td>\n",
       "      <td>Restaurants, Buffets, American (Traditional), ...</td>\n",
       "      <td>-115.175804</td>\n",
       "      <td>36.091219</td>\n",
       "      <td>89109</td>\n",
       "      <td>Las Vegas</td>\n",
       "      <td>NV</td>\n",
       "    </tr>\n",
       "  </tbody>\n",
       "</table>\n",
       "</div>"
      ],
      "text/plain": [
       "                                 name             business_id  stars  \\\n",
       "56805              Hakkasan Nightclub  X8c23dur0ll2D9XTu-I8Qg    2.5   \n",
       "32302                MGM Grand Buffet  -U7tvCtaraTQ9b0zBhpBMA    2.5   \n",
       "26080  Hooters Casino Hotel Las Vegas  4GXII-GU7S0ZyU6ElkhscQ    2.5   \n",
       "43087                 MGM Grand Hotel  El4FC8jcawUVgw_0EIcbaQ    3.0   \n",
       "52616  Bayside Buffet at Mandalay Bay  PgJgpW4TKQ8IoALH2Yq-zA    3.0   \n",
       "\n",
       "       review_count                                         categories  \\\n",
       "56805          1720  Restaurants, Bars, Nightlife, Chinese, Dance C...   \n",
       "32302          1096       Restaurants, Buffets, American (Traditional)   \n",
       "26080          1432  American (Traditional), Restaurants, Casinos, ...   \n",
       "43087          3730  Arts & Entertainment, Hotels & Travel, Event P...   \n",
       "52616          1117  Restaurants, Buffets, American (Traditional), ...   \n",
       "\n",
       "        longitude   latitude postal_code       city state  \n",
       "56805 -115.172452  36.101375       89109  Las Vegas    NV  \n",
       "32302 -115.171778  36.102091       89109  Las Vegas    NV  \n",
       "26080 -115.167874  36.099346       89109  Las Vegas    NV  \n",
       "43087 -115.169968  36.102251       89109  Las Vegas    NV  \n",
       "52616 -115.175804  36.091219       89109  Las Vegas    NV  "
      ]
     },
     "execution_count": 12,
     "metadata": {},
     "output_type": "execute_result"
    }
   ],
   "source": [
    "restaurant_df[restaurant_df['review_count'] >= 1000].sort_values(by = 'stars').head()"
   ]
  },
  {
   "cell_type": "markdown",
   "metadata": {},
   "source": [
    "### Distributions of restaurants"
   ]
  },
  {
   "cell_type": "markdown",
   "metadata": {},
   "source": [
    "I consider restaurants with `>= 1000` reviews to be popular, and `<= 50` reviews to be unpopular."
   ]
  },
  {
   "cell_type": "code",
   "execution_count": 13,
   "metadata": {},
   "outputs": [
    {
     "name": "stdout",
     "output_type": "stream",
     "text": [
      "Number of restaurants with 1000 or more reviews: 249\n"
     ]
    }
   ],
   "source": [
    "n_popular_restaurants = len(restaurant_df[restaurant_df['review_count'] >= 1000])\n",
    "print(f'Number of restaurants with 1000 or more reviews: {n_popular_restaurants}')\n"
   ]
  },
  {
   "cell_type": "code",
   "execution_count": 14,
   "metadata": {},
   "outputs": [
    {
     "name": "stdout",
     "output_type": "stream",
     "text": [
      "Number of restaurants with 50 or less reviews: 41044\n"
     ]
    }
   ],
   "source": [
    "n_unpopular_restaurants = len(restaurant_df[restaurant_df['review_count'] <= 50])\n",
    "print(f'Number of restaurants with 50 or less reviews: {n_unpopular_restaurants}')\n"
   ]
  },
  {
   "cell_type": "markdown",
   "metadata": {},
   "source": [
    "Only 249 restaurants out of 57074 restaurants have over 1000 reviews. 41044 restaurants have 50 or less. This will make analysis on most restaurants with few reviews unreliable. Unpopular food items in most restaurants may have few reviews, if any, to analyze. Having such a low sample size will likely produce unreliable results.\n"
   ]
  },
  {
   "cell_type": "code",
   "execution_count": 15,
   "metadata": {},
   "outputs": [
    {
     "data": {
      "image/png": "[encoded data removed]",
      "text/plain": [
       "<Figure size 576x360 with 1 Axes>"
      ]
     },
     "metadata": {
      "needs_background": "light"
     },
     "output_type": "display_data"
    }
   ],
   "source": [
    "plt.figure(figsize = (8,5))\n",
    "plt.title('Distribution of Stars per Restaurant', fontsize = 20)\n",
    "plt.xlabel('Stars', fontsize = 18)\n",
    "plt.ylabel('Count', fontsize = 18)\n",
    "\n",
    "plt.hist(restaurant_df['stars'], bins = 9);"
   ]
  },
  {
   "cell_type": "markdown",
   "metadata": {},
   "source": [
    "The distribution of star ratings has a fairly normal distribution with a slight left skew. There are 9 discrete bins because Yelp's rating system is rounded to the nearest 0.5 inteval between `[1.0, 5.0]`."
   ]
  },
  {
   "cell_type": "code",
   "execution_count": 16,
   "metadata": {},
   "outputs": [
    {
     "data": {
      "image/png": "[encoded data removed]",
      "text/plain": [
       "<Figure size 576x360 with 1 Axes>"
      ]
     },
     "metadata": {
      "needs_background": "light"
     },
     "output_type": "display_data"
    }
   ],
   "source": [
    "plt.figure(figsize = (8,5))\n",
    "plt.title('Distribution of Review Count for all Restaurants', fontsize = 20)\n",
    "plt.xlabel('Review Count', fontsize = 18)\n",
    "plt.ylabel('Count', fontsize = 18)\n",
    "\n",
    "plt.hist(restaurant_df['review_count'], bins = 30);"
   ]
  },
  {
   "cell_type": "code",
   "execution_count": 17,
   "metadata": {},
   "outputs": [
    {
     "data": {
      "image/png": "[encoded data removed]",
      "text/plain": [
       "<Figure size 576x360 with 1 Axes>"
      ]
     },
     "metadata": {
      "needs_background": "light"
     },
     "output_type": "display_data"
    }
   ],
   "source": [
    "plt.figure(figsize = (8,5))\n",
    "plt.title('Distribution of Review Count for Restaurants\\nwith over 500 Reviews', fontsize = 20)\n",
    "plt.xlabel('Review Count', fontsize = 18)\n",
    "plt.ylabel('Count', fontsize = 18)\n",
    "\n",
    "plt.hist(restaurant_df[restaurant_df['review_count'] >= 500]['review_count'], bins = 30);\n"
   ]
  },
  {
   "cell_type": "code",
   "execution_count": 18,
   "metadata": {},
   "outputs": [
    {
     "data": {
      "image/png": "[encoded data removed]",
      "text/plain": [
       "<Figure size 576x360 with 1 Axes>"
      ]
     },
     "metadata": {
      "needs_background": "light"
     },
     "output_type": "display_data"
    }
   ],
   "source": [
    "plt.figure(figsize = (8,5))\n",
    "plt.title('Distribution of Review Count for Restaurants\\nwith less than 200 reviews', fontsize = 20)\n",
    "plt.xlabel('Review Count', fontsize = 18)\n",
    "plt.ylabel('Count', fontsize = 18)\n",
    "\n",
    "plt.hist(restaurant_df[restaurant_df['review_count'] <= 200]['review_count'], bins = 30);\n"
   ]
  },
  {
   "cell_type": "markdown",
   "metadata": {},
   "source": [
    "The distribution of review counts is heavily right-skewed. Most restaurants have 100 or less reviews, while only a few have thousands of reviews. \n",
    "\n"
   ]
  },
  {
   "cell_type": "code",
   "execution_count": 19,
   "metadata": {},
   "outputs": [],
   "source": [
    "def summarize_business(business_df, review_df, query, by = 'business_id'):\n",
    "    '''\n",
    "    Print a summary of a business:\n",
    "    Name, Stars, Number of reviews, Reviews per star, Histogram of stars\n",
    "    '''\n",
    "    business = business_df[business_df['business_id'] == query]\n",
    "    business_name = business['name'].values[0]\n",
    "    \n",
    "#     business_name = review_df[review_df['business_id'] == query]['business_name'].values[0]\n",
    "    reviews_per_star = review_df[review_df['business_id'] == query]['stars'].value_counts()\n",
    "    \n",
    "    # Business Name\n",
    "    print('Business Name:', business_name)\n",
    "    \n",
    "    # Stars\n",
    "    print('Stars:', business['stars'].values[0])\n",
    "    print('')\n",
    "    \n",
    "    # Total number of reviews\n",
    "    print('Total Number of Reviews:', len(review_df[review_df['business_id'] == query]))\n",
    "    print('')\n",
    "    \n",
    "    # Number of reviews per star rating\n",
    "    print('Number of reviews per star:')\n",
    "    for stars, count in reviews_per_star.items():\n",
    "        print(stars,'\\t',count)\n",
    "    print('')\n",
    "    \n",
    "    # Histogram of reviews per star rating\n",
    "    plt.figure(figsize = (8,5))\n",
    "    plt.title('Distribution of Reviews per Star', fontsize = 20)\n",
    "    plt.xlabel('Stars', fontsize = 18)\n",
    "    plt.ylabel('Review Count', fontsize = 18)\n",
    "\n",
    "    plt.bar(reviews_per_star.index, reviews_per_star.values)\n",
    "    plt.show()\n"
   ]
  },
  {
   "cell_type": "code",
   "execution_count": 21,
   "metadata": {},
   "outputs": [
    {
     "name": "stdout",
     "output_type": "stream",
     "text": [
      "Business Name: Mon Ami Gabi\n",
      "Stars: 4.0\n",
      "\n",
      "Total Number of Reviews: 7968\n",
      "\n",
      "Number of reviews per star:\n",
      "5 \t 3599\n",
      "4 \t 2743\n",
      "3 \t 914\n",
      "2 \t 441\n",
      "1 \t 271\n",
      "\n"
     ]
    },
    {
     "data": {
      "image/png": "[encoded data removed]",
      "text/plain": [
       "<Figure size 576x360 with 1 Axes>"
      ]
     },
     "metadata": {
      "needs_background": "light"
     },
     "output_type": "display_data"
    }
   ],
   "source": [
    "mon_ami_gabi_id = '4JNXUYY8wbaaDmk3BPzlWw' \n",
    "summarize_business(restaurant_df, review_df, mon_ami_gabi_id, by = 'business_id')"
   ]
  },
  {
   "cell_type": "code",
   "execution_count": 22,
   "metadata": {},
   "outputs": [
    {
     "name": "stdout",
     "output_type": "stream",
     "text": [
      "Business Name: Hakkasan Nightclub\n",
      "Stars: 2.5\n",
      "\n",
      "Total Number of Reviews: 1721\n",
      "\n",
      "Number of reviews per star:\n",
      "1 \t 647\n",
      "3 \t 290\n",
      "4 \t 275\n",
      "2 \t 262\n",
      "5 \t 247\n",
      "\n"
     ]
    },
    {
     "data": {
      "image/png": "[encoded data removed]",
      "text/plain": [
       "<Figure size 576x360 with 1 Axes>"
      ]
     },
     "metadata": {
      "needs_background": "light"
     },
     "output_type": "display_data"
    }
   ],
   "source": [
    "hakkasan_id = 'X8c23dur0ll2D9XTu-I8Qg' \n",
    "summarize_business(restaurant_df, review_df, hakkasan_id, by = 'business_id')"
   ]
  },
  {
   "cell_type": "markdown",
   "metadata": {},
   "source": [
    "### See how Vader's `SentimentIntensityAnalyzer` works"
   ]
  },
  {
   "cell_type": "code",
   "execution_count": 23,
   "metadata": {},
   "outputs": [],
   "source": [
    "def get_sentiments(docs):\n",
    "    '''\n",
    "    Returns a Dataframe of sentiment scores with columns:\n",
    "    'compound', 'pos', 'neu', 'neg'\n",
    "    \n",
    "    For each doc, 'pos', 'neu', 'neg' scores add to 1.\n",
    "    'compound' is an overall sentiment score of the doc.\n",
    "    '''\n",
    "    # Instantiate SentimentIntensityAnalyzer\n",
    "    sia = SentimentIntensityAnalyzer()\n",
    "\n",
    "    sentiments = []\n",
    "\n",
    "    # Generate sentiment score for each review\n",
    "    for doc in docs:\n",
    "        sentiment = sia.polarity_scores(doc)\n",
    "        sentiments.append(sentiment)\n",
    "\n",
    "    return pd.DataFrame(sentiments)"
   ]
  },
  {
   "cell_type": "code",
   "execution_count": 24,
   "metadata": {},
   "outputs": [
    {
     "data": {
      "text/html": [
       "<div>\n",
       "<style scoped>\n",
       "    .dataframe tbody tr th:only-of-type {\n",
       "        vertical-align: middle;\n",
       "    }\n",
       "\n",
       "    .dataframe tbody tr th {\n",
       "        vertical-align: top;\n",
       "    }\n",
       "\n",
       "    .dataframe thead th {\n",
       "        text-align: right;\n",
       "    }\n",
       "</style>\n",
       "<table border=\"1\" class=\"dataframe\">\n",
       "  <thead>\n",
       "    <tr style=\"text-align: right;\">\n",
       "      <th></th>\n",
       "      <th>word</th>\n",
       "      <th>compound</th>\n",
       "    </tr>\n",
       "  </thead>\n",
       "  <tbody>\n",
       "    <tr>\n",
       "      <th>0</th>\n",
       "      <td>great</td>\n",
       "      <td>0.6249</td>\n",
       "    </tr>\n",
       "    <tr>\n",
       "      <th>2</th>\n",
       "      <td>amazing</td>\n",
       "      <td>0.5859</td>\n",
       "    </tr>\n",
       "    <tr>\n",
       "      <th>1</th>\n",
       "      <td>delicious</td>\n",
       "      <td>0.5719</td>\n",
       "    </tr>\n",
       "    <tr>\n",
       "      <th>3</th>\n",
       "      <td>good</td>\n",
       "      <td>0.4404</td>\n",
       "    </tr>\n",
       "    <tr>\n",
       "      <th>4</th>\n",
       "      <td>okay</td>\n",
       "      <td>0.2263</td>\n",
       "    </tr>\n",
       "    <tr>\n",
       "      <th>5</th>\n",
       "      <td>decent</td>\n",
       "      <td>0.0000</td>\n",
       "    </tr>\n",
       "    <tr>\n",
       "      <th>6</th>\n",
       "      <td>mediocre</td>\n",
       "      <td>0.0000</td>\n",
       "    </tr>\n",
       "    <tr>\n",
       "      <th>8</th>\n",
       "      <td>awful</td>\n",
       "      <td>-0.4588</td>\n",
       "    </tr>\n",
       "    <tr>\n",
       "      <th>11</th>\n",
       "      <td>the bomb</td>\n",
       "      <td>-0.4939</td>\n",
       "    </tr>\n",
       "    <tr>\n",
       "      <th>9</th>\n",
       "      <td>disgusting</td>\n",
       "      <td>-0.5267</td>\n",
       "    </tr>\n",
       "    <tr>\n",
       "      <th>7</th>\n",
       "      <td>bad</td>\n",
       "      <td>-0.5423</td>\n",
       "    </tr>\n",
       "    <tr>\n",
       "      <th>10</th>\n",
       "      <td>to die for</td>\n",
       "      <td>-0.5994</td>\n",
       "    </tr>\n",
       "  </tbody>\n",
       "</table>\n",
       "</div>"
      ],
      "text/plain": [
       "          word  compound\n",
       "0        great    0.6249\n",
       "2      amazing    0.5859\n",
       "1    delicious    0.5719\n",
       "3         good    0.4404\n",
       "4         okay    0.2263\n",
       "5       decent    0.0000\n",
       "6     mediocre    0.0000\n",
       "8        awful   -0.4588\n",
       "11    the bomb   -0.4939\n",
       "9   disgusting   -0.5267\n",
       "7          bad   -0.5423\n",
       "10  to die for   -0.5994"
      ]
     },
     "execution_count": 24,
     "metadata": {},
     "output_type": "execute_result"
    }
   ],
   "source": [
    "words = ['great', 'delicious', 'amazing', 'good', 'okay', 'decent', 'mediocre', 'bad', 'awful', 'disgusting', 'to die for', 'the bomb']\n",
    "words = pd.Series(words, name = 'word')\n",
    "pd.concat([words, get_sentiments(words)['compound']], axis = 1).sort_values(by = 'compound', ascending = False)"
   ]
  },
  {
   "cell_type": "markdown",
   "metadata": {},
   "source": [
    "For the most part, `SentimentIntensityAnalyzer` works pretty well. It does not detect slang: \"the bomb\" and \"to die for\" are scored negatively."
   ]
  },
  {
   "cell_type": "code",
   "execution_count": null,
   "metadata": {},
   "outputs": [],
   "source": []
  }
 ],
 "metadata": {
  "kernelspec": {
   "display_name": "Python [default]",
   "language": "python",
   "name": "python3"
  },
  "language_info": {
   "codemirror_mode": {
    "name": "ipython",
    "version": 3
   },
   "file_extension": ".py",
   "mimetype": "text/x-python",
   "name": "python",
   "nbconvert_exporter": "python",
   "pygments_lexer": "ipython3",
   "version": "3.6.5"
  }
 },
 "nbformat": 4,
 "nbformat_minor": 2
}
